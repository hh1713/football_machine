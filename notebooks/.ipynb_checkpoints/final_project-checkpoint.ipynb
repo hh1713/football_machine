{
 "cells": [
  {
   "cell_type": "code",
   "execution_count": 774,
   "metadata": {
    "collapsed": false
   },
   "outputs": [],
   "source": [
    "import pandas as pd\n",
    "import matplotlib.pyplot as plt\n",
    "import numpy as np\n",
    "from sklearn.naive_bayes import GaussianNB\n",
    "from sklearn.svm import SVC\n",
    "from sklearn import *\n",
    "import numpy as np\n",
    "from sklearn.decomposition import *\n",
    "from sklearn.model_selection import train_test_split\n",
    "from sklearn.model_selection import cross_val_score\n",
    "\n",
    "from sklearn.model_selection import train_test_split\n",
    "from sklearn.tree import DecisionTreeClassifier\n",
    "from sklearn.ensemble import AdaBoostClassifier\n",
    "from sklearn.ensemble import GradientBoostingClassifier\n",
    "from sklearn.ensemble import RandomForestClassifier"
   ]
  },
  {
   "cell_type": "code",
   "execution_count": 794,
   "metadata": {
    "collapsed": true
   },
   "outputs": [],
   "source": [
    "pd.options.display.max_columns = 999\n",
    "pd.options.display.max_rows = 80"
   ]
  },
  {
   "cell_type": "code",
   "execution_count": 776,
   "metadata": {
    "collapsed": true
   },
   "outputs": [],
   "source": [
    "##Define the object for the season team\n",
    "class MyDf:\n",
    "    def __init__(self, mydf):\n",
    "        self.df = mydf "
   ]
  },
  {
   "cell_type": "code",
   "execution_count": 777,
   "metadata": {
    "collapsed": true
   },
   "outputs": [],
   "source": [
    "def select_season (df, season):\n",
    "    return df[df['season']==season]"
   ]
  },
  {
   "cell_type": "code",
   "execution_count": 778,
   "metadata": {
    "collapsed": true
   },
   "outputs": [],
   "source": [
    "def cut_out_n_m_matches(df,n,m):\n",
    "    a=df['H_ROUND'].unique()[n-1]\n",
    "    b=df['H_ROUND'].unique()[-m]\n",
    "    \n",
    "    return df[(df['H_ROUND']>a) & (df['H_ROUND']<b)]\n",
    "    "
   ]
  },
  {
   "cell_type": "code",
   "execution_count": 779,
   "metadata": {
    "collapsed": true
   },
   "outputs": [],
   "source": [
    "def train_test_index(df,predicted_season):\n",
    "    train_index=df[df.season!=predicted_season].index\n",
    "    test_index=df[df.season==predicted_season].index\n",
    "    return train_index, test_index"
   ]
  },
  {
   "cell_type": "code",
   "execution_count": 780,
   "metadata": {
    "collapsed": true
   },
   "outputs": [],
   "source": [
    "def train_test_index_only_round(df,predicted_round):\n",
    "    train_index=df[df['H_ROUND']<predicted_round].index\n",
    "    test_index=df[df['H_ROUND']==predicted_round].index\n",
    "    return train_index, test_index"
   ]
  },
  {
   "cell_type": "code",
   "execution_count": 781,
   "metadata": {
    "collapsed": false
   },
   "outputs": [],
   "source": [
    "def split_train_test_data(df,train_index,test_index,col_train,col_pred,i):\n",
    "        \n",
    "    X_train=df.loc[train_index].iloc[:,col_train]\n",
    "    Y_train=df.loc[train_index][col_pred]\n",
    "\n",
    "   \n",
    "    \n",
    "    X_test=df.loc[test_index]\n",
    "    Y_test=df.loc[test_index]\n",
    "\n",
    "    X_test=X_test[X_test.H_ROUND==i].iloc[:,col_train]\n",
    "    Y_test=Y_test[Y_test.H_ROUND==i][col_pred]\n",
    "\n",
    "    return X_train, Y_train, X_test, Y_test"
   ]
  },
  {
   "cell_type": "code",
   "execution_count": 782,
   "metadata": {
    "collapsed": true
   },
   "outputs": [],
   "source": [
    "def Predict_whole_season_by_one (BIG, predseason, col_train, col_pred, method, method_name):\n",
    "        \n",
    "    tmp=pd.DataFrame()\n",
    "    \n",
    "    train_index, test_index = train_test_index(BIG,predseason)\n",
    "    lis=[]\n",
    "    \n",
    "    for i in BIG[BIG.season==predseason].H_ROUND.unique():\n",
    "       \n",
    "        X_train,Y_train,X_test,Y_test = split_train_test_data(BIG,train_index,test_index,col_train,col_pred,i) \n",
    "        method.fit(X_train,Y_train)\n",
    "        #print(method.score(X_test, Y_test))\n",
    "        #print('hi')\n",
    "        lis.append(float(method.score(X_test, Y_test)))\n",
    "\n",
    "    tmp[method_name]=lis \n",
    "    \n",
    "    return tmp"
   ]
  },
  {
   "cell_type": "code",
   "execution_count": 783,
   "metadata": {
    "collapsed": false
   },
   "outputs": [],
   "source": [
    "def Predict_whole_season_with_one (BIG, predseason, col_train, col_pred,method, method_name):\n",
    "        \n",
    "    tmp=pd.DataFrame()    \n",
    "    \n",
    "    train_index, test_index = train_test_index(BIG,predseason)\n",
    "    lis=[]\n",
    "\n",
    "    \n",
    "    for i in BIG[BIG.season==predseason].H_ROUND.unique():\n",
    "       \n",
    "        X_train,Y_train,X_test,Y_test = split_train_test_data(BIG,train_index,test_index,col_train,col_pred,i) \n",
    "        method.fit(X_train,Y_train)\n",
    "        lis.append(float(method.score(X_test, Y_test)))\n",
    "        \n",
    "        train_index=list(train_index)+list(X_test.index)\n",
    "       \n",
    "    tmp[method_name]=lis     \n",
    "    return tmp\n",
    "    "
   ]
  },
  {
   "cell_type": "code",
   "execution_count": 784,
   "metadata": {
    "collapsed": false
   },
   "outputs": [],
   "source": [
    "def Predict_season_with_current_season (df, predseason, col_train, col_pred,method, method_name):\n",
    "    \n",
    "    tmp=pd.DataFrame()\n",
    "    tmp_2=df[df['season']==predseason]\n",
    "    lis=[]\n",
    "    \n",
    "    second_round=tmp_2['H_ROUND'].unique()[1]\n",
    "    \n",
    "        \n",
    "    for i in range(int(df.H_ROUND.unique()[1]), int(df.H_ROUND.unique()[-1])):\n",
    "        \n",
    "        train_index, test_index = train_test_index_only_round(df,i)\n",
    "        \n",
    "        \n",
    "        \n",
    "        X_train=df.loc[train_index].iloc[:,col_train]\n",
    "        Y_train=df.loc[train_index][col_pred]\n",
    "\n",
    "        \n",
    "        X_test=df.loc[test_index].iloc[:,col_train]\n",
    "        Y_test=df.loc[test_index][col_pred]\n",
    "        \n",
    "       \n",
    "        method.fit(X_train,Y_train)\n",
    "        \n",
    "        lis.append(float(method.score(X_test, Y_test)))\n",
    "        \n",
    "       \n",
    "    tmp[method_name]=lis     \n",
    "    \n",
    "    return tmp\n"
   ]
  },
  {
   "cell_type": "code",
   "execution_count": 785,
   "metadata": {
    "collapsed": true
   },
   "outputs": [],
   "source": [
    "def find_best_model (X,col_pred,col_train,method):\n",
    "    n=100\n",
    "    from sklearn.cross_validation import train_test_split\n",
    "    tmp=0\n",
    "    for i in range(n):\n",
    "        X_train, X_test, y_train, y_test = train_test_split(X.iloc[:,column_to_use_as_prediction], X[col_pred], test_size=0.20)\n",
    "        method.fit(X_train,y_train)\n",
    "        if method.score(X_test,y_test)>tmp:\n",
    "            Best=method.fit(X_train,y_train)\n",
    "    return Best"
   ]
  },
  {
   "cell_type": "code",
   "execution_count": 793,
   "metadata": {
    "collapsed": true
   },
   "outputs": [],
   "source": [
    "def pred_all_meth (df, season_to_be_predicted,column_to_predict,column_to_use_as_prediction):\n",
    "    \n",
    "    lis=[]\n",
    "    \n",
    "    \n",
    "    #column_to_use_as_prediction = [22,18,51,49,42,20]\n",
    "    #column_to_predict='Goal/No_Goal'\n",
    "    \n",
    "    svm_linear = svm.SVC(kernel='linear')\n",
    "    lis.append(MyDf(Predict_whole_season_by_one(df,season_to_be_predicted,column_to_use_as_prediction,column_to_predict, svm_linear,'svm_linear_1')))\n",
    "    lis.append(MyDf(Predict_whole_season_with_one(df,season_to_be_predicted,column_to_use_as_prediction,column_to_predict, svm_linear,'svm_linear_2')))\n",
    "    #lis.append(MyDf(Predict_season_with_current_season(df,season_to_be_predicted, column_to_use_as_prediction, column_to_predict,svm_linear,'svm_linear_3')))    \n",
    "    \n",
    "    #column_to_use_as_prediction = [22,18,51,49,42,20]\n",
    "    #column_to_predict='Goal/No_Goal'\n",
    "    \n",
    "    svm_rbf = svm.SVC(kernel='rbf', gamma = 100)\n",
    "    lis.append(MyDf(Predict_whole_season_by_one(df,season_to_be_predicted,column_to_use_as_prediction,column_to_predict,svm_rbf,'svm_rbf_1')))\n",
    "    lis.append(MyDf(Predict_whole_season_with_one(df,season_to_be_predicted,column_to_use_as_prediction,column_to_predict, svm_rbf,'svm_rbf_2')))\n",
    "    #lis.append(MyDf(Predict_season_with_current_season(df,season_to_be_predicted,column_to_use_as_prediction,column_to_predict,svm_rbf,'svm_rbf_3')))\n",
    "\n",
    "    \n",
    "    \n",
    "    #column_to_use_as_prediction = [22,18,51,49,42,20]\n",
    "    #column_to_predict = 'Goal/No_Goal'  \n",
    "               \n",
    "    dtc = DecisionTreeClassifier()\n",
    "    lis.append(MyDf(Predict_whole_season_by_one(df,season_to_be_predicted,column_to_use_as_prediction,column_to_predict, dtc,'dtc_1')))\n",
    "    lis.append(MyDf(Predict_whole_season_with_one(df,season_to_be_predicted,column_to_use_as_prediction,column_to_predict, dtc,'dtc_2')))\n",
    "    #lis.append(MyDf(Predict_season_with_current_season(df,season_to_be_predicted,column_to_use_as_prediction,column_to_predict, dtc,'dtc_3')))\n",
    "\n",
    "    \n",
    "    \n",
    "    #column_to_use_as_prediction=[22,18,51,49,42,20]\n",
    "    #column_to_predict='Goal/No_Goal'  \n",
    "               \n",
    "    bagb = AdaBoostClassifier(DecisionTreeClassifier(max_depth=10), n_estimators=20)\n",
    "    lis.append(MyDf(Predict_whole_season_by_one(df,season_to_be_predicted,column_to_use_as_prediction,column_to_predict, bagb,'bagb_1')))\n",
    "    lis.append(MyDf(Predict_whole_season_with_one(df,season_to_be_predicted,column_to_use_as_prediction,column_to_predict, bagb,'bagb_2')))\n",
    "    #lis.append(MyDf(Predict_season_with_current_season(df,season_to_be_predicted,column_to_use_as_prediction,column_to_predict, bagb,'bagb_3')))          \n",
    "               \n",
    "    \n",
    "    #column_to_use_as_prediction=[22,18,51,49,42,20]\n",
    "    #column_to_predict='Goal/No_Goal'           \n",
    "               \n",
    "    gradb = GradientBoostingClassifier(max_depth=10, n_estimators=20)\n",
    "    lis.append(MyDf(Predict_whole_season_by_one(df,season_to_be_predicted,column_to_use_as_prediction,column_to_predict, gradb,'gradb_1')))\n",
    "    lis.append(MyDf(Predict_whole_season_with_one(df,season_to_be_predicted,column_to_use_as_prediction,column_to_predict, gradb,'gradb_2')))\n",
    "    #lis.append(MyDf(Predict_season_with_current_season(df,season_to_be_predicted,column_to_use_as_prediction,column_to_predict, gradb,'gradb_3')))         \n",
    "   \n",
    "                    \n",
    "    \n",
    "    #column_to_use_as_prediction=[22,18,51,49,42,20]\n",
    "    #column_to_predict='Goal/No_Goal'  \n",
    "                    \n",
    "    Ardf = AdaBoostClassifier(RandomForestClassifier(max_depth=10, n_estimators=20))\n",
    "    lis.append(MyDf(Predict_whole_season_by_one(df,season_to_be_predicted,column_to_use_as_prediction,column_to_predict, Ardf,'rdf_1')))\n",
    "    lis.append(MyDf(Predict_whole_season_with_one(df,season_to_be_predicted,column_to_use_as_prediction,column_to_predict, Ardf,'rdf_2')))\n",
    "    #lis.append(MyDf(Predict_season_with_current_season(df,season_to_be_predicted,column_to_use_as_prediction,column_to_predict, rdf,'rdf_3')))\n",
    "    \n",
    "    \n",
    "    \n",
    "    return lis"
   ]
  },
  {
   "cell_type": "code",
   "execution_count": 787,
   "metadata": {
    "collapsed": true
   },
   "outputs": [],
   "source": [
    "def Put_Togheter (lis):\n",
    "    tmp=pd.DataFrame()\n",
    "    for i in range(len(lis)):\n",
    "        tmp=tmp.join(lis[i].df, how='outer')\n",
    "        \n",
    "    return tmp"
   ]
  },
  {
   "cell_type": "markdown",
   "metadata": {},
   "source": [
    "# Loading data"
   ]
  },
  {
   "cell_type": "code",
   "execution_count": 796,
   "metadata": {
    "collapsed": true
   },
   "outputs": [],
   "source": [
    "final=pd.read_csv('../Data/from_sqlite_Data/realfinal.csv')\n",
    "final.drop('Unnamed: 0',axis=1,inplace=True)\n",
    "allchampionships=[]"
   ]
  },
  {
   "cell_type": "code",
   "execution_count": 797,
   "metadata": {
    "collapsed": false
   },
   "outputs": [
    {
     "name": "stderr",
     "output_type": "stream",
     "text": [
      "/Users/nicolamacchitella/anaconda/lib/python2.7/site-packages/ipykernel/__main__.py:2: FutureWarning: sort(columns=....) is deprecated, use sort_values(by=.....)\n",
      "  from ipykernel import kernelapp as app\n"
     ]
    }
   ],
   "source": [
    "for i in range(len(final.country_id.unique())):\n",
    "    allchampionships.append(MyDf(final[final['country_id']==final.country_id.unique()[i]].sort(columns='Date')))\n",
    "    allchampionships[i].df.reset_index(inplace=True)\n",
    "    allchampionships[i].df.drop(['index'],axis=1,inplace=True)"
   ]
  },
  {
   "cell_type": "markdown",
   "metadata": {},
   "source": [
    "# Cut out first and last n,m matches"
   ]
  },
  {
   "cell_type": "code",
   "execution_count": 798,
   "metadata": {
    "collapsed": true
   },
   "outputs": [],
   "source": [
    "n=4\n",
    "m=4"
   ]
  },
  {
   "cell_type": "code",
   "execution_count": 799,
   "metadata": {
    "collapsed": true
   },
   "outputs": [],
   "source": [
    "for i in range(len(final.country_id.unique())):\n",
    "    allchampionships[i].df=cut_out_n_m_matches(allchampionships[i].df,n,m)\n",
    "    "
   ]
  },
  {
   "cell_type": "code",
   "execution_count": 800,
   "metadata": {
    "collapsed": false
   },
   "outputs": [
    {
     "data": {
      "text/html": [
       "<div>\n",
       "<table border=\"1\" class=\"dataframe\">\n",
       "  <thead>\n",
       "    <tr style=\"text-align: right;\">\n",
       "      <th></th>\n",
       "      <th>0</th>\n",
       "    </tr>\n",
       "  </thead>\n",
       "  <tbody>\n",
       "    <tr>\n",
       "      <th>0</th>\n",
       "      <td>country_id</td>\n",
       "    </tr>\n",
       "    <tr>\n",
       "      <th>1</th>\n",
       "      <td>season</td>\n",
       "    </tr>\n",
       "    <tr>\n",
       "      <th>2</th>\n",
       "      <td>Date</td>\n",
       "    </tr>\n",
       "    <tr>\n",
       "      <th>3</th>\n",
       "      <td>HomeTeam</td>\n",
       "    </tr>\n",
       "    <tr>\n",
       "      <th>4</th>\n",
       "      <td>AwayTeam</td>\n",
       "    </tr>\n",
       "    <tr>\n",
       "      <th>5</th>\n",
       "      <td>FTHG</td>\n",
       "    </tr>\n",
       "    <tr>\n",
       "      <th>6</th>\n",
       "      <td>FTAG</td>\n",
       "    </tr>\n",
       "    <tr>\n",
       "      <th>7</th>\n",
       "      <td>FTR</td>\n",
       "    </tr>\n",
       "    <tr>\n",
       "      <th>8</th>\n",
       "      <td>H_ROUND</td>\n",
       "    </tr>\n",
       "    <tr>\n",
       "      <th>9</th>\n",
       "      <td>H_TP3</td>\n",
       "    </tr>\n",
       "    <tr>\n",
       "      <th>10</th>\n",
       "      <td>H_TP5</td>\n",
       "    </tr>\n",
       "    <tr>\n",
       "      <th>11</th>\n",
       "      <td>H_GS_H</td>\n",
       "    </tr>\n",
       "    <tr>\n",
       "      <th>12</th>\n",
       "      <td>H_GS_A</td>\n",
       "    </tr>\n",
       "    <tr>\n",
       "      <th>13</th>\n",
       "      <td>H_GR_H</td>\n",
       "    </tr>\n",
       "    <tr>\n",
       "      <th>14</th>\n",
       "      <td>H_GR_A</td>\n",
       "    </tr>\n",
       "    <tr>\n",
       "      <th>15</th>\n",
       "      <td>H_TGS</td>\n",
       "    </tr>\n",
       "    <tr>\n",
       "      <th>16</th>\n",
       "      <td>H_TGR</td>\n",
       "    </tr>\n",
       "    <tr>\n",
       "      <th>17</th>\n",
       "      <td>H_AvGS_H</td>\n",
       "    </tr>\n",
       "    <tr>\n",
       "      <th>18</th>\n",
       "      <td>H_AvGS_A</td>\n",
       "    </tr>\n",
       "    <tr>\n",
       "      <th>19</th>\n",
       "      <td>H_AvGR_H</td>\n",
       "    </tr>\n",
       "    <tr>\n",
       "      <th>20</th>\n",
       "      <td>H_AvGR_A</td>\n",
       "    </tr>\n",
       "    <tr>\n",
       "      <th>21</th>\n",
       "      <td>H_Av_TGS</td>\n",
       "    </tr>\n",
       "    <tr>\n",
       "      <th>22</th>\n",
       "      <td>H_Av_TGR</td>\n",
       "    </tr>\n",
       "    <tr>\n",
       "      <th>23</th>\n",
       "      <td>H_Pnt_H</td>\n",
       "    </tr>\n",
       "    <tr>\n",
       "      <th>24</th>\n",
       "      <td>H_Pnt_A</td>\n",
       "    </tr>\n",
       "    <tr>\n",
       "      <th>25</th>\n",
       "      <td>H_T_pnt</td>\n",
       "    </tr>\n",
       "    <tr>\n",
       "      <th>26</th>\n",
       "      <td>H_Av_Pnt_H</td>\n",
       "    </tr>\n",
       "    <tr>\n",
       "      <th>27</th>\n",
       "      <td>H_Av_pnt_A</td>\n",
       "    </tr>\n",
       "    <tr>\n",
       "      <th>28</th>\n",
       "      <td>H_Av_T_pnt</td>\n",
       "    </tr>\n",
       "    <tr>\n",
       "      <th>29</th>\n",
       "      <td>A_ROUND</td>\n",
       "    </tr>\n",
       "    <tr>\n",
       "      <th>30</th>\n",
       "      <td>A_TP3</td>\n",
       "    </tr>\n",
       "    <tr>\n",
       "      <th>31</th>\n",
       "      <td>A_TP5</td>\n",
       "    </tr>\n",
       "    <tr>\n",
       "      <th>32</th>\n",
       "      <td>Aw_GS_H</td>\n",
       "    </tr>\n",
       "    <tr>\n",
       "      <th>33</th>\n",
       "      <td>Aw_GS_A</td>\n",
       "    </tr>\n",
       "    <tr>\n",
       "      <th>34</th>\n",
       "      <td>Aw_GR_H</td>\n",
       "    </tr>\n",
       "    <tr>\n",
       "      <th>35</th>\n",
       "      <td>Aw_GR_A</td>\n",
       "    </tr>\n",
       "    <tr>\n",
       "      <th>36</th>\n",
       "      <td>Aw_TGS</td>\n",
       "    </tr>\n",
       "    <tr>\n",
       "      <th>37</th>\n",
       "      <td>Aw_TGR</td>\n",
       "    </tr>\n",
       "    <tr>\n",
       "      <th>38</th>\n",
       "      <td>Aw_AvGS_H</td>\n",
       "    </tr>\n",
       "    <tr>\n",
       "      <th>39</th>\n",
       "      <td>Aw_AvGS_A</td>\n",
       "    </tr>\n",
       "    <tr>\n",
       "      <th>40</th>\n",
       "      <td>Aw_AvGR_H</td>\n",
       "    </tr>\n",
       "    <tr>\n",
       "      <th>41</th>\n",
       "      <td>Aw_AvGR_A</td>\n",
       "    </tr>\n",
       "    <tr>\n",
       "      <th>42</th>\n",
       "      <td>Aw_Av_TGS</td>\n",
       "    </tr>\n",
       "    <tr>\n",
       "      <th>43</th>\n",
       "      <td>Aw_Av_TGR</td>\n",
       "    </tr>\n",
       "    <tr>\n",
       "      <th>44</th>\n",
       "      <td>Aw_Pnt_H</td>\n",
       "    </tr>\n",
       "    <tr>\n",
       "      <th>45</th>\n",
       "      <td>Aw_Pnt_A</td>\n",
       "    </tr>\n",
       "    <tr>\n",
       "      <th>46</th>\n",
       "      <td>Aw_T_pnt</td>\n",
       "    </tr>\n",
       "    <tr>\n",
       "      <th>47</th>\n",
       "      <td>Aw_Av_Pnt_H</td>\n",
       "    </tr>\n",
       "    <tr>\n",
       "      <th>48</th>\n",
       "      <td>Aw_Av_pnt_A</td>\n",
       "    </tr>\n",
       "    <tr>\n",
       "      <th>49</th>\n",
       "      <td>Aw_Av_T_pnt</td>\n",
       "    </tr>\n",
       "    <tr>\n",
       "      <th>50</th>\n",
       "      <td>DIFF_TP</td>\n",
       "    </tr>\n",
       "    <tr>\n",
       "      <th>51</th>\n",
       "      <td>DIFF_HP-AP</td>\n",
       "    </tr>\n",
       "    <tr>\n",
       "      <th>52</th>\n",
       "      <td>SUMM_HGSH+HGSH+AGRA</td>\n",
       "    </tr>\n",
       "    <tr>\n",
       "      <th>53</th>\n",
       "      <td>SUMM_HGRH+AGSA</td>\n",
       "    </tr>\n",
       "    <tr>\n",
       "      <th>54</th>\n",
       "      <td>SUMM_HTGS+ATGR</td>\n",
       "    </tr>\n",
       "    <tr>\n",
       "      <th>55</th>\n",
       "      <td>SUMM_HTGR+ATGS</td>\n",
       "    </tr>\n",
       "    <tr>\n",
       "      <th>56</th>\n",
       "      <td>DIFF_av_TP</td>\n",
       "    </tr>\n",
       "    <tr>\n",
       "      <th>57</th>\n",
       "      <td>DIFF_av_HP-AP</td>\n",
       "    </tr>\n",
       "    <tr>\n",
       "      <th>58</th>\n",
       "      <td>SUMM_av_HGSH+AGRA</td>\n",
       "    </tr>\n",
       "    <tr>\n",
       "      <th>59</th>\n",
       "      <td>SUMM_av_HGRH+AGSA</td>\n",
       "    </tr>\n",
       "    <tr>\n",
       "      <th>60</th>\n",
       "      <td>SUMM_av_HTGS+ATGR</td>\n",
       "    </tr>\n",
       "    <tr>\n",
       "      <th>61</th>\n",
       "      <td>SUMM_av_HTGR+ATGS</td>\n",
       "    </tr>\n",
       "    <tr>\n",
       "      <th>62</th>\n",
       "      <td>Goal/No_Goal</td>\n",
       "    </tr>\n",
       "    <tr>\n",
       "      <th>63</th>\n",
       "      <td>Over2.5/Under2.5</td>\n",
       "    </tr>\n",
       "    <tr>\n",
       "      <th>64</th>\n",
       "      <td>Over1.5/Under1.5</td>\n",
       "    </tr>\n",
       "    <tr>\n",
       "      <th>65</th>\n",
       "      <td>DIFF_L3MP</td>\n",
       "    </tr>\n",
       "    <tr>\n",
       "      <th>66</th>\n",
       "      <td>DIFF_L5MP</td>\n",
       "    </tr>\n",
       "  </tbody>\n",
       "</table>\n",
       "</div>"
      ],
      "text/plain": [
       "                      0\n",
       "0            country_id\n",
       "1                season\n",
       "2                  Date\n",
       "3              HomeTeam\n",
       "4              AwayTeam\n",
       "5                  FTHG\n",
       "6                  FTAG\n",
       "7                   FTR\n",
       "8               H_ROUND\n",
       "9                 H_TP3\n",
       "10                H_TP5\n",
       "11               H_GS_H\n",
       "12               H_GS_A\n",
       "13               H_GR_H\n",
       "14               H_GR_A\n",
       "15                H_TGS\n",
       "16                H_TGR\n",
       "17             H_AvGS_H\n",
       "18             H_AvGS_A\n",
       "19             H_AvGR_H\n",
       "20             H_AvGR_A\n",
       "21             H_Av_TGS\n",
       "22             H_Av_TGR\n",
       "23              H_Pnt_H\n",
       "24              H_Pnt_A\n",
       "25              H_T_pnt\n",
       "26           H_Av_Pnt_H\n",
       "27           H_Av_pnt_A\n",
       "28           H_Av_T_pnt\n",
       "29              A_ROUND\n",
       "30                A_TP3\n",
       "31                A_TP5\n",
       "32              Aw_GS_H\n",
       "33              Aw_GS_A\n",
       "34              Aw_GR_H\n",
       "35              Aw_GR_A\n",
       "36               Aw_TGS\n",
       "37               Aw_TGR\n",
       "38            Aw_AvGS_H\n",
       "39            Aw_AvGS_A\n",
       "40            Aw_AvGR_H\n",
       "41            Aw_AvGR_A\n",
       "42            Aw_Av_TGS\n",
       "43            Aw_Av_TGR\n",
       "44             Aw_Pnt_H\n",
       "45             Aw_Pnt_A\n",
       "46             Aw_T_pnt\n",
       "47          Aw_Av_Pnt_H\n",
       "48          Aw_Av_pnt_A\n",
       "49          Aw_Av_T_pnt\n",
       "50              DIFF_TP\n",
       "51           DIFF_HP-AP\n",
       "52  SUMM_HGSH+HGSH+AGRA\n",
       "53       SUMM_HGRH+AGSA\n",
       "54       SUMM_HTGS+ATGR\n",
       "55       SUMM_HTGR+ATGS\n",
       "56           DIFF_av_TP\n",
       "57        DIFF_av_HP-AP\n",
       "58    SUMM_av_HGSH+AGRA\n",
       "59    SUMM_av_HGRH+AGSA\n",
       "60    SUMM_av_HTGS+ATGR\n",
       "61    SUMM_av_HTGR+ATGS\n",
       "62         Goal/No_Goal\n",
       "63     Over2.5/Under2.5\n",
       "64     Over1.5/Under1.5\n",
       "65            DIFF_L3MP\n",
       "66            DIFF_L5MP"
      ]
     },
     "execution_count": 800,
     "metadata": {},
     "output_type": "execute_result"
    }
   ],
   "source": [
    "pd.DataFrame(allchampionships[0].df.columns)"
   ]
  },
  {
   "cell_type": "markdown",
   "metadata": {},
   "source": [
    "# Parameter"
   ]
  },
  {
   "cell_type": "code",
   "execution_count": 807,
   "metadata": {
    "collapsed": true
   },
   "outputs": [],
   "source": [
    "season_to_be_predicted='2015/2016'\n",
    "column_to_predict='FTR'\n",
    "column_to_use_as_prediction = [65,66]\n"
   ]
  },
  {
   "cell_type": "markdown",
   "metadata": {},
   "source": [
    "# RUN with all method only ONE LEAGUE"
   ]
  },
  {
   "cell_type": "code",
   "execution_count": 808,
   "metadata": {
    "collapsed": false
   },
   "outputs": [],
   "source": [
    "a=pred_all_meth(allchampionships[1].df, season_to_be_predicted,column_to_predict,column_to_use_as_prediction)"
   ]
  },
  {
   "cell_type": "markdown",
   "metadata": {},
   "source": [
    "## Put together"
   ]
  },
  {
   "cell_type": "code",
   "execution_count": 816,
   "metadata": {
    "collapsed": true
   },
   "outputs": [],
   "source": [
    "b=Put_Togheter(a)"
   ]
  },
  {
   "cell_type": "code",
   "execution_count": 817,
   "metadata": {
    "collapsed": false
   },
   "outputs": [
    {
     "data": {
      "text/html": [
       "<div>\n",
       "<table border=\"1\" class=\"dataframe\">\n",
       "  <thead>\n",
       "    <tr style=\"text-align: right;\">\n",
       "      <th></th>\n",
       "      <th>svm_linear_1</th>\n",
       "      <th>svm_linear_2</th>\n",
       "      <th>svm_rbf_1</th>\n",
       "      <th>svm_rbf_2</th>\n",
       "      <th>dtc_1</th>\n",
       "      <th>dtc_2</th>\n",
       "      <th>bagb_1</th>\n",
       "      <th>bagb_2</th>\n",
       "      <th>gradb_1</th>\n",
       "      <th>gradb_2</th>\n",
       "      <th>rdf_1</th>\n",
       "      <th>rdf_2</th>\n",
       "    </tr>\n",
       "  </thead>\n",
       "  <tbody>\n",
       "    <tr>\n",
       "      <th>0</th>\n",
       "      <td>0.125000</td>\n",
       "      <td>0.125000</td>\n",
       "      <td>0.125000</td>\n",
       "      <td>0.125000</td>\n",
       "      <td>0.125000</td>\n",
       "      <td>0.125000</td>\n",
       "      <td>0.125000</td>\n",
       "      <td>0.125000</td>\n",
       "      <td>0.125000</td>\n",
       "      <td>0.125000</td>\n",
       "      <td>0.125000</td>\n",
       "      <td>0.125000</td>\n",
       "    </tr>\n",
       "    <tr>\n",
       "      <th>1</th>\n",
       "      <td>0.500000</td>\n",
       "      <td>0.500000</td>\n",
       "      <td>0.500000</td>\n",
       "      <td>0.500000</td>\n",
       "      <td>0.500000</td>\n",
       "      <td>0.500000</td>\n",
       "      <td>0.500000</td>\n",
       "      <td>0.500000</td>\n",
       "      <td>0.500000</td>\n",
       "      <td>0.500000</td>\n",
       "      <td>0.500000</td>\n",
       "      <td>0.500000</td>\n",
       "    </tr>\n",
       "    <tr>\n",
       "      <th>2</th>\n",
       "      <td>0.250000</td>\n",
       "      <td>0.250000</td>\n",
       "      <td>0.500000</td>\n",
       "      <td>0.500000</td>\n",
       "      <td>0.500000</td>\n",
       "      <td>0.500000</td>\n",
       "      <td>0.500000</td>\n",
       "      <td>0.500000</td>\n",
       "      <td>0.500000</td>\n",
       "      <td>0.500000</td>\n",
       "      <td>0.500000</td>\n",
       "      <td>0.500000</td>\n",
       "    </tr>\n",
       "    <tr>\n",
       "      <th>3</th>\n",
       "      <td>0.500000</td>\n",
       "      <td>0.500000</td>\n",
       "      <td>0.500000</td>\n",
       "      <td>0.500000</td>\n",
       "      <td>0.375000</td>\n",
       "      <td>0.375000</td>\n",
       "      <td>0.375000</td>\n",
       "      <td>0.375000</td>\n",
       "      <td>0.375000</td>\n",
       "      <td>0.500000</td>\n",
       "      <td>0.500000</td>\n",
       "      <td>0.500000</td>\n",
       "    </tr>\n",
       "    <tr>\n",
       "      <th>4</th>\n",
       "      <td>0.500000</td>\n",
       "      <td>0.500000</td>\n",
       "      <td>0.250000</td>\n",
       "      <td>0.250000</td>\n",
       "      <td>0.250000</td>\n",
       "      <td>0.250000</td>\n",
       "      <td>0.250000</td>\n",
       "      <td>0.375000</td>\n",
       "      <td>0.250000</td>\n",
       "      <td>0.250000</td>\n",
       "      <td>0.375000</td>\n",
       "      <td>0.250000</td>\n",
       "    </tr>\n",
       "    <tr>\n",
       "      <th>5</th>\n",
       "      <td>0.500000</td>\n",
       "      <td>0.500000</td>\n",
       "      <td>0.375000</td>\n",
       "      <td>0.375000</td>\n",
       "      <td>0.375000</td>\n",
       "      <td>0.375000</td>\n",
       "      <td>0.375000</td>\n",
       "      <td>0.375000</td>\n",
       "      <td>0.375000</td>\n",
       "      <td>0.500000</td>\n",
       "      <td>0.375000</td>\n",
       "      <td>0.375000</td>\n",
       "    </tr>\n",
       "    <tr>\n",
       "      <th>6</th>\n",
       "      <td>0.375000</td>\n",
       "      <td>0.375000</td>\n",
       "      <td>0.625000</td>\n",
       "      <td>0.625000</td>\n",
       "      <td>0.625000</td>\n",
       "      <td>0.625000</td>\n",
       "      <td>0.625000</td>\n",
       "      <td>0.625000</td>\n",
       "      <td>0.625000</td>\n",
       "      <td>0.625000</td>\n",
       "      <td>0.625000</td>\n",
       "      <td>0.625000</td>\n",
       "    </tr>\n",
       "    <tr>\n",
       "      <th>7</th>\n",
       "      <td>0.250000</td>\n",
       "      <td>0.250000</td>\n",
       "      <td>0.250000</td>\n",
       "      <td>0.250000</td>\n",
       "      <td>0.250000</td>\n",
       "      <td>0.250000</td>\n",
       "      <td>0.250000</td>\n",
       "      <td>0.250000</td>\n",
       "      <td>0.250000</td>\n",
       "      <td>0.250000</td>\n",
       "      <td>0.250000</td>\n",
       "      <td>0.250000</td>\n",
       "    </tr>\n",
       "    <tr>\n",
       "      <th>8</th>\n",
       "      <td>0.250000</td>\n",
       "      <td>0.250000</td>\n",
       "      <td>0.375000</td>\n",
       "      <td>0.375000</td>\n",
       "      <td>0.375000</td>\n",
       "      <td>0.375000</td>\n",
       "      <td>0.375000</td>\n",
       "      <td>0.375000</td>\n",
       "      <td>0.375000</td>\n",
       "      <td>0.375000</td>\n",
       "      <td>0.375000</td>\n",
       "      <td>0.375000</td>\n",
       "    </tr>\n",
       "    <tr>\n",
       "      <th>9</th>\n",
       "      <td>0.250000</td>\n",
       "      <td>0.250000</td>\n",
       "      <td>0.125000</td>\n",
       "      <td>0.125000</td>\n",
       "      <td>0.125000</td>\n",
       "      <td>0.125000</td>\n",
       "      <td>0.125000</td>\n",
       "      <td>0.125000</td>\n",
       "      <td>0.125000</td>\n",
       "      <td>0.125000</td>\n",
       "      <td>0.125000</td>\n",
       "      <td>0.125000</td>\n",
       "    </tr>\n",
       "    <tr>\n",
       "      <th>10</th>\n",
       "      <td>0.250000</td>\n",
       "      <td>0.250000</td>\n",
       "      <td>0.375000</td>\n",
       "      <td>0.500000</td>\n",
       "      <td>0.250000</td>\n",
       "      <td>0.375000</td>\n",
       "      <td>0.250000</td>\n",
       "      <td>0.375000</td>\n",
       "      <td>0.250000</td>\n",
       "      <td>0.500000</td>\n",
       "      <td>0.500000</td>\n",
       "      <td>0.375000</td>\n",
       "    </tr>\n",
       "    <tr>\n",
       "      <th>11</th>\n",
       "      <td>0.500000</td>\n",
       "      <td>0.500000</td>\n",
       "      <td>0.625000</td>\n",
       "      <td>0.625000</td>\n",
       "      <td>0.625000</td>\n",
       "      <td>0.625000</td>\n",
       "      <td>0.625000</td>\n",
       "      <td>0.625000</td>\n",
       "      <td>0.625000</td>\n",
       "      <td>0.625000</td>\n",
       "      <td>0.625000</td>\n",
       "      <td>0.625000</td>\n",
       "    </tr>\n",
       "    <tr>\n",
       "      <th>12</th>\n",
       "      <td>0.375000</td>\n",
       "      <td>0.375000</td>\n",
       "      <td>0.500000</td>\n",
       "      <td>0.500000</td>\n",
       "      <td>0.500000</td>\n",
       "      <td>0.500000</td>\n",
       "      <td>0.500000</td>\n",
       "      <td>0.500000</td>\n",
       "      <td>0.500000</td>\n",
       "      <td>0.500000</td>\n",
       "      <td>0.500000</td>\n",
       "      <td>0.500000</td>\n",
       "    </tr>\n",
       "    <tr>\n",
       "      <th>13</th>\n",
       "      <td>0.125000</td>\n",
       "      <td>0.125000</td>\n",
       "      <td>0.125000</td>\n",
       "      <td>0.125000</td>\n",
       "      <td>0.250000</td>\n",
       "      <td>0.375000</td>\n",
       "      <td>0.250000</td>\n",
       "      <td>0.375000</td>\n",
       "      <td>0.125000</td>\n",
       "      <td>0.125000</td>\n",
       "      <td>0.125000</td>\n",
       "      <td>0.250000</td>\n",
       "    </tr>\n",
       "    <tr>\n",
       "      <th>14</th>\n",
       "      <td>0.750000</td>\n",
       "      <td>0.750000</td>\n",
       "      <td>0.375000</td>\n",
       "      <td>0.375000</td>\n",
       "      <td>0.250000</td>\n",
       "      <td>0.250000</td>\n",
       "      <td>0.375000</td>\n",
       "      <td>0.375000</td>\n",
       "      <td>0.500000</td>\n",
       "      <td>0.250000</td>\n",
       "      <td>0.375000</td>\n",
       "      <td>0.250000</td>\n",
       "    </tr>\n",
       "    <tr>\n",
       "      <th>15</th>\n",
       "      <td>0.285714</td>\n",
       "      <td>0.285714</td>\n",
       "      <td>0.285714</td>\n",
       "      <td>0.285714</td>\n",
       "      <td>0.142857</td>\n",
       "      <td>0.285714</td>\n",
       "      <td>0.285714</td>\n",
       "      <td>0.285714</td>\n",
       "      <td>0.142857</td>\n",
       "      <td>0.285714</td>\n",
       "      <td>0.142857</td>\n",
       "      <td>0.428571</td>\n",
       "    </tr>\n",
       "    <tr>\n",
       "      <th>16</th>\n",
       "      <td>0.555556</td>\n",
       "      <td>0.555556</td>\n",
       "      <td>0.444444</td>\n",
       "      <td>0.444444</td>\n",
       "      <td>0.444444</td>\n",
       "      <td>0.555556</td>\n",
       "      <td>0.555556</td>\n",
       "      <td>0.555556</td>\n",
       "      <td>0.333333</td>\n",
       "      <td>0.555556</td>\n",
       "      <td>0.444444</td>\n",
       "      <td>0.444444</td>\n",
       "    </tr>\n",
       "    <tr>\n",
       "      <th>17</th>\n",
       "      <td>0.250000</td>\n",
       "      <td>0.250000</td>\n",
       "      <td>0.250000</td>\n",
       "      <td>0.250000</td>\n",
       "      <td>0.375000</td>\n",
       "      <td>0.375000</td>\n",
       "      <td>0.375000</td>\n",
       "      <td>0.375000</td>\n",
       "      <td>0.375000</td>\n",
       "      <td>0.375000</td>\n",
       "      <td>0.375000</td>\n",
       "      <td>0.375000</td>\n",
       "    </tr>\n",
       "    <tr>\n",
       "      <th>18</th>\n",
       "      <td>0.750000</td>\n",
       "      <td>0.750000</td>\n",
       "      <td>0.500000</td>\n",
       "      <td>0.500000</td>\n",
       "      <td>0.500000</td>\n",
       "      <td>0.500000</td>\n",
       "      <td>0.500000</td>\n",
       "      <td>0.625000</td>\n",
       "      <td>0.625000</td>\n",
       "      <td>0.500000</td>\n",
       "      <td>0.500000</td>\n",
       "      <td>0.625000</td>\n",
       "    </tr>\n",
       "    <tr>\n",
       "      <th>19</th>\n",
       "      <td>0.375000</td>\n",
       "      <td>0.375000</td>\n",
       "      <td>0.250000</td>\n",
       "      <td>0.250000</td>\n",
       "      <td>0.125000</td>\n",
       "      <td>0.125000</td>\n",
       "      <td>0.125000</td>\n",
       "      <td>0.125000</td>\n",
       "      <td>0.250000</td>\n",
       "      <td>0.250000</td>\n",
       "      <td>0.125000</td>\n",
       "      <td>0.125000</td>\n",
       "    </tr>\n",
       "    <tr>\n",
       "      <th>20</th>\n",
       "      <td>0.375000</td>\n",
       "      <td>0.375000</td>\n",
       "      <td>0.500000</td>\n",
       "      <td>0.375000</td>\n",
       "      <td>0.500000</td>\n",
       "      <td>0.500000</td>\n",
       "      <td>0.625000</td>\n",
       "      <td>0.375000</td>\n",
       "      <td>0.500000</td>\n",
       "      <td>0.375000</td>\n",
       "      <td>0.500000</td>\n",
       "      <td>0.500000</td>\n",
       "    </tr>\n",
       "    <tr>\n",
       "      <th>21</th>\n",
       "      <td>0.375000</td>\n",
       "      <td>0.375000</td>\n",
       "      <td>0.125000</td>\n",
       "      <td>0.125000</td>\n",
       "      <td>0.125000</td>\n",
       "      <td>0.125000</td>\n",
       "      <td>0.125000</td>\n",
       "      <td>0.125000</td>\n",
       "      <td>0.125000</td>\n",
       "      <td>0.125000</td>\n",
       "      <td>0.125000</td>\n",
       "      <td>0.125000</td>\n",
       "    </tr>\n",
       "    <tr>\n",
       "      <th>22</th>\n",
       "      <td>0.500000</td>\n",
       "      <td>0.500000</td>\n",
       "      <td>0.375000</td>\n",
       "      <td>0.625000</td>\n",
       "      <td>0.375000</td>\n",
       "      <td>0.500000</td>\n",
       "      <td>0.500000</td>\n",
       "      <td>0.625000</td>\n",
       "      <td>0.375000</td>\n",
       "      <td>0.625000</td>\n",
       "      <td>0.375000</td>\n",
       "      <td>0.625000</td>\n",
       "    </tr>\n",
       "    <tr>\n",
       "      <th>23</th>\n",
       "      <td>0.250000</td>\n",
       "      <td>0.250000</td>\n",
       "      <td>0.125000</td>\n",
       "      <td>0.125000</td>\n",
       "      <td>0.125000</td>\n",
       "      <td>0.125000</td>\n",
       "      <td>0.125000</td>\n",
       "      <td>0.125000</td>\n",
       "      <td>0.125000</td>\n",
       "      <td>0.125000</td>\n",
       "      <td>0.250000</td>\n",
       "      <td>0.125000</td>\n",
       "    </tr>\n",
       "    <tr>\n",
       "      <th>24</th>\n",
       "      <td>0.125000</td>\n",
       "      <td>0.125000</td>\n",
       "      <td>0.125000</td>\n",
       "      <td>0.125000</td>\n",
       "      <td>0.250000</td>\n",
       "      <td>0.250000</td>\n",
       "      <td>0.125000</td>\n",
       "      <td>0.125000</td>\n",
       "      <td>0.125000</td>\n",
       "      <td>0.125000</td>\n",
       "      <td>0.250000</td>\n",
       "      <td>0.250000</td>\n",
       "    </tr>\n",
       "    <tr>\n",
       "      <th>25</th>\n",
       "      <td>0.125000</td>\n",
       "      <td>0.125000</td>\n",
       "      <td>0.375000</td>\n",
       "      <td>0.125000</td>\n",
       "      <td>0.625000</td>\n",
       "      <td>0.250000</td>\n",
       "      <td>0.375000</td>\n",
       "      <td>0.250000</td>\n",
       "      <td>0.375000</td>\n",
       "      <td>0.125000</td>\n",
       "      <td>0.375000</td>\n",
       "      <td>0.125000</td>\n",
       "    </tr>\n",
       "    <tr>\n",
       "      <th>26</th>\n",
       "      <td>0.625000</td>\n",
       "      <td>0.625000</td>\n",
       "      <td>0.625000</td>\n",
       "      <td>0.500000</td>\n",
       "      <td>0.500000</td>\n",
       "      <td>0.375000</td>\n",
       "      <td>0.500000</td>\n",
       "      <td>0.375000</td>\n",
       "      <td>0.625000</td>\n",
       "      <td>0.500000</td>\n",
       "      <td>0.500000</td>\n",
       "      <td>0.375000</td>\n",
       "    </tr>\n",
       "  </tbody>\n",
       "</table>\n",
       "</div>"
      ],
      "text/plain": [
       "    svm_linear_1  svm_linear_2  svm_rbf_1  svm_rbf_2     dtc_1     dtc_2  \\\n",
       "0       0.125000      0.125000   0.125000   0.125000  0.125000  0.125000   \n",
       "1       0.500000      0.500000   0.500000   0.500000  0.500000  0.500000   \n",
       "2       0.250000      0.250000   0.500000   0.500000  0.500000  0.500000   \n",
       "3       0.500000      0.500000   0.500000   0.500000  0.375000  0.375000   \n",
       "4       0.500000      0.500000   0.250000   0.250000  0.250000  0.250000   \n",
       "5       0.500000      0.500000   0.375000   0.375000  0.375000  0.375000   \n",
       "6       0.375000      0.375000   0.625000   0.625000  0.625000  0.625000   \n",
       "7       0.250000      0.250000   0.250000   0.250000  0.250000  0.250000   \n",
       "8       0.250000      0.250000   0.375000   0.375000  0.375000  0.375000   \n",
       "9       0.250000      0.250000   0.125000   0.125000  0.125000  0.125000   \n",
       "10      0.250000      0.250000   0.375000   0.500000  0.250000  0.375000   \n",
       "11      0.500000      0.500000   0.625000   0.625000  0.625000  0.625000   \n",
       "12      0.375000      0.375000   0.500000   0.500000  0.500000  0.500000   \n",
       "13      0.125000      0.125000   0.125000   0.125000  0.250000  0.375000   \n",
       "14      0.750000      0.750000   0.375000   0.375000  0.250000  0.250000   \n",
       "15      0.285714      0.285714   0.285714   0.285714  0.142857  0.285714   \n",
       "16      0.555556      0.555556   0.444444   0.444444  0.444444  0.555556   \n",
       "17      0.250000      0.250000   0.250000   0.250000  0.375000  0.375000   \n",
       "18      0.750000      0.750000   0.500000   0.500000  0.500000  0.500000   \n",
       "19      0.375000      0.375000   0.250000   0.250000  0.125000  0.125000   \n",
       "20      0.375000      0.375000   0.500000   0.375000  0.500000  0.500000   \n",
       "21      0.375000      0.375000   0.125000   0.125000  0.125000  0.125000   \n",
       "22      0.500000      0.500000   0.375000   0.625000  0.375000  0.500000   \n",
       "23      0.250000      0.250000   0.125000   0.125000  0.125000  0.125000   \n",
       "24      0.125000      0.125000   0.125000   0.125000  0.250000  0.250000   \n",
       "25      0.125000      0.125000   0.375000   0.125000  0.625000  0.250000   \n",
       "26      0.625000      0.625000   0.625000   0.500000  0.500000  0.375000   \n",
       "\n",
       "      bagb_1    bagb_2   gradb_1   gradb_2     rdf_1     rdf_2  \n",
       "0   0.125000  0.125000  0.125000  0.125000  0.125000  0.125000  \n",
       "1   0.500000  0.500000  0.500000  0.500000  0.500000  0.500000  \n",
       "2   0.500000  0.500000  0.500000  0.500000  0.500000  0.500000  \n",
       "3   0.375000  0.375000  0.375000  0.500000  0.500000  0.500000  \n",
       "4   0.250000  0.375000  0.250000  0.250000  0.375000  0.250000  \n",
       "5   0.375000  0.375000  0.375000  0.500000  0.375000  0.375000  \n",
       "6   0.625000  0.625000  0.625000  0.625000  0.625000  0.625000  \n",
       "7   0.250000  0.250000  0.250000  0.250000  0.250000  0.250000  \n",
       "8   0.375000  0.375000  0.375000  0.375000  0.375000  0.375000  \n",
       "9   0.125000  0.125000  0.125000  0.125000  0.125000  0.125000  \n",
       "10  0.250000  0.375000  0.250000  0.500000  0.500000  0.375000  \n",
       "11  0.625000  0.625000  0.625000  0.625000  0.625000  0.625000  \n",
       "12  0.500000  0.500000  0.500000  0.500000  0.500000  0.500000  \n",
       "13  0.250000  0.375000  0.125000  0.125000  0.125000  0.250000  \n",
       "14  0.375000  0.375000  0.500000  0.250000  0.375000  0.250000  \n",
       "15  0.285714  0.285714  0.142857  0.285714  0.142857  0.428571  \n",
       "16  0.555556  0.555556  0.333333  0.555556  0.444444  0.444444  \n",
       "17  0.375000  0.375000  0.375000  0.375000  0.375000  0.375000  \n",
       "18  0.500000  0.625000  0.625000  0.500000  0.500000  0.625000  \n",
       "19  0.125000  0.125000  0.250000  0.250000  0.125000  0.125000  \n",
       "20  0.625000  0.375000  0.500000  0.375000  0.500000  0.500000  \n",
       "21  0.125000  0.125000  0.125000  0.125000  0.125000  0.125000  \n",
       "22  0.500000  0.625000  0.375000  0.625000  0.375000  0.625000  \n",
       "23  0.125000  0.125000  0.125000  0.125000  0.250000  0.125000  \n",
       "24  0.125000  0.125000  0.125000  0.125000  0.250000  0.250000  \n",
       "25  0.375000  0.250000  0.375000  0.125000  0.375000  0.125000  \n",
       "26  0.500000  0.375000  0.625000  0.500000  0.500000  0.375000  "
      ]
     },
     "execution_count": 817,
     "metadata": {},
     "output_type": "execute_result"
    }
   ],
   "source": [
    "b"
   ]
  },
  {
   "cell_type": "code",
   "execution_count": 818,
   "metadata": {
    "collapsed": false
   },
   "outputs": [
    {
     "data": {
      "text/plain": [
       "svm_linear_1    0.373751\n",
       "svm_linear_2    0.373751\n",
       "svm_rbf_1       0.355747\n",
       "svm_rbf_2       0.351117\n",
       "dtc_1           0.350456\n",
       "dtc_2           0.355232\n",
       "bagb_1          0.359862\n",
       "bagb_2          0.364491\n",
       "gradb_1         0.350970\n",
       "gradb_2         0.359862\n",
       "rdf_1           0.364345\n",
       "rdf_2           0.361038\n",
       "dtype: float64"
      ]
     },
     "execution_count": 818,
     "metadata": {},
     "output_type": "execute_result"
    }
   ],
   "source": [
    "b.mean()"
   ]
  },
  {
   "cell_type": "markdown",
   "metadata": {},
   "source": [
    "## Get Means and Best Methods"
   ]
  },
  {
   "cell_type": "code",
   "execution_count": 773,
   "metadata": {
    "collapsed": false
   },
   "outputs": [
    {
     "name": "stdout",
     "output_type": "stream",
     "text": [
      "('Best method are', 'svm_linear_1', 'with score', 0.37375073486184601)\n",
      "('Best method are', 'svm_linear_2', 'with score', 0.37375073486184601)\n",
      "('Best method are', 'svm_rbf_1', 'with score', 0.37375073486184601)\n",
      "('Best method are', 'svm_rbf_2', 'with score', 0.37375073486184601)\n"
     ]
    }
   ],
   "source": [
    "for i in range(len(b.mean()[b.mean()==max(b.mean())])):\n",
    "    print ('Best method are', b.mean()[b.mean()==max(b.mean())].index[i], 'with score', b.mean()[b.mean()==max(b.mean())][i])\n"
   ]
  },
  {
   "cell_type": "code",
   "execution_count": null,
   "metadata": {
    "collapsed": true
   },
   "outputs": [],
   "source": []
  },
  {
   "cell_type": "markdown",
   "metadata": {},
   "source": [
    "# Run all methods ALL LEAGUES "
   ]
  },
  {
   "cell_type": "code",
   "execution_count": 683,
   "metadata": {
    "collapsed": true
   },
   "outputs": [],
   "source": [
    "def FINAL (df,season_to_be_predicted):\n",
    "    lis=[]\n",
    "    tmp=pd.DataFrame(columns=[u'svm_linear_1', u'svm_linear_2', u'svm_linear_3', u'svm_rbf_1',\n",
    "       u'svm_rbf_2', u'svm_rbf_3', u'dtc_1', u'dtc_2', u'dtc_3', u'bagb_1',\n",
    "       u'bagb_2', u'bagb_3', u'gradb_1', u'gradb_2', u'gradb_3', u'rdf_1',\n",
    "       u'rdf_2', u'rdf_3'])\n",
    "    \n",
    "    for i in range(len(df)):\n",
    "        #print(i)\n",
    "        #print(allchampionships[i].df['country_id'].iloc[0])\n",
    "        \n",
    "        a=(pred_all_meth(df[i].df, season_to_be_predicted))\n",
    "        b=Put_Togheter(a)\n",
    "        #print(b.mean())\n",
    "        tmp=tmp.append(b.mean(), ignore_index=True)\n",
    "        #print(tmp)\n",
    "    \n",
    "    '''tmp.index=['Switzerland Super League', 'Poland Ekstraklasa',\n",
    "       'Scotland Premier League', 'France Ligue 1',\n",
    "       'Germany 1. Bundesliga', 'England Premier League',\n",
    "       'Belgium Jupiler League', 'Portugal Liga ZON Sagres',\n",
    "       'Netherlands Eredivisie', 'Italy Serie A', 'Spain LIGA BBVA']\n",
    "    '''\n",
    "    return tmp\n",
    "        \n",
    "        \n",
    "    "
   ]
  },
  {
   "cell_type": "code",
   "execution_count": 684,
   "metadata": {
    "collapsed": false
   },
   "outputs": [],
   "source": [
    "G=FINAL(allchampionships,season_to_be_predicted)"
   ]
  },
  {
   "cell_type": "code",
   "execution_count": 685,
   "metadata": {
    "collapsed": false
   },
   "outputs": [
    {
     "data": {
      "text/html": [
       "<div>\n",
       "<table border=\"1\" class=\"dataframe\">\n",
       "  <thead>\n",
       "    <tr style=\"text-align: right;\">\n",
       "      <th></th>\n",
       "      <th>svm_linear_1</th>\n",
       "      <th>svm_linear_2</th>\n",
       "      <th>svm_linear_3</th>\n",
       "      <th>svm_rbf_1</th>\n",
       "      <th>svm_rbf_2</th>\n",
       "      <th>svm_rbf_3</th>\n",
       "      <th>dtc_1</th>\n",
       "      <th>dtc_2</th>\n",
       "      <th>dtc_3</th>\n",
       "      <th>bagb_1</th>\n",
       "      <th>bagb_2</th>\n",
       "      <th>bagb_3</th>\n",
       "      <th>gradb_1</th>\n",
       "      <th>gradb_2</th>\n",
       "      <th>gradb_3</th>\n",
       "      <th>rdf_1</th>\n",
       "      <th>rdf_2</th>\n",
       "      <th>rdf_3</th>\n",
       "    </tr>\n",
       "  </thead>\n",
       "  <tbody>\n",
       "    <tr>\n",
       "      <th>0</th>\n",
       "      <td>0.516241</td>\n",
       "      <td>0.573384</td>\n",
       "      <td>0.540248</td>\n",
       "      <td>0.601956</td>\n",
       "      <td>0.601956</td>\n",
       "      <td>0.540174</td>\n",
       "      <td>0.443878</td>\n",
       "      <td>0.511395</td>\n",
       "      <td>0.541958</td>\n",
       "      <td>0.530187</td>\n",
       "      <td>0.466837</td>\n",
       "      <td>0.557372</td>\n",
       "      <td>0.459949</td>\n",
       "      <td>0.556293</td>\n",
       "      <td>0.519029</td>\n",
       "      <td>0.512245</td>\n",
       "      <td>0.500765</td>\n",
       "      <td>0.536338</td>\n",
       "    </tr>\n",
       "    <tr>\n",
       "      <th>1</th>\n",
       "      <td>0.444004</td>\n",
       "      <td>0.444004</td>\n",
       "      <td>0.531147</td>\n",
       "      <td>0.444004</td>\n",
       "      <td>0.444004</td>\n",
       "      <td>0.523753</td>\n",
       "      <td>0.532848</td>\n",
       "      <td>0.516681</td>\n",
       "      <td>0.477403</td>\n",
       "      <td>0.574148</td>\n",
       "      <td>0.505071</td>\n",
       "      <td>0.479939</td>\n",
       "      <td>0.593327</td>\n",
       "      <td>0.573486</td>\n",
       "      <td>0.511577</td>\n",
       "      <td>0.538139</td>\n",
       "      <td>0.574148</td>\n",
       "      <td>0.512770</td>\n",
       "    </tr>\n",
       "    <tr>\n",
       "      <th>2</th>\n",
       "      <td>0.562063</td>\n",
       "      <td>0.551468</td>\n",
       "      <td>0.512917</td>\n",
       "      <td>0.431905</td>\n",
       "      <td>0.432302</td>\n",
       "      <td>0.487619</td>\n",
       "      <td>0.502460</td>\n",
       "      <td>0.499286</td>\n",
       "      <td>0.508384</td>\n",
       "      <td>0.480754</td>\n",
       "      <td>0.488690</td>\n",
       "      <td>0.511707</td>\n",
       "      <td>0.501587</td>\n",
       "      <td>0.499246</td>\n",
       "      <td>0.496138</td>\n",
       "      <td>0.494762</td>\n",
       "      <td>0.473175</td>\n",
       "      <td>0.502692</td>\n",
       "    </tr>\n",
       "    <tr>\n",
       "      <th>3</th>\n",
       "      <td>0.533519</td>\n",
       "      <td>0.489630</td>\n",
       "      <td>0.516318</td>\n",
       "      <td>0.482593</td>\n",
       "      <td>0.478889</td>\n",
       "      <td>0.494568</td>\n",
       "      <td>0.469630</td>\n",
       "      <td>0.497037</td>\n",
       "      <td>0.503536</td>\n",
       "      <td>0.514444</td>\n",
       "      <td>0.447037</td>\n",
       "      <td>0.494872</td>\n",
       "      <td>0.483333</td>\n",
       "      <td>0.465370</td>\n",
       "      <td>0.509294</td>\n",
       "      <td>0.465741</td>\n",
       "      <td>0.517222</td>\n",
       "      <td>0.509540</td>\n",
       "    </tr>\n",
       "    <tr>\n",
       "      <th>4</th>\n",
       "      <td>0.521368</td>\n",
       "      <td>0.521368</td>\n",
       "      <td>0.545349</td>\n",
       "      <td>0.521368</td>\n",
       "      <td>0.521368</td>\n",
       "      <td>0.545894</td>\n",
       "      <td>0.482906</td>\n",
       "      <td>0.457265</td>\n",
       "      <td>0.484226</td>\n",
       "      <td>0.525641</td>\n",
       "      <td>0.495726</td>\n",
       "      <td>0.499228</td>\n",
       "      <td>0.508547</td>\n",
       "      <td>0.512821</td>\n",
       "      <td>0.509494</td>\n",
       "      <td>0.461538</td>\n",
       "      <td>0.482906</td>\n",
       "      <td>0.513646</td>\n",
       "    </tr>\n",
       "    <tr>\n",
       "      <th>5</th>\n",
       "      <td>0.465556</td>\n",
       "      <td>0.477593</td>\n",
       "      <td>0.516283</td>\n",
       "      <td>0.500463</td>\n",
       "      <td>0.492963</td>\n",
       "      <td>0.522129</td>\n",
       "      <td>0.516667</td>\n",
       "      <td>0.479074</td>\n",
       "      <td>0.517968</td>\n",
       "      <td>0.499907</td>\n",
       "      <td>0.541019</td>\n",
       "      <td>0.496485</td>\n",
       "      <td>0.497222</td>\n",
       "      <td>0.539444</td>\n",
       "      <td>0.509299</td>\n",
       "      <td>0.511389</td>\n",
       "      <td>0.511852</td>\n",
       "      <td>0.535559</td>\n",
       "    </tr>\n",
       "    <tr>\n",
       "      <th>6</th>\n",
       "      <td>0.576923</td>\n",
       "      <td>0.576923</td>\n",
       "      <td>0.532906</td>\n",
       "      <td>0.576923</td>\n",
       "      <td>0.576923</td>\n",
       "      <td>0.540673</td>\n",
       "      <td>0.480769</td>\n",
       "      <td>0.524038</td>\n",
       "      <td>0.507004</td>\n",
       "      <td>0.519231</td>\n",
       "      <td>0.471154</td>\n",
       "      <td>0.516324</td>\n",
       "      <td>0.514423</td>\n",
       "      <td>0.514423</td>\n",
       "      <td>0.493905</td>\n",
       "      <td>0.514423</td>\n",
       "      <td>0.524038</td>\n",
       "      <td>0.530967</td>\n",
       "    </tr>\n",
       "    <tr>\n",
       "      <th>7</th>\n",
       "      <td>0.528244</td>\n",
       "      <td>0.506527</td>\n",
       "      <td>0.516421</td>\n",
       "      <td>0.515074</td>\n",
       "      <td>0.515074</td>\n",
       "      <td>0.524553</td>\n",
       "      <td>0.524820</td>\n",
       "      <td>0.513087</td>\n",
       "      <td>0.504832</td>\n",
       "      <td>0.507243</td>\n",
       "      <td>0.509923</td>\n",
       "      <td>0.512098</td>\n",
       "      <td>0.470474</td>\n",
       "      <td>0.457653</td>\n",
       "      <td>0.519691</td>\n",
       "      <td>0.531191</td>\n",
       "      <td>0.487124</td>\n",
       "      <td>0.523467</td>\n",
       "    </tr>\n",
       "    <tr>\n",
       "      <th>8</th>\n",
       "      <td>0.564103</td>\n",
       "      <td>0.564103</td>\n",
       "      <td>0.545487</td>\n",
       "      <td>0.564103</td>\n",
       "      <td>0.564103</td>\n",
       "      <td>0.549570</td>\n",
       "      <td>0.512821</td>\n",
       "      <td>0.487179</td>\n",
       "      <td>0.498599</td>\n",
       "      <td>0.542735</td>\n",
       "      <td>0.495726</td>\n",
       "      <td>0.521962</td>\n",
       "      <td>0.534188</td>\n",
       "      <td>0.555556</td>\n",
       "      <td>0.512981</td>\n",
       "      <td>0.525641</td>\n",
       "      <td>0.581197</td>\n",
       "      <td>0.525173</td>\n",
       "    </tr>\n",
       "    <tr>\n",
       "      <th>9</th>\n",
       "      <td>0.463333</td>\n",
       "      <td>0.446667</td>\n",
       "      <td>0.484375</td>\n",
       "      <td>0.546667</td>\n",
       "      <td>0.543333</td>\n",
       "      <td>0.491723</td>\n",
       "      <td>0.476667</td>\n",
       "      <td>0.463333</td>\n",
       "      <td>0.492160</td>\n",
       "      <td>0.506667</td>\n",
       "      <td>0.490000</td>\n",
       "      <td>0.496333</td>\n",
       "      <td>0.476667</td>\n",
       "      <td>0.486667</td>\n",
       "      <td>0.486853</td>\n",
       "      <td>0.463333</td>\n",
       "      <td>0.473333</td>\n",
       "      <td>0.494766</td>\n",
       "    </tr>\n",
       "    <tr>\n",
       "      <th>10</th>\n",
       "      <td>0.499125</td>\n",
       "      <td>0.512088</td>\n",
       "      <td>0.487901</td>\n",
       "      <td>0.472694</td>\n",
       "      <td>0.442997</td>\n",
       "      <td>0.501872</td>\n",
       "      <td>0.538687</td>\n",
       "      <td>0.520101</td>\n",
       "      <td>0.495268</td>\n",
       "      <td>0.501347</td>\n",
       "      <td>0.505657</td>\n",
       "      <td>0.502211</td>\n",
       "      <td>0.482525</td>\n",
       "      <td>0.525657</td>\n",
       "      <td>0.498684</td>\n",
       "      <td>0.503434</td>\n",
       "      <td>0.486094</td>\n",
       "      <td>0.495101</td>\n",
       "    </tr>\n",
       "  </tbody>\n",
       "</table>\n",
       "</div>"
      ],
      "text/plain": [
       "    svm_linear_1  svm_linear_2  svm_linear_3  svm_rbf_1  svm_rbf_2  svm_rbf_3  \\\n",
       "0       0.516241      0.573384      0.540248   0.601956   0.601956   0.540174   \n",
       "1       0.444004      0.444004      0.531147   0.444004   0.444004   0.523753   \n",
       "2       0.562063      0.551468      0.512917   0.431905   0.432302   0.487619   \n",
       "3       0.533519      0.489630      0.516318   0.482593   0.478889   0.494568   \n",
       "4       0.521368      0.521368      0.545349   0.521368   0.521368   0.545894   \n",
       "5       0.465556      0.477593      0.516283   0.500463   0.492963   0.522129   \n",
       "6       0.576923      0.576923      0.532906   0.576923   0.576923   0.540673   \n",
       "7       0.528244      0.506527      0.516421   0.515074   0.515074   0.524553   \n",
       "8       0.564103      0.564103      0.545487   0.564103   0.564103   0.549570   \n",
       "9       0.463333      0.446667      0.484375   0.546667   0.543333   0.491723   \n",
       "10      0.499125      0.512088      0.487901   0.472694   0.442997   0.501872   \n",
       "\n",
       "       dtc_1     dtc_2     dtc_3    bagb_1    bagb_2    bagb_3   gradb_1  \\\n",
       "0   0.443878  0.511395  0.541958  0.530187  0.466837  0.557372  0.459949   \n",
       "1   0.532848  0.516681  0.477403  0.574148  0.505071  0.479939  0.593327   \n",
       "2   0.502460  0.499286  0.508384  0.480754  0.488690  0.511707  0.501587   \n",
       "3   0.469630  0.497037  0.503536  0.514444  0.447037  0.494872  0.483333   \n",
       "4   0.482906  0.457265  0.484226  0.525641  0.495726  0.499228  0.508547   \n",
       "5   0.516667  0.479074  0.517968  0.499907  0.541019  0.496485  0.497222   \n",
       "6   0.480769  0.524038  0.507004  0.519231  0.471154  0.516324  0.514423   \n",
       "7   0.524820  0.513087  0.504832  0.507243  0.509923  0.512098  0.470474   \n",
       "8   0.512821  0.487179  0.498599  0.542735  0.495726  0.521962  0.534188   \n",
       "9   0.476667  0.463333  0.492160  0.506667  0.490000  0.496333  0.476667   \n",
       "10  0.538687  0.520101  0.495268  0.501347  0.505657  0.502211  0.482525   \n",
       "\n",
       "     gradb_2   gradb_3     rdf_1     rdf_2     rdf_3  \n",
       "0   0.556293  0.519029  0.512245  0.500765  0.536338  \n",
       "1   0.573486  0.511577  0.538139  0.574148  0.512770  \n",
       "2   0.499246  0.496138  0.494762  0.473175  0.502692  \n",
       "3   0.465370  0.509294  0.465741  0.517222  0.509540  \n",
       "4   0.512821  0.509494  0.461538  0.482906  0.513646  \n",
       "5   0.539444  0.509299  0.511389  0.511852  0.535559  \n",
       "6   0.514423  0.493905  0.514423  0.524038  0.530967  \n",
       "7   0.457653  0.519691  0.531191  0.487124  0.523467  \n",
       "8   0.555556  0.512981  0.525641  0.581197  0.525173  \n",
       "9   0.486667  0.486853  0.463333  0.473333  0.494766  \n",
       "10  0.525657  0.498684  0.503434  0.486094  0.495101  "
      ]
     },
     "execution_count": 685,
     "metadata": {},
     "output_type": "execute_result"
    }
   ],
   "source": [
    "G"
   ]
  },
  {
   "cell_type": "markdown",
   "metadata": {},
   "source": [
    "## Get The best Methods and Scores for Each League"
   ]
  },
  {
   "cell_type": "code",
   "execution_count": null,
   "metadata": {
    "collapsed": true
   },
   "outputs": [],
   "source": [
    "for i in range(len(G)):\n",
    "    \n",
    "    for i in range(G.iloc[i])\n",
    "    print ('Best method are', b.mean()[b.mean()==max(b.mean())].index[i], 'with score', b.mean()[b.mean()==max(b.mean())][i])\n",
    "\n",
    "    print ('Best Methods for' )\n",
    "    "
   ]
  },
  {
   "cell_type": "code",
   "execution_count": null,
   "metadata": {
    "collapsed": true
   },
   "outputs": [],
   "source": []
  },
  {
   "cell_type": "markdown",
   "metadata": {},
   "source": [
    "## SVM_LINEAR"
   ]
  },
  {
   "cell_type": "code",
   "execution_count": 495,
   "metadata": {
    "collapsed": false
   },
   "outputs": [],
   "source": [
    "svm_linear = svm.SVC(kernel='linear')\n",
    "a=Predict_whole_season_by_one(allchampionships[0].df,season_to_be_predicted,column_to_use_as_prediction,column_to_predict, svm_linear,'svm_linear')"
   ]
  },
  {
   "cell_type": "code",
   "execution_count": 496,
   "metadata": {
    "collapsed": false
   },
   "outputs": [],
   "source": [
    "b=Predict_whole_season_with_one(allchampionships[0].df,season_to_be_predicted,column_to_use_as_prediction,column_to_predict, svm_linear,'svm_linear')"
   ]
  },
  {
   "cell_type": "code",
   "execution_count": 497,
   "metadata": {
    "collapsed": false
   },
   "outputs": [],
   "source": [
    "c=Predict_season_with_current_season(allchampionships[0].df,season_to_be_predicted, column_to_use_as_prediction, column_to_predict,svm_linear,'svm_linear')"
   ]
  },
  {
   "cell_type": "code",
   "execution_count": 498,
   "metadata": {
    "collapsed": false
   },
   "outputs": [
    {
     "data": {
      "text/plain": [
       "0.5162414965986394"
      ]
     },
     "execution_count": 498,
     "metadata": {},
     "output_type": "execute_result"
    }
   ],
   "source": [
    "a['svm_linear'].mean()"
   ]
  },
  {
   "cell_type": "code",
   "execution_count": 499,
   "metadata": {
    "collapsed": false
   },
   "outputs": [
    {
     "data": {
      "text/plain": [
       "0.5733843537414965"
      ]
     },
     "execution_count": 499,
     "metadata": {},
     "output_type": "execute_result"
    }
   ],
   "source": [
    "b['svm_linear'].mean()"
   ]
  },
  {
   "cell_type": "code",
   "execution_count": 500,
   "metadata": {
    "collapsed": false
   },
   "outputs": [
    {
     "data": {
      "text/plain": [
       "0.5402483852432872"
      ]
     },
     "execution_count": 500,
     "metadata": {},
     "output_type": "execute_result"
    }
   ],
   "source": [
    "c['svm_linear'].mean()"
   ]
  },
  {
   "cell_type": "markdown",
   "metadata": {},
   "source": [
    "## SVM_RBF\n"
   ]
  },
  {
   "cell_type": "code",
   "execution_count": 501,
   "metadata": {
    "collapsed": false
   },
   "outputs": [],
   "source": [
    "svm_rbf = svm.SVC(kernel='rbf', gamma = 100)\n",
    "a=Predict_whole_season_by_one(allchampionships[0].df,season_to_be_predicted,column_to_use_as_prediction,column_to_predict,svm_rbf,'svm_rbf')"
   ]
  },
  {
   "cell_type": "code",
   "execution_count": 502,
   "metadata": {
    "collapsed": true
   },
   "outputs": [],
   "source": [
    "b=Predict_whole_season_with_one(allchampionships[0].df,season_to_be_predicted,column_to_use_as_prediction,column_to_predict, svm_rbf,'svm_rbf')"
   ]
  },
  {
   "cell_type": "code",
   "execution_count": 503,
   "metadata": {
    "collapsed": false
   },
   "outputs": [
    {
     "data": {
      "text/plain": [
       "0.601955782312925"
      ]
     },
     "execution_count": 503,
     "metadata": {},
     "output_type": "execute_result"
    }
   ],
   "source": [
    "a['svm_rbf'].mean()"
   ]
  },
  {
   "cell_type": "code",
   "execution_count": 504,
   "metadata": {
    "collapsed": false
   },
   "outputs": [
    {
     "data": {
      "text/plain": [
       "0.601955782312925"
      ]
     },
     "execution_count": 504,
     "metadata": {},
     "output_type": "execute_result"
    }
   ],
   "source": [
    "b['svm_rbf'].mean()"
   ]
  },
  {
   "cell_type": "markdown",
   "metadata": {},
   "source": [
    "## CART"
   ]
  },
  {
   "cell_type": "code",
   "execution_count": 505,
   "metadata": {
    "collapsed": true
   },
   "outputs": [],
   "source": [
    "dtc = DecisionTreeClassifier()\n",
    "d=Predict_whole_season_by_one(allchampionships[0].df,season_to_be_predicted,column_to_use_as_prediction,column_to_predict, dtc,'dtc')\n",
    "\n",
    "e=Predict_whole_season_with_one(allchampionships[0].df,season_to_be_predicted,column_to_use_as_prediction,column_to_predict, dtc,'dtc')\n",
    "\n",
    "t=Predict_whole_season_with_one(allchampionships[0].df,season_to_be_predicted,column_to_use_as_prediction,column_to_predict, dtc,'dtc')\n"
   ]
  },
  {
   "cell_type": "code",
   "execution_count": 506,
   "metadata": {
    "collapsed": true
   },
   "outputs": [],
   "source": []
  },
  {
   "cell_type": "code",
   "execution_count": 507,
   "metadata": {
    "collapsed": false
   },
   "outputs": [
    {
     "data": {
      "text/plain": [
       "0.43792517006802717"
      ]
     },
     "execution_count": 507,
     "metadata": {},
     "output_type": "execute_result"
    }
   ],
   "source": [
    "d['dtc'].mean()"
   ]
  },
  {
   "cell_type": "code",
   "execution_count": 508,
   "metadata": {
    "collapsed": false
   },
   "outputs": [
    {
     "data": {
      "text/plain": [
       "0.5260204081632655"
      ]
     },
     "execution_count": 508,
     "metadata": {},
     "output_type": "execute_result"
    }
   ],
   "source": [
    "e['dtc'].mean()"
   ]
  },
  {
   "cell_type": "code",
   "execution_count": 509,
   "metadata": {
    "collapsed": false
   },
   "outputs": [],
   "source": [
    "#a.join(e, how='outer')"
   ]
  },
  {
   "cell_type": "markdown",
   "metadata": {},
   "source": [
    "# Adaboost Classifier "
   ]
  },
  {
   "cell_type": "code",
   "execution_count": 510,
   "metadata": {
    "collapsed": true
   },
   "outputs": [],
   "source": [
    "bagb = AdaBoostClassifier(DecisionTreeClassifier(max_depth=10), n_estimators=20)\n",
    "a=Predict_whole_season_by_one(allchampionships[0].df,season_to_be_predicted,column_to_use_as_prediction,column_to_predict, bagb,'bagb')\n",
    "b=Predict_whole_season_with_one(allchampionships[0].df,season_to_be_predicted,column_to_use_as_prediction,column_to_predict, bagb,'bagb')\n",
    "c=Predict_whole_season_with_one(allchampionships[0].df,season_to_be_predicted,column_to_use_as_prediction,column_to_predict, bagb,'bagb')"
   ]
  },
  {
   "cell_type": "code",
   "execution_count": 511,
   "metadata": {
    "collapsed": true
   },
   "outputs": [],
   "source": []
  },
  {
   "cell_type": "code",
   "execution_count": 512,
   "metadata": {
    "collapsed": false
   },
   "outputs": [
    {
     "data": {
      "text/plain": [
       "0.5034863945578232"
      ]
     },
     "execution_count": 512,
     "metadata": {},
     "output_type": "execute_result"
    }
   ],
   "source": [
    "a['bagb'].mean()"
   ]
  },
  {
   "cell_type": "code",
   "execution_count": 513,
   "metadata": {
    "collapsed": false
   },
   "outputs": [
    {
     "data": {
      "text/plain": [
       "0.5394557823129251"
      ]
     },
     "execution_count": 513,
     "metadata": {},
     "output_type": "execute_result"
    }
   ],
   "source": [
    "b['bagb'].mean()"
   ]
  },
  {
   "cell_type": "markdown",
   "metadata": {},
   "source": [
    "# Gradient Boosting Classifier\n"
   ]
  },
  {
   "cell_type": "code",
   "execution_count": 514,
   "metadata": {
    "collapsed": true
   },
   "outputs": [],
   "source": [
    "gradb = GradientBoostingClassifier(max_depth=10, n_estimators=20)\n",
    "a=Predict_whole_season_by_one(allchampionships[0].df,season_to_be_predicted,column_to_use_as_prediction,column_to_predict, gradb,'gradb')\n",
    "b=Predict_whole_season_with_one(allchampionships[0].df,season_to_be_predicted,column_to_use_as_prediction,column_to_predict, gradb,'gradb')\n",
    "c=Predict_whole_season_with_one(allchampionships[0].df,season_to_be_predicted,column_to_use_as_prediction,column_to_predict, gradb,'gradb')"
   ]
  },
  {
   "cell_type": "code",
   "execution_count": 515,
   "metadata": {
    "collapsed": true
   },
   "outputs": [],
   "source": []
  },
  {
   "cell_type": "code",
   "execution_count": 516,
   "metadata": {
    "collapsed": false
   },
   "outputs": [
    {
     "data": {
      "text/plain": [
       "0.4739795918367347"
      ]
     },
     "execution_count": 516,
     "metadata": {},
     "output_type": "execute_result"
    }
   ],
   "source": [
    "a['gradb'].mean()"
   ]
  },
  {
   "cell_type": "code",
   "execution_count": 517,
   "metadata": {
    "collapsed": false
   },
   "outputs": [
    {
     "data": {
      "text/plain": [
       "0.536734693877551"
      ]
     },
     "execution_count": 517,
     "metadata": {},
     "output_type": "execute_result"
    }
   ],
   "source": [
    "b['gradb'].mean()"
   ]
  },
  {
   "cell_type": "markdown",
   "metadata": {},
   "source": [
    "# Random Forest"
   ]
  },
  {
   "cell_type": "code",
   "execution_count": 518,
   "metadata": {
    "collapsed": true
   },
   "outputs": [],
   "source": [
    "rdf = RandomForestClassifier(max_depth=10, n_estimators=20)\n",
    "a=Predict_whole_season_by_one(allchampionships[0].df,season_to_be_predicted,column_to_use_as_prediction,column_to_predict, rdf,'rdf')"
   ]
  },
  {
   "cell_type": "code",
   "execution_count": 519,
   "metadata": {
    "collapsed": true
   },
   "outputs": [],
   "source": [
    "b=Predict_whole_season_with_one(allchampionships[0].df,season_to_be_predicted,column_to_use_as_prediction,column_to_predict, rdf,'rdf')"
   ]
  },
  {
   "cell_type": "code",
   "execution_count": 520,
   "metadata": {
    "collapsed": false
   },
   "outputs": [
    {
     "data": {
      "text/plain": [
       "0.5062925170068027"
      ]
     },
     "execution_count": 520,
     "metadata": {},
     "output_type": "execute_result"
    }
   ],
   "source": [
    "a['rdf'].mean()"
   ]
  },
  {
   "cell_type": "code",
   "execution_count": 521,
   "metadata": {
    "collapsed": false
   },
   "outputs": [
    {
     "data": {
      "text/plain": [
       "0.486139455782313"
      ]
     },
     "execution_count": 521,
     "metadata": {},
     "output_type": "execute_result"
    }
   ],
   "source": [
    "b['rdf'].mean()"
   ]
  },
  {
   "cell_type": "code",
   "execution_count": 533,
   "metadata": {
    "collapsed": false
   },
   "outputs": [],
   "source": []
  },
  {
   "cell_type": "code",
   "execution_count": 534,
   "metadata": {
    "collapsed": false
   },
   "outputs": [
    {
     "data": {
      "text/plain": [
       "[<__main__.MyDf instance at 0x10fdcbdd0>,\n",
       " <__main__.MyDf instance at 0x10fe925a8>,\n",
       " <__main__.MyDf instance at 0x10fea92d8>,\n",
       " <__main__.MyDf instance at 0x10d78a488>,\n",
       " <__main__.MyDf instance at 0x10df0fa28>,\n",
       " <__main__.MyDf instance at 0x10d6077e8>,\n",
       " <__main__.MyDf instance at 0x10eb7a368>,\n",
       " <__main__.MyDf instance at 0x10fe9ad88>,\n",
       " <__main__.MyDf instance at 0x10e284b90>,\n",
       " <__main__.MyDf instance at 0x10dd345a8>,\n",
       " <__main__.MyDf instance at 0x10fe9ab00>,\n",
       " <__main__.MyDf instance at 0x10dd34290>,\n",
       " <__main__.MyDf instance at 0x10feb6710>,\n",
       " <__main__.MyDf instance at 0x10d60c998>,\n",
       " <__main__.MyDf instance at 0x10d5f79e0>,\n",
       " <__main__.MyDf instance at 0x10e295fc8>,\n",
       " <__main__.MyDf instance at 0x102a135a8>,\n",
       " <__main__.MyDf instance at 0x10e345680>]"
      ]
     },
     "execution_count": 534,
     "metadata": {},
     "output_type": "execute_result"
    }
   ],
   "source": []
  },
  {
   "cell_type": "code",
   "execution_count": null,
   "metadata": {
    "collapsed": true
   },
   "outputs": [],
   "source": []
  },
  {
   "cell_type": "markdown",
   "metadata": {},
   "source": [
    "# Working on sureness"
   ]
  },
  {
   "cell_type": "code",
   "execution_count": 688,
   "metadata": {
    "collapsed": true
   },
   "outputs": [],
   "source": [
    "df=allchampionships[0].df\n",
    "df=df[df['season']==season_to_be_predicted]\n"
   ]
  },
  {
   "cell_type": "code",
   "execution_count": 690,
   "metadata": {
    "collapsed": false
   },
   "outputs": [
    {
     "name": "stdout",
     "output_type": "stream",
     "text": [
      "[ 1.87856284 -0.09564611  2.12047615  0.78856173  2.03696966]\n",
      "[-0.24723744  0.57902468 -0.71624039 -0.65993478  1.97664831]\n",
      "[-0.8210163  -1.31304309  1.54752469  2.51948387 -0.84971405]\n",
      "[ 0.30952181  0.31552484 -1.31189154  0.33933124  0.32002133]\n",
      "[-1.54280449 -0.57529349  0.72344877  0.23697091 -0.54589583]\n",
      "[ 0.03253938  1.71403013 -0.39017587  1.31844906 -0.36300993]\n",
      "[-0.08039024 -0.75336127  1.12289696 -0.07468573  0.75718523]\n",
      "[ 1.18468021  0.7939626   0.91468621  1.27926597  0.56954476]\n",
      "[ 0.99972309  0.99909338  1.00020599  0.99984165  0.99924218]\n",
      "[ 0.99996415  0.99996507  0.99986976  1.00030334  0.99944997]\n",
      "[ 0.99991859  1.00007532  0.99996626  0.99989313  0.999864  ]\n",
      "[ 0.99957882  1.00011077  0.99995905  1.00028992  0.99977055]\n",
      "[ 0.99931449  1.0001169   1.00033339  0.99921575  0.99995206]\n",
      "[ 0.99861339  0.9996767   0.99918097  0.99952983]\n",
      "[ 0.99987042  1.00013624  0.99982234  0.99956633  0.99997466  1.00014378\n",
      "  1.0001255 ]\n",
      "[ 0.6918021   0.79359592  0.86954444  1.00076569  1.04416764]\n",
      "[ 0.80538446  1.03707912  0.94608769]\n",
      "[ 0.73542119  0.84043893  1.03136793  0.5174321   1.00174705  0.98247918]\n",
      "[ 0.97057231  0.89269455  0.98981263  0.98731406  0.90507883]\n",
      "[ 0.58979842  0.24451317  0.79678214  0.87405769  0.96650861]\n",
      "[ 0.04304251  0.93112657  0.44150211  0.88118677 -0.40178799]\n",
      "[ 0.98357631  0.8267141   0.98294765  0.95681936  0.63121191]\n",
      "[ 0.94816367  0.98712563  0.97491437  0.95175897  0.98006372]\n"
     ]
    }
   ],
   "source": [
    "for i in range(7,30):\n",
    "    X_train=df[df.H_ROUND<i].iloc[:,column_to_use_as_prediction]\n",
    "    Y_train=df[df.H_ROUND<i][column_to_predict]\n",
    "    X_test=df[df.H_ROUND==i].iloc[:,column_to_use_as_prediction]\n",
    "    Y_test=df[df.H_ROUND==i][column_to_predict]\n",
    "    svm_linear = svm.SVC(kernel='linear')\n",
    "    svm_linear.fit(X_train,Y_train)\n",
    "    print(svm_linear.decision_function(X_test))\n",
    "    #print(svm_linear.predict(X_test))\n",
    "    #print(svm_linear.score(X_test,Y_test))\n",
    "    #print(Y_test)\n",
    "    "
   ]
  },
  {
   "cell_type": "code",
   "execution_count": 699,
   "metadata": {
    "collapsed": true
   },
   "outputs": [],
   "source": [
    "column_to_predict='FTR'"
   ]
  },
  {
   "cell_type": "code",
   "execution_count": 702,
   "metadata": {
    "collapsed": false
   },
   "outputs": [
    {
     "name": "stdout",
     "output_type": "stream",
     "text": [
      "[[ 0.37541441  0.23005023  0.39453537]\n",
      " [ 0.20398232  0.25211461  0.54390308]\n",
      " [ 0.38333283  0.24017072  0.37649645]\n",
      " [ 0.2695469   0.26330741  0.46714568]\n",
      " [ 0.24472161  0.26556783  0.48971057]]\n",
      "['A' 'H' 'A' 'H' 'H']\n",
      "0.6\n",
      "1392    A\n",
      "1393    H\n",
      "1394    D\n",
      "1395    A\n",
      "1396    H\n",
      "Name: FTR, dtype: object\n"
     ]
    }
   ],
   "source": [
    "X_train=df[df.H_ROUND<30].iloc[:,column_to_use_as_prediction]\n",
    "Y_train=df[df.H_ROUND<30][column_to_predict]\n",
    "X_test=df[df.H_ROUND==31].iloc[:,column_to_use_as_prediction]\n",
    "Y_test=df[df.H_ROUND==31][column_to_predict]\n",
    "svm_linear = svm.SVC(kernel='linear', probability=True)\n",
    "svm_linear.fit(X_train,Y_train)\n",
    "print(svm_linear.predict_proba(X_test))\n",
    "print(svm_linear.predict(X_test))\n",
    "print(svm_linear.score(X_test,Y_test))\n",
    "print(Y_test)\n"
   ]
  },
  {
   "cell_type": "code",
   "execution_count": null,
   "metadata": {
    "collapsed": false
   },
   "outputs": [],
   "source": []
  },
  {
   "cell_type": "code",
   "execution_count": null,
   "metadata": {
    "collapsed": false
   },
   "outputs": [],
   "source": []
  },
  {
   "cell_type": "code",
   "execution_count": 349,
   "metadata": {
    "collapsed": false
   },
   "outputs": [
    {
     "data": {
      "text/plain": [
       "array([ 0.70918747,  0.66477063,  0.71625791,  0.75144355,  0.95903544])"
      ]
     },
     "execution_count": 349,
     "metadata": {},
     "output_type": "execute_result"
    }
   ],
   "source": [
    "svm_linear.decision_function(X_test)"
   ]
  },
  {
   "cell_type": "code",
   "execution_count": 350,
   "metadata": {
    "collapsed": false
   },
   "outputs": [
    {
     "data": {
      "text/plain": [
       "array([1, 1, 1, 1, 1])"
      ]
     },
     "execution_count": 350,
     "metadata": {},
     "output_type": "execute_result"
    }
   ],
   "source": [
    "svm_linear.predict(X_test)"
   ]
  },
  {
   "cell_type": "code",
   "execution_count": 351,
   "metadata": {
    "collapsed": false
   },
   "outputs": [
    {
     "data": {
      "text/plain": [
       "0.80000000000000004"
      ]
     },
     "execution_count": 351,
     "metadata": {},
     "output_type": "execute_result"
    }
   ],
   "source": [
    "svm_linear.score(X_test,Y_test)"
   ]
  },
  {
   "cell_type": "code",
   "execution_count": 316,
   "metadata": {
    "collapsed": false
   },
   "outputs": [
    {
     "data": {
      "text/plain": [
       "1387    1\n",
       "1388    0\n",
       "1389    0\n",
       "1390    0\n",
       "1391    0\n",
       "Name: Goal/No_Goal, dtype: int64"
      ]
     },
     "execution_count": 316,
     "metadata": {},
     "output_type": "execute_result"
    }
   ],
   "source": [
    "Y_test"
   ]
  },
  {
   "cell_type": "code",
   "execution_count": 345,
   "metadata": {
    "collapsed": false
   },
   "outputs": [
    {
     "data": {
      "text/plain": [
       "RandomForestClassifier(bootstrap=True, class_weight=None, criterion='gini',\n",
       "            max_depth=10, max_features='auto', max_leaf_nodes=None,\n",
       "            min_impurity_split=1e-07, min_samples_leaf=1,\n",
       "            min_samples_split=2, min_weight_fraction_leaf=0.0,\n",
       "            n_estimators=50, n_jobs=1, oob_score=False, random_state=None,\n",
       "            verbose=0, warm_start=False)"
      ]
     },
     "execution_count": 345,
     "metadata": {},
     "output_type": "execute_result"
    }
   ],
   "source": [
    "rdf = RandomForestClassifier(max_depth=10, n_estimators=50)\n",
    "rdf.fit(X_train,Y_train)"
   ]
  },
  {
   "cell_type": "code",
   "execution_count": 346,
   "metadata": {
    "collapsed": false
   },
   "outputs": [
    {
     "data": {
      "text/plain": [
       "array([ 0.08142444,  0.09222371,  0.19321762,  0.17049799,  0.17541312,\n",
       "        0.14064783,  0.14657529])"
      ]
     },
     "execution_count": 346,
     "metadata": {},
     "output_type": "execute_result"
    }
   ],
   "source": [
    "rdf.feature_importances_"
   ]
  },
  {
   "cell_type": "code",
   "execution_count": 347,
   "metadata": {
    "collapsed": false
   },
   "outputs": [
    {
     "data": {
      "text/plain": [
       "array([0, 1, 0, 1, 1])"
      ]
     },
     "execution_count": 347,
     "metadata": {},
     "output_type": "execute_result"
    }
   ],
   "source": [
    "rdf.predict(X_test)"
   ]
  },
  {
   "cell_type": "code",
   "execution_count": null,
   "metadata": {
    "collapsed": true
   },
   "outputs": [],
   "source": []
  }
 ],
 "metadata": {
  "kernelspec": {
   "display_name": "Python 2",
   "language": "python",
   "name": "python2"
  },
  "language_info": {
   "codemirror_mode": {
    "name": "ipython",
    "version": 2
   },
   "file_extension": ".py",
   "mimetype": "text/x-python",
   "name": "python",
   "nbconvert_exporter": "python",
   "pygments_lexer": "ipython2",
   "version": "2.7.13"
  }
 },
 "nbformat": 4,
 "nbformat_minor": 2
}
