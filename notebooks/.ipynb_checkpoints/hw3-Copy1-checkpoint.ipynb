{
 "cells": [
  {
   "cell_type": "code",
   "execution_count": 422,
   "metadata": {
    "collapsed": false
   },
   "outputs": [],
   "source": [
    "import pandas as pd\n",
    "import matplotlib.pyplot as plt\n",
    "import numpy as np\n",
    "from sklearn.naive_bayes import GaussianNB\n",
    "from sklearn.svm import SVC\n",
    "from sklearn import *\n",
    "import numpy as np\n",
    "from sklearn.decomposition import *\n",
    "from sklearn.model_selection import train_test_split\n",
    "from sklearn.model_selection import cross_val_score\n",
    "\n",
    "from sklearn.model_selection import train_test_split\n",
    "from sklearn.tree import DecisionTreeClassifier\n",
    "from sklearn.ensemble import AdaBoostClassifier\n",
    "from sklearn.ensemble import GradientBoostingClassifier\n",
    "from sklearn.ensemble import RandomForestClassifier"
   ]
  },
  {
   "cell_type": "code",
   "execution_count": 423,
   "metadata": {
    "collapsed": true
   },
   "outputs": [],
   "source": [
    "pd.options.display.max_columns = 999\n",
    "pd.options.display.max_rows = 60"
   ]
  },
  {
   "cell_type": "markdown",
   "metadata": {},
   "source": [
    "## Inspecting and cleaning data"
   ]
  },
  {
   "cell_type": "code",
   "execution_count": 261,
   "metadata": {
    "collapsed": true
   },
   "outputs": [],
   "source": [
    "final=pd.read_csv('../Data/from_sqlite_Data/realfinal.csv')\n",
    "final.drop('Unnamed: 0',axis=1,inplace=True)"
   ]
  },
  {
   "cell_type": "code",
   "execution_count": 262,
   "metadata": {
    "collapsed": false
   },
   "outputs": [
    {
     "data": {
      "text/html": [
       "<div>\n",
       "<table border=\"1\" class=\"dataframe\">\n",
       "  <thead>\n",
       "    <tr style=\"text-align: right;\">\n",
       "      <th></th>\n",
       "      <th>country_id</th>\n",
       "      <th>season</th>\n",
       "      <th>Date</th>\n",
       "      <th>HomeTeam</th>\n",
       "      <th>AwayTeam</th>\n",
       "      <th>FTHG</th>\n",
       "      <th>FTAG</th>\n",
       "      <th>FTR</th>\n",
       "      <th>H_ROUND</th>\n",
       "      <th>H_GS_H</th>\n",
       "      <th>H_GS_A</th>\n",
       "      <th>H_GR_H</th>\n",
       "      <th>H_GR_A</th>\n",
       "      <th>H_TGS</th>\n",
       "      <th>H_TGR</th>\n",
       "      <th>H_AvGS_H</th>\n",
       "      <th>H_AvGS_A</th>\n",
       "      <th>H_AvGR_H</th>\n",
       "      <th>H_AvGR_A</th>\n",
       "      <th>H_Av_TGS</th>\n",
       "      <th>H_Av_TGR</th>\n",
       "      <th>H_Pnt_H</th>\n",
       "      <th>H_Pnt_A</th>\n",
       "      <th>H_T_pnt</th>\n",
       "      <th>H_Av_Pnt_H</th>\n",
       "      <th>H_Av_pnt_A</th>\n",
       "      <th>H_Av_T_pnt</th>\n",
       "      <th>A_ROUND</th>\n",
       "      <th>Aw_GS_H</th>\n",
       "      <th>Aw_GS_A</th>\n",
       "      <th>Aw_GR_H</th>\n",
       "      <th>Aw_GR_A</th>\n",
       "      <th>Aw_TGS</th>\n",
       "      <th>Aw_TGR</th>\n",
       "      <th>Aw_AvGS_H</th>\n",
       "      <th>Aw_AvGS_A</th>\n",
       "      <th>Aw_AvGR_H</th>\n",
       "      <th>Aw_AvGR_A</th>\n",
       "      <th>Aw_Av_TGS</th>\n",
       "      <th>Aw_Av_TGR</th>\n",
       "      <th>Aw_Pnt_H</th>\n",
       "      <th>Aw_Pnt_A</th>\n",
       "      <th>Aw_T_pnt</th>\n",
       "      <th>Aw_Av_Pnt_H</th>\n",
       "      <th>Aw_Av_pnt_A</th>\n",
       "      <th>Aw_Av_T_pnt</th>\n",
       "      <th>DIFF_av_TP</th>\n",
       "      <th>DIFF_av_HP-AP</th>\n",
       "      <th>SUMM_av_HGSH+AGRA</th>\n",
       "      <th>SUMM_av_HGRH+AGSA</th>\n",
       "      <th>SUMM_av_HTGS+ATGR</th>\n",
       "      <th>SUMM_av_HTGR+ATGS</th>\n",
       "    </tr>\n",
       "  </thead>\n",
       "  <tbody>\n",
       "    <tr>\n",
       "      <th>0</th>\n",
       "      <td>Switzerland Super League</td>\n",
       "      <td>2008/2009</td>\n",
       "      <td>2008-07-18 00:00:00</td>\n",
       "      <td>BSC Young Boys</td>\n",
       "      <td>FC Basel</td>\n",
       "      <td>1</td>\n",
       "      <td>2</td>\n",
       "      <td>A</td>\n",
       "      <td>1.0</td>\n",
       "      <td>0.0</td>\n",
       "      <td>0.0</td>\n",
       "      <td>0.0</td>\n",
       "      <td>0.0</td>\n",
       "      <td>0.0</td>\n",
       "      <td>0.0</td>\n",
       "      <td>0.0</td>\n",
       "      <td>0.0</td>\n",
       "      <td>0.0</td>\n",
       "      <td>0.0</td>\n",
       "      <td>0.0</td>\n",
       "      <td>0.0</td>\n",
       "      <td>0.0</td>\n",
       "      <td>0.0</td>\n",
       "      <td>0.0</td>\n",
       "      <td>0.0</td>\n",
       "      <td>0.0</td>\n",
       "      <td>0.0</td>\n",
       "      <td>1.0</td>\n",
       "      <td>0.0</td>\n",
       "      <td>0.0</td>\n",
       "      <td>0.0</td>\n",
       "      <td>0.0</td>\n",
       "      <td>0.0</td>\n",
       "      <td>0.0</td>\n",
       "      <td>0.0</td>\n",
       "      <td>0.0</td>\n",
       "      <td>0.0</td>\n",
       "      <td>0.0</td>\n",
       "      <td>0.0</td>\n",
       "      <td>0.0</td>\n",
       "      <td>0.0</td>\n",
       "      <td>0.0</td>\n",
       "      <td>0.0</td>\n",
       "      <td>0.0</td>\n",
       "      <td>0.0</td>\n",
       "      <td>0.0</td>\n",
       "      <td>0.0</td>\n",
       "      <td>0.0</td>\n",
       "      <td>0.0</td>\n",
       "      <td>0.0</td>\n",
       "      <td>0.0</td>\n",
       "      <td>0.0</td>\n",
       "    </tr>\n",
       "  </tbody>\n",
       "</table>\n",
       "</div>"
      ],
      "text/plain": [
       "                 country_id     season                 Date        HomeTeam  \\\n",
       "0  Switzerland Super League  2008/2009  2008-07-18 00:00:00  BSC Young Boys   \n",
       "\n",
       "   AwayTeam  FTHG  FTAG FTR  H_ROUND  H_GS_H  H_GS_A  H_GR_H  H_GR_A  H_TGS  \\\n",
       "0  FC Basel     1     2   A      1.0     0.0     0.0     0.0     0.0    0.0   \n",
       "\n",
       "   H_TGR  H_AvGS_H  H_AvGS_A  H_AvGR_H  H_AvGR_A  H_Av_TGS  H_Av_TGR  H_Pnt_H  \\\n",
       "0    0.0       0.0       0.0       0.0       0.0       0.0       0.0      0.0   \n",
       "\n",
       "   H_Pnt_A  H_T_pnt  H_Av_Pnt_H  H_Av_pnt_A  H_Av_T_pnt  A_ROUND  Aw_GS_H  \\\n",
       "0      0.0      0.0         0.0         0.0         0.0      1.0      0.0   \n",
       "\n",
       "   Aw_GS_A  Aw_GR_H  Aw_GR_A  Aw_TGS  Aw_TGR  Aw_AvGS_H  Aw_AvGS_A  Aw_AvGR_H  \\\n",
       "0      0.0      0.0      0.0     0.0     0.0        0.0        0.0        0.0   \n",
       "\n",
       "   Aw_AvGR_A  Aw_Av_TGS  Aw_Av_TGR  Aw_Pnt_H  Aw_Pnt_A  Aw_T_pnt  Aw_Av_Pnt_H  \\\n",
       "0        0.0        0.0        0.0       0.0       0.0       0.0          0.0   \n",
       "\n",
       "   Aw_Av_pnt_A  Aw_Av_T_pnt  DIFF_av_TP  DIFF_av_HP-AP  SUMM_av_HGSH+AGRA  \\\n",
       "0          0.0          0.0         0.0            0.0                0.0   \n",
       "\n",
       "   SUMM_av_HGRH+AGSA  SUMM_av_HTGS+ATGR  SUMM_av_HTGR+ATGS  \n",
       "0                0.0                0.0                0.0  "
      ]
     },
     "execution_count": 262,
     "metadata": {},
     "output_type": "execute_result"
    }
   ],
   "source": [
    "final.head(n=1)"
   ]
  },
  {
   "cell_type": "code",
   "execution_count": 263,
   "metadata": {
    "collapsed": false
   },
   "outputs": [
    {
     "data": {
      "text/plain": [
       "array(['Switzerland Super League', 'Poland Ekstraklasa',\n",
       "       'Scotland Premier League', 'France Ligue 1',\n",
       "       'Germany 1. Bundesliga', 'England Premier League',\n",
       "       'Belgium Jupiler League', 'Portugal Liga ZON Sagres',\n",
       "       'Netherlands Eredivisie', 'Italy Serie A', 'Spain LIGA BBVA'], dtype=object)"
      ]
     },
     "execution_count": 263,
     "metadata": {},
     "output_type": "execute_result"
    }
   ],
   "source": [
    "final.country_id.unique()"
   ]
  },
  {
   "cell_type": "code",
   "execution_count": 264,
   "metadata": {
    "collapsed": false
   },
   "outputs": [
    {
     "name": "stderr",
     "output_type": "stream",
     "text": [
      "/Users/nicolamacchitella/anaconda/lib/python2.7/site-packages/ipykernel/__main__.py:1: FutureWarning: sort(columns=....) is deprecated, use sort_values(by=.....)\n",
      "  if __name__ == '__main__':\n",
      "/Users/nicolamacchitella/anaconda/lib/python2.7/site-packages/ipykernel/__main__.py:2: FutureWarning: sort(columns=....) is deprecated, use sort_values(by=.....)\n",
      "  from ipykernel import kernelapp as app\n",
      "/Users/nicolamacchitella/anaconda/lib/python2.7/site-packages/ipykernel/__main__.py:3: FutureWarning: sort(columns=....) is deprecated, use sort_values(by=.....)\n",
      "  app.launch_new_instance()\n",
      "/Users/nicolamacchitella/anaconda/lib/python2.7/site-packages/ipykernel/__main__.py:4: FutureWarning: sort(columns=....) is deprecated, use sort_values(by=.....)\n",
      "/Users/nicolamacchitella/anaconda/lib/python2.7/site-packages/ipykernel/__main__.py:5: FutureWarning: sort(columns=....) is deprecated, use sort_values(by=.....)\n",
      "/Users/nicolamacchitella/anaconda/lib/python2.7/site-packages/ipykernel/__main__.py:6: FutureWarning: sort(columns=....) is deprecated, use sort_values(by=.....)\n",
      "/Users/nicolamacchitella/anaconda/lib/python2.7/site-packages/ipykernel/__main__.py:7: FutureWarning: sort(columns=....) is deprecated, use sort_values(by=.....)\n",
      "/Users/nicolamacchitella/anaconda/lib/python2.7/site-packages/ipykernel/__main__.py:8: FutureWarning: sort(columns=....) is deprecated, use sort_values(by=.....)\n",
      "/Users/nicolamacchitella/anaconda/lib/python2.7/site-packages/ipykernel/__main__.py:9: FutureWarning: sort(columns=....) is deprecated, use sort_values(by=.....)\n",
      "/Users/nicolamacchitella/anaconda/lib/python2.7/site-packages/ipykernel/__main__.py:10: FutureWarning: sort(columns=....) is deprecated, use sort_values(by=.....)\n",
      "/Users/nicolamacchitella/anaconda/lib/python2.7/site-packages/ipykernel/__main__.py:11: FutureWarning: sort(columns=....) is deprecated, use sort_values(by=.....)\n"
     ]
    }
   ],
   "source": [
    "England=final[final['country_id']=='England Premier League'].sort(columns='Date')\n",
    "Belgium=final[final['country_id']=='Belgium Jupiler League'].sort(columns='Date')\n",
    "France=final[final['country_id']=='France Ligue 1'].sort(columns='Date')\n",
    "Germany=final[final['country_id']=='Germany 1. Bundesliga'].sort(columns='Date')\n",
    "Italy=final[final['country_id']=='Italy Serie A'].sort(columns='Date')\n",
    "Netherlands=final[final['country_id']=='Netherlands Eredivisie'].sort(columns='Date')\n",
    "Poland=final[final['country_id']=='Poland Ekstraklasa'].sort(columns='Date')\n",
    "Portugal=final[final['country_id']=='Portugal Liga ZON Sagres'].sort(columns='Date')\n",
    "Scotland=final[final['country_id']=='Scotland Premier League'].sort(columns='Date')\n",
    "Spain=final[final['country_id']=='Spain LIGA BBVA'].sort(columns='Date')\n",
    "Swiss=final[final['country_id']=='Switzerland Super League'].sort(columns='Date')"
   ]
  },
  {
   "cell_type": "code",
   "execution_count": 265,
   "metadata": {
    "collapsed": true
   },
   "outputs": [],
   "source": [
    "England.reset_index(inplace=True)\n",
    "Belgium.reset_index(inplace=True)\n",
    "France.reset_index(inplace=True)\n",
    "Germany.reset_index(inplace=True)\n",
    "Italy.reset_index(inplace=True)\n",
    "Netherlands.reset_index(inplace=True)\n",
    "Poland.reset_index(inplace=True)\n",
    "Portugal.reset_index(inplace=True)\n",
    "Scotland.reset_index(inplace=True)\n",
    "Spain.reset_index(inplace=True)\n",
    "Swiss.reset_index(inplace=True)"
   ]
  },
  {
   "cell_type": "code",
   "execution_count": 266,
   "metadata": {
    "collapsed": true
   },
   "outputs": [],
   "source": [
    "England.drop(['index'],axis=1,inplace=True)\n",
    "Belgium.drop(['index'],axis=1,inplace=True)\n",
    "France.drop(['index'],axis=1,inplace=True)\n",
    "Germany.drop(['index'],axis=1,inplace=True)\n",
    "Italy.drop(['index'],axis=1,inplace=True)\n",
    "Netherlands.drop(['index'],axis=1,inplace=True)\n",
    "Poland.drop(['index'],axis=1,inplace=True)\n",
    "Portugal.drop(['index'],axis=1,inplace=True)\n",
    "Scotland.drop(['index'],axis=1,inplace=True)\n",
    "Spain.drop(['index'],axis=1,inplace=True)\n",
    "Swiss.drop(['index'],axis=1,inplace=True)"
   ]
  },
  {
   "cell_type": "markdown",
   "metadata": {},
   "source": [
    "## Working with Italy"
   ]
  },
  {
   "cell_type": "code",
   "execution_count": 267,
   "metadata": {
    "collapsed": false
   },
   "outputs": [],
   "source": [
    "Italy=Italy[(Italy['H_ROUND']>4) & (Italy['H_ROUND']<35) ]"
   ]
  },
  {
   "cell_type": "markdown",
   "metadata": {},
   "source": [
    "## Splitting Data "
   ]
  },
  {
   "cell_type": "code",
   "execution_count": 269,
   "metadata": {
    "collapsed": false
   },
   "outputs": [
    {
     "data": {
      "text/html": [
       "<div>\n",
       "<table border=\"1\" class=\"dataframe\">\n",
       "  <thead>\n",
       "    <tr style=\"text-align: right;\">\n",
       "      <th></th>\n",
       "      <th>0</th>\n",
       "    </tr>\n",
       "  </thead>\n",
       "  <tbody>\n",
       "    <tr>\n",
       "      <th>0</th>\n",
       "      <td>country_id</td>\n",
       "    </tr>\n",
       "    <tr>\n",
       "      <th>1</th>\n",
       "      <td>season</td>\n",
       "    </tr>\n",
       "    <tr>\n",
       "      <th>2</th>\n",
       "      <td>Date</td>\n",
       "    </tr>\n",
       "    <tr>\n",
       "      <th>3</th>\n",
       "      <td>HomeTeam</td>\n",
       "    </tr>\n",
       "    <tr>\n",
       "      <th>4</th>\n",
       "      <td>AwayTeam</td>\n",
       "    </tr>\n",
       "    <tr>\n",
       "      <th>5</th>\n",
       "      <td>FTHG</td>\n",
       "    </tr>\n",
       "    <tr>\n",
       "      <th>6</th>\n",
       "      <td>FTAG</td>\n",
       "    </tr>\n",
       "    <tr>\n",
       "      <th>7</th>\n",
       "      <td>FTR</td>\n",
       "    </tr>\n",
       "    <tr>\n",
       "      <th>8</th>\n",
       "      <td>H_ROUND</td>\n",
       "    </tr>\n",
       "    <tr>\n",
       "      <th>9</th>\n",
       "      <td>H_GS_H</td>\n",
       "    </tr>\n",
       "    <tr>\n",
       "      <th>10</th>\n",
       "      <td>H_GS_A</td>\n",
       "    </tr>\n",
       "    <tr>\n",
       "      <th>11</th>\n",
       "      <td>H_GR_H</td>\n",
       "    </tr>\n",
       "    <tr>\n",
       "      <th>12</th>\n",
       "      <td>H_GR_A</td>\n",
       "    </tr>\n",
       "    <tr>\n",
       "      <th>13</th>\n",
       "      <td>H_TGS</td>\n",
       "    </tr>\n",
       "    <tr>\n",
       "      <th>14</th>\n",
       "      <td>H_TGR</td>\n",
       "    </tr>\n",
       "    <tr>\n",
       "      <th>15</th>\n",
       "      <td>H_AvGS_H</td>\n",
       "    </tr>\n",
       "    <tr>\n",
       "      <th>16</th>\n",
       "      <td>H_AvGS_A</td>\n",
       "    </tr>\n",
       "    <tr>\n",
       "      <th>17</th>\n",
       "      <td>H_AvGR_H</td>\n",
       "    </tr>\n",
       "    <tr>\n",
       "      <th>18</th>\n",
       "      <td>H_AvGR_A</td>\n",
       "    </tr>\n",
       "    <tr>\n",
       "      <th>19</th>\n",
       "      <td>H_Av_TGS</td>\n",
       "    </tr>\n",
       "    <tr>\n",
       "      <th>20</th>\n",
       "      <td>H_Av_TGR</td>\n",
       "    </tr>\n",
       "    <tr>\n",
       "      <th>21</th>\n",
       "      <td>H_Pnt_H</td>\n",
       "    </tr>\n",
       "    <tr>\n",
       "      <th>22</th>\n",
       "      <td>H_Pnt_A</td>\n",
       "    </tr>\n",
       "    <tr>\n",
       "      <th>23</th>\n",
       "      <td>H_T_pnt</td>\n",
       "    </tr>\n",
       "    <tr>\n",
       "      <th>24</th>\n",
       "      <td>H_Av_Pnt_H</td>\n",
       "    </tr>\n",
       "    <tr>\n",
       "      <th>25</th>\n",
       "      <td>H_Av_pnt_A</td>\n",
       "    </tr>\n",
       "    <tr>\n",
       "      <th>26</th>\n",
       "      <td>H_Av_T_pnt</td>\n",
       "    </tr>\n",
       "    <tr>\n",
       "      <th>27</th>\n",
       "      <td>A_ROUND</td>\n",
       "    </tr>\n",
       "    <tr>\n",
       "      <th>28</th>\n",
       "      <td>Aw_GS_H</td>\n",
       "    </tr>\n",
       "    <tr>\n",
       "      <th>29</th>\n",
       "      <td>Aw_GS_A</td>\n",
       "    </tr>\n",
       "    <tr>\n",
       "      <th>30</th>\n",
       "      <td>Aw_GR_H</td>\n",
       "    </tr>\n",
       "    <tr>\n",
       "      <th>31</th>\n",
       "      <td>Aw_GR_A</td>\n",
       "    </tr>\n",
       "    <tr>\n",
       "      <th>32</th>\n",
       "      <td>Aw_TGS</td>\n",
       "    </tr>\n",
       "    <tr>\n",
       "      <th>33</th>\n",
       "      <td>Aw_TGR</td>\n",
       "    </tr>\n",
       "    <tr>\n",
       "      <th>34</th>\n",
       "      <td>Aw_AvGS_H</td>\n",
       "    </tr>\n",
       "    <tr>\n",
       "      <th>35</th>\n",
       "      <td>Aw_AvGS_A</td>\n",
       "    </tr>\n",
       "    <tr>\n",
       "      <th>36</th>\n",
       "      <td>Aw_AvGR_H</td>\n",
       "    </tr>\n",
       "    <tr>\n",
       "      <th>37</th>\n",
       "      <td>Aw_AvGR_A</td>\n",
       "    </tr>\n",
       "    <tr>\n",
       "      <th>38</th>\n",
       "      <td>Aw_Av_TGS</td>\n",
       "    </tr>\n",
       "    <tr>\n",
       "      <th>39</th>\n",
       "      <td>Aw_Av_TGR</td>\n",
       "    </tr>\n",
       "    <tr>\n",
       "      <th>40</th>\n",
       "      <td>Aw_Pnt_H</td>\n",
       "    </tr>\n",
       "    <tr>\n",
       "      <th>41</th>\n",
       "      <td>Aw_Pnt_A</td>\n",
       "    </tr>\n",
       "    <tr>\n",
       "      <th>42</th>\n",
       "      <td>Aw_T_pnt</td>\n",
       "    </tr>\n",
       "    <tr>\n",
       "      <th>43</th>\n",
       "      <td>Aw_Av_Pnt_H</td>\n",
       "    </tr>\n",
       "    <tr>\n",
       "      <th>44</th>\n",
       "      <td>Aw_Av_pnt_A</td>\n",
       "    </tr>\n",
       "    <tr>\n",
       "      <th>45</th>\n",
       "      <td>Aw_Av_T_pnt</td>\n",
       "    </tr>\n",
       "    <tr>\n",
       "      <th>46</th>\n",
       "      <td>DIFF_av_TP</td>\n",
       "    </tr>\n",
       "    <tr>\n",
       "      <th>47</th>\n",
       "      <td>DIFF_av_HP-AP</td>\n",
       "    </tr>\n",
       "    <tr>\n",
       "      <th>48</th>\n",
       "      <td>SUMM_av_HGSH+AGRA</td>\n",
       "    </tr>\n",
       "    <tr>\n",
       "      <th>49</th>\n",
       "      <td>SUMM_av_HGRH+AGSA</td>\n",
       "    </tr>\n",
       "    <tr>\n",
       "      <th>50</th>\n",
       "      <td>SUMM_av_HTGS+ATGR</td>\n",
       "    </tr>\n",
       "    <tr>\n",
       "      <th>51</th>\n",
       "      <td>SUMM_av_HTGR+ATGS</td>\n",
       "    </tr>\n",
       "  </tbody>\n",
       "</table>\n",
       "</div>"
      ],
      "text/plain": [
       "                    0\n",
       "0          country_id\n",
       "1              season\n",
       "2                Date\n",
       "3            HomeTeam\n",
       "4            AwayTeam\n",
       "5                FTHG\n",
       "6                FTAG\n",
       "7                 FTR\n",
       "8             H_ROUND\n",
       "9              H_GS_H\n",
       "10             H_GS_A\n",
       "11             H_GR_H\n",
       "12             H_GR_A\n",
       "13              H_TGS\n",
       "14              H_TGR\n",
       "15           H_AvGS_H\n",
       "16           H_AvGS_A\n",
       "17           H_AvGR_H\n",
       "18           H_AvGR_A\n",
       "19           H_Av_TGS\n",
       "20           H_Av_TGR\n",
       "21            H_Pnt_H\n",
       "22            H_Pnt_A\n",
       "23            H_T_pnt\n",
       "24         H_Av_Pnt_H\n",
       "25         H_Av_pnt_A\n",
       "26         H_Av_T_pnt\n",
       "27            A_ROUND\n",
       "28            Aw_GS_H\n",
       "29            Aw_GS_A\n",
       "30            Aw_GR_H\n",
       "31            Aw_GR_A\n",
       "32             Aw_TGS\n",
       "33             Aw_TGR\n",
       "34          Aw_AvGS_H\n",
       "35          Aw_AvGS_A\n",
       "36          Aw_AvGR_H\n",
       "37          Aw_AvGR_A\n",
       "38          Aw_Av_TGS\n",
       "39          Aw_Av_TGR\n",
       "40           Aw_Pnt_H\n",
       "41           Aw_Pnt_A\n",
       "42           Aw_T_pnt\n",
       "43        Aw_Av_Pnt_H\n",
       "44        Aw_Av_pnt_A\n",
       "45        Aw_Av_T_pnt\n",
       "46         DIFF_av_TP\n",
       "47      DIFF_av_HP-AP\n",
       "48  SUMM_av_HGSH+AGRA\n",
       "49  SUMM_av_HGRH+AGSA\n",
       "50  SUMM_av_HTGS+ATGR\n",
       "51  SUMM_av_HTGR+ATGS"
      ]
     },
     "execution_count": 269,
     "metadata": {},
     "output_type": "execute_result"
    }
   ],
   "source": [
    "pd.DataFrame(Italy.columns)"
   ]
  },
  {
   "cell_type": "code",
   "execution_count": 307,
   "metadata": {
    "collapsed": true
   },
   "outputs": [],
   "source": [
    "col=[46,47]\n",
    "pred='FTR'"
   ]
  },
  {
   "cell_type": "code",
   "execution_count": 393,
   "metadata": {
    "collapsed": false
   },
   "outputs": [],
   "source": [
    "a=Italy[Italy.season=='2015/2016'].index\n",
    "b=Italy[Italy.season!='2015/2016'].index"
   ]
  },
  {
   "cell_type": "code",
   "execution_count": 379,
   "metadata": {
    "collapsed": false
   },
   "outputs": [],
   "source": [
    "def predict_whole_season_by_one (BIG, predseason, col_train, col_pred):\n",
    "        \n",
    "    tmp=pd.DataFrame(columns=['svm_linear','svm_rbf', 'cart','begging', 'adaBoo','gradient',' randomF'])\n",
    "    k=0\n",
    "    \n",
    "    train_index=BIG[BIG.season!=predseason].index\n",
    "    test_index=BIG[BIG.season==predseason].index\n",
    "    \n",
    "    for i in BIG[BIG.season==predseason].H_ROUND.unique():\n",
    "    \n",
    "        lis=[]\n",
    "            \n",
    "        X_train=BIG.loc[train_index].iloc[:,col_train]\n",
    "        Y_train=BIG.loc[train_index][col_pred]\n",
    "    \n",
    "        X_test=BIG.loc[test_index]\n",
    "        Y_test=BIG.loc[test_index]\n",
    "        \n",
    "        X_test=X_test[X_test.H_ROUND==i].iloc[:,col_train]\n",
    "        Y_test=Y_test[Y_test.H_ROUND==i][col_pred]\n",
    "        \n",
    "        \n",
    "        svm_linear = svm.SVC(kernel='linear')\n",
    "        svm_linear.fit(X_train,Y_train)\n",
    "        lis.append(float(svm_linear.score(X_test, Y_test)))\n",
    "        \n",
    "        svm_rbf = svm.SVC(kernel='rbf', gamma = 100)\n",
    "        svm_rbf.fit(X_train,Y_train)\n",
    "        lis.append(float(svm_rbf.score(X_test, Y_test)))\n",
    "        \n",
    "        dtc = DecisionTreeClassifier()\n",
    "        dtc.fit(X_train, Y_train)\n",
    "        lis.append(float(dtc.score(X_test,Y_test)))\n",
    "        \n",
    "        bagb = AdaBoostClassifier(DecisionTreeClassifier(max_depth=10), n_estimators=20)\n",
    "        bagb.fit(X_train,Y_train)\n",
    "        lis.append(float(bagb.score(X_test,Y_test)))\n",
    "        \n",
    "        adab = AdaBoostClassifier(DecisionTreeClassifier(max_depth=10), n_estimators=20)\n",
    "        adab.fit(X_train,Y_train)\n",
    "        lis.append(float(adab.score(X_test,Y_test)))\n",
    "        \n",
    "        \n",
    "        gradb = GradientBoostingClassifier(max_depth=10, n_estimators=100)\n",
    "        gradb.fit(X_train,Y_train)\n",
    "        lis.append(float(gradb.score(X_test,Y_test)))\n",
    "        \n",
    "        rdf = RandomForestClassifier(max_depth=10, n_estimators=50)\n",
    "        rdf.fit(X_train,Y_train)\n",
    "        lis.append(float(rdf.score(X_test,Y_test)))\n",
    "    \n",
    "        tmp.loc[k]=lis\n",
    "        k=k+1\n",
    "        \n",
    "        \n",
    "        \n",
    "        \n",
    "        \n",
    "    return tmp\n",
    "    "
   ]
  },
  {
   "cell_type": "code",
   "execution_count": 424,
   "metadata": {
    "collapsed": true
   },
   "outputs": [],
   "source": [
    "def predict_whole_season_with_one (BIG, predseason, col_train, col_pred):\n",
    "        \n",
    "    tmp=pd.DataFrame(columns=['svm_linear','svm_rbf', 'cart','begging', 'adaBoo','gradient',' randomF'])\n",
    "    k=0\n",
    "    \n",
    "    train_index=BIG[BIG.season!=predseason].index\n",
    "    test_index=BIG[BIG.season==predseason].index\n",
    "    \n",
    "    for i in range(5,9):\n",
    "        print(i)\n",
    "    #BIG[BIG.season==predseason].H_ROUND.unique():\n",
    "    \n",
    "        lis=[]\n",
    "            \n",
    "        X_train=BIG.loc[train_index].iloc[:,col_train]\n",
    "        Y_train=BIG.loc[train_index][col_pred]\n",
    "    \n",
    "        X_test=BIG.loc[test_index]\n",
    "        Y_test=BIG.loc[test_index]\n",
    "        \n",
    "        X_test=X_test[X_test.H_ROUND==i].iloc[:,col_train]\n",
    "        Y_test=Y_test[Y_test.H_ROUND==i][col_pred]\n",
    "        \n",
    "        \n",
    "        svm_linear = svm.SVC(kernel='linear')\n",
    "        svm_linear.fit(X_train,Y_train)\n",
    "        lis.append(float(svm_linear.score(X_test, Y_test)))\n",
    "        \n",
    "        svm_rbf = svm.SVC(kernel='rbf', gamma = 100)\n",
    "        svm_rbf.fit(X_train,Y_train)\n",
    "        lis.append(float(svm_rbf.score(X_test, Y_test)))\n",
    "        \n",
    "        dtc = DecisionTreeClassifier()\n",
    "        dtc.fit(X_train, Y_train)\n",
    "        lis.append(float(dtc.score(X_test,Y_test)))\n",
    "        \n",
    "        bagb = AdaBoostClassifier(DecisionTreeClassifier(max_depth=10), n_estimators=20)\n",
    "        bagb.fit(X_train,Y_train)\n",
    "        lis.append(float(bagb.score(X_test,Y_test)))\n",
    "        \n",
    "        adab = AdaBoostClassifier(DecisionTreeClassifier(max_depth=10), n_estimators=20)\n",
    "        adab.fit(X_train,Y_train)\n",
    "        lis.append(float(adab.score(X_test,Y_test)))\n",
    "        \n",
    "        \n",
    "        gradb = GradientBoostingClassifier(max_depth=10, n_estimators=100)\n",
    "        gradb.fit(X_train,Y_train)\n",
    "        lis.append(float(gradb.score(X_test,Y_test)))\n",
    "        \n",
    "        rdf = RandomForestClassifier(max_depth=10, n_estimators=50)\n",
    "        rdf.fit(X_train,Y_train)\n",
    "        lis.append(float(rdf.score(X_test,Y_test)))\n",
    "    \n",
    "        tmp.loc[k]=lis\n",
    "        k=k+1\n",
    "        \n",
    "        print(len(train_index))\n",
    "        print(len(X_test.index))\n",
    "\n",
    "        train_index=list(train_index)+list(X_test.index)\n",
    "        \n",
    "        \n",
    "        \n",
    "        \n",
    "        \n",
    "    return tmp\n",
    "    "
   ]
  },
  {
   "cell_type": "code",
   "execution_count": null,
   "metadata": {
    "collapsed": true
   },
   "outputs": [],
   "source": []
  },
  {
   "cell_type": "code",
   "execution_count": 425,
   "metadata": {
    "collapsed": false
   },
   "outputs": [],
   "source": [
    "tmp1=predict_whole_season_by_one(Italy,'2015/2016',[46,47], 'FTR')"
   ]
  },
  {
   "cell_type": "code",
   "execution_count": null,
   "metadata": {
    "collapsed": false
   },
   "outputs": [],
   "source": [
    "tmp1.mean()"
   ]
  },
  {
   "cell_type": "code",
   "execution_count": 421,
   "metadata": {
    "collapsed": false
   },
   "outputs": [
    {
     "name": "stdout",
     "output_type": "stream",
     "text": [
      "5\n",
      "2101\n",
      "10\n",
      "6\n",
      "2111\n",
      "10\n",
      "7\n",
      "2121\n",
      "10\n",
      "8\n",
      "2131\n",
      "10\n"
     ]
    }
   ],
   "source": [
    "tmp2=predict_whole_season_with_one(Italy,'2015/2016',[46,47], 'FTR')"
   ]
  },
  {
   "cell_type": "code",
   "execution_count": 413,
   "metadata": {
    "collapsed": false
   },
   "outputs": [
    {
     "data": {
      "text/html": [
       "<div>\n",
       "<table border=\"1\" class=\"dataframe\">\n",
       "  <thead>\n",
       "    <tr style=\"text-align: right;\">\n",
       "      <th></th>\n",
       "      <th>svm_linear</th>\n",
       "      <th>svm_rbf</th>\n",
       "      <th>cart</th>\n",
       "      <th>begging</th>\n",
       "      <th>adaBoo</th>\n",
       "      <th>gradient</th>\n",
       "      <th>randomF</th>\n",
       "    </tr>\n",
       "  </thead>\n",
       "  <tbody>\n",
       "    <tr>\n",
       "      <th>0</th>\n",
       "      <td>0.5</td>\n",
       "      <td>0.5</td>\n",
       "      <td>0.4</td>\n",
       "      <td>0.4</td>\n",
       "      <td>0.3</td>\n",
       "      <td>0.4</td>\n",
       "      <td>0.4</td>\n",
       "    </tr>\n",
       "    <tr>\n",
       "      <th>1</th>\n",
       "      <td>0.6</td>\n",
       "      <td>0.5</td>\n",
       "      <td>0.3</td>\n",
       "      <td>0.3</td>\n",
       "      <td>0.3</td>\n",
       "      <td>0.2</td>\n",
       "      <td>0.4</td>\n",
       "    </tr>\n",
       "    <tr>\n",
       "      <th>2</th>\n",
       "      <td>0.3</td>\n",
       "      <td>0.5</td>\n",
       "      <td>0.3</td>\n",
       "      <td>0.5</td>\n",
       "      <td>0.5</td>\n",
       "      <td>0.4</td>\n",
       "      <td>0.5</td>\n",
       "    </tr>\n",
       "    <tr>\n",
       "      <th>3</th>\n",
       "      <td>0.5</td>\n",
       "      <td>0.4</td>\n",
       "      <td>0.6</td>\n",
       "      <td>0.5</td>\n",
       "      <td>0.6</td>\n",
       "      <td>0.4</td>\n",
       "      <td>0.6</td>\n",
       "    </tr>\n",
       "    <tr>\n",
       "      <th>4</th>\n",
       "      <td>0.6</td>\n",
       "      <td>0.3</td>\n",
       "      <td>0.3</td>\n",
       "      <td>0.3</td>\n",
       "      <td>0.6</td>\n",
       "      <td>0.3</td>\n",
       "      <td>0.6</td>\n",
       "    </tr>\n",
       "    <tr>\n",
       "      <th>5</th>\n",
       "      <td>0.8</td>\n",
       "      <td>0.7</td>\n",
       "      <td>0.6</td>\n",
       "      <td>0.8</td>\n",
       "      <td>0.8</td>\n",
       "      <td>0.6</td>\n",
       "      <td>0.6</td>\n",
       "    </tr>\n",
       "    <tr>\n",
       "      <th>6</th>\n",
       "      <td>0.3</td>\n",
       "      <td>0.1</td>\n",
       "      <td>0.3</td>\n",
       "      <td>0.2</td>\n",
       "      <td>0.4</td>\n",
       "      <td>0.2</td>\n",
       "      <td>0.1</td>\n",
       "    </tr>\n",
       "    <tr>\n",
       "      <th>7</th>\n",
       "      <td>0.4</td>\n",
       "      <td>0.5</td>\n",
       "      <td>0.5</td>\n",
       "      <td>0.4</td>\n",
       "      <td>0.6</td>\n",
       "      <td>0.6</td>\n",
       "      <td>0.7</td>\n",
       "    </tr>\n",
       "    <tr>\n",
       "      <th>8</th>\n",
       "      <td>0.5</td>\n",
       "      <td>0.6</td>\n",
       "      <td>0.6</td>\n",
       "      <td>0.6</td>\n",
       "      <td>0.7</td>\n",
       "      <td>0.6</td>\n",
       "      <td>0.6</td>\n",
       "    </tr>\n",
       "    <tr>\n",
       "      <th>9</th>\n",
       "      <td>0.5</td>\n",
       "      <td>0.6</td>\n",
       "      <td>0.3</td>\n",
       "      <td>0.6</td>\n",
       "      <td>0.5</td>\n",
       "      <td>0.5</td>\n",
       "      <td>0.6</td>\n",
       "    </tr>\n",
       "    <tr>\n",
       "      <th>10</th>\n",
       "      <td>0.3</td>\n",
       "      <td>0.3</td>\n",
       "      <td>0.4</td>\n",
       "      <td>0.4</td>\n",
       "      <td>0.4</td>\n",
       "      <td>0.4</td>\n",
       "      <td>0.5</td>\n",
       "    </tr>\n",
       "    <tr>\n",
       "      <th>11</th>\n",
       "      <td>0.5</td>\n",
       "      <td>0.4</td>\n",
       "      <td>0.5</td>\n",
       "      <td>0.3</td>\n",
       "      <td>0.1</td>\n",
       "      <td>0.2</td>\n",
       "      <td>0.2</td>\n",
       "    </tr>\n",
       "    <tr>\n",
       "      <th>12</th>\n",
       "      <td>0.4</td>\n",
       "      <td>0.8</td>\n",
       "      <td>0.3</td>\n",
       "      <td>0.4</td>\n",
       "      <td>0.5</td>\n",
       "      <td>0.4</td>\n",
       "      <td>0.6</td>\n",
       "    </tr>\n",
       "    <tr>\n",
       "      <th>13</th>\n",
       "      <td>0.4</td>\n",
       "      <td>0.5</td>\n",
       "      <td>0.4</td>\n",
       "      <td>0.4</td>\n",
       "      <td>0.2</td>\n",
       "      <td>0.6</td>\n",
       "      <td>0.4</td>\n",
       "    </tr>\n",
       "    <tr>\n",
       "      <th>14</th>\n",
       "      <td>0.3</td>\n",
       "      <td>0.3</td>\n",
       "      <td>0.4</td>\n",
       "      <td>0.2</td>\n",
       "      <td>0.3</td>\n",
       "      <td>0.2</td>\n",
       "      <td>0.4</td>\n",
       "    </tr>\n",
       "    <tr>\n",
       "      <th>15</th>\n",
       "      <td>0.5</td>\n",
       "      <td>0.3</td>\n",
       "      <td>0.4</td>\n",
       "      <td>0.3</td>\n",
       "      <td>0.2</td>\n",
       "      <td>0.3</td>\n",
       "      <td>0.3</td>\n",
       "    </tr>\n",
       "    <tr>\n",
       "      <th>16</th>\n",
       "      <td>0.5</td>\n",
       "      <td>0.4</td>\n",
       "      <td>0.3</td>\n",
       "      <td>0.3</td>\n",
       "      <td>0.4</td>\n",
       "      <td>0.4</td>\n",
       "      <td>0.4</td>\n",
       "    </tr>\n",
       "    <tr>\n",
       "      <th>17</th>\n",
       "      <td>0.5</td>\n",
       "      <td>0.3</td>\n",
       "      <td>0.4</td>\n",
       "      <td>0.5</td>\n",
       "      <td>0.4</td>\n",
       "      <td>0.2</td>\n",
       "      <td>0.4</td>\n",
       "    </tr>\n",
       "    <tr>\n",
       "      <th>18</th>\n",
       "      <td>0.6</td>\n",
       "      <td>0.5</td>\n",
       "      <td>0.4</td>\n",
       "      <td>0.7</td>\n",
       "      <td>0.5</td>\n",
       "      <td>0.5</td>\n",
       "      <td>0.5</td>\n",
       "    </tr>\n",
       "    <tr>\n",
       "      <th>19</th>\n",
       "      <td>0.3</td>\n",
       "      <td>0.3</td>\n",
       "      <td>0.7</td>\n",
       "      <td>0.7</td>\n",
       "      <td>0.7</td>\n",
       "      <td>0.6</td>\n",
       "      <td>0.4</td>\n",
       "    </tr>\n",
       "    <tr>\n",
       "      <th>20</th>\n",
       "      <td>0.5</td>\n",
       "      <td>0.4</td>\n",
       "      <td>0.5</td>\n",
       "      <td>0.2</td>\n",
       "      <td>0.3</td>\n",
       "      <td>0.3</td>\n",
       "      <td>0.6</td>\n",
       "    </tr>\n",
       "    <tr>\n",
       "      <th>21</th>\n",
       "      <td>0.6</td>\n",
       "      <td>0.7</td>\n",
       "      <td>0.2</td>\n",
       "      <td>0.4</td>\n",
       "      <td>0.3</td>\n",
       "      <td>0.3</td>\n",
       "      <td>0.7</td>\n",
       "    </tr>\n",
       "    <tr>\n",
       "      <th>22</th>\n",
       "      <td>0.5</td>\n",
       "      <td>0.6</td>\n",
       "      <td>0.3</td>\n",
       "      <td>0.6</td>\n",
       "      <td>0.2</td>\n",
       "      <td>0.3</td>\n",
       "      <td>0.6</td>\n",
       "    </tr>\n",
       "    <tr>\n",
       "      <th>23</th>\n",
       "      <td>0.7</td>\n",
       "      <td>0.6</td>\n",
       "      <td>0.6</td>\n",
       "      <td>0.5</td>\n",
       "      <td>0.6</td>\n",
       "      <td>0.6</td>\n",
       "      <td>0.7</td>\n",
       "    </tr>\n",
       "    <tr>\n",
       "      <th>24</th>\n",
       "      <td>0.7</td>\n",
       "      <td>0.7</td>\n",
       "      <td>0.3</td>\n",
       "      <td>0.4</td>\n",
       "      <td>0.5</td>\n",
       "      <td>0.3</td>\n",
       "      <td>0.7</td>\n",
       "    </tr>\n",
       "    <tr>\n",
       "      <th>25</th>\n",
       "      <td>0.3</td>\n",
       "      <td>0.2</td>\n",
       "      <td>0.4</td>\n",
       "      <td>0.6</td>\n",
       "      <td>0.4</td>\n",
       "      <td>0.4</td>\n",
       "      <td>0.3</td>\n",
       "    </tr>\n",
       "    <tr>\n",
       "      <th>26</th>\n",
       "      <td>0.4</td>\n",
       "      <td>0.5</td>\n",
       "      <td>0.4</td>\n",
       "      <td>0.4</td>\n",
       "      <td>0.3</td>\n",
       "      <td>0.5</td>\n",
       "      <td>0.5</td>\n",
       "    </tr>\n",
       "    <tr>\n",
       "      <th>27</th>\n",
       "      <td>0.7</td>\n",
       "      <td>0.7</td>\n",
       "      <td>0.5</td>\n",
       "      <td>0.4</td>\n",
       "      <td>0.5</td>\n",
       "      <td>0.6</td>\n",
       "      <td>0.7</td>\n",
       "    </tr>\n",
       "    <tr>\n",
       "      <th>28</th>\n",
       "      <td>0.5</td>\n",
       "      <td>0.4</td>\n",
       "      <td>0.5</td>\n",
       "      <td>0.4</td>\n",
       "      <td>0.6</td>\n",
       "      <td>0.6</td>\n",
       "      <td>0.5</td>\n",
       "    </tr>\n",
       "    <tr>\n",
       "      <th>29</th>\n",
       "      <td>0.6</td>\n",
       "      <td>0.6</td>\n",
       "      <td>0.5</td>\n",
       "      <td>0.5</td>\n",
       "      <td>0.5</td>\n",
       "      <td>0.5</td>\n",
       "      <td>0.7</td>\n",
       "    </tr>\n",
       "  </tbody>\n",
       "</table>\n",
       "</div>"
      ],
      "text/plain": [
       "    svm_linear  svm_rbf  cart  begging  adaBoo  gradient   randomF\n",
       "0          0.5      0.5   0.4      0.4     0.3       0.4       0.4\n",
       "1          0.6      0.5   0.3      0.3     0.3       0.2       0.4\n",
       "2          0.3      0.5   0.3      0.5     0.5       0.4       0.5\n",
       "3          0.5      0.4   0.6      0.5     0.6       0.4       0.6\n",
       "4          0.6      0.3   0.3      0.3     0.6       0.3       0.6\n",
       "5          0.8      0.7   0.6      0.8     0.8       0.6       0.6\n",
       "6          0.3      0.1   0.3      0.2     0.4       0.2       0.1\n",
       "7          0.4      0.5   0.5      0.4     0.6       0.6       0.7\n",
       "8          0.5      0.6   0.6      0.6     0.7       0.6       0.6\n",
       "9          0.5      0.6   0.3      0.6     0.5       0.5       0.6\n",
       "10         0.3      0.3   0.4      0.4     0.4       0.4       0.5\n",
       "11         0.5      0.4   0.5      0.3     0.1       0.2       0.2\n",
       "12         0.4      0.8   0.3      0.4     0.5       0.4       0.6\n",
       "13         0.4      0.5   0.4      0.4     0.2       0.6       0.4\n",
       "14         0.3      0.3   0.4      0.2     0.3       0.2       0.4\n",
       "15         0.5      0.3   0.4      0.3     0.2       0.3       0.3\n",
       "16         0.5      0.4   0.3      0.3     0.4       0.4       0.4\n",
       "17         0.5      0.3   0.4      0.5     0.4       0.2       0.4\n",
       "18         0.6      0.5   0.4      0.7     0.5       0.5       0.5\n",
       "19         0.3      0.3   0.7      0.7     0.7       0.6       0.4\n",
       "20         0.5      0.4   0.5      0.2     0.3       0.3       0.6\n",
       "21         0.6      0.7   0.2      0.4     0.3       0.3       0.7\n",
       "22         0.5      0.6   0.3      0.6     0.2       0.3       0.6\n",
       "23         0.7      0.6   0.6      0.5     0.6       0.6       0.7\n",
       "24         0.7      0.7   0.3      0.4     0.5       0.3       0.7\n",
       "25         0.3      0.2   0.4      0.6     0.4       0.4       0.3\n",
       "26         0.4      0.5   0.4      0.4     0.3       0.5       0.5\n",
       "27         0.7      0.7   0.5      0.4     0.5       0.6       0.7\n",
       "28         0.5      0.4   0.5      0.4     0.6       0.6       0.5\n",
       "29         0.6      0.6   0.5      0.5     0.5       0.5       0.7"
      ]
     },
     "execution_count": 413,
     "metadata": {},
     "output_type": "execute_result"
    }
   ],
   "source": [
    "tmp2"
   ]
  },
  {
   "cell_type": "markdown",
   "metadata": {},
   "source": [
    "# SVM"
   ]
  },
  {
   "cell_type": "code",
   "execution_count": 382,
   "metadata": {
    "collapsed": true
   },
   "outputs": [],
   "source": [
    "scoreslinear=[]\n",
    "scoresrbf=[]\n",
    "\n",
    "X=Italy.iloc[:,[46,47]]\n",
    "Y=Italy['FTR']\n",
    "\n",
    "\n",
    "for i in range (0,100):\n",
    "    \n",
    "    X_train, X_test, Y_train, Y_test = train_test_split(X,Y,test_size=0.20)\n",
    "    \n",
    "    svm_linear = svm.SVC(kernel='linear')\n",
    "    svm_linear.fit(X_train,Y_train)\n",
    "    scoreslinear.append(svm_linear.score(X_test, Y_test))\n",
    "    \n",
    "    svm_rbf = svm.SVC(kernel='rbf')\n",
    "    svm_rbf.fit(X_train,Y_train)\n",
    "    scoresrbf.append(svm_rbf.score(X_test, Y_test))"
   ]
  },
  {
   "cell_type": "code",
   "execution_count": 434,
   "metadata": {
    "collapsed": false
   },
   "outputs": [
    {
     "data": {
      "text/plain": [
       "0.48127600554785022"
      ]
     },
     "execution_count": 434,
     "metadata": {},
     "output_type": "execute_result"
    }
   ],
   "source": [
    "svm_linear = svm.SVC(kernel='linear')\n",
    "a=svm_linear.fit(X_train,Y_train)\n",
    "svm_linear.score(X_test, Y_test)\n"
   ]
  },
  {
   "cell_type": "code",
   "execution_count": 432,
   "metadata": {
    "collapsed": false
   },
   "outputs": [
    {
     "data": {
      "text/plain": [
       "array([[ 0.14694044,  0.30116668,  0.55189288],\n",
       "       [ 0.20247552,  0.28558368,  0.51194081],\n",
       "       [ 0.41953475,  0.24110077,  0.33936448],\n",
       "       ..., \n",
       "       [ 0.20069211,  0.28652658,  0.51278131],\n",
       "       [ 0.23257364,  0.27730444,  0.49012192],\n",
       "       [ 0.33894166,  0.25588862,  0.40516972]])"
      ]
     },
     "execution_count": 432,
     "metadata": {},
     "output_type": "execute_result"
    }
   ],
   "source": [
    "a.predict_proba(X_test)"
   ]
  },
  {
   "cell_type": "code",
   "execution_count": 435,
   "metadata": {
    "collapsed": false
   },
   "outputs": [
    {
     "data": {
      "text/plain": [
       "array(['H', 'H', 'A', 'H', 'A', 'H', 'H', 'H', 'H', 'H', 'H', 'H', 'H',\n",
       "       'H', 'H', 'H', 'H', 'H', 'H', 'H', 'H', 'H', 'H', 'H', 'A', 'H',\n",
       "       'H', 'H', 'H', 'H', 'H', 'H', 'H', 'H', 'H', 'H', 'H', 'H', 'A',\n",
       "       'H', 'H', 'H', 'H', 'H', 'A', 'H', 'H', 'H', 'H', 'H', 'H', 'H',\n",
       "       'H', 'H', 'H', 'A', 'H', 'H', 'H', 'H', 'H', 'H', 'H', 'H', 'A',\n",
       "       'H', 'H', 'H', 'H', 'H', 'H', 'H', 'H', 'A', 'H', 'H', 'H', 'H',\n",
       "       'H', 'A', 'H', 'H', 'H', 'H', 'H', 'A', 'H', 'H', 'H', 'H', 'H',\n",
       "       'H', 'H', 'H', 'H', 'H', 'H', 'H', 'H', 'H', 'H', 'H', 'H', 'H',\n",
       "       'H', 'H', 'H', 'H', 'H', 'H', 'A', 'H', 'H', 'A', 'A', 'H', 'A',\n",
       "       'A', 'H', 'H', 'H', 'H', 'A', 'H', 'H', 'H', 'H', 'A', 'H', 'A',\n",
       "       'H', 'H', 'H', 'H', 'H', 'H', 'A', 'H', 'A', 'H', 'A', 'H', 'H',\n",
       "       'H', 'H', 'H', 'H', 'H', 'H', 'H', 'H', 'H', 'H', 'H', 'H', 'H',\n",
       "       'H', 'H', 'H', 'H', 'H', 'H', 'H', 'H', 'A', 'H', 'H', 'H', 'H',\n",
       "       'H', 'H', 'H', 'H', 'H', 'H', 'H', 'H', 'H', 'H', 'H', 'H', 'H',\n",
       "       'H', 'H', 'H', 'H', 'H', 'H', 'H', 'H', 'H', 'A', 'H', 'H', 'H',\n",
       "       'H', 'A', 'H', 'H', 'H', 'H', 'H', 'H', 'H', 'A', 'H', 'A', 'H',\n",
       "       'H', 'H', 'H', 'H', 'H', 'H', 'H', 'H', 'A', 'H', 'H', 'H', 'H',\n",
       "       'H', 'H', 'H', 'H', 'H', 'A', 'H', 'H', 'A', 'A', 'H', 'H', 'H',\n",
       "       'H', 'H', 'H', 'H', 'H', 'H', 'H', 'H', 'H', 'H', 'H', 'H', 'A',\n",
       "       'H', 'H', 'H', 'H', 'A', 'H', 'H', 'H', 'H', 'H', 'H', 'A', 'H',\n",
       "       'H', 'H', 'H', 'H', 'H', 'H', 'H', 'A', 'H', 'H', 'H', 'H', 'H',\n",
       "       'H', 'H', 'H', 'H', 'H', 'H', 'H', 'H', 'H', 'H', 'H', 'H', 'H',\n",
       "       'H', 'H', 'H', 'H', 'H', 'H', 'H', 'H', 'A', 'H', 'H', 'H', 'H',\n",
       "       'H', 'A', 'A', 'H', 'H', 'H', 'H', 'H', 'H', 'H', 'H', 'H', 'H',\n",
       "       'H', 'H', 'H', 'H', 'H', 'A', 'H', 'H', 'A', 'H', 'H', 'H', 'H',\n",
       "       'H', 'A', 'H', 'H', 'H', 'H', 'H', 'H', 'H', 'H', 'A', 'H', 'H',\n",
       "       'H', 'H', 'H', 'H', 'A', 'H', 'H', 'A', 'H', 'H', 'H', 'H', 'H',\n",
       "       'H', 'A', 'H', 'H', 'H', 'H', 'A', 'H', 'A', 'H', 'H', 'H', 'H',\n",
       "       'H', 'H', 'A', 'H', 'A', 'H', 'H', 'H', 'H', 'H', 'H', 'A', 'H',\n",
       "       'H', 'H', 'H', 'H', 'H', 'H', 'H', 'H', 'H', 'A', 'H', 'H', 'H',\n",
       "       'H', 'H', 'A', 'H', 'H', 'A', 'H', 'H', 'H', 'H', 'A', 'A', 'H',\n",
       "       'H', 'H', 'H', 'H', 'A', 'H', 'H', 'H', 'H', 'H', 'H', 'H', 'H',\n",
       "       'H', 'H', 'H', 'H', 'H', 'H', 'H', 'H', 'H', 'H', 'A', 'H', 'H',\n",
       "       'H', 'H', 'H', 'H', 'H', 'H', 'H', 'H', 'H', 'H', 'H', 'H', 'H',\n",
       "       'H', 'H', 'H', 'A', 'H', 'H', 'A', 'H', 'H', 'A', 'A', 'H', 'H',\n",
       "       'H', 'H', 'H', 'H', 'H', 'H', 'A', 'H', 'H', 'H', 'H', 'H', 'H',\n",
       "       'H', 'H', 'H', 'H', 'H', 'H', 'H', 'H', 'H', 'H', 'H', 'H', 'H',\n",
       "       'A', 'A', 'H', 'A', 'H', 'H', 'H', 'A', 'H', 'H', 'H', 'H', 'H',\n",
       "       'A', 'H', 'H', 'H', 'H', 'H', 'H', 'H', 'H', 'H', 'A', 'H', 'H',\n",
       "       'H', 'A', 'H', 'H', 'A', 'H', 'H', 'A', 'H', 'H', 'A', 'H', 'H',\n",
       "       'A', 'H', 'H', 'H', 'H', 'H', 'H', 'H', 'H', 'H', 'H', 'H', 'H',\n",
       "       'H', 'H', 'H', 'H', 'H', 'H', 'A', 'H', 'H', 'A', 'H', 'H', 'A',\n",
       "       'H', 'H', 'A', 'H', 'H', 'H', 'H', 'A', 'H', 'H', 'H', 'H', 'H',\n",
       "       'H', 'H', 'H', 'H', 'H', 'H', 'H', 'H', 'H', 'H', 'H', 'H', 'H',\n",
       "       'H', 'H', 'H', 'H', 'H', 'H', 'H', 'H', 'A', 'H', 'A', 'A', 'H',\n",
       "       'H', 'A', 'A', 'H', 'H', 'H', 'H', 'H', 'H', 'H', 'H', 'H', 'H',\n",
       "       'H', 'H', 'H', 'H', 'A', 'H', 'H', 'H', 'H', 'H', 'H', 'A', 'H',\n",
       "       'H', 'A', 'H', 'H', 'A', 'H', 'H', 'H', 'H', 'H', 'H', 'H', 'H',\n",
       "       'H', 'H', 'H', 'A', 'H', 'H', 'H', 'H', 'H', 'H', 'H', 'H', 'H',\n",
       "       'H', 'A', 'H', 'H', 'H', 'A', 'H', 'H', 'A', 'H', 'A', 'H', 'H',\n",
       "       'H', 'H', 'H', 'H', 'H', 'A', 'A', 'H', 'H', 'A', 'H', 'A', 'H',\n",
       "       'H', 'H', 'H', 'H', 'H', 'H', 'H', 'H', 'A', 'H', 'H', 'H', 'H',\n",
       "       'H', 'H', 'H', 'H', 'H', 'H', 'A', 'H', 'H', 'H', 'H', 'H', 'H',\n",
       "       'A', 'H', 'A', 'H', 'H', 'H', 'H', 'H', 'H', 'H', 'H', 'H', 'H',\n",
       "       'A', 'H', 'A', 'H', 'H', 'H', 'H', 'H', 'A', 'H', 'H', 'H', 'H',\n",
       "       'H', 'H', 'H', 'H', 'H', 'H'], dtype=object)"
      ]
     },
     "execution_count": 435,
     "metadata": {},
     "output_type": "execute_result"
    }
   ],
   "source": [
    "a.predict(X_test)"
   ]
  },
  {
   "cell_type": "code",
   "execution_count": null,
   "metadata": {
    "collapsed": true
   },
   "outputs": [],
   "source": []
  },
  {
   "cell_type": "code",
   "execution_count": 383,
   "metadata": {
    "collapsed": false
   },
   "outputs": [
    {
     "data": {
      "text/plain": [
       "0.49322245322245317"
      ]
     },
     "execution_count": 383,
     "metadata": {},
     "output_type": "execute_result"
    }
   ],
   "source": [
    "sum(scoresrbf)/len(scoresrbf)\n"
   ]
  },
  {
   "cell_type": "code",
   "execution_count": 384,
   "metadata": {
    "collapsed": false
   },
   "outputs": [
    {
     "data": {
      "text/plain": [
       "0.48700623700623724"
      ]
     },
     "execution_count": 384,
     "metadata": {},
     "output_type": "execute_result"
    }
   ],
   "source": [
    "sum(scoreslinear)/len(scoreslinear)"
   ]
  },
  {
   "cell_type": "markdown",
   "metadata": {},
   "source": [
    "## CART"
   ]
  },
  {
   "cell_type": "code",
   "execution_count": 385,
   "metadata": {
    "collapsed": true
   },
   "outputs": [],
   "source": [
    "X_train, X_test, Y_train, Y_test = train_test_split(X, Y, train_size=0.7, random_state=4)\n",
    "ts = Y_test.shape[0]"
   ]
  },
  {
   "cell_type": "code",
   "execution_count": 289,
   "metadata": {
    "collapsed": true
   },
   "outputs": [],
   "source": [
    "X_train=Italy.loc[:2946,:].iloc[:,[46,47]]\n",
    "Y_train=Italy.loc[:2946,:]['FTR']\n",
    "\n",
    "a=Italy[Italy.season=='2015/2016'].H_ROUND==32\n",
    "X_test=Italy[Italy.season=='2015/2016'][a].iloc[:,[46,47]]\n",
    "Y_test=Italy[Italy.season=='2015/2016'][a]['FTR']"
   ]
  },
  {
   "cell_type": "code",
   "execution_count": 386,
   "metadata": {
    "collapsed": false
   },
   "outputs": [
    {
     "data": {
      "text/plain": [
       "0.38141470180305131"
      ]
     },
     "execution_count": 386,
     "metadata": {},
     "output_type": "execute_result"
    }
   ],
   "source": [
    "dtc = DecisionTreeClassifier()\n",
    "dtc.fit(X_train, Y_train)\n",
    "dtc.score(X_test,Y_test)\n",
    "\n"
   ]
  },
  {
   "cell_type": "code",
   "execution_count": 291,
   "metadata": {
    "collapsed": false
   },
   "outputs": [],
   "source": [
    "#Y_test[dtc_verror.astype(bool)]"
   ]
  },
  {
   "cell_type": "markdown",
   "metadata": {},
   "source": [
    "# Bagging Classifier "
   ]
  },
  {
   "cell_type": "code",
   "execution_count": 387,
   "metadata": {
    "collapsed": false
   },
   "outputs": [
    {
     "data": {
      "text/plain": [
       "0.41192787794729541"
      ]
     },
     "execution_count": 387,
     "metadata": {},
     "output_type": "execute_result"
    }
   ],
   "source": [
    "bagb = AdaBoostClassifier(DecisionTreeClassifier(max_depth=10), n_estimators=20)\n",
    "#adab = AdaBoostClassifier(DecisionTreeClassifier(max_depth=2), n_estimators=20,learning_rate=1.5,algorithm=\"SAMME\")\n",
    "bagb.fit(X_train,Y_train)\n",
    "bagb.score(X_test,Y_test)"
   ]
  },
  {
   "cell_type": "markdown",
   "metadata": {},
   "source": [
    "# AdaBoost Classifier"
   ]
  },
  {
   "cell_type": "code",
   "execution_count": 388,
   "metadata": {
    "collapsed": false
   },
   "outputs": [
    {
     "data": {
      "text/plain": [
       "0.39667128987517336"
      ]
     },
     "execution_count": 388,
     "metadata": {},
     "output_type": "execute_result"
    }
   ],
   "source": [
    "adab = AdaBoostClassifier(DecisionTreeClassifier(max_depth=10), n_estimators=20)\n",
    "#adab = AdaBoostClassifier(DecisionTreeClassifier(max_depth=2), n_estimators=20,learning_rate=1.5,algorithm=\"SAMME\")\n",
    "adab.fit(X_train,Y_train)\n",
    "adab.score(X_test,Y_test)"
   ]
  },
  {
   "cell_type": "markdown",
   "metadata": {},
   "source": [
    "# Gradient Boosting Classifier\n"
   ]
  },
  {
   "cell_type": "code",
   "execution_count": 390,
   "metadata": {
    "collapsed": false
   },
   "outputs": [
    {
     "data": {
      "text/plain": [
       "0.42441054091539526"
      ]
     },
     "execution_count": 390,
     "metadata": {},
     "output_type": "execute_result"
    }
   ],
   "source": [
    "gradb = GradientBoostingClassifier(max_depth=10, n_estimators=200)\n",
    "gradb.fit(X_train,Y_train)\n",
    "gradb.score(X_test,Y_test)"
   ]
  },
  {
   "cell_type": "markdown",
   "metadata": {},
   "source": [
    "# Random Forest"
   ]
  },
  {
   "cell_type": "code",
   "execution_count": 391,
   "metadata": {
    "collapsed": false
   },
   "outputs": [
    {
     "data": {
      "text/plain": [
       "0.44798890429958393"
      ]
     },
     "execution_count": 391,
     "metadata": {},
     "output_type": "execute_result"
    }
   ],
   "source": [
    "rdf = RandomForestClassifier(max_depth=10, n_estimators=20)\n",
    "\n",
    "rdf.fit(X_train,Y_train)\n",
    "rdf.score(X_test,Y_test)\n"
   ]
  },
  {
   "cell_type": "code",
   "execution_count": null,
   "metadata": {
    "collapsed": true
   },
   "outputs": [],
   "source": [
    "gradb.fit(X_train,Y_train)\n",
    "gradb.score(X_test,Y_test)\n",
    "rdf.fit(X_train,Y_train)\n",
    "rdf.score(X_test,Y_test)"
   ]
  },
  {
   "cell_type": "code",
   "execution_count": null,
   "metadata": {
    "collapsed": true
   },
   "outputs": [],
   "source": []
  },
  {
   "cell_type": "code",
   "execution_count": null,
   "metadata": {
    "collapsed": true
   },
   "outputs": [],
   "source": [
    "X_train=Italy.loc[:2946,:].iloc[:,[46,47]]\n",
    "Y_train=Italy.loc[:2946,:]['FTR']\n",
    "\n",
    "a=Italy[Italy.season=='2015/2016'].H_ROUND==33\n",
    "X_test=Italy[Italy.season=='2015/2016'][a].iloc[:,[46,47]]\n",
    "Y_test=Italy[Italy.season=='2015/2016'][a]['FTR']"
   ]
  }
 ],
 "metadata": {
  "kernelspec": {
   "display_name": "Python 2",
   "language": "python",
   "name": "python2"
  },
  "language_info": {
   "codemirror_mode": {
    "name": "ipython",
    "version": 2
   },
   "file_extension": ".py",
   "mimetype": "text/x-python",
   "name": "python",
   "nbconvert_exporter": "python",
   "pygments_lexer": "ipython2",
   "version": "2.7.13"
  }
 },
 "nbformat": 4,
 "nbformat_minor": 0
}
