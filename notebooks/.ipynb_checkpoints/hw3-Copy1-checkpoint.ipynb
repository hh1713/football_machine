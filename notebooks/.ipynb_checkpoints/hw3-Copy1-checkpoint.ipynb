{
 "cells": [
  {
   "cell_type": "code",
   "execution_count": 64,
   "metadata": {
    "collapsed": true
   },
   "outputs": [],
   "source": [
    "import pandas as pd\n",
    "import numpy as np\n",
    "import matplotlib.pyplot as plt\n",
    "#import seaborn\n",
    "from sklearn import naive_bayes\n",
    "from sklearn import svm\n",
    "from sklearn.model_selection import train_test_split\n",
    "from sklearn import tree\n",
    "\n",
    "%matplotlib inline \n",
    "\n",
    "import itertools\n"
   ]
  },
  {
   "cell_type": "code",
   "execution_count": 65,
   "metadata": {
    "collapsed": true
   },
   "outputs": [],
   "source": [
    "pd.options.display.max_columns = 999"
   ]
  },
  {
   "cell_type": "markdown",
   "metadata": {},
   "source": [
    "## Inspecting and cleaning data"
   ]
  },
  {
   "cell_type": "code",
   "execution_count": 66,
   "metadata": {
    "collapsed": true
   },
   "outputs": [],
   "source": [
    "final=pd.read_csv('final.csv')\n",
    "final.drop('Unnamed: 0',axis=1,inplace=True)"
   ]
  },
  {
   "cell_type": "code",
   "execution_count": 75,
   "metadata": {
    "collapsed": true
   },
   "outputs": [],
   "source": [
    "temp = pd.read_csv('../Data/EPL_1617.csv')"
   ]
  },
  {
   "cell_type": "code",
   "execution_count": 76,
   "metadata": {
    "collapsed": false
   },
   "outputs": [
    {
     "data": {
      "text/plain": [
       "156"
      ]
     },
     "execution_count": 76,
     "metadata": {},
     "output_type": "execute_result"
    }
   ],
   "source": [
    "len(temp[temp.FTR == 'H'])"
   ]
  },
  {
   "cell_type": "code",
   "execution_count": 77,
   "metadata": {
    "collapsed": false
   },
   "outputs": [
    {
     "data": {
      "text/plain": [
       "71"
      ]
     },
     "execution_count": 77,
     "metadata": {},
     "output_type": "execute_result"
    }
   ],
   "source": [
    "len(temp[temp.FTR == 'D'])"
   ]
  },
  {
   "cell_type": "code",
   "execution_count": 78,
   "metadata": {
    "collapsed": false
   },
   "outputs": [
    {
     "data": {
      "text/plain": [
       "86"
      ]
     },
     "execution_count": 78,
     "metadata": {},
     "output_type": "execute_result"
    }
   ],
   "source": [
    "len(temp[temp.FTR == 'A'])"
   ]
  },
  {
   "cell_type": "code",
   "execution_count": 79,
   "metadata": {
    "collapsed": false
   },
   "outputs": [
    {
     "data": {
      "text/plain": [
       "313"
      ]
     },
     "execution_count": 79,
     "metadata": {},
     "output_type": "execute_result"
    }
   ],
   "source": [
    "156+71+86"
   ]
  },
  {
   "cell_type": "markdown",
   "metadata": {},
   "source": [
    "## Splitting Data "
   ]
  },
  {
   "cell_type": "code",
   "execution_count": 8,
   "metadata": {
    "collapsed": false
   },
   "outputs": [],
   "source": [
    "#final.Date.unique()"
   ]
  },
  {
   "cell_type": "code",
   "execution_count": 9,
   "metadata": {
    "collapsed": false
   },
   "outputs": [
    {
     "data": {
      "text/html": [
       "<div>\n",
       "<table border=\"1\" class=\"dataframe\">\n",
       "  <thead>\n",
       "    <tr style=\"text-align: right;\">\n",
       "      <th></th>\n",
       "      <th>Date</th>\n",
       "      <th>HomeTeam</th>\n",
       "      <th>AwayTeam</th>\n",
       "      <th>FTHG</th>\n",
       "      <th>FTAG</th>\n",
       "      <th>FTR</th>\n",
       "      <th>HTHG</th>\n",
       "      <th>HTAG</th>\n",
       "      <th>HTR</th>\n",
       "      <th>Referee</th>\n",
       "      <th>H_GS_H</th>\n",
       "      <th>H_GS_A</th>\n",
       "      <th>H_GR_H</th>\n",
       "      <th>H_GR_A</th>\n",
       "      <th>H_TGS</th>\n",
       "      <th>H_TGR</th>\n",
       "      <th>H_AvGS_H</th>\n",
       "      <th>H_AvGS_A</th>\n",
       "      <th>H_AvGR_H</th>\n",
       "      <th>H_AvGR_A</th>\n",
       "      <th>H_Av_TGS</th>\n",
       "      <th>H_Av_TGR</th>\n",
       "      <th>H_Pnt_H</th>\n",
       "      <th>H_Pnt_A</th>\n",
       "      <th>H_T_pnt</th>\n",
       "      <th>H_Av_Pnt_H</th>\n",
       "      <th>H_Av_pnt_A</th>\n",
       "      <th>H_Av_T_pnt</th>\n",
       "      <th>Aw_GS_H</th>\n",
       "      <th>Aw_GS_A</th>\n",
       "      <th>Aw_GR_H</th>\n",
       "      <th>Aw_GR_A</th>\n",
       "      <th>Aw_TGS</th>\n",
       "      <th>Aw_TGR</th>\n",
       "      <th>Aw_AvGS_H</th>\n",
       "      <th>Aw_AvGS_A</th>\n",
       "      <th>Aw_AvGR_H</th>\n",
       "      <th>Aw_AvGR_A</th>\n",
       "      <th>Aw_Av_TGS</th>\n",
       "      <th>Aw_Av_TGR</th>\n",
       "      <th>Aw_Pnt_H</th>\n",
       "      <th>Aw_Pnt_A</th>\n",
       "      <th>Aw_T_pnt</th>\n",
       "      <th>Aw_Av_Pnt_H</th>\n",
       "      <th>Aw_Av_pnt_A</th>\n",
       "      <th>Aw_Av_T_pnt</th>\n",
       "      <th>DIFF_av_TP</th>\n",
       "      <th>DIFF_av_HP-AP</th>\n",
       "      <th>SUMM_av_HGSH+AGRA</th>\n",
       "      <th>SUMM_av_HGRH+AGSA</th>\n",
       "      <th>SUMM_av_HTGS+ATGR</th>\n",
       "      <th>SUMM_av_HTGR+ATGS</th>\n",
       "    </tr>\n",
       "  </thead>\n",
       "  <tbody>\n",
       "    <tr>\n",
       "      <th>272</th>\n",
       "      <td>12/03/17</td>\n",
       "      <td>Liverpool</td>\n",
       "      <td>Burnley</td>\n",
       "      <td>2</td>\n",
       "      <td>1</td>\n",
       "      <td>H</td>\n",
       "      <td>1</td>\n",
       "      <td>1</td>\n",
       "      <td>D</td>\n",
       "      <td>C Pawson</td>\n",
       "      <td>34.0</td>\n",
       "      <td>24.0</td>\n",
       "      <td>12.0</td>\n",
       "      <td>22.0</td>\n",
       "      <td>58.0</td>\n",
       "      <td>34.0</td>\n",
       "      <td>2.615385</td>\n",
       "      <td>1.714286</td>\n",
       "      <td>0.923077</td>\n",
       "      <td>1.571429</td>\n",
       "      <td>2.148148</td>\n",
       "      <td>1.259259</td>\n",
       "      <td>30.0</td>\n",
       "      <td>22.0</td>\n",
       "      <td>52.0</td>\n",
       "      <td>2.307692</td>\n",
       "      <td>1.571429</td>\n",
       "      <td>1.925926</td>\n",
       "      <td>22.0</td>\n",
       "      <td>8.0</td>\n",
       "      <td>12.0</td>\n",
       "      <td>28.0</td>\n",
       "      <td>30.0</td>\n",
       "      <td>40.0</td>\n",
       "      <td>1.571429</td>\n",
       "      <td>0.615385</td>\n",
       "      <td>0.857143</td>\n",
       "      <td>2.153846</td>\n",
       "      <td>1.111111</td>\n",
       "      <td>1.481481</td>\n",
       "      <td>29.0</td>\n",
       "      <td>2.0</td>\n",
       "      <td>31.0</td>\n",
       "      <td>2.071429</td>\n",
       "      <td>0.153846</td>\n",
       "      <td>1.148148</td>\n",
       "      <td>0.777778</td>\n",
       "      <td>2.153846</td>\n",
       "      <td>4.769231</td>\n",
       "      <td>1.538462</td>\n",
       "      <td>3.62963</td>\n",
       "      <td>2.37037</td>\n",
       "    </tr>\n",
       "  </tbody>\n",
       "</table>\n",
       "</div>"
      ],
      "text/plain": [
       "         Date   HomeTeam AwayTeam  FTHG  FTAG FTR  HTHG  HTAG HTR   Referee  \\\n",
       "272  12/03/17  Liverpool  Burnley     2     1   H     1     1   D  C Pawson   \n",
       "\n",
       "     H_GS_H  H_GS_A  H_GR_H  H_GR_A  H_TGS  H_TGR  H_AvGS_H  H_AvGS_A  \\\n",
       "272    34.0    24.0    12.0    22.0   58.0   34.0  2.615385  1.714286   \n",
       "\n",
       "     H_AvGR_H  H_AvGR_A  H_Av_TGS  H_Av_TGR  H_Pnt_H  H_Pnt_A  H_T_pnt  \\\n",
       "272  0.923077  1.571429  2.148148  1.259259     30.0     22.0     52.0   \n",
       "\n",
       "     H_Av_Pnt_H  H_Av_pnt_A  H_Av_T_pnt  Aw_GS_H  Aw_GS_A  Aw_GR_H  Aw_GR_A  \\\n",
       "272    2.307692    1.571429    1.925926     22.0      8.0     12.0     28.0   \n",
       "\n",
       "     Aw_TGS  Aw_TGR  Aw_AvGS_H  Aw_AvGS_A  Aw_AvGR_H  Aw_AvGR_A  Aw_Av_TGS  \\\n",
       "272    30.0    40.0   1.571429   0.615385   0.857143   2.153846   1.111111   \n",
       "\n",
       "     Aw_Av_TGR  Aw_Pnt_H  Aw_Pnt_A  Aw_T_pnt  Aw_Av_Pnt_H  Aw_Av_pnt_A  \\\n",
       "272   1.481481      29.0       2.0      31.0     2.071429     0.153846   \n",
       "\n",
       "     Aw_Av_T_pnt  DIFF_av_TP  DIFF_av_HP-AP  SUMM_av_HGSH+AGRA  \\\n",
       "272     1.148148    0.777778       2.153846           4.769231   \n",
       "\n",
       "     SUMM_av_HGRH+AGSA  SUMM_av_HTGS+ATGR  SUMM_av_HTGR+ATGS  \n",
       "272           1.538462            3.62963            2.37037  "
      ]
     },
     "execution_count": 9,
     "metadata": {},
     "output_type": "execute_result"
    }
   ],
   "source": [
    "final[final['Date']=='12/03/17']"
   ]
  },
  {
   "cell_type": "code",
   "execution_count": 10,
   "metadata": {
    "collapsed": false
   },
   "outputs": [],
   "source": [
    "lis=[16, 17, 18, 19, 20, 21, 25,26, 27, 34, 35, 36, 37, 38, 39, 43,44, 45]"
   ]
  },
  {
   "cell_type": "code",
   "execution_count": 14,
   "metadata": {
    "collapsed": true
   },
   "outputs": [],
   "source": [
    "lis2=[ 25,26, 27, 43,44, 45]"
   ]
  },
  {
   "cell_type": "code",
   "execution_count": 15,
   "metadata": {
    "collapsed": true
   },
   "outputs": [],
   "source": [
    "lis3=[16, 17, 18, 19, 20, 21,  34, 35, 36, 37, 38, 39]"
   ]
  },
  {
   "cell_type": "code",
   "execution_count": 16,
   "metadata": {
    "collapsed": false
   },
   "outputs": [
    {
     "data": {
      "text/html": [
       "<div>\n",
       "<table border=\"1\" class=\"dataframe\">\n",
       "  <thead>\n",
       "    <tr style=\"text-align: right;\">\n",
       "      <th></th>\n",
       "      <th>H_AvGS_H</th>\n",
       "      <th>H_AvGS_A</th>\n",
       "      <th>H_AvGR_H</th>\n",
       "      <th>H_AvGR_A</th>\n",
       "      <th>H_Av_TGS</th>\n",
       "      <th>H_Av_TGR</th>\n",
       "      <th>Aw_AvGS_H</th>\n",
       "      <th>Aw_AvGS_A</th>\n",
       "      <th>Aw_AvGR_H</th>\n",
       "      <th>Aw_AvGR_A</th>\n",
       "      <th>Aw_Av_TGS</th>\n",
       "      <th>Aw_Av_TGR</th>\n",
       "    </tr>\n",
       "  </thead>\n",
       "  <tbody>\n",
       "    <tr>\n",
       "      <th>268</th>\n",
       "      <td>1.916667</td>\n",
       "      <td>2.142857</td>\n",
       "      <td>1.083333</td>\n",
       "      <td>1.142857</td>\n",
       "      <td>2.038462</td>\n",
       "      <td>1.115385</td>\n",
       "      <td>1.285714</td>\n",
       "      <td>1.076923</td>\n",
       "      <td>1.071429</td>\n",
       "      <td>1.923077</td>\n",
       "      <td>1.185185</td>\n",
       "      <td>1.481481</td>\n",
       "    </tr>\n",
       "    <tr>\n",
       "      <th>269</th>\n",
       "      <td>1.615385</td>\n",
       "      <td>1.142857</td>\n",
       "      <td>1.615385</td>\n",
       "      <td>2.214286</td>\n",
       "      <td>1.370370</td>\n",
       "      <td>1.925926</td>\n",
       "      <td>1.071429</td>\n",
       "      <td>1.615385</td>\n",
       "      <td>1.714286</td>\n",
       "      <td>1.692308</td>\n",
       "      <td>1.333333</td>\n",
       "      <td>1.703704</td>\n",
       "    </tr>\n",
       "    <tr>\n",
       "      <th>270</th>\n",
       "      <td>2.076923</td>\n",
       "      <td>1.214286</td>\n",
       "      <td>0.769231</td>\n",
       "      <td>1.428571</td>\n",
       "      <td>1.629630</td>\n",
       "      <td>1.111111</td>\n",
       "      <td>1.714286</td>\n",
       "      <td>0.923077</td>\n",
       "      <td>1.214286</td>\n",
       "      <td>1.307692</td>\n",
       "      <td>1.333333</td>\n",
       "      <td>1.259259</td>\n",
       "    </tr>\n",
       "    <tr>\n",
       "      <th>271</th>\n",
       "      <td>1.307692</td>\n",
       "      <td>0.500000</td>\n",
       "      <td>1.692308</td>\n",
       "      <td>2.214286</td>\n",
       "      <td>0.888889</td>\n",
       "      <td>1.962963</td>\n",
       "      <td>1.500000</td>\n",
       "      <td>1.076923</td>\n",
       "      <td>2.142857</td>\n",
       "      <td>2.230769</td>\n",
       "      <td>1.296296</td>\n",
       "      <td>2.185185</td>\n",
       "    </tr>\n",
       "    <tr>\n",
       "      <th>272</th>\n",
       "      <td>2.615385</td>\n",
       "      <td>1.714286</td>\n",
       "      <td>0.923077</td>\n",
       "      <td>1.571429</td>\n",
       "      <td>2.148148</td>\n",
       "      <td>1.259259</td>\n",
       "      <td>1.571429</td>\n",
       "      <td>0.615385</td>\n",
       "      <td>0.857143</td>\n",
       "      <td>2.153846</td>\n",
       "      <td>1.111111</td>\n",
       "      <td>1.481481</td>\n",
       "    </tr>\n",
       "    <tr>\n",
       "      <th>273</th>\n",
       "      <td>1.714286</td>\n",
       "      <td>1.142857</td>\n",
       "      <td>1.642857</td>\n",
       "      <td>2.214286</td>\n",
       "      <td>1.428571</td>\n",
       "      <td>1.928571</td>\n",
       "      <td>1.500000</td>\n",
       "      <td>1.071429</td>\n",
       "      <td>2.142857</td>\n",
       "      <td>2.214286</td>\n",
       "      <td>1.285714</td>\n",
       "      <td>2.178571</td>\n",
       "    </tr>\n",
       "    <tr>\n",
       "      <th>274</th>\n",
       "      <td>1.076923</td>\n",
       "      <td>1.500000</td>\n",
       "      <td>1.538462</td>\n",
       "      <td>1.857143</td>\n",
       "      <td>1.296296</td>\n",
       "      <td>1.703704</td>\n",
       "      <td>1.500000</td>\n",
       "      <td>0.923077</td>\n",
       "      <td>1.642857</td>\n",
       "      <td>1.846154</td>\n",
       "      <td>1.222222</td>\n",
       "      <td>1.740741</td>\n",
       "    </tr>\n",
       "    <tr>\n",
       "      <th>275</th>\n",
       "      <td>2.142857</td>\n",
       "      <td>1.214286</td>\n",
       "      <td>0.714286</td>\n",
       "      <td>1.428571</td>\n",
       "      <td>1.678571</td>\n",
       "      <td>1.071429</td>\n",
       "      <td>1.357143</td>\n",
       "      <td>0.500000</td>\n",
       "      <td>1.642857</td>\n",
       "      <td>2.214286</td>\n",
       "      <td>0.928571</td>\n",
       "      <td>1.928571</td>\n",
       "    </tr>\n",
       "    <tr>\n",
       "      <th>276</th>\n",
       "      <td>1.285714</td>\n",
       "      <td>1.000000</td>\n",
       "      <td>1.071429</td>\n",
       "      <td>1.785714</td>\n",
       "      <td>1.142857</td>\n",
       "      <td>1.428571</td>\n",
       "      <td>2.769231</td>\n",
       "      <td>1.500000</td>\n",
       "      <td>0.615385</td>\n",
       "      <td>0.857143</td>\n",
       "      <td>2.111111</td>\n",
       "      <td>0.740741</td>\n",
       "    </tr>\n",
       "    <tr>\n",
       "      <th>277</th>\n",
       "      <td>1.000000</td>\n",
       "      <td>0.769231</td>\n",
       "      <td>1.857143</td>\n",
       "      <td>1.846154</td>\n",
       "      <td>0.888889</td>\n",
       "      <td>1.851852</td>\n",
       "      <td>1.571429</td>\n",
       "      <td>0.642857</td>\n",
       "      <td>0.857143</td>\n",
       "      <td>2.142857</td>\n",
       "      <td>1.107143</td>\n",
       "      <td>1.500000</td>\n",
       "    </tr>\n",
       "    <tr>\n",
       "      <th>278</th>\n",
       "      <td>1.714286</td>\n",
       "      <td>0.857143</td>\n",
       "      <td>1.214286</td>\n",
       "      <td>1.428571</td>\n",
       "      <td>1.285714</td>\n",
       "      <td>1.321429</td>\n",
       "      <td>2.000000</td>\n",
       "      <td>2.230769</td>\n",
       "      <td>1.000000</td>\n",
       "      <td>1.384615</td>\n",
       "      <td>2.115385</td>\n",
       "      <td>1.192308</td>\n",
       "    </tr>\n",
       "    <tr>\n",
       "      <th>279</th>\n",
       "      <td>1.071429</td>\n",
       "      <td>1.642857</td>\n",
       "      <td>1.714286</td>\n",
       "      <td>1.785714</td>\n",
       "      <td>1.357143</td>\n",
       "      <td>1.750000</td>\n",
       "      <td>1.571429</td>\n",
       "      <td>0.615385</td>\n",
       "      <td>1.285714</td>\n",
       "      <td>2.076923</td>\n",
       "      <td>1.111111</td>\n",
       "      <td>1.666667</td>\n",
       "    </tr>\n",
       "    <tr>\n",
       "      <th>280</th>\n",
       "      <td>1.769231</td>\n",
       "      <td>2.142857</td>\n",
       "      <td>1.000000</td>\n",
       "      <td>1.142857</td>\n",
       "      <td>1.962963</td>\n",
       "      <td>1.074074</td>\n",
       "      <td>2.571429</td>\n",
       "      <td>1.714286</td>\n",
       "      <td>0.928571</td>\n",
       "      <td>1.571429</td>\n",
       "      <td>2.142857</td>\n",
       "      <td>1.250000</td>\n",
       "    </tr>\n",
       "    <tr>\n",
       "      <th>281</th>\n",
       "      <td>0.846154</td>\n",
       "      <td>0.571429</td>\n",
       "      <td>1.076923</td>\n",
       "      <td>1.142857</td>\n",
       "      <td>0.703704</td>\n",
       "      <td>1.111111</td>\n",
       "      <td>1.428571</td>\n",
       "      <td>1.583333</td>\n",
       "      <td>0.714286</td>\n",
       "      <td>1.000000</td>\n",
       "      <td>1.500000</td>\n",
       "      <td>0.846154</td>\n",
       "    </tr>\n",
       "    <tr>\n",
       "      <th>282</th>\n",
       "      <td>2.357143</td>\n",
       "      <td>1.538462</td>\n",
       "      <td>0.500000</td>\n",
       "      <td>1.000000</td>\n",
       "      <td>1.962963</td>\n",
       "      <td>0.740741</td>\n",
       "      <td>1.166667</td>\n",
       "      <td>1.285714</td>\n",
       "      <td>1.166667</td>\n",
       "      <td>1.428571</td>\n",
       "      <td>1.230769</td>\n",
       "      <td>1.307692</td>\n",
       "    </tr>\n",
       "  </tbody>\n",
       "</table>\n",
       "</div>"
      ],
      "text/plain": [
       "     H_AvGS_H  H_AvGS_A  H_AvGR_H  H_AvGR_A  H_Av_TGS  H_Av_TGR  Aw_AvGS_H  \\\n",
       "268  1.916667  2.142857  1.083333  1.142857  2.038462  1.115385   1.285714   \n",
       "269  1.615385  1.142857  1.615385  2.214286  1.370370  1.925926   1.071429   \n",
       "270  2.076923  1.214286  0.769231  1.428571  1.629630  1.111111   1.714286   \n",
       "271  1.307692  0.500000  1.692308  2.214286  0.888889  1.962963   1.500000   \n",
       "272  2.615385  1.714286  0.923077  1.571429  2.148148  1.259259   1.571429   \n",
       "273  1.714286  1.142857  1.642857  2.214286  1.428571  1.928571   1.500000   \n",
       "274  1.076923  1.500000  1.538462  1.857143  1.296296  1.703704   1.500000   \n",
       "275  2.142857  1.214286  0.714286  1.428571  1.678571  1.071429   1.357143   \n",
       "276  1.285714  1.000000  1.071429  1.785714  1.142857  1.428571   2.769231   \n",
       "277  1.000000  0.769231  1.857143  1.846154  0.888889  1.851852   1.571429   \n",
       "278  1.714286  0.857143  1.214286  1.428571  1.285714  1.321429   2.000000   \n",
       "279  1.071429  1.642857  1.714286  1.785714  1.357143  1.750000   1.571429   \n",
       "280  1.769231  2.142857  1.000000  1.142857  1.962963  1.074074   2.571429   \n",
       "281  0.846154  0.571429  1.076923  1.142857  0.703704  1.111111   1.428571   \n",
       "282  2.357143  1.538462  0.500000  1.000000  1.962963  0.740741   1.166667   \n",
       "\n",
       "     Aw_AvGS_A  Aw_AvGR_H  Aw_AvGR_A  Aw_Av_TGS  Aw_Av_TGR  \n",
       "268   1.076923   1.071429   1.923077   1.185185   1.481481  \n",
       "269   1.615385   1.714286   1.692308   1.333333   1.703704  \n",
       "270   0.923077   1.214286   1.307692   1.333333   1.259259  \n",
       "271   1.076923   2.142857   2.230769   1.296296   2.185185  \n",
       "272   0.615385   0.857143   2.153846   1.111111   1.481481  \n",
       "273   1.071429   2.142857   2.214286   1.285714   2.178571  \n",
       "274   0.923077   1.642857   1.846154   1.222222   1.740741  \n",
       "275   0.500000   1.642857   2.214286   0.928571   1.928571  \n",
       "276   1.500000   0.615385   0.857143   2.111111   0.740741  \n",
       "277   0.642857   0.857143   2.142857   1.107143   1.500000  \n",
       "278   2.230769   1.000000   1.384615   2.115385   1.192308  \n",
       "279   0.615385   1.285714   2.076923   1.111111   1.666667  \n",
       "280   1.714286   0.928571   1.571429   2.142857   1.250000  \n",
       "281   1.583333   0.714286   1.000000   1.500000   0.846154  \n",
       "282   1.285714   1.166667   1.428571   1.230769   1.307692  "
      ]
     },
     "execution_count": 16,
     "metadata": {},
     "output_type": "execute_result"
    }
   ],
   "source": [
    "final.iloc[268:,lis3]"
   ]
  },
  {
   "cell_type": "code",
   "execution_count": null,
   "metadata": {
    "collapsed": false
   },
   "outputs": [],
   "source": []
  },
  {
   "cell_type": "code",
   "execution_count": 17,
   "metadata": {
    "collapsed": true
   },
   "outputs": [],
   "source": [
    "Y_test=final['FTR'].iloc[268:]\n",
    "X_test=final.iloc[268:,-6:-4]\n",
    "\n",
    "Y_train=final['FTR'].iloc[:268]\n",
    "X_train=final.iloc[:268,-6:-4]"
   ]
  },
  {
   "cell_type": "markdown",
   "metadata": {},
   "source": [
    "## SVM Linear"
   ]
  },
  {
   "cell_type": "code",
   "execution_count": 18,
   "metadata": {
    "collapsed": false
   },
   "outputs": [
    {
     "data": {
      "text/plain": [
       "0.73333333333333328"
      ]
     },
     "execution_count": 18,
     "metadata": {},
     "output_type": "execute_result"
    }
   ],
   "source": [
    "svm_linear = svm.SVC(kernel='linear')\n",
    "\n",
    "svm_linear.fit(X_train,Y_train)\n",
    "svm_linear.score(X_test, Y_test)\n"
   ]
  },
  {
   "cell_type": "markdown",
   "metadata": {},
   "source": [
    "## SVM Kernel"
   ]
  },
  {
   "cell_type": "code",
   "execution_count": 19,
   "metadata": {
    "collapsed": false
   },
   "outputs": [
    {
     "data": {
      "text/plain": [
       "0.66666666666666663"
      ]
     },
     "execution_count": 19,
     "metadata": {},
     "output_type": "execute_result"
    }
   ],
   "source": [
    "#class_weight={0:10} give a larger importance to class 0\n",
    "#svm_rbf = svm.SVC(kernel='rbf', gamma=500, class_weight={0:10})\n",
    "svm_rbf = svm.SVC(kernel='rbf', gamma = 500)\n",
    "svm_rbf.fit(X_train,Y_train)\n",
    "svm_rbf.score(X_test, Y_test)"
   ]
  },
  {
   "cell_type": "markdown",
   "metadata": {},
   "source": [
    "## CART"
   ]
  },
  {
   "cell_type": "code",
   "execution_count": 20,
   "metadata": {
    "collapsed": true
   },
   "outputs": [],
   "source": [
    "Y_test=final['FTR'].iloc[268:]\n",
    "X_test=final.iloc[268:,lis3]\n",
    "\n",
    "Y_train=final['FTR'].iloc[:268]\n",
    "X_train=final.iloc[:268,lis3]"
   ]
  },
  {
   "cell_type": "code",
   "execution_count": 21,
   "metadata": {
    "collapsed": false
   },
   "outputs": [],
   "source": [
    "clf = tree.DecisionTreeClassifier()\n",
    "clf = clf.fit(X_train, Y_train)"
   ]
  },
  {
   "cell_type": "code",
   "execution_count": 22,
   "metadata": {
    "collapsed": false
   },
   "outputs": [
    {
     "data": {
      "text/plain": [
       "array(['H', 'H', 'H', 'D', 'H', 'D', 'H', 'H', 'A', 'A', 'H', 'D', 'D',\n",
       "       'A', 'H'], dtype=object)"
      ]
     },
     "execution_count": 22,
     "metadata": {},
     "output_type": "execute_result"
    }
   ],
   "source": [
    "clf.predict(X_test)"
   ]
  },
  {
   "cell_type": "code",
   "execution_count": 23,
   "metadata": {
    "collapsed": false
   },
   "outputs": [
    {
     "data": {
      "text/plain": [
       "0.66666666666666663"
      ]
     },
     "execution_count": 23,
     "metadata": {},
     "output_type": "execute_result"
    }
   ],
   "source": [
    "clf.score(X_test,Y_test)"
   ]
  },
  {
   "cell_type": "markdown",
   "metadata": {},
   "source": [
    "## Random Forrest "
   ]
  },
  {
   "cell_type": "markdown",
   "metadata": {},
   "source": [
    "## Cross-Validation "
   ]
  },
  {
   "cell_type": "code",
   "execution_count": null,
   "metadata": {
    "collapsed": true
   },
   "outputs": [],
   "source": []
  },
  {
   "cell_type": "code",
   "execution_count": null,
   "metadata": {
    "collapsed": true
   },
   "outputs": [],
   "source": []
  },
  {
   "cell_type": "markdown",
   "metadata": {
    "collapsed": true
   },
   "source": [
    "## PCA data "
   ]
  },
  {
   "cell_type": "code",
   "execution_count": 5,
   "metadata": {
    "collapsed": true
   },
   "outputs": [],
   "source": [
    "df = pd.read_csv('PCA_data')\n",
    "df.drop(['Unnamed: 0'], axis=1, inplace=True)"
   ]
  },
  {
   "cell_type": "code",
   "execution_count": 6,
   "metadata": {
    "collapsed": false
   },
   "outputs": [
    {
     "data": {
      "text/html": [
       "<div>\n",
       "<table border=\"1\" class=\"dataframe\">\n",
       "  <thead>\n",
       "    <tr style=\"text-align: right;\">\n",
       "      <th></th>\n",
       "      <th>0</th>\n",
       "      <th>1</th>\n",
       "      <th>2</th>\n",
       "    </tr>\n",
       "  </thead>\n",
       "  <tbody>\n",
       "    <tr>\n",
       "      <th>0</th>\n",
       "      <td>-57.672688</td>\n",
       "      <td>0.587144</td>\n",
       "      <td>-2.851321</td>\n",
       "    </tr>\n",
       "    <tr>\n",
       "      <th>1</th>\n",
       "      <td>-57.672688</td>\n",
       "      <td>0.587144</td>\n",
       "      <td>-2.851321</td>\n",
       "    </tr>\n",
       "    <tr>\n",
       "      <th>2</th>\n",
       "      <td>-57.672688</td>\n",
       "      <td>0.587144</td>\n",
       "      <td>-2.851321</td>\n",
       "    </tr>\n",
       "    <tr>\n",
       "      <th>3</th>\n",
       "      <td>-57.672688</td>\n",
       "      <td>0.587144</td>\n",
       "      <td>-2.851321</td>\n",
       "    </tr>\n",
       "    <tr>\n",
       "      <th>4</th>\n",
       "      <td>-57.672688</td>\n",
       "      <td>0.587144</td>\n",
       "      <td>-2.851321</td>\n",
       "    </tr>\n",
       "  </tbody>\n",
       "</table>\n",
       "</div>"
      ],
      "text/plain": [
       "           0         1         2\n",
       "0 -57.672688  0.587144 -2.851321\n",
       "1 -57.672688  0.587144 -2.851321\n",
       "2 -57.672688  0.587144 -2.851321\n",
       "3 -57.672688  0.587144 -2.851321\n",
       "4 -57.672688  0.587144 -2.851321"
      ]
     },
     "execution_count": 6,
     "metadata": {},
     "output_type": "execute_result"
    }
   ],
   "source": [
    "df.head()"
   ]
  },
  {
   "cell_type": "code",
   "execution_count": 50,
   "metadata": {
    "collapsed": true
   },
   "outputs": [],
   "source": [
    "Y_test = final['FTR'].iloc[268:]\n",
    "X_test_PCA = df.iloc[268:,]\n",
    "\n",
    "Y_train = final['FTR'].iloc[:268]\n",
    "X_train_PCA = df.iloc[:268,]"
   ]
  },
  {
   "cell_type": "markdown",
   "metadata": {},
   "source": [
    "#### SVM Linear "
   ]
  },
  {
   "cell_type": "code",
   "execution_count": 51,
   "metadata": {
    "collapsed": false
   },
   "outputs": [
    {
     "data": {
      "text/plain": [
       "0.66666666666666663"
      ]
     },
     "execution_count": 51,
     "metadata": {},
     "output_type": "execute_result"
    }
   ],
   "source": [
    "svm_linear = svm.SVC(kernel='linear')\n",
    "\n",
    "svm_linear.fit(X_train_PCA,Y_train)\n",
    "svm_linear.score(X_test_PCA, Y_test)"
   ]
  },
  {
   "cell_type": "markdown",
   "metadata": {},
   "source": [
    "#### SVM Kernel"
   ]
  },
  {
   "cell_type": "code",
   "execution_count": 52,
   "metadata": {
    "collapsed": false
   },
   "outputs": [
    {
     "data": {
      "text/plain": [
       "0.59999999999999998"
      ]
     },
     "execution_count": 52,
     "metadata": {},
     "output_type": "execute_result"
    }
   ],
   "source": [
    "#class_weight={0:10} give a larger importance to class 0\n",
    "#svm_rbf = svm.SVC(kernel='rbf', gamma=500, class_weight={0:10})\n",
    "svm_rbf = svm.SVC(kernel='rbf', gamma = 500)\n",
    "svm_rbf.fit(X_train_PCA,Y_train)\n",
    "svm_rbf.score(X_test_PCA, Y_test)"
   ]
  },
  {
   "cell_type": "code",
   "execution_count": null,
   "metadata": {
    "collapsed": true
   },
   "outputs": [],
   "source": []
  }
 ],
 "metadata": {
  "kernelspec": {
   "display_name": "Python [Root]",
   "language": "python",
   "name": "Python [Root]"
  },
  "language_info": {
   "codemirror_mode": {
    "name": "ipython",
    "version": 2
   },
   "file_extension": ".py",
   "mimetype": "text/x-python",
   "name": "python",
   "nbconvert_exporter": "python",
   "pygments_lexer": "ipython2",
   "version": "2.7.12"
  }
 },
 "nbformat": 4,
 "nbformat_minor": 0
}
