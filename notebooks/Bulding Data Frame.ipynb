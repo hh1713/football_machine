{
 "cells": [
  {
   "cell_type": "code",
   "execution_count": 50,
   "metadata": {
    "collapsed": true
   },
   "outputs": [],
   "source": [
    "import pandas as pd\n",
    "pd.options.display.max_columns = 999\n",
    "pd.options.display.max_rows = 30\n"
   ]
  },
  {
   "cell_type": "code",
   "execution_count": 16,
   "metadata": {
    "collapsed": true
   },
   "outputs": [],
   "source": [
    "##Define the object for the season team\n",
    "class MyDf:\n",
    "    def __init__(self, mydf):\n",
    "        self.df = mydf   "
   ]
  },
  {
   "cell_type": "markdown",
   "metadata": {},
   "source": [
    "# Creating the teams dataframe"
   ]
  },
  {
   "cell_type": "code",
   "execution_count": 17,
   "metadata": {
    "collapsed": false
   },
   "outputs": [],
   "source": [
    "TEAMNAMES=pd.read_csv('../Data/from_sqlite_Data/Team.csv')\n",
    "LEAGUENAMES= pd.read_csv('../Data/from_sqlite_Data/League.csv')\n",
    "df2 = pd.read_csv('../Data/from_sqlite_Data/bigfinal.csv')\n",
    "df2.drop(['Unnamed: 0'],axis=1,inplace=True)\n",
    "df2.drop(['league_id'],axis=1,inplace=True)\n",
    "df2.drop(['id'],axis=1,inplace=True)"
   ]
  },
  {
   "cell_type": "code",
   "execution_count": 18,
   "metadata": {
    "collapsed": false
   },
   "outputs": [
    {
     "data": {
      "text/html": [
       "<div>\n",
       "<table border=\"1\" class=\"dataframe\">\n",
       "  <thead>\n",
       "    <tr style=\"text-align: right;\">\n",
       "      <th></th>\n",
       "      <th>country_id</th>\n",
       "      <th>season</th>\n",
       "      <th>Date</th>\n",
       "      <th>HomeTeam</th>\n",
       "      <th>AwayTeam</th>\n",
       "      <th>FTHG</th>\n",
       "      <th>FTAG</th>\n",
       "      <th>B365H</th>\n",
       "      <th>B365D</th>\n",
       "      <th>B365A</th>\n",
       "      <th>BWH</th>\n",
       "      <th>BWD</th>\n",
       "      <th>BWA</th>\n",
       "      <th>IWH</th>\n",
       "      <th>IWD</th>\n",
       "      <th>IWA</th>\n",
       "      <th>LBH</th>\n",
       "      <th>LBD</th>\n",
       "      <th>LBA</th>\n",
       "      <th>PSH</th>\n",
       "      <th>PSD</th>\n",
       "      <th>PSA</th>\n",
       "      <th>WHH</th>\n",
       "      <th>WHD</th>\n",
       "      <th>WHA</th>\n",
       "      <th>SJH</th>\n",
       "      <th>SJD</th>\n",
       "      <th>SJA</th>\n",
       "      <th>VCH</th>\n",
       "      <th>VCD</th>\n",
       "      <th>VCA</th>\n",
       "      <th>GBH</th>\n",
       "      <th>GBD</th>\n",
       "      <th>GBA</th>\n",
       "      <th>BSH</th>\n",
       "      <th>BSD</th>\n",
       "      <th>BSA</th>\n",
       "    </tr>\n",
       "  </thead>\n",
       "  <tbody>\n",
       "    <tr>\n",
       "      <th>0</th>\n",
       "      <td>Belgium Jupiler League</td>\n",
       "      <td>2008/2009</td>\n",
       "      <td>2008-08-17 00:00:00</td>\n",
       "      <td>KRC Genk</td>\n",
       "      <td>Beerschot AC</td>\n",
       "      <td>1</td>\n",
       "      <td>1</td>\n",
       "      <td>1.73</td>\n",
       "      <td>3.4</td>\n",
       "      <td>5</td>\n",
       "      <td>1.75</td>\n",
       "      <td>3.35</td>\n",
       "      <td>4.2</td>\n",
       "      <td>1.85</td>\n",
       "      <td>3.2</td>\n",
       "      <td>3.5</td>\n",
       "      <td>1.8</td>\n",
       "      <td>3.3</td>\n",
       "      <td>3.75</td>\n",
       "      <td>&lt;null&gt;</td>\n",
       "      <td>&lt;null&gt;</td>\n",
       "      <td>&lt;null&gt;</td>\n",
       "      <td>1.7</td>\n",
       "      <td>3.3</td>\n",
       "      <td>4.33</td>\n",
       "      <td>1.9</td>\n",
       "      <td>3.3</td>\n",
       "      <td>4</td>\n",
       "      <td>1.65</td>\n",
       "      <td>3.4</td>\n",
       "      <td>4.5</td>\n",
       "      <td>1.78</td>\n",
       "      <td>3.25</td>\n",
       "      <td>4</td>\n",
       "      <td>1.73</td>\n",
       "      <td>3.4</td>\n",
       "      <td>4.2</td>\n",
       "    </tr>\n",
       "  </tbody>\n",
       "</table>\n",
       "</div>"
      ],
      "text/plain": [
       "               country_id     season                 Date  HomeTeam  \\\n",
       "0  Belgium Jupiler League  2008/2009  2008-08-17 00:00:00  KRC Genk   \n",
       "\n",
       "       AwayTeam  FTHG  FTAG B365H B365D B365A   BWH   BWD  BWA   IWH  IWD  \\\n",
       "0  Beerschot AC     1     1  1.73   3.4     5  1.75  3.35  4.2  1.85  3.2   \n",
       "\n",
       "   IWA  LBH  LBD   LBA     PSH     PSD     PSA  WHH  WHD   WHA  SJH  SJD SJA  \\\n",
       "0  3.5  1.8  3.3  3.75  <null>  <null>  <null>  1.7  3.3  4.33  1.9  3.3   4   \n",
       "\n",
       "    VCH  VCD  VCA   GBH   GBD GBA   BSH  BSD  BSA  \n",
       "0  1.65  3.4  4.5  1.78  3.25   4  1.73  3.4  4.2  "
      ]
     },
     "execution_count": 18,
     "metadata": {},
     "output_type": "execute_result"
    }
   ],
   "source": [
    "df2.head(n=1)"
   ]
  },
  {
   "cell_type": "code",
   "execution_count": 19,
   "metadata": {
    "collapsed": false
   },
   "outputs": [],
   "source": [
    "season = df2.iloc[:,:7]\n",
    "FTR=[]\n",
    "for i in range(len(season)):\n",
    "    if season['FTHG'][i]>season['FTAG'][i]:\n",
    "        FTR.append('H')\n",
    "    if season['FTHG'][i]<season['FTAG'][i]:\n",
    "        FTR.append('A')\n",
    "    if season['FTHG'][i]==season['FTAG'][i]:\n",
    "        FTR.append('D')\n",
    "    \n",
    "season['FTR']=FTR   "
   ]
  },
  {
   "cell_type": "code",
   "execution_count": 20,
   "metadata": {
    "collapsed": false
   },
   "outputs": [
    {
     "name": "stderr",
     "output_type": "stream",
     "text": [
      "/Users/nicolamacchitella/anaconda/lib/python2.7/site-packages/ipykernel/__main__.py:1: FutureWarning: sort(columns=....) is deprecated, use sort_values(by=.....)\n",
      "  if __name__ == '__main__':\n"
     ]
    }
   ],
   "source": [
    "season=season.sort('Date')"
   ]
  },
  {
   "cell_type": "code",
   "execution_count": 21,
   "metadata": {
    "collapsed": true
   },
   "outputs": [],
   "source": [
    "season.reset_index(inplace=True)\n"
   ]
  },
  {
   "cell_type": "code",
   "execution_count": 22,
   "metadata": {
    "collapsed": false
   },
   "outputs": [],
   "source": [
    "season.drop(['index'],axis=1,inplace=True)"
   ]
  },
  {
   "cell_type": "code",
   "execution_count": 60,
   "metadata": {
    "collapsed": false
   },
   "outputs": [],
   "source": [
    "teams=season.HomeTeam.unique()\n",
    "allteamsresults=[]\n",
    "for i in teams:\n",
    "    path=pd.DataFrame()            \n",
    "    path = season[(season[\"HomeTeam\"] == i) | (season['AwayTeam'] == i )] \n",
    "    allteamsresults.append(MyDf(path))"
   ]
  },
  {
   "cell_type": "markdown",
   "metadata": {},
   "source": [
    "## Allteamsresults is a list of dataframes and each dataframe represents a specific team. To access info on a team use team index. The position of the team in the list \"teams\" gives  the index of the team in the \"allteamsresults\" list of dataframes."
   ]
  },
  {
   "cell_type": "markdown",
   "metadata": {},
   "source": [
    "## Now, lets calculate some other features"
   ]
  },
  {
   "cell_type": "markdown",
   "metadata": {},
   "source": [
    "## 1) Goal scored and received - home and away.\n",
    "### We will shift of one match back each calculation, which means, each row will have the present match and the statistics goals scored up to that day (before the match)."
   ]
  },
  {
   "cell_type": "code",
   "execution_count": 57,
   "metadata": {
    "collapsed": false
   },
   "outputs": [],
   "source": [
    "def calculate_for_team_i(ALL_TEAM,team_lists,team_index):\n",
    "    \n",
    "    #create the lists for goals \n",
    "    Goal_scored_home=[]\n",
    "    Goal_received_home=[]\n",
    "    Goal_scored_away=[]\n",
    "    Goal_received_away=[]\n",
    "    \n",
    "    #total_goal\n",
    "    total_goal_scored=[]\n",
    "    total_goal_received=[]\n",
    "    \n",
    "    #create the list for averages goals\n",
    "    Av_Goal_scored_home=[]\n",
    "    Av_Goal_received_home=[]\n",
    "   \n",
    "\n",
    "    Av_Goal_scored_away=[]\n",
    "    Av_Goal_received_away=[]\n",
    "       \n",
    "    #create the list for averages total goals\n",
    "    Av_total_goal_scored=[]\n",
    "    Av_total_goal_received=[]\n",
    "    \n",
    "    #create the lists for points\n",
    "    Point_home=[]\n",
    "    Point_away=[]\n",
    "\n",
    "    total_point=[]\n",
    "\n",
    "    #create the list for average Points\n",
    "    Av_Point_home=[]\n",
    "    Av_Point_away=[]\n",
    "\n",
    "    Av_total_point=[]\n",
    "    \n",
    "    #ROUND_INDEX\n",
    "    round_index=[]\n",
    "\n",
    "    \n",
    "    k=1\n",
    "    \n",
    "    Goal_scored_home.append(0)\n",
    "    Goal_received_home.append(0)\n",
    "    Goal_scored_away.append(0)\n",
    "    Goal_received_away.append(0)\n",
    "    total_goal_scored.append(0)\n",
    "    total_goal_received.append(0)\n",
    "    Av_Goal_scored_home.append(0)\n",
    "    Av_Goal_received_home.append(0)\n",
    "    Av_Goal_scored_away.append(0)\n",
    "    Av_Goal_received_away.append(0)\n",
    "    Av_total_goal_scored.append(0)\n",
    "    Av_total_goal_received.append(0)\n",
    "    Point_home.append(0)\n",
    "    Point_away.append(0)\n",
    "    total_point.append(0)\n",
    "    Av_Point_home.append(0)\n",
    "    Av_Point_away.append(0)\n",
    "    Av_total_point.append(0)\n",
    "    \n",
    "    for h in allteamsresults[team_index].df['season'].unique():\n",
    "    \n",
    "        seasonal_index=allteamsresults[team_index].df[allteamsresults[team_index].df['season']==h].index\n",
    "        Home=0\n",
    "        Away=0\n",
    "        total=0\n",
    "        round_in=1\n",
    "        \n",
    "        for i in seasonal_index:\n",
    "            \n",
    "            round_index.append(round_in)\n",
    "            round_in=round_in+1\n",
    "            \n",
    "            #HOME\n",
    "            if ALL_TEAM[team_index].df['HomeTeam'][i]==team_lists[team_index]:\n",
    "\n",
    "                #Goal scored, received and total\n",
    "                Goal_scored_home.append(ALL_TEAM[team_index].df['FTHG'][i]+Goal_scored_home[k-1])\n",
    "                Goal_received_home.append(ALL_TEAM[team_index].df['FTAG'][i]+Goal_received_home[k-1])  \n",
    "                Goal_scored_away.append(Goal_scored_away[k-1])\n",
    "                Goal_received_away.append(Goal_received_away[k-1])\n",
    "                total_goal_scored.append(total_goal_scored[k-1]+ALL_TEAM[team_index].df['FTHG'][i])\n",
    "                total_goal_received.append(total_goal_received[k-1]+ALL_TEAM[team_index].df['FTAG'][i])\n",
    "\n",
    "                #Goal average\n",
    "                Home=Home+1\n",
    "                total=Home+Away\n",
    "                Av_Goal_scored_home.append(float(Goal_scored_home[k])/Home)\n",
    "                Av_Goal_received_home.append(float(Goal_received_home[k])/Home)\n",
    "                Av_Goal_scored_away.append(Av_Goal_scored_away[k-1])\n",
    "                Av_Goal_received_away.append(Av_Goal_received_away[k-1])\n",
    "                Av_total_goal_scored.append(float(total_goal_scored[k])/total)\n",
    "                Av_total_goal_received.append(float(total_goal_received[k])/total)\n",
    "\n",
    "\n",
    "                #Point winning\n",
    "                if ALL_TEAM[team_index].df['FTR'][i]=='H':\n",
    "                    Point_home.append(3+Point_home[k-1])\n",
    "                    Av_Point_home.append(float(Point_home[k])/Home)\n",
    "                    total_point.append(3+total_point[k-1])\n",
    "                    Av_total_point.append(float(total_point[k])/total)\n",
    "\n",
    "                #Point draw\n",
    "                if ALL_TEAM[team_index].df['FTR'][i]=='D':\n",
    "                    Point_home.append(1+Point_home[k-1])\n",
    "                    Av_Point_home.append(float(Point_home[k])/Home)\n",
    "                    total_point.append(1+total_point[k-1])\n",
    "                    Av_total_point.append(float(total_point[k])/total)\n",
    "\n",
    "                #Point lost\n",
    "                if ALL_TEAM[team_index].df['FTR'][i]=='A':\n",
    "                    Point_home.append(0+Point_home[k-1])\n",
    "                    Av_Point_home.append(float(Point_home[k])/Home)   \n",
    "                    total_point.append(0+total_point[k-1])\n",
    "                    Av_total_point.append(float(total_point[k])/total)\n",
    "\n",
    "                Point_away.append(Point_away[k-1])\n",
    "                Av_Point_away.append(Av_Point_away[k-1])\n",
    "\n",
    "            #AWAY\n",
    "            if ALL_TEAM[team_index].df['HomeTeam'][i]!=team_lists[team_index]:\n",
    "\n",
    "                #Goal scored, received and total\n",
    "                Goal_scored_away.append(ALL_TEAM[team_index].df['FTAG'][i]+Goal_scored_away[k-1])\n",
    "                Goal_received_away.append(ALL_TEAM[team_index].df['FTHG'][i]+Goal_received_away[k-1])\n",
    "                Goal_scored_home.append(Goal_scored_home[k-1])\n",
    "                Goal_received_home.append(Goal_received_home[k-1])\n",
    "                total_goal_scored.append(total_goal_scored[k-1]+ALL_TEAM[team_index].df['FTAG'][i])\n",
    "                total_goal_received.append(total_goal_received[k-1]+ALL_TEAM[team_index].df['FTHG'][i])\n",
    "\n",
    "                #Goal average\n",
    "                Away=Away+1\n",
    "                total=Home+Away\n",
    "\n",
    "                Av_Goal_scored_away.append(float(Goal_scored_away[k])/Away)\n",
    "                Av_Goal_received_away.append(float(Goal_received_away[k])/Away)\n",
    "                Av_Goal_scored_home.append(Av_Goal_scored_home[k-1])\n",
    "                Av_Goal_received_home.append(Av_Goal_received_home[k-1])\n",
    "                Av_total_goal_scored.append(float(total_goal_scored[k])/total)\n",
    "                Av_total_goal_received.append(float(total_goal_received[k])/total)\n",
    "\n",
    "\n",
    "                #Point winning\n",
    "                if ALL_TEAM[team_index].df['FTR'][i]=='A':\n",
    "                    Point_away.append(3+Point_away[k-1])\n",
    "                    Av_Point_away.append(float(Point_away[k])/Away)\n",
    "                    total_point.append(3+total_point[k-1])\n",
    "                    Av_total_point.append(float(total_point[k])/total)\n",
    "\n",
    "                #Point draw\n",
    "                if ALL_TEAM[team_index].df['FTR'][i]=='D':\n",
    "                    Point_away.append(1+Point_away[k-1])\n",
    "                    Av_Point_away.append(float(Point_away[k])/Away)\n",
    "\n",
    "                    total_point.append(1+total_point[k-1])\n",
    "                    Av_total_point.append(float(total_point[k])/total)\n",
    "\n",
    "                #Point lost\n",
    "                if ALL_TEAM[team_index].df['FTR'][i]=='H':\n",
    "                    Point_away.append(0+Point_away[k-1])\n",
    "                    Av_Point_away.append(float(Point_away[k])/Away)\n",
    "\n",
    "                    total_point.append(0+total_point[k-1])\n",
    "                    Av_total_point.append(float(total_point[k])/total)\n",
    "\n",
    "\n",
    "                Point_home.append(Point_home[k-1])\n",
    "                Av_Point_home.append(Av_Point_home[k-1])\n",
    "\n",
    "\n",
    "            k=k+1\n",
    "\n",
    "        \n",
    "        Goal_scored_home[-1]=0\n",
    "        Goal_received_home[-1]=0\n",
    "        Goal_scored_away[-1]=0\n",
    "        Goal_received_away[-1]=0\n",
    "        total_goal_scored[-1]=0\n",
    "        total_goal_received[-1]=0\n",
    "\n",
    "\n",
    "        Av_Goal_scored_home[-1]=0\n",
    "        Av_Goal_received_home[-1]=0\n",
    "        Av_Goal_scored_away[-1]=0\n",
    "        Av_Goal_received_away[-1]=0\n",
    "        Av_total_goal_scored[-1]=0\n",
    "        Av_total_goal_received[-1]=0\n",
    "\n",
    "\n",
    "        Point_home[-1]=0\n",
    "        Point_away[-1]=0\n",
    "        Av_Point_home[-1]=0\n",
    "        Av_Point_away[-1]=0\n",
    "\n",
    "        total_point[-1]=0\n",
    "        Av_total_point[-1]=0\n",
    "        \n",
    "\n",
    "    del Goal_scored_home[-1]\n",
    "    del Goal_received_home[-1]\n",
    "    del Goal_scored_away[-1]\n",
    "    del Goal_received_away[-1]\n",
    "    del total_goal_scored[-1]\n",
    "    del total_goal_received[-1]\n",
    "\n",
    "\n",
    "    del Av_Goal_scored_home[-1]\n",
    "    del Av_Goal_received_home[-1]\n",
    "    del Av_Goal_scored_away[-1]\n",
    "    del Av_Goal_received_away[-1]\n",
    "    del Av_total_goal_scored[-1]\n",
    "    del Av_total_goal_received[-1]\n",
    "\n",
    "\n",
    "    del Point_home[-1]\n",
    "    del Point_away[-1]\n",
    "    del Av_Point_home[-1]\n",
    "    del Av_Point_away[-1]\n",
    "\n",
    "    del total_point[-1]\n",
    "    del Av_total_point[-1]\n",
    "    \n",
    "    ALL_TEAM[team_index].df['Round']=round_index\n",
    "    \n",
    "    ALL_TEAM[team_index].df['GS_H']=Goal_scored_home\n",
    "    ALL_TEAM[team_index].df['GS_A']=Goal_scored_away\n",
    "    ALL_TEAM[team_index].df['GR_H']=Goal_received_home\n",
    "    ALL_TEAM[team_index].df['GR_A']=Goal_received_away\n",
    "    ALL_TEAM[team_index].df['TGS']=total_goal_scored\n",
    "    ALL_TEAM[team_index].df['TGR']=total_goal_received\n",
    "    \n",
    "    \n",
    "    ALL_TEAM[team_index].df['AGS_H']=Av_Goal_scored_home\n",
    "    ALL_TEAM[team_index].df['AGS_A']=Av_Goal_scored_away\n",
    "    ALL_TEAM[team_index].df['AGR_H']=Av_Goal_received_home\n",
    "    ALL_TEAM[team_index].df['AGR_A']=Av_Goal_received_away\n",
    "    ALL_TEAM[team_index].df['ATGS']=Av_total_goal_scored\n",
    "    ALL_TEAM[team_index].df['ATGR']=Av_total_goal_received\n",
    "\n",
    "    \n",
    "    ALL_TEAM[team_index].df['Pnt_H']=Point_home\n",
    "    ALL_TEAM[team_index].df['Pnt_A']=Point_away\n",
    "    ALL_TEAM[team_index].df['TOTPT']=total_point\n",
    "\n",
    "    \n",
    "    ALL_TEAM[team_index].df['Av_Pnt_H']=Av_Point_home\n",
    "    ALL_TEAM[team_index].df['Av_pnt_A']=Av_Point_away\n",
    "    ALL_TEAM[team_index].df['Av_tot_pnt']=Av_total_point\n",
    "    \n",
    "\n",
    "\n",
    "\n",
    "    \n",
    "    \n",
    "    return ALL_TEAM[team_index].df\n"
   ]
  },
  {
   "cell_type": "code",
   "execution_count": 58,
   "metadata": {
    "collapsed": true
   },
   "outputs": [],
   "source": [
    "def calculate_past_match (ALL_TEAM,team_lists,team_index):\n",
    "    \n",
    "    T_L3M_Pnt=[]\n",
    "    T_L5M_Pnt=[]\n",
    "    \n",
    "    H_L3M_Pnt=[]\n",
    "    A_L3M_Pnt=[]\n",
    "    \n",
    "    H_L5M_Pnt=[]\n",
    "    A_L5M_Pnt=[]\n",
    "    \n",
    "    \n",
    "     \n",
    "    for i in ALL_TEAM[team_index].df.index:\n",
    "        \n",
    "        \n",
    "        #HOME\n",
    "        if ALL_TEAM[team_index].df['HomeTeam'][i]==team_lists[team_index]:\n",
    "            \n",
    "\n",
    "            #Goal scored, received and total\n",
    "            Goal_scored_home.append(ALL_TEAM[team_index].df['FTHG'][i]+Goal_scored_home[k-1])\n",
    "            Goal_received_home.append(ALL_TEAM[team_index].df['FTAG'][i]+Goal_received_home[k-1])\n",
    "    \n",
    "    \n",
    "    "
   ]
  },
  {
   "cell_type": "code",
   "execution_count": 62,
   "metadata": {
    "collapsed": false
   },
   "outputs": [
    {
     "name": "stderr",
     "output_type": "stream",
     "text": [
      "/Users/nicolamacchitella/anaconda/lib/python2.7/site-packages/ipykernel/__main__.py:224: SettingWithCopyWarning: \n",
      "A value is trying to be set on a copy of a slice from a DataFrame.\n",
      "Try using .loc[row_indexer,col_indexer] = value instead\n",
      "\n",
      "See the caveats in the documentation: http://pandas.pydata.org/pandas-docs/stable/indexing.html#indexing-view-versus-copy\n",
      "/Users/nicolamacchitella/anaconda/lib/python2.7/site-packages/ipykernel/__main__.py:226: SettingWithCopyWarning: \n",
      "A value is trying to be set on a copy of a slice from a DataFrame.\n",
      "Try using .loc[row_indexer,col_indexer] = value instead\n",
      "\n",
      "See the caveats in the documentation: http://pandas.pydata.org/pandas-docs/stable/indexing.html#indexing-view-versus-copy\n",
      "/Users/nicolamacchitella/anaconda/lib/python2.7/site-packages/ipykernel/__main__.py:227: SettingWithCopyWarning: \n",
      "A value is trying to be set on a copy of a slice from a DataFrame.\n",
      "Try using .loc[row_indexer,col_indexer] = value instead\n",
      "\n",
      "See the caveats in the documentation: http://pandas.pydata.org/pandas-docs/stable/indexing.html#indexing-view-versus-copy\n",
      "/Users/nicolamacchitella/anaconda/lib/python2.7/site-packages/ipykernel/__main__.py:228: SettingWithCopyWarning: \n",
      "A value is trying to be set on a copy of a slice from a DataFrame.\n",
      "Try using .loc[row_indexer,col_indexer] = value instead\n",
      "\n",
      "See the caveats in the documentation: http://pandas.pydata.org/pandas-docs/stable/indexing.html#indexing-view-versus-copy\n",
      "/Users/nicolamacchitella/anaconda/lib/python2.7/site-packages/ipykernel/__main__.py:229: SettingWithCopyWarning: \n",
      "A value is trying to be set on a copy of a slice from a DataFrame.\n",
      "Try using .loc[row_indexer,col_indexer] = value instead\n",
      "\n",
      "See the caveats in the documentation: http://pandas.pydata.org/pandas-docs/stable/indexing.html#indexing-view-versus-copy\n",
      "/Users/nicolamacchitella/anaconda/lib/python2.7/site-packages/ipykernel/__main__.py:230: SettingWithCopyWarning: \n",
      "A value is trying to be set on a copy of a slice from a DataFrame.\n",
      "Try using .loc[row_indexer,col_indexer] = value instead\n",
      "\n",
      "See the caveats in the documentation: http://pandas.pydata.org/pandas-docs/stable/indexing.html#indexing-view-versus-copy\n",
      "/Users/nicolamacchitella/anaconda/lib/python2.7/site-packages/ipykernel/__main__.py:231: SettingWithCopyWarning: \n",
      "A value is trying to be set on a copy of a slice from a DataFrame.\n",
      "Try using .loc[row_indexer,col_indexer] = value instead\n",
      "\n",
      "See the caveats in the documentation: http://pandas.pydata.org/pandas-docs/stable/indexing.html#indexing-view-versus-copy\n",
      "/Users/nicolamacchitella/anaconda/lib/python2.7/site-packages/ipykernel/__main__.py:234: SettingWithCopyWarning: \n",
      "A value is trying to be set on a copy of a slice from a DataFrame.\n",
      "Try using .loc[row_indexer,col_indexer] = value instead\n",
      "\n",
      "See the caveats in the documentation: http://pandas.pydata.org/pandas-docs/stable/indexing.html#indexing-view-versus-copy\n",
      "/Users/nicolamacchitella/anaconda/lib/python2.7/site-packages/ipykernel/__main__.py:235: SettingWithCopyWarning: \n",
      "A value is trying to be set on a copy of a slice from a DataFrame.\n",
      "Try using .loc[row_indexer,col_indexer] = value instead\n",
      "\n",
      "See the caveats in the documentation: http://pandas.pydata.org/pandas-docs/stable/indexing.html#indexing-view-versus-copy\n",
      "/Users/nicolamacchitella/anaconda/lib/python2.7/site-packages/ipykernel/__main__.py:236: SettingWithCopyWarning: \n",
      "A value is trying to be set on a copy of a slice from a DataFrame.\n",
      "Try using .loc[row_indexer,col_indexer] = value instead\n",
      "\n",
      "See the caveats in the documentation: http://pandas.pydata.org/pandas-docs/stable/indexing.html#indexing-view-versus-copy\n",
      "/Users/nicolamacchitella/anaconda/lib/python2.7/site-packages/ipykernel/__main__.py:237: SettingWithCopyWarning: \n",
      "A value is trying to be set on a copy of a slice from a DataFrame.\n",
      "Try using .loc[row_indexer,col_indexer] = value instead\n",
      "\n",
      "See the caveats in the documentation: http://pandas.pydata.org/pandas-docs/stable/indexing.html#indexing-view-versus-copy\n",
      "/Users/nicolamacchitella/anaconda/lib/python2.7/site-packages/ipykernel/__main__.py:238: SettingWithCopyWarning: \n",
      "A value is trying to be set on a copy of a slice from a DataFrame.\n",
      "Try using .loc[row_indexer,col_indexer] = value instead\n",
      "\n",
      "See the caveats in the documentation: http://pandas.pydata.org/pandas-docs/stable/indexing.html#indexing-view-versus-copy\n",
      "/Users/nicolamacchitella/anaconda/lib/python2.7/site-packages/ipykernel/__main__.py:239: SettingWithCopyWarning: \n",
      "A value is trying to be set on a copy of a slice from a DataFrame.\n",
      "Try using .loc[row_indexer,col_indexer] = value instead\n",
      "\n",
      "See the caveats in the documentation: http://pandas.pydata.org/pandas-docs/stable/indexing.html#indexing-view-versus-copy\n",
      "/Users/nicolamacchitella/anaconda/lib/python2.7/site-packages/ipykernel/__main__.py:242: SettingWithCopyWarning: \n",
      "A value is trying to be set on a copy of a slice from a DataFrame.\n",
      "Try using .loc[row_indexer,col_indexer] = value instead\n",
      "\n",
      "See the caveats in the documentation: http://pandas.pydata.org/pandas-docs/stable/indexing.html#indexing-view-versus-copy\n",
      "/Users/nicolamacchitella/anaconda/lib/python2.7/site-packages/ipykernel/__main__.py:243: SettingWithCopyWarning: \n",
      "A value is trying to be set on a copy of a slice from a DataFrame.\n",
      "Try using .loc[row_indexer,col_indexer] = value instead\n",
      "\n",
      "See the caveats in the documentation: http://pandas.pydata.org/pandas-docs/stable/indexing.html#indexing-view-versus-copy\n",
      "/Users/nicolamacchitella/anaconda/lib/python2.7/site-packages/ipykernel/__main__.py:244: SettingWithCopyWarning: \n",
      "A value is trying to be set on a copy of a slice from a DataFrame.\n",
      "Try using .loc[row_indexer,col_indexer] = value instead\n",
      "\n",
      "See the caveats in the documentation: http://pandas.pydata.org/pandas-docs/stable/indexing.html#indexing-view-versus-copy\n",
      "/Users/nicolamacchitella/anaconda/lib/python2.7/site-packages/ipykernel/__main__.py:247: SettingWithCopyWarning: \n",
      "A value is trying to be set on a copy of a slice from a DataFrame.\n",
      "Try using .loc[row_indexer,col_indexer] = value instead\n",
      "\n",
      "See the caveats in the documentation: http://pandas.pydata.org/pandas-docs/stable/indexing.html#indexing-view-versus-copy\n",
      "/Users/nicolamacchitella/anaconda/lib/python2.7/site-packages/ipykernel/__main__.py:248: SettingWithCopyWarning: \n",
      "A value is trying to be set on a copy of a slice from a DataFrame.\n",
      "Try using .loc[row_indexer,col_indexer] = value instead\n",
      "\n",
      "See the caveats in the documentation: http://pandas.pydata.org/pandas-docs/stable/indexing.html#indexing-view-versus-copy\n",
      "/Users/nicolamacchitella/anaconda/lib/python2.7/site-packages/ipykernel/__main__.py:249: SettingWithCopyWarning: \n",
      "A value is trying to be set on a copy of a slice from a DataFrame.\n",
      "Try using .loc[row_indexer,col_indexer] = value instead\n",
      "\n",
      "See the caveats in the documentation: http://pandas.pydata.org/pandas-docs/stable/indexing.html#indexing-view-versus-copy\n"
     ]
    }
   ],
   "source": [
    "for i in range(len(teams)):\n",
    "    allteamsresults[i].df=calculate_for_team_i(allteamsresults,teams,i)\n"
   ]
  },
  {
   "cell_type": "code",
   "execution_count": 63,
   "metadata": {
    "collapsed": false
   },
   "outputs": [],
   "source": [
    "tmp=pd.DataFrame(columns=(\n",
    "                          'H_ROUND',\n",
    "    \n",
    "                          'H_GS_H', \n",
    "                          'H_GS_A', \n",
    "                          'H_GR_H', \n",
    "                          'H_GR_A', \n",
    "                          'H_TGS',\n",
    "                          'H_TGR', \n",
    "                          \n",
    "                          'H_AvGS_H' ,\n",
    "                          'H_AvGS_A' ,\n",
    "                          'H_AvGR_H',\n",
    "                          'H_AvGR_A',\n",
    "                          'H_Av_TGS',\n",
    "                          'H_Av_TGR', \n",
    "                          \n",
    "                          \n",
    "                          'H_Pnt_H' ,\n",
    "                          'H_Pnt_A',\n",
    "                          'H_T_pnt',\n",
    "                          'H_Av_Pnt_H',\n",
    "                          'H_Av_pnt_A',\n",
    "                          'H_Av_T_pnt',\n",
    "                          \n",
    "                          'A_ROUND',\n",
    "\n",
    "                          'Aw_GS_H', \n",
    "                          'Aw_GS_A', \n",
    "                          'Aw_GR_H', \n",
    "                          'Aw_GR_A', \n",
    "                          'Aw_TGS',\n",
    "                          'Aw_TGR', \n",
    "                          \n",
    "                          'Aw_AvGS_H' ,\n",
    "                          'Aw_AvGS_A' ,\n",
    "                          'Aw_AvGR_H',\n",
    "                          'Aw_AvGR_A',\n",
    "                          'Aw_Av_TGS',\n",
    "                          'Aw_Av_TGR', \n",
    "                          \n",
    "                          \n",
    "                          'Aw_Pnt_H' ,\n",
    "                          'Aw_Pnt_A',\n",
    "                          'Aw_T_pnt',\n",
    "                          'Aw_Av_Pnt_H',\n",
    "                          'Aw_Av_pnt_A',\n",
    "                         \n",
    "                          'Aw_Av_T_pnt',\n",
    "                          \n",
    "                          \n",
    "                          \n",
    "                         )\n",
    "                )\n",
    "\n"
   ]
  },
  {
   "cell_type": "code",
   "execution_count": 64,
   "metadata": {
    "collapsed": false
   },
   "outputs": [],
   "source": [
    "for i in season.index:\n",
    "    date=season['Date'][i]\n",
    "    Home=season['HomeTeam'][i]\n",
    "    Away=season['AwayTeam'][i]\n",
    "    \n",
    "    home_index=pd.Series(teams)[teams==Home].index[0]\n",
    "    away_index=pd.Series(teams)[teams==Away].index[0]\n",
    "    tobeappend=list(allteamsresults[home_index].df.loc[i].iloc[8:]) + list(allteamsresults[away_index].df.loc[i].iloc[8:])\n",
    "    tmp.loc[i]=tobeappend"
   ]
  },
  {
   "cell_type": "code",
   "execution_count": 65,
   "metadata": {
    "collapsed": false
   },
   "outputs": [],
   "source": [
    "final=pd.merge(left=season, right=tmp, left_index=True, right_index=True)"
   ]
  },
  {
   "cell_type": "code",
   "execution_count": 66,
   "metadata": {
    "collapsed": true
   },
   "outputs": [],
   "source": [
    "final['DIFF_av_TP']=final['H_Av_T_pnt']-final['Aw_Av_T_pnt']\n",
    "final['DIFF_av_HP-AP']=final['H_Av_Pnt_H']-final['Aw_Av_pnt_A']\n",
    "\n",
    "final['SUMM_av_HGSH+AGRA']=final['H_AvGS_H']+final['Aw_AvGR_A']\n",
    "final['SUMM_av_HGRH+AGSA']=final['H_AvGR_H']+final['Aw_AvGS_A']\n",
    "\n",
    "final['SUMM_av_HTGS+ATGR']=final['H_Av_TGS']+final['Aw_Av_TGR']\n",
    "final['SUMM_av_HTGR+ATGS']=final['H_Av_TGR']+final['Aw_Av_TGS']\n"
   ]
  },
  {
   "cell_type": "code",
   "execution_count": null,
   "metadata": {
    "collapsed": false
   },
   "outputs": [],
   "source": [
    "final.index"
   ]
  },
  {
   "cell_type": "code",
   "execution_count": 68,
   "metadata": {
    "collapsed": true
   },
   "outputs": [],
   "source": [
    "final.to_csv('../Data/from_sqlite_Data/realfinal.csv')"
   ]
  },
  {
   "cell_type": "code",
   "execution_count": null,
   "metadata": {
    "collapsed": true
   },
   "outputs": [],
   "source": []
  },
  {
   "cell_type": "code",
   "execution_count": 69,
   "metadata": {
    "collapsed": true
   },
   "outputs": [],
   "source": [
    "final=pd.read_csv('../Data/from_sqlite_Data/realfinal.csv')"
   ]
  },
  {
   "cell_type": "code",
   "execution_count": 70,
   "metadata": {
    "collapsed": true
   },
   "outputs": [],
   "source": [
    "final.drop(['Unnamed: 0'], axis=1,inplace=True)"
   ]
  },
  {
   "cell_type": "code",
   "execution_count": 71,
   "metadata": {
    "collapsed": false
   },
   "outputs": [
    {
     "name": "stderr",
     "output_type": "stream",
     "text": [
      "/Users/nicolamacchitella/anaconda/lib/python2.7/site-packages/ipykernel/__main__.py:1: FutureWarning: sort(columns=....) is deprecated, use sort_values(by=.....)\n",
      "  if __name__ == '__main__':\n",
      "/Users/nicolamacchitella/anaconda/lib/python2.7/site-packages/ipykernel/__main__.py:2: FutureWarning: sort(columns=....) is deprecated, use sort_values(by=.....)\n",
      "  from ipykernel import kernelapp as app\n",
      "/Users/nicolamacchitella/anaconda/lib/python2.7/site-packages/ipykernel/__main__.py:3: FutureWarning: sort(columns=....) is deprecated, use sort_values(by=.....)\n",
      "  app.launch_new_instance()\n",
      "/Users/nicolamacchitella/anaconda/lib/python2.7/site-packages/ipykernel/__main__.py:4: FutureWarning: sort(columns=....) is deprecated, use sort_values(by=.....)\n",
      "/Users/nicolamacchitella/anaconda/lib/python2.7/site-packages/ipykernel/__main__.py:5: FutureWarning: sort(columns=....) is deprecated, use sort_values(by=.....)\n",
      "/Users/nicolamacchitella/anaconda/lib/python2.7/site-packages/ipykernel/__main__.py:6: FutureWarning: sort(columns=....) is deprecated, use sort_values(by=.....)\n",
      "/Users/nicolamacchitella/anaconda/lib/python2.7/site-packages/ipykernel/__main__.py:7: FutureWarning: sort(columns=....) is deprecated, use sort_values(by=.....)\n",
      "/Users/nicolamacchitella/anaconda/lib/python2.7/site-packages/ipykernel/__main__.py:8: FutureWarning: sort(columns=....) is deprecated, use sort_values(by=.....)\n",
      "/Users/nicolamacchitella/anaconda/lib/python2.7/site-packages/ipykernel/__main__.py:9: FutureWarning: sort(columns=....) is deprecated, use sort_values(by=.....)\n",
      "/Users/nicolamacchitella/anaconda/lib/python2.7/site-packages/ipykernel/__main__.py:10: FutureWarning: sort(columns=....) is deprecated, use sort_values(by=.....)\n",
      "/Users/nicolamacchitella/anaconda/lib/python2.7/site-packages/ipykernel/__main__.py:11: FutureWarning: sort(columns=....) is deprecated, use sort_values(by=.....)\n"
     ]
    }
   ],
   "source": [
    "England=final[final['country_id']=='England Premier League'].sort(columns='Date')\n",
    "Belgium=final[final['country_id']=='Belgium Jupiler League'].sort(columns='Date')\n",
    "France=final[final['country_id']=='France Ligue 1'].sort(columns='Date')\n",
    "Germany=final[final['country_id']=='Germany 1. Bundesliga'].sort(columns='Date')\n",
    "Italy=final[final['country_id']=='Italy Serie A'].sort(columns='Date')\n",
    "Netherlands=final[final['country_id']=='Netherlands Eredivisie'].sort(columns='Date')\n",
    "Poland=final[final['country_id']=='Poland Ekstraklasa'].sort(columns='Date')\n",
    "Portugal=final[final['country_id']=='Portugal Liga ZON Sagres'].sort(columns='Date')\n",
    "Scotland=final[final['country_id']=='Scotland Premier League'].sort(columns='Date')\n",
    "Spain=final[final['country_id']=='Spain LIGA BBVA'].sort(columns='Date')\n",
    "Swiss=final[final['country_id']=='Switzerland Super League'].sort(columns='Date')"
   ]
  },
  {
   "cell_type": "code",
   "execution_count": 72,
   "metadata": {
    "collapsed": true
   },
   "outputs": [],
   "source": [
    "England.reset_index(inplace=True)\n",
    "Belgium.reset_index(inplace=True)\n",
    "France.reset_index(inplace=True)\n",
    "Germany.reset_index(inplace=True)\n",
    "Italy.reset_index(inplace=True)\n",
    "Netherlands.reset_index(inplace=True)\n",
    "Poland.reset_index(inplace=True)\n",
    "Portugal.reset_index(inplace=True)\n",
    "Scotland.reset_index(inplace=True)\n",
    "Spain.reset_index(inplace=True)\n",
    "Swiss.reset_index(inplace=True)"
   ]
  },
  {
   "cell_type": "code",
   "execution_count": 73,
   "metadata": {
    "collapsed": false
   },
   "outputs": [],
   "source": [
    "England.drop(['index'],axis=1,inplace=True)\n",
    "Belgium.drop(['index'],axis=1,inplace=True)\n",
    "France.drop(['index'],axis=1,inplace=True)\n",
    "Germany.drop(['index'],axis=1,inplace=True)\n",
    "Italy.drop(['index'],axis=1,inplace=True)\n",
    "Netherlands.drop(['index'],axis=1,inplace=True)\n",
    "Poland.drop(['index'],axis=1,inplace=True)\n",
    "Portugal.drop(['index'],axis=1,inplace=True)\n",
    "Scotland.drop(['index'],axis=1,inplace=True)\n",
    "Spain.drop(['index'],axis=1,inplace=True)\n",
    "Swiss.drop(['index'],axis=1,inplace=True)"
   ]
  }
 ],
 "metadata": {
  "anaconda-cloud": {},
  "kernelspec": {
   "display_name": "Python 2",
   "language": "python",
   "name": "python2"
  },
  "language_info": {
   "codemirror_mode": {
    "name": "ipython",
    "version": 2
   },
   "file_extension": ".py",
   "mimetype": "text/x-python",
   "name": "python",
   "nbconvert_exporter": "python",
   "pygments_lexer": "ipython2",
   "version": "2.7.13"
  }
 },
 "nbformat": 4,
 "nbformat_minor": 0
}
