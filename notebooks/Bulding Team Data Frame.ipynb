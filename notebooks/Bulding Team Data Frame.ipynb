{
 "cells": [
  {
   "cell_type": "code",
   "execution_count": 1,
   "metadata": {
    "collapsed": true
   },
   "outputs": [],
   "source": [
    "import pandas as pd"
   ]
  },
  {
   "cell_type": "markdown",
   "metadata": {},
   "source": [
    "# Creating the teams dataframe"
   ]
  },
  {
   "cell_type": "code",
   "execution_count": 2,
   "metadata": {
    "collapsed": true
   },
   "outputs": [],
   "source": [
    "##Define the object for the season team\n",
    "class MyDf:\n",
    "    def __init__(self, mydf):\n",
    "        self.df = mydf\n",
    "        "
   ]
  },
  {
   "cell_type": "code",
   "execution_count": 3,
   "metadata": {
    "collapsed": true
   },
   "outputs": [],
   "source": [
    "df = pd.read_csv(\"../Data/EPL_1617.csv\")"
   ]
  },
  {
   "cell_type": "code",
   "execution_count": 4,
   "metadata": {
    "collapsed": false
   },
   "outputs": [],
   "source": [
    "season = df.iloc[:,1:11]"
   ]
  },
  {
   "cell_type": "code",
   "execution_count": 5,
   "metadata": {
    "collapsed": true
   },
   "outputs": [],
   "source": [
    "columns = ['Date', 'HomeTeam', 'AwayTeam', \n",
    "           'FullTimeHomeGoals', 'FullTimeAwayGoals', 'FullTimeResults', \n",
    "           'HalfTimeHomeGoals', 'HalfTimeAwayGoals', 'HalfTimeResults', 'Referee']"
   ]
  },
  {
   "cell_type": "code",
   "execution_count": 6,
   "metadata": {
    "collapsed": false
   },
   "outputs": [],
   "source": [
    "teams=season.HomeTeam.unique()"
   ]
  },
  {
   "cell_type": "code",
   "execution_count": 7,
   "metadata": {
    "collapsed": true
   },
   "outputs": [],
   "source": [
    "allteamsresults=[]\n",
    "for i in teams:\n",
    "    path=pd.DataFrame()            \n",
    "    path = season[(season[\"HomeTeam\"] == i) | (season['AwayTeam'] == i )] \n",
    "    allteamsresults.append(MyDf(path))"
   ]
  },
  {
   "cell_type": "markdown",
   "metadata": {},
   "source": [
    "## Now allteameasresults has memorized all the results of the season per teams. You can access to each team results with the team index. The position of the team in the list \"teams\" will give you the index of the team results in the dataframe allteamsresults."
   ]
  },
  {
   "cell_type": "code",
   "execution_count": 8,
   "metadata": {
    "collapsed": false
   },
   "outputs": [
    {
     "data": {
      "text/plain": [
       "array(['Burnley', 'Crystal Palace', 'Everton', 'Hull', 'Man City',\n",
       "       'Middlesbrough', 'Southampton', 'Arsenal', 'Bournemouth', 'Chelsea',\n",
       "       'Man United', 'Leicester', 'Stoke', 'Swansea', 'Tottenham',\n",
       "       'Watford', 'West Brom', 'Sunderland', 'West Ham', 'Liverpool'], dtype=object)"
      ]
     },
     "execution_count": 8,
     "metadata": {},
     "output_type": "execute_result"
    }
   ],
   "source": [
    "teams"
   ]
  },
  {
   "cell_type": "markdown",
   "metadata": {},
   "source": [
    "the index of Arsenal is 7"
   ]
  },
  {
   "cell_type": "code",
   "execution_count": 9,
   "metadata": {
    "collapsed": false
   },
   "outputs": [
    {
     "data": {
      "text/html": [
       "<div>\n",
       "<table border=\"1\" class=\"dataframe\">\n",
       "  <thead>\n",
       "    <tr style=\"text-align: right;\">\n",
       "      <th></th>\n",
       "      <th>Date</th>\n",
       "      <th>HomeTeam</th>\n",
       "      <th>AwayTeam</th>\n",
       "      <th>FTHG</th>\n",
       "      <th>FTAG</th>\n",
       "      <th>FTR</th>\n",
       "      <th>HTHG</th>\n",
       "      <th>HTAG</th>\n",
       "      <th>HTR</th>\n",
       "      <th>Referee</th>\n",
       "    </tr>\n",
       "  </thead>\n",
       "  <tbody>\n",
       "    <tr>\n",
       "      <th>7</th>\n",
       "      <td>14/08/16</td>\n",
       "      <td>Arsenal</td>\n",
       "      <td>Liverpool</td>\n",
       "      <td>3</td>\n",
       "      <td>4</td>\n",
       "      <td>A</td>\n",
       "      <td>1</td>\n",
       "      <td>1</td>\n",
       "      <td>D</td>\n",
       "      <td>M Oliver</td>\n",
       "    </tr>\n",
       "    <tr>\n",
       "      <th>12</th>\n",
       "      <td>20/08/16</td>\n",
       "      <td>Leicester</td>\n",
       "      <td>Arsenal</td>\n",
       "      <td>0</td>\n",
       "      <td>0</td>\n",
       "      <td>D</td>\n",
       "      <td>0</td>\n",
       "      <td>0</td>\n",
       "      <td>D</td>\n",
       "      <td>M Clattenburg</td>\n",
       "    </tr>\n",
       "  </tbody>\n",
       "</table>\n",
       "</div>"
      ],
      "text/plain": [
       "        Date   HomeTeam   AwayTeam  FTHG  FTAG FTR  HTHG  HTAG HTR  \\\n",
       "7   14/08/16    Arsenal  Liverpool     3     4   A     1     1   D   \n",
       "12  20/08/16  Leicester    Arsenal     0     0   D     0     0   D   \n",
       "\n",
       "          Referee  \n",
       "7        M Oliver  \n",
       "12  M Clattenburg  "
      ]
     },
     "execution_count": 9,
     "metadata": {},
     "output_type": "execute_result"
    }
   ],
   "source": [
    "allteamsresults[7].df.head(n=2)"
   ]
  },
  {
   "cell_type": "markdown",
   "metadata": {},
   "source": [
    "## Now, lets calculate some other features"
   ]
  },
  {
   "cell_type": "markdown",
   "metadata": {},
   "source": [
    "## 1) Goal scored and received - home and away.\n",
    "### We will shift of one match back each calculation, which means, each row will have the present match and the statistics goals scored up to that day (before the match)."
   ]
  },
  {
   "cell_type": "code",
   "execution_count": 35,
   "metadata": {
    "collapsed": true
   },
   "outputs": [],
   "source": [
    "def calculate_for_team_i(ALL_TEAM,team_lists,team_index):\n",
    "    \n",
    "    #create the lists for goals\n",
    "    Goal_scored_home=[]\n",
    "    Goal_received_home=[]\n",
    "    Goal_scored_away=[]\n",
    "    Goal_received_away=[]\n",
    "    \n",
    "    #create the list for averages goals\n",
    "    Av_Goal_scored_home=[]\n",
    "    Av_Goal_received_home=[]\n",
    "    Av_Goal_scored_away=[]\n",
    "    Av_Goal_received_away=[]\n",
    "    \n",
    "    \n",
    "    #create the list points\n",
    "    Point_home=[]\n",
    "    Point_away=[]\n",
    "    \n",
    "    #create the list for average Points\n",
    "    Av_Point_home=[]\n",
    "    Av_Point_away=[]\n",
    "    \n",
    "    \n",
    "    #create the index\n",
    "    k=1\n",
    "\n",
    "    #append day 1 that is empty\n",
    "    Goal_scored_home.append(0)\n",
    "    Goal_received_home.append(0)\n",
    "    Goal_scored_away.append(0)\n",
    "    Goal_received_away.append(0)\n",
    "    Av_Goal_scored_home.append(0)\n",
    "    Av_Goal_received_home.append(0)\n",
    "    Av_Goal_scored_away.append(0)\n",
    "    Av_Goal_received_away.append(0)\n",
    "    Point_home.append(0)\n",
    "    Point_away.append(0)\n",
    "    Av_Point_home.append(0)\n",
    "    Av_Point_away.append(0)\n",
    "    \n",
    "    #create a counter\n",
    "    Home=0\n",
    "    Away=0\n",
    "    \n",
    "    #run the loop for each team\n",
    "    for i in ALL_TEAM[team_index].df.index:\n",
    "        \n",
    "        \n",
    "        #HOME\n",
    "        if ALL_TEAM[team_index].df['HomeTeam'][i]==team_lists[team_index]:\n",
    "            \n",
    "\n",
    "            #goal scored and received\n",
    "            Goal_scored_home.append(ALL_TEAM[team_index].df['FTHG'][i]+Goal_scored_home[k-1])\n",
    "            Goal_received_home.append(ALL_TEAM[team_index].df['FTAG'][i]+Goal_received_home[k-1])\n",
    "            Goal_scored_away.append(Goal_scored_away[k-1])\n",
    "            Goal_received_away.append(Goal_received_away[k-1])\n",
    "            \n",
    "            #average\n",
    "            Home=Home+1\n",
    "            Av_Goal_scored_home.append(float(Goal_scored_home[k])/Home)\n",
    "            Av_Goal_received_home.append(float(Goal_received_home[k])/Home)\n",
    "            Av_Goal_scored_away.append(Av_Goal_scored_away[k-1])\n",
    "            Av_Goal_received_away.append(Av_Goal_received_away[k-1])\n",
    "            \n",
    "           \n",
    "            #Point winning\n",
    "            if ALL_TEAM[team_index].df['FTR'][i]=='H':\n",
    "                Point_home.append(3+Point_home[k-1])\n",
    "                Av_Point_home.append(float(Point_home[k])/Home)\n",
    "            \n",
    "            #Point draw\n",
    "            if ALL_TEAM[team_index].df['FTR'][i]=='D':\n",
    "                Point_home.append(1+Point_home[k-1])\n",
    "                Av_Point_home.append(float(Point_home[k])/Home)\n",
    "                \n",
    "            #Point lost\n",
    "            if ALL_TEAM[team_index].df['FTR'][i]=='A':\n",
    "                Point_home.append(0+Point_home[k-1])\n",
    "                Av_Point_home.append(float(Point_home[k])/Home)\n",
    "              \n",
    "            \n",
    "            Point_away.append(Point_away[k-1])\n",
    "            Av_Point_away.append(Av_Point_away[k-1])\n",
    "            \n",
    "\n",
    "            \n",
    "        \n",
    "        #AWAY\n",
    "        if ALL_TEAM[team_index].df['HomeTeam'][i]!=team_lists[team_index]:\n",
    "            \n",
    "            \n",
    "            Goal_scored_away.append(ALL_TEAM[team_index].df['FTAG'][i]+Goal_scored_away[k-1])\n",
    "            Goal_received_away.append(ALL_TEAM[team_index].df['FTHG'][i]+Goal_received_away[k-1])\n",
    "            Goal_scored_home.append(Goal_scored_home[k-1])\n",
    "            Goal_received_home.append(Goal_received_home[k-1])\n",
    "            \n",
    "            #average\n",
    "            Away=Away+1\n",
    "            Av_Goal_scored_away.append(float(Goal_scored_away[k])/Away)\n",
    "            Av_Goal_received_away.append(float(Goal_received_away[k])/Away)\n",
    "            Av_Goal_scored_home.append(Av_Goal_scored_home[k-1])\n",
    "            Av_Goal_received_home.append(Av_Goal_received_home[k-1])\n",
    "            \n",
    "            #Point winning\n",
    "            if ALL_TEAM[team_index].df['FTR'][i]=='A':\n",
    "                Point_away.append(3+Point_away[k-1])\n",
    "                Av_Point_away.append(float(Point_away[k])/Away)\n",
    "            \n",
    "            #Point draw\n",
    "            if ALL_TEAM[team_index].df['FTR'][i]=='D':\n",
    "                Point_away.append(1+Point_away[k-1])\n",
    "                Av_Point_away.append(float(Point_away[k])/Away)\n",
    "                \n",
    "            #Point lost\n",
    "            if ALL_TEAM[team_index].df['FTR'][i]=='H':\n",
    "                Point_away.append(0+Point_away[k-1])\n",
    "                Av_Point_away.append(float(Point_away[k])/Away)\n",
    "            \n",
    "            Point_home.append(Point_home[k-1])\n",
    "            Av_Point_home.append(Av_Point_home[k-1])\n",
    "        \n",
    "            \n",
    "            \n",
    "        k=k+1\n",
    "     \n",
    " \n",
    "    del Goal_scored_home[-1]\n",
    "    del Goal_received_home[-1]\n",
    "    del Goal_scored_away[-1]\n",
    "    del Goal_received_away[-1]\n",
    "    \n",
    "    \n",
    "    del Av_Goal_scored_home[-1]\n",
    "    del Av_Goal_received_home[-1]\n",
    "    del Av_Goal_scored_away[-1]\n",
    "    del Av_Goal_received_away[-1]\n",
    "    \n",
    "    del Point_home[-1]\n",
    "    del Point_away[-1]\n",
    "    del Av_Point_home[-1]\n",
    "    del Av_Point_away[-1]\n",
    "    \n",
    "    \n",
    "    ALL_TEAM[team_index].df['GS_H']=Goal_scored_home\n",
    "    ALL_TEAM[team_index].df['GS_A']=Goal_scored_away\n",
    "    ALL_TEAM[team_index].df['GR_H']=Goal_received_home\n",
    "    ALL_TEAM[team_index].df['GR_A']=Goal_received_away\n",
    "    \n",
    "    \n",
    "    ALL_TEAM[team_index].df['AGS_H']=Av_Goal_scored_home\n",
    "    ALL_TEAM[team_index].df['AGS_A']=Av_Goal_scored_away\n",
    "    ALL_TEAM[team_index].df['AGR_H']=Av_Goal_received_home\n",
    "    ALL_TEAM[team_index].df['AGR_A']=Av_Goal_received_away\n",
    "    \n",
    "    \n",
    "    ALL_TEAM[team_index].df['Pnt_H']=Point_home\n",
    "    ALL_TEAM[team_index].df['Pnt_A']=Point_away\n",
    "    ALL_TEAM[team_index].df['Av_Pnt_H']=Av_Point_home\n",
    "    ALL_TEAM[team_index].df['Av_pnt_A']=Av_Point_away\n",
    "    \n",
    "    return ALL_TEAM[team_index].df\n"
   ]
  },
  {
   "cell_type": "code",
   "execution_count": 36,
   "metadata": {
    "collapsed": false
   },
   "outputs": [
    {
     "name": "stderr",
     "output_type": "stream",
     "text": [
      "/Users/nicolamacchitella/anaconda/lib/python2.7/site-packages/ipykernel/__main__.py:146: SettingWithCopyWarning: \n",
      "A value is trying to be set on a copy of a slice from a DataFrame.\n",
      "Try using .loc[row_indexer,col_indexer] = value instead\n",
      "\n",
      "See the caveats in the documentation: http://pandas.pydata.org/pandas-docs/stable/indexing.html#indexing-view-versus-copy\n",
      "/Users/nicolamacchitella/anaconda/lib/python2.7/site-packages/ipykernel/__main__.py:147: SettingWithCopyWarning: \n",
      "A value is trying to be set on a copy of a slice from a DataFrame.\n",
      "Try using .loc[row_indexer,col_indexer] = value instead\n",
      "\n",
      "See the caveats in the documentation: http://pandas.pydata.org/pandas-docs/stable/indexing.html#indexing-view-versus-copy\n",
      "/Users/nicolamacchitella/anaconda/lib/python2.7/site-packages/ipykernel/__main__.py:148: SettingWithCopyWarning: \n",
      "A value is trying to be set on a copy of a slice from a DataFrame.\n",
      "Try using .loc[row_indexer,col_indexer] = value instead\n",
      "\n",
      "See the caveats in the documentation: http://pandas.pydata.org/pandas-docs/stable/indexing.html#indexing-view-versus-copy\n",
      "/Users/nicolamacchitella/anaconda/lib/python2.7/site-packages/ipykernel/__main__.py:149: SettingWithCopyWarning: \n",
      "A value is trying to be set on a copy of a slice from a DataFrame.\n",
      "Try using .loc[row_indexer,col_indexer] = value instead\n",
      "\n",
      "See the caveats in the documentation: http://pandas.pydata.org/pandas-docs/stable/indexing.html#indexing-view-versus-copy\n",
      "/Users/nicolamacchitella/anaconda/lib/python2.7/site-packages/ipykernel/__main__.py:152: SettingWithCopyWarning: \n",
      "A value is trying to be set on a copy of a slice from a DataFrame.\n",
      "Try using .loc[row_indexer,col_indexer] = value instead\n",
      "\n",
      "See the caveats in the documentation: http://pandas.pydata.org/pandas-docs/stable/indexing.html#indexing-view-versus-copy\n",
      "/Users/nicolamacchitella/anaconda/lib/python2.7/site-packages/ipykernel/__main__.py:153: SettingWithCopyWarning: \n",
      "A value is trying to be set on a copy of a slice from a DataFrame.\n",
      "Try using .loc[row_indexer,col_indexer] = value instead\n",
      "\n",
      "See the caveats in the documentation: http://pandas.pydata.org/pandas-docs/stable/indexing.html#indexing-view-versus-copy\n",
      "/Users/nicolamacchitella/anaconda/lib/python2.7/site-packages/ipykernel/__main__.py:154: SettingWithCopyWarning: \n",
      "A value is trying to be set on a copy of a slice from a DataFrame.\n",
      "Try using .loc[row_indexer,col_indexer] = value instead\n",
      "\n",
      "See the caveats in the documentation: http://pandas.pydata.org/pandas-docs/stable/indexing.html#indexing-view-versus-copy\n",
      "/Users/nicolamacchitella/anaconda/lib/python2.7/site-packages/ipykernel/__main__.py:155: SettingWithCopyWarning: \n",
      "A value is trying to be set on a copy of a slice from a DataFrame.\n",
      "Try using .loc[row_indexer,col_indexer] = value instead\n",
      "\n",
      "See the caveats in the documentation: http://pandas.pydata.org/pandas-docs/stable/indexing.html#indexing-view-versus-copy\n",
      "/Users/nicolamacchitella/anaconda/lib/python2.7/site-packages/ipykernel/__main__.py:158: SettingWithCopyWarning: \n",
      "A value is trying to be set on a copy of a slice from a DataFrame.\n",
      "Try using .loc[row_indexer,col_indexer] = value instead\n",
      "\n",
      "See the caveats in the documentation: http://pandas.pydata.org/pandas-docs/stable/indexing.html#indexing-view-versus-copy\n",
      "/Users/nicolamacchitella/anaconda/lib/python2.7/site-packages/ipykernel/__main__.py:159: SettingWithCopyWarning: \n",
      "A value is trying to be set on a copy of a slice from a DataFrame.\n",
      "Try using .loc[row_indexer,col_indexer] = value instead\n",
      "\n",
      "See the caveats in the documentation: http://pandas.pydata.org/pandas-docs/stable/indexing.html#indexing-view-versus-copy\n",
      "/Users/nicolamacchitella/anaconda/lib/python2.7/site-packages/ipykernel/__main__.py:160: SettingWithCopyWarning: \n",
      "A value is trying to be set on a copy of a slice from a DataFrame.\n",
      "Try using .loc[row_indexer,col_indexer] = value instead\n",
      "\n",
      "See the caveats in the documentation: http://pandas.pydata.org/pandas-docs/stable/indexing.html#indexing-view-versus-copy\n",
      "/Users/nicolamacchitella/anaconda/lib/python2.7/site-packages/ipykernel/__main__.py:161: SettingWithCopyWarning: \n",
      "A value is trying to be set on a copy of a slice from a DataFrame.\n",
      "Try using .loc[row_indexer,col_indexer] = value instead\n",
      "\n",
      "See the caveats in the documentation: http://pandas.pydata.org/pandas-docs/stable/indexing.html#indexing-view-versus-copy\n"
     ]
    }
   ],
   "source": [
    "for i in range(len(teams)):\n",
    "    allteamsresults[i].df=calculate_for_team_i(allteamsresults,teams,i)"
   ]
  }
 ],
 "metadata": {
  "anaconda-cloud": {},
  "kernelspec": {
   "display_name": "Python 2",
   "language": "python",
   "name": "python2"
  },
  "language_info": {
   "codemirror_mode": {
    "name": "ipython",
    "version": 2
   },
   "file_extension": ".py",
   "mimetype": "text/x-python",
   "name": "python",
   "nbconvert_exporter": "python",
   "pygments_lexer": "ipython2",
   "version": "2.7.13"
  }
 },
 "nbformat": 4,
 "nbformat_minor": 0
}
