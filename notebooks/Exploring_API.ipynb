{
 "cells": [
  {
   "cell_type": "code",
   "execution_count": 2,
   "metadata": {
    "collapsed": true
   },
   "outputs": [],
   "source": [
    "import matplotlib.pyplot as plt\n",
    "import pandas as pd\n",
    "from pandas.tools.plotting import table\n",
    "import subprocess\n",
    "%matplotlib inline "
   ]
  },
  {
   "cell_type": "code",
   "execution_count": 10,
   "metadata": {
    "collapsed": true
   },
   "outputs": [],
   "source": [
    "all = pd.read_csv('../Data/from_sqlite_Data/Realfinal.csv')"
   ]
  },
  {
   "cell_type": "code",
   "execution_count": 11,
   "metadata": {
    "collapsed": false
   },
   "outputs": [
    {
     "data": {
      "text/plain": [
       "Index([u'Unnamed: 0', u'Unnamed: 0.1', u'country_id', u'season', u'Date',\n",
       "       u'HomeTeam', u'AwayTeam', u'FTHG', u'FTAG', u'B365H', u'B365D',\n",
       "       u'B365A', u'BWH', u'BWD', u'BWA', u'IWH', u'IWD', u'IWA', u'LBH',\n",
       "       u'LBD', u'LBA', u'PSH', u'PSD', u'PSA', u'WHH', u'WHD', u'WHA', u'SJH',\n",
       "       u'SJD', u'SJA', u'VCH', u'VCD', u'VCA', u'GBH', u'GBD', u'GBA', u'BSH',\n",
       "       u'BSD', u'BSA', u'FTR', u'H_ROUND', u'H_TP3', u'H_TP5', u'H_GS_H',\n",
       "       u'H_GS_A', u'H_GR_H', u'H_GR_A', u'H_TGS', u'H_TGR', u'H_AvGS_H',\n",
       "       u'H_AvGS_A', u'H_AvGR_H', u'H_AvGR_A', u'H_Av_TGS', u'H_Av_TGR',\n",
       "       u'H_Pnt_H', u'H_Pnt_A', u'H_T_pnt', u'H_Av_Pnt_H', u'H_Av_pnt_A',\n",
       "       u'H_Av_T_pnt', u'A_ROUND', u'A_TP3', u'A_TP5', u'Aw_GS_H', u'Aw_GS_A',\n",
       "       u'Aw_GR_H', u'Aw_GR_A', u'Aw_TGS', u'Aw_TGR', u'Aw_AvGS_H',\n",
       "       u'Aw_AvGS_A', u'Aw_AvGR_H', u'Aw_AvGR_A', u'Aw_Av_TGS', u'Aw_Av_TGR',\n",
       "       u'Aw_Pnt_H', u'Aw_Pnt_A', u'Aw_T_pnt', u'Aw_Av_Pnt_H', u'Aw_Av_pnt_A',\n",
       "       u'Aw_Av_T_pnt', u'DIFF_TP', u'DIFF_HP-AP', u'SUMM_HGSH+HGSH+AGRA',\n",
       "       u'SUMM_HGRH+AGSA', u'SUMM_HTGS+ATGR', u'SUMM_HTGR+ATGS', u'DIFF_L3MP',\n",
       "       u'DIFF_L5MP', u'DIFF_av_TP', u'DIFF_av_HP-AP', u'SUMM_av_HGSH+AGRA',\n",
       "       u'SUMM_av_HGRH+AGSA', u'SUMM_av_HTGS+ATGR', u'SUMM_av_HTGR+ATGS',\n",
       "       u'Goal/No_Goal', u'Over2.5/Under2.5', u'Over1.5/Under1.5'],\n",
       "      dtype='object')"
      ]
     },
     "execution_count": 11,
     "metadata": {},
     "output_type": "execute_result"
    }
   ],
   "source": [
    "all.columns"
   ]
  },
  {
   "cell_type": "code",
   "execution_count": 17,
   "metadata": {
    "collapsed": false
   },
   "outputs": [],
   "source": [
    "df = pd.read_csv('../Data/from_sqlite_Data/Realfinal.csv', \n",
    "                 usecols=['country_id', 'season', 'Date', \n",
    "                         'HomeTeam', 'AwayTeam', 'FTHG', 'FTAG', 'FTR',\n",
    "                         'H_TGS', 'H_TGR', 'H_T_pnt',\n",
    "                         'Aw_TGS', 'Aw_TGR', 'Aw_T_pnt'])"
   ]
  },
  {
   "cell_type": "code",
   "execution_count": 18,
   "metadata": {
    "collapsed": false
   },
   "outputs": [],
   "source": [
    "one_day = df[df.Date == '2016-02-07 00:00:00']\n",
    "one_day = one_day[one_day.country_id == 'Italy Serie A']"
   ]
  },
  {
   "cell_type": "code",
   "execution_count": 19,
   "metadata": {
    "collapsed": false
   },
   "outputs": [
    {
     "data": {
      "text/html": [
       "<div>\n",
       "<table border=\"1\" class=\"dataframe\">\n",
       "  <thead>\n",
       "    <tr style=\"text-align: right;\">\n",
       "      <th></th>\n",
       "      <th>country_id</th>\n",
       "      <th>season</th>\n",
       "      <th>Date</th>\n",
       "      <th>HomeTeam</th>\n",
       "      <th>AwayTeam</th>\n",
       "      <th>FTHG</th>\n",
       "      <th>FTAG</th>\n",
       "      <th>FTR</th>\n",
       "      <th>H_TGS</th>\n",
       "      <th>H_TGR</th>\n",
       "      <th>H_T_pnt</th>\n",
       "      <th>Aw_TGS</th>\n",
       "      <th>Aw_TGR</th>\n",
       "      <th>Aw_T_pnt</th>\n",
       "    </tr>\n",
       "  </thead>\n",
       "  <tbody>\n",
       "    <tr>\n",
       "      <th>24773</th>\n",
       "      <td>Italy Serie A</td>\n",
       "      <td>2015/2016</td>\n",
       "      <td>2016-02-07 00:00:00</td>\n",
       "      <td>Napoli</td>\n",
       "      <td>Carpi</td>\n",
       "      <td>1</td>\n",
       "      <td>0</td>\n",
       "      <td>H</td>\n",
       "      <td>52.0</td>\n",
       "      <td>19.0</td>\n",
       "      <td>53.0</td>\n",
       "      <td>22.0</td>\n",
       "      <td>39.0</td>\n",
       "      <td>19.0</td>\n",
       "    </tr>\n",
       "    <tr>\n",
       "      <th>24782</th>\n",
       "      <td>Italy Serie A</td>\n",
       "      <td>2015/2016</td>\n",
       "      <td>2016-02-07 00:00:00</td>\n",
       "      <td>Torino</td>\n",
       "      <td>Chievo</td>\n",
       "      <td>1</td>\n",
       "      <td>2</td>\n",
       "      <td>A</td>\n",
       "      <td>29.0</td>\n",
       "      <td>30.0</td>\n",
       "      <td>28.0</td>\n",
       "      <td>27.0</td>\n",
       "      <td>31.0</td>\n",
       "      <td>27.0</td>\n",
       "    </tr>\n",
       "    <tr>\n",
       "      <th>24783</th>\n",
       "      <td>Italy Serie A</td>\n",
       "      <td>2015/2016</td>\n",
       "      <td>2016-02-07 00:00:00</td>\n",
       "      <td>Atalanta</td>\n",
       "      <td>Empoli</td>\n",
       "      <td>0</td>\n",
       "      <td>0</td>\n",
       "      <td>D</td>\n",
       "      <td>23.0</td>\n",
       "      <td>27.0</td>\n",
       "      <td>27.0</td>\n",
       "      <td>29.0</td>\n",
       "      <td>32.0</td>\n",
       "      <td>33.0</td>\n",
       "    </tr>\n",
       "    <tr>\n",
       "      <th>24784</th>\n",
       "      <td>Italy Serie A</td>\n",
       "      <td>2015/2016</td>\n",
       "      <td>2016-02-07 00:00:00</td>\n",
       "      <td>Verona</td>\n",
       "      <td>Inter</td>\n",
       "      <td>3</td>\n",
       "      <td>3</td>\n",
       "      <td>D</td>\n",
       "      <td>16.0</td>\n",
       "      <td>34.0</td>\n",
       "      <td>14.0</td>\n",
       "      <td>27.0</td>\n",
       "      <td>17.0</td>\n",
       "      <td>44.0</td>\n",
       "    </tr>\n",
       "    <tr>\n",
       "      <th>24785</th>\n",
       "      <td>Italy Serie A</td>\n",
       "      <td>2015/2016</td>\n",
       "      <td>2016-02-07 00:00:00</td>\n",
       "      <td>Frosinone</td>\n",
       "      <td>Juventus</td>\n",
       "      <td>0</td>\n",
       "      <td>2</td>\n",
       "      <td>A</td>\n",
       "      <td>24.0</td>\n",
       "      <td>48.0</td>\n",
       "      <td>19.0</td>\n",
       "      <td>43.0</td>\n",
       "      <td>15.0</td>\n",
       "      <td>51.0</td>\n",
       "    </tr>\n",
       "    <tr>\n",
       "      <th>24786</th>\n",
       "      <td>Italy Serie A</td>\n",
       "      <td>2015/2016</td>\n",
       "      <td>2016-02-07 00:00:00</td>\n",
       "      <td>Sassuolo</td>\n",
       "      <td>Palermo</td>\n",
       "      <td>2</td>\n",
       "      <td>2</td>\n",
       "      <td>D</td>\n",
       "      <td>26.0</td>\n",
       "      <td>26.0</td>\n",
       "      <td>33.0</td>\n",
       "      <td>24.0</td>\n",
       "      <td>37.0</td>\n",
       "      <td>25.0</td>\n",
       "    </tr>\n",
       "    <tr>\n",
       "      <th>24787</th>\n",
       "      <td>Italy Serie A</td>\n",
       "      <td>2015/2016</td>\n",
       "      <td>2016-02-07 00:00:00</td>\n",
       "      <td>Roma</td>\n",
       "      <td>Sampdoria</td>\n",
       "      <td>2</td>\n",
       "      <td>1</td>\n",
       "      <td>H</td>\n",
       "      <td>42.0</td>\n",
       "      <td>25.0</td>\n",
       "      <td>41.0</td>\n",
       "      <td>35.0</td>\n",
       "      <td>41.0</td>\n",
       "      <td>24.0</td>\n",
       "    </tr>\n",
       "    <tr>\n",
       "      <th>24788</th>\n",
       "      <td>Italy Serie A</td>\n",
       "      <td>2015/2016</td>\n",
       "      <td>2016-02-07 00:00:00</td>\n",
       "      <td>Milan</td>\n",
       "      <td>Udinese</td>\n",
       "      <td>1</td>\n",
       "      <td>1</td>\n",
       "      <td>D</td>\n",
       "      <td>34.0</td>\n",
       "      <td>25.0</td>\n",
       "      <td>39.0</td>\n",
       "      <td>20.0</td>\n",
       "      <td>36.0</td>\n",
       "      <td>26.0</td>\n",
       "    </tr>\n",
       "  </tbody>\n",
       "</table>\n",
       "</div>"
      ],
      "text/plain": [
       "          country_id     season                 Date   HomeTeam   AwayTeam  \\\n",
       "24773  Italy Serie A  2015/2016  2016-02-07 00:00:00     Napoli      Carpi   \n",
       "24782  Italy Serie A  2015/2016  2016-02-07 00:00:00     Torino     Chievo   \n",
       "24783  Italy Serie A  2015/2016  2016-02-07 00:00:00   Atalanta     Empoli   \n",
       "24784  Italy Serie A  2015/2016  2016-02-07 00:00:00     Verona      Inter   \n",
       "24785  Italy Serie A  2015/2016  2016-02-07 00:00:00  Frosinone   Juventus   \n",
       "24786  Italy Serie A  2015/2016  2016-02-07 00:00:00   Sassuolo    Palermo   \n",
       "24787  Italy Serie A  2015/2016  2016-02-07 00:00:00       Roma  Sampdoria   \n",
       "24788  Italy Serie A  2015/2016  2016-02-07 00:00:00      Milan    Udinese   \n",
       "\n",
       "       FTHG  FTAG FTR  H_TGS  H_TGR  H_T_pnt  Aw_TGS  Aw_TGR  Aw_T_pnt  \n",
       "24773     1     0   H   52.0   19.0     53.0    22.0    39.0      19.0  \n",
       "24782     1     2   A   29.0   30.0     28.0    27.0    31.0      27.0  \n",
       "24783     0     0   D   23.0   27.0     27.0    29.0    32.0      33.0  \n",
       "24784     3     3   D   16.0   34.0     14.0    27.0    17.0      44.0  \n",
       "24785     0     2   A   24.0   48.0     19.0    43.0    15.0      51.0  \n",
       "24786     2     2   D   26.0   26.0     33.0    24.0    37.0      25.0  \n",
       "24787     2     1   H   42.0   25.0     41.0    35.0    41.0      24.0  \n",
       "24788     1     1   D   34.0   25.0     39.0    20.0    36.0      26.0  "
      ]
     },
     "execution_count": 19,
     "metadata": {},
     "output_type": "execute_result"
    }
   ],
   "source": [
    "one_day"
   ]
  },
  {
   "cell_type": "code",
   "execution_count": null,
   "metadata": {
    "collapsed": true
   },
   "outputs": [],
   "source": [
    "plt.show()"
   ]
  },
  {
   "cell_type": "code",
   "execution_count": 7,
   "metadata": {
    "collapsed": false
   },
   "outputs": [
    {
     "data": {
      "image/png": "[encoded data removed]",
      "text/plain": [
       "<matplotlib.figure.Figure at 0x9e0b6d8>"
      ]
     },
     "metadata": {},
     "output_type": "display_data"
    }
   ],
   "source": [
    "ax = plt.subplot(111, frame_on=False) # no visible frame\n",
    "ax.xaxis.set_visible(False)  # hide the x axis\n",
    "ax.yaxis.set_visible(False)  # hide the y axis\n",
    "\n",
    "table(ax, one_day)  # where df is your data frame\n",
    "\n",
    "plt.show()\n",
    "#plt.savefig('../Data/pictures/table_original.png')"
   ]
  },
  {
   "cell_type": "code",
   "execution_count": null,
   "metadata": {
    "collapsed": true
   },
   "outputs": [],
   "source": [
    "one_day"
   ]
  },
  {
   "cell_type": "code",
   "execution_count": 9,
   "metadata": {
    "collapsed": false
   },
   "outputs": [
    {
     "ename": "TypeError",
     "evalue": "coercing to Unicode: need string or buffer, DataFrame found",
     "output_type": "error",
     "traceback": [
      "\u001b[1;31m---------------------------------------------------------------------------\u001b[0m",
      "\u001b[1;31mTypeError\u001b[0m                                 Traceback (most recent call last)",
      "\u001b[1;32m<ipython-input-9-c099829e0f5c>\u001b[0m in \u001b[0;36m<module>\u001b[1;34m()\u001b[0m\n\u001b[0;32m     10\u001b[0m '''\n\u001b[0;32m     11\u001b[0m \u001b[1;33m\u001b[0m\u001b[0m\n\u001b[1;32m---> 12\u001b[1;33m \u001b[1;32mwith\u001b[0m \u001b[0mopen\u001b[0m\u001b[1;33m(\u001b[0m\u001b[0mone_day\u001b[0m\u001b[1;33m,\u001b[0m \u001b[1;34m'wb'\u001b[0m\u001b[1;33m)\u001b[0m \u001b[1;32mas\u001b[0m \u001b[0mf\u001b[0m\u001b[1;33m:\u001b[0m\u001b[1;33m\u001b[0m\u001b[0m\n\u001b[0m\u001b[0;32m     13\u001b[0m     \u001b[0mf\u001b[0m\u001b[1;33m.\u001b[0m\u001b[0mwrite\u001b[0m\u001b[1;33m(\u001b[0m\u001b[0mtemplate\u001b[0m\u001b[1;33m.\u001b[0m\u001b[0mformat\u001b[0m\u001b[1;33m(\u001b[0m\u001b[0mdf\u001b[0m\u001b[1;33m.\u001b[0m\u001b[0mto_latex\u001b[0m\u001b[1;33m(\u001b[0m\u001b[1;33m)\u001b[0m\u001b[1;33m)\u001b[0m\u001b[1;33m)\u001b[0m\u001b[1;33m\u001b[0m\u001b[0m\n\u001b[0;32m     14\u001b[0m \u001b[1;33m\u001b[0m\u001b[0m\n",
      "\u001b[1;31mTypeError\u001b[0m: coercing to Unicode: need string or buffer, DataFrame found"
     ]
    }
   ],
   "source": [
    "filename = 'out.tex'\n",
    "pdffile = 'out.pdf'\n",
    "outname = 'out.png'\n",
    "\n",
    "template = r'''\\documentclass[preview]{{standalone}}\n",
    "\\usepackage{{booktabs}}\n",
    "\\begin{{document}}\n",
    "{}\n",
    "\\end{{document}}\n",
    "'''\n",
    "\n",
    "with open(one_day, 'wb') as f:\n",
    "    f.write(template.format(df.to_latex()))\n",
    "\n",
    "subprocess.call(['pdflatex', filename])\n",
    "subprocess.call(['convert', '-density', '300', pdffile, '-quality', '90', outname])"
   ]
  },
  {
   "cell_type": "code",
   "execution_count": 18,
   "metadata": {
    "collapsed": false
   },
   "outputs": [
    {
     "name": "stdout",
     "output_type": "stream",
     "text": [
      "country_id 0\n",
      "season 1\n",
      "Date 2\n",
      "HomeTeam 3\n",
      "AwayTeam 4\n",
      "FTHG 5\n",
      "FTAG 6\n",
      "B365H 7\n",
      "B365D 8\n",
      "B365A 9\n",
      "BWH 10\n",
      "BWD 11\n",
      "BWA 12\n",
      "IWH 13\n",
      "IWD 14\n",
      "IWA 15\n",
      "LBH 16\n",
      "LBD 17\n",
      "LBA 18\n",
      "PSH 19\n",
      "PSD 20\n",
      "PSA 21\n",
      "WHH 22\n",
      "WHD 23\n",
      "WHA 24\n",
      "SJH 25\n",
      "SJD 26\n",
      "SJA 27\n",
      "VCH 28\n",
      "VCD 29\n",
      "VCA 30\n",
      "GBH 31\n",
      "GBD 32\n",
      "GBA 33\n",
      "BSH 34\n",
      "BSD 35\n",
      "BSA 36\n",
      "FTR 37\n",
      "H_ROUND 38\n",
      "H_TP3 39\n",
      "H_TP5 40\n",
      "H_GS_H 41\n",
      "H_GS_A 42\n",
      "H_GR_H 43\n",
      "H_GR_A 44\n",
      "H_TGS 45\n",
      "H_TGR 46\n",
      "H_AvGS_H 47\n",
      "H_AvGS_A 48\n",
      "H_AvGR_H 49\n",
      "H_AvGR_A 50\n",
      "H_Av_TGS 51\n",
      "H_Av_TGR 52\n",
      "H_Pnt_H 53\n",
      "H_Pnt_A 54\n",
      "H_T_pnt 55\n",
      "H_Av_Pnt_H 56\n",
      "H_Av_pnt_A 57\n",
      "H_Av_T_pnt 58\n",
      "A_ROUND 59\n",
      "A_TP3 60\n",
      "A_TP5 61\n",
      "Aw_GS_H 62\n",
      "Aw_GS_A 63\n",
      "Aw_GR_H 64\n",
      "Aw_GR_A 65\n",
      "Aw_TGS 66\n",
      "Aw_TGR 67\n",
      "Aw_AvGS_H 68\n",
      "Aw_AvGS_A 69\n",
      "Aw_AvGR_H 70\n",
      "Aw_AvGR_A 71\n",
      "Aw_Av_TGS 72\n",
      "Aw_Av_TGR 73\n",
      "Aw_Pnt_H 74\n",
      "Aw_Pnt_A 75\n",
      "Aw_T_pnt 76\n",
      "Aw_Av_Pnt_H 77\n",
      "Aw_Av_pnt_A 78\n",
      "Aw_Av_T_pnt 79\n",
      "DIFF_TP 80\n",
      "DIFF_HP-AP 81\n",
      "SUMM_HGSH+HGSH+AGRA 82\n",
      "SUMM_HGRH+AGSA 83\n",
      "SUMM_HTGS+ATGR 84\n",
      "SUMM_HTGR+ATGS 85\n",
      "DIFF_L3MP 86\n",
      "DIFF_L5MP 87\n",
      "DIFF_av_TP 88\n",
      "DIFF_av_HP-AP 89\n",
      "SUMM_av_HGSH+AGRA 90\n",
      "SUMM_av_HGRH+AGSA 91\n",
      "SUMM_av_HTGS+ATGR 92\n",
      "SUMM_av_HTGR+ATGS 93\n",
      "Goal/No_Goal 94\n",
      "Over2.5/Under2.5 95\n",
      "Over1.5/Under1.5 96\n"
     ]
    }
   ],
   "source": [
    "for num, i in enumerate(one_game.columns):\n",
    "    print i, num"
   ]
  }
 ],
 "metadata": {
  "anaconda-cloud": {},
  "kernelspec": {
   "display_name": "Python [Root]",
   "language": "python",
   "name": "Python [Root]"
  },
  "language_info": {
   "codemirror_mode": {
    "name": "ipython",
    "version": 2
   },
   "file_extension": ".py",
   "mimetype": "text/x-python",
   "name": "python",
   "nbconvert_exporter": "python",
   "pygments_lexer": "ipython2",
   "version": "2.7.12"
  }
 },
 "nbformat": 4,
 "nbformat_minor": 0
}
