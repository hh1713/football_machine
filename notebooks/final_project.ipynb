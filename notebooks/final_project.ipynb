{
 "cells": [
  {
   "cell_type": "code",
   "execution_count": 1287,
   "metadata": {
    "collapsed": false
   },
   "outputs": [],
   "source": [
    "import pandas as pd\n",
    "import matplotlib.pyplot as plt\n",
    "import numpy as np\n",
    "from sklearn.naive_bayes import GaussianNB\n",
    "from sklearn.svm import SVC\n",
    "from sklearn import *\n",
    "import numpy as np\n",
    "from sklearn.decomposition import *\n",
    "from sklearn.model_selection import train_test_split\n",
    "from sklearn.model_selection import cross_val_score\n",
    "\n",
    "from sklearn.model_selection import train_test_split\n",
    "from sklearn.tree import DecisionTreeClassifier\n",
    "from sklearn.ensemble import AdaBoostClassifier\n",
    "from sklearn.ensemble import GradientBoostingClassifier\n",
    "from sklearn.ensemble import RandomForestClassifier"
   ]
  },
  {
   "cell_type": "code",
   "execution_count": 1288,
   "metadata": {
    "collapsed": true
   },
   "outputs": [],
   "source": [
    "pd.options.display.max_columns = 999\n",
    "pd.options.display.max_rows = 80"
   ]
  },
  {
   "cell_type": "code",
   "execution_count": 1289,
   "metadata": {
    "collapsed": true
   },
   "outputs": [],
   "source": [
    "##Define the object for the season team\n",
    "class MyDf:\n",
    "    def __init__(self, mydf):\n",
    "        self.df = mydf "
   ]
  },
  {
   "cell_type": "code",
   "execution_count": 1290,
   "metadata": {
    "collapsed": true
   },
   "outputs": [],
   "source": [
    "def select_season (df, season):\n",
    "    return df[df['season']==season]"
   ]
  },
  {
   "cell_type": "code",
   "execution_count": 1291,
   "metadata": {
    "collapsed": true
   },
   "outputs": [],
   "source": [
    "def cut_out_n_m_matches(df,n,m):\n",
    "    a=df['H_ROUND'].unique()[n-1]\n",
    "    b=df['H_ROUND'].unique()[-m]\n",
    "    \n",
    "    return df[(df['H_ROUND']>a) & (df['H_ROUND']<b)]\n",
    "    "
   ]
  },
  {
   "cell_type": "code",
   "execution_count": 1292,
   "metadata": {
    "collapsed": true
   },
   "outputs": [],
   "source": [
    "def train_test_index(df,predicted_season):\n",
    "    train_index=df[df.season!=predicted_season].index\n",
    "    test_index=df[df.season==predicted_season].index\n",
    "    return train_index, test_index"
   ]
  },
  {
   "cell_type": "code",
   "execution_count": 1293,
   "metadata": {
    "collapsed": true
   },
   "outputs": [],
   "source": [
    "def train_test_index_only_round(df,predicted_round):\n",
    "    train_index=df[df['H_ROUND']<predicted_round].index\n",
    "    test_index=df[df['H_ROUND']==predicted_round].index\n",
    "    return train_index, test_index"
   ]
  },
  {
   "cell_type": "code",
   "execution_count": 1294,
   "metadata": {
    "collapsed": false
   },
   "outputs": [],
   "source": [
    "def split_train_test_data(df,train_index,test_index,col_train,col_pred,i):\n",
    "        \n",
    "    X_train=df.loc[train_index].iloc[:,col_train]\n",
    "    Y_train=df.loc[train_index][col_pred]\n",
    "    \n",
    "    X_test=df.loc[test_index]\n",
    "    Y_test=df.loc[test_index]\n",
    "\n",
    "    X_test=X_test[X_test.H_ROUND==i].iloc[:,col_train]\n",
    "    Y_test=Y_test[Y_test.H_ROUND==i][col_pred]\n",
    "     \n",
    "   \n",
    "\n",
    "    return X_train, Y_train, X_test, Y_test"
   ]
  },
  {
   "cell_type": "code",
   "execution_count": 1864,
   "metadata": {
    "collapsed": false
   },
   "outputs": [],
   "source": [
    "def Predict_whole_season_by_one (BIG, predseason, col_train, col_pred, method, method_name):\n",
    "        \n",
    "    tmp=pd.DataFrame()\n",
    "    \n",
    "    train_index, test_index = train_test_index(BIG,predseason)\n",
    "    lis=[]\n",
    "    lis_2=[]\n",
    "    lis_4=[]\n",
    "    \n",
    "    for i in BIG[BIG.season==predseason].H_ROUND.unique():\n",
    "       \n",
    "        X_train,Y_train,X_test,Y_test = split_train_test_data(BIG,train_index,test_index,col_train,col_pred,i) \n",
    "        method.fit(X_train,Y_train)\n",
    "        lis_2=lis_2+list(method.predict(X_test))\n",
    "        lis_4=lis_4+list(Y_test)\n",
    "        lis.append(float(method.score(X_test, Y_test)))\n",
    "        #print(X_test)\n",
    "        #print(method.predict_proba(X_test))\n",
    "        #print(Y_test)\n",
    "\n",
    "    tmp[method_name]=lis \n",
    "    \n",
    "    tmp_2=BIG.loc[list(test_index)].iloc[:,[1,2,3,4,8]]\n",
    "    \n",
    "    \n",
    "    \n",
    "    tmp_2['prediction']=lis_2\n",
    "    tmp_2['real']=lis_4\n",
    "    \n",
    "    return tmp ,tmp_2"
   ]
  },
  {
   "cell_type": "code",
   "execution_count": 1865,
   "metadata": {
    "collapsed": false
   },
   "outputs": [
    {
     "data": {
      "text/html": [
       "<div>\n",
       "<table border=\"1\" class=\"dataframe\">\n",
       "  <thead>\n",
       "    <tr style=\"text-align: right;\">\n",
       "      <th></th>\n",
       "      <th>0</th>\n",
       "    </tr>\n",
       "  </thead>\n",
       "  <tbody>\n",
       "    <tr>\n",
       "      <th>0</th>\n",
       "      <td>country_id</td>\n",
       "    </tr>\n",
       "    <tr>\n",
       "      <th>1</th>\n",
       "      <td>season</td>\n",
       "    </tr>\n",
       "    <tr>\n",
       "      <th>2</th>\n",
       "      <td>Date</td>\n",
       "    </tr>\n",
       "    <tr>\n",
       "      <th>3</th>\n",
       "      <td>HomeTeam</td>\n",
       "    </tr>\n",
       "    <tr>\n",
       "      <th>4</th>\n",
       "      <td>AwayTeam</td>\n",
       "    </tr>\n",
       "    <tr>\n",
       "      <th>5</th>\n",
       "      <td>FTHG</td>\n",
       "    </tr>\n",
       "    <tr>\n",
       "      <th>6</th>\n",
       "      <td>FTAG</td>\n",
       "    </tr>\n",
       "    <tr>\n",
       "      <th>7</th>\n",
       "      <td>FTR</td>\n",
       "    </tr>\n",
       "    <tr>\n",
       "      <th>8</th>\n",
       "      <td>H_ROUND</td>\n",
       "    </tr>\n",
       "    <tr>\n",
       "      <th>9</th>\n",
       "      <td>H_TP3</td>\n",
       "    </tr>\n",
       "    <tr>\n",
       "      <th>10</th>\n",
       "      <td>H_TP5</td>\n",
       "    </tr>\n",
       "    <tr>\n",
       "      <th>11</th>\n",
       "      <td>H_GS_H</td>\n",
       "    </tr>\n",
       "    <tr>\n",
       "      <th>12</th>\n",
       "      <td>H_GS_A</td>\n",
       "    </tr>\n",
       "    <tr>\n",
       "      <th>13</th>\n",
       "      <td>H_GR_H</td>\n",
       "    </tr>\n",
       "    <tr>\n",
       "      <th>14</th>\n",
       "      <td>H_GR_A</td>\n",
       "    </tr>\n",
       "    <tr>\n",
       "      <th>15</th>\n",
       "      <td>H_TGS</td>\n",
       "    </tr>\n",
       "    <tr>\n",
       "      <th>16</th>\n",
       "      <td>H_TGR</td>\n",
       "    </tr>\n",
       "    <tr>\n",
       "      <th>17</th>\n",
       "      <td>H_AvGS_H</td>\n",
       "    </tr>\n",
       "    <tr>\n",
       "      <th>18</th>\n",
       "      <td>H_AvGS_A</td>\n",
       "    </tr>\n",
       "    <tr>\n",
       "      <th>19</th>\n",
       "      <td>H_AvGR_H</td>\n",
       "    </tr>\n",
       "    <tr>\n",
       "      <th>20</th>\n",
       "      <td>H_AvGR_A</td>\n",
       "    </tr>\n",
       "    <tr>\n",
       "      <th>21</th>\n",
       "      <td>H_Av_TGS</td>\n",
       "    </tr>\n",
       "    <tr>\n",
       "      <th>22</th>\n",
       "      <td>H_Av_TGR</td>\n",
       "    </tr>\n",
       "    <tr>\n",
       "      <th>23</th>\n",
       "      <td>H_Pnt_H</td>\n",
       "    </tr>\n",
       "    <tr>\n",
       "      <th>24</th>\n",
       "      <td>H_Pnt_A</td>\n",
       "    </tr>\n",
       "    <tr>\n",
       "      <th>25</th>\n",
       "      <td>H_T_pnt</td>\n",
       "    </tr>\n",
       "    <tr>\n",
       "      <th>26</th>\n",
       "      <td>H_Av_Pnt_H</td>\n",
       "    </tr>\n",
       "    <tr>\n",
       "      <th>27</th>\n",
       "      <td>H_Av_pnt_A</td>\n",
       "    </tr>\n",
       "    <tr>\n",
       "      <th>28</th>\n",
       "      <td>H_Av_T_pnt</td>\n",
       "    </tr>\n",
       "    <tr>\n",
       "      <th>29</th>\n",
       "      <td>A_ROUND</td>\n",
       "    </tr>\n",
       "    <tr>\n",
       "      <th>30</th>\n",
       "      <td>A_TP3</td>\n",
       "    </tr>\n",
       "    <tr>\n",
       "      <th>31</th>\n",
       "      <td>A_TP5</td>\n",
       "    </tr>\n",
       "    <tr>\n",
       "      <th>32</th>\n",
       "      <td>Aw_GS_H</td>\n",
       "    </tr>\n",
       "    <tr>\n",
       "      <th>33</th>\n",
       "      <td>Aw_GS_A</td>\n",
       "    </tr>\n",
       "    <tr>\n",
       "      <th>34</th>\n",
       "      <td>Aw_GR_H</td>\n",
       "    </tr>\n",
       "    <tr>\n",
       "      <th>35</th>\n",
       "      <td>Aw_GR_A</td>\n",
       "    </tr>\n",
       "    <tr>\n",
       "      <th>36</th>\n",
       "      <td>Aw_TGS</td>\n",
       "    </tr>\n",
       "    <tr>\n",
       "      <th>37</th>\n",
       "      <td>Aw_TGR</td>\n",
       "    </tr>\n",
       "    <tr>\n",
       "      <th>38</th>\n",
       "      <td>Aw_AvGS_H</td>\n",
       "    </tr>\n",
       "    <tr>\n",
       "      <th>39</th>\n",
       "      <td>Aw_AvGS_A</td>\n",
       "    </tr>\n",
       "    <tr>\n",
       "      <th>40</th>\n",
       "      <td>Aw_AvGR_H</td>\n",
       "    </tr>\n",
       "    <tr>\n",
       "      <th>41</th>\n",
       "      <td>Aw_AvGR_A</td>\n",
       "    </tr>\n",
       "    <tr>\n",
       "      <th>42</th>\n",
       "      <td>Aw_Av_TGS</td>\n",
       "    </tr>\n",
       "    <tr>\n",
       "      <th>43</th>\n",
       "      <td>Aw_Av_TGR</td>\n",
       "    </tr>\n",
       "    <tr>\n",
       "      <th>44</th>\n",
       "      <td>Aw_Pnt_H</td>\n",
       "    </tr>\n",
       "    <tr>\n",
       "      <th>45</th>\n",
       "      <td>Aw_Pnt_A</td>\n",
       "    </tr>\n",
       "    <tr>\n",
       "      <th>46</th>\n",
       "      <td>Aw_T_pnt</td>\n",
       "    </tr>\n",
       "    <tr>\n",
       "      <th>47</th>\n",
       "      <td>Aw_Av_Pnt_H</td>\n",
       "    </tr>\n",
       "    <tr>\n",
       "      <th>48</th>\n",
       "      <td>Aw_Av_pnt_A</td>\n",
       "    </tr>\n",
       "    <tr>\n",
       "      <th>49</th>\n",
       "      <td>Aw_Av_T_pnt</td>\n",
       "    </tr>\n",
       "    <tr>\n",
       "      <th>50</th>\n",
       "      <td>DIFF_TP</td>\n",
       "    </tr>\n",
       "    <tr>\n",
       "      <th>51</th>\n",
       "      <td>DIFF_HP-AP</td>\n",
       "    </tr>\n",
       "    <tr>\n",
       "      <th>52</th>\n",
       "      <td>SUMM_HGSH+HGSH+AGRA</td>\n",
       "    </tr>\n",
       "    <tr>\n",
       "      <th>53</th>\n",
       "      <td>SUMM_HGRH+AGSA</td>\n",
       "    </tr>\n",
       "    <tr>\n",
       "      <th>54</th>\n",
       "      <td>SUMM_HTGS+ATGR</td>\n",
       "    </tr>\n",
       "    <tr>\n",
       "      <th>55</th>\n",
       "      <td>SUMM_HTGR+ATGS</td>\n",
       "    </tr>\n",
       "    <tr>\n",
       "      <th>56</th>\n",
       "      <td>DIFF_L3MP</td>\n",
       "    </tr>\n",
       "    <tr>\n",
       "      <th>57</th>\n",
       "      <td>DIFF_L5MP</td>\n",
       "    </tr>\n",
       "    <tr>\n",
       "      <th>58</th>\n",
       "      <td>DIFF_av_TP</td>\n",
       "    </tr>\n",
       "    <tr>\n",
       "      <th>59</th>\n",
       "      <td>DIFF_av_HP-AP</td>\n",
       "    </tr>\n",
       "    <tr>\n",
       "      <th>60</th>\n",
       "      <td>SUMM_av_HGSH+AGRA</td>\n",
       "    </tr>\n",
       "    <tr>\n",
       "      <th>61</th>\n",
       "      <td>SUMM_av_HGRH+AGSA</td>\n",
       "    </tr>\n",
       "    <tr>\n",
       "      <th>62</th>\n",
       "      <td>SUMM_av_HTGS+ATGR</td>\n",
       "    </tr>\n",
       "    <tr>\n",
       "      <th>63</th>\n",
       "      <td>SUMM_av_HTGR+ATGS</td>\n",
       "    </tr>\n",
       "    <tr>\n",
       "      <th>64</th>\n",
       "      <td>Goal/No_Goal</td>\n",
       "    </tr>\n",
       "    <tr>\n",
       "      <th>65</th>\n",
       "      <td>Over2.5/Under2.5</td>\n",
       "    </tr>\n",
       "    <tr>\n",
       "      <th>66</th>\n",
       "      <td>Over1.5/Under1.5</td>\n",
       "    </tr>\n",
       "  </tbody>\n",
       "</table>\n",
       "</div>"
      ],
      "text/plain": [
       "                      0\n",
       "0            country_id\n",
       "1                season\n",
       "2                  Date\n",
       "3              HomeTeam\n",
       "4              AwayTeam\n",
       "5                  FTHG\n",
       "6                  FTAG\n",
       "7                   FTR\n",
       "8               H_ROUND\n",
       "9                 H_TP3\n",
       "10                H_TP5\n",
       "11               H_GS_H\n",
       "12               H_GS_A\n",
       "13               H_GR_H\n",
       "14               H_GR_A\n",
       "15                H_TGS\n",
       "16                H_TGR\n",
       "17             H_AvGS_H\n",
       "18             H_AvGS_A\n",
       "19             H_AvGR_H\n",
       "20             H_AvGR_A\n",
       "21             H_Av_TGS\n",
       "22             H_Av_TGR\n",
       "23              H_Pnt_H\n",
       "24              H_Pnt_A\n",
       "25              H_T_pnt\n",
       "26           H_Av_Pnt_H\n",
       "27           H_Av_pnt_A\n",
       "28           H_Av_T_pnt\n",
       "29              A_ROUND\n",
       "30                A_TP3\n",
       "31                A_TP5\n",
       "32              Aw_GS_H\n",
       "33              Aw_GS_A\n",
       "34              Aw_GR_H\n",
       "35              Aw_GR_A\n",
       "36               Aw_TGS\n",
       "37               Aw_TGR\n",
       "38            Aw_AvGS_H\n",
       "39            Aw_AvGS_A\n",
       "40            Aw_AvGR_H\n",
       "41            Aw_AvGR_A\n",
       "42            Aw_Av_TGS\n",
       "43            Aw_Av_TGR\n",
       "44             Aw_Pnt_H\n",
       "45             Aw_Pnt_A\n",
       "46             Aw_T_pnt\n",
       "47          Aw_Av_Pnt_H\n",
       "48          Aw_Av_pnt_A\n",
       "49          Aw_Av_T_pnt\n",
       "50              DIFF_TP\n",
       "51           DIFF_HP-AP\n",
       "52  SUMM_HGSH+HGSH+AGRA\n",
       "53       SUMM_HGRH+AGSA\n",
       "54       SUMM_HTGS+ATGR\n",
       "55       SUMM_HTGR+ATGS\n",
       "56            DIFF_L3MP\n",
       "57            DIFF_L5MP\n",
       "58           DIFF_av_TP\n",
       "59        DIFF_av_HP-AP\n",
       "60    SUMM_av_HGSH+AGRA\n",
       "61    SUMM_av_HGRH+AGSA\n",
       "62    SUMM_av_HTGS+ATGR\n",
       "63    SUMM_av_HTGR+ATGS\n",
       "64         Goal/No_Goal\n",
       "65     Over2.5/Under2.5\n",
       "66     Over1.5/Under1.5"
      ]
     },
     "execution_count": 1865,
     "metadata": {},
     "output_type": "execute_result"
    }
   ],
   "source": [
    "pd.DataFrame(allchampionships[0].df.columns)"
   ]
  },
  {
   "cell_type": "code",
   "execution_count": 2031,
   "metadata": {
    "collapsed": false
   },
   "outputs": [],
   "source": [
    "r=allchampionships[9].df#[abs(allchampionships[9].df.iloc[:,[21,22,38,39]])>0]\n",
    "#allchampionships[9].df.iloc[:,[21,22,38,39]]"
   ]
  },
  {
   "cell_type": "code",
   "execution_count": 2038,
   "metadata": {
    "collapsed": false
   },
   "outputs": [
    {
     "name": "stdout",
     "output_type": "stream",
     "text": [
      "\n"
     ]
    }
   ],
   "source": [
    "weight={}\n",
    "column_to_use_as_prediction=[60,61,62,63]\n",
    "#weight='balanced'\n",
    "#weight={1:0.3403,0:0.28 }"
   ]
  },
  {
   "cell_type": "code",
   "execution_count": 2039,
   "metadata": {
    "collapsed": false
   },
   "outputs": [],
   "source": [
    "svm_linear = svm.SVC(kernel='linear',probability=True, class_weight=weight)"
   ]
  },
  {
   "cell_type": "code",
   "execution_count": 2040,
   "metadata": {
    "collapsed": false
   },
   "outputs": [],
   "source": [
    "#allchampionships[9].df"
   ]
  },
  {
   "cell_type": "code",
   "execution_count": 2044,
   "metadata": {
    "collapsed": false
   },
   "outputs": [],
   "source": [
    "a,b=Predict_whole_season_by_one (r, season_to_be_predicted, column_to_use_as_prediction, 'Goal/No_Goal', svm_linear, 'svm')"
   ]
  },
  {
   "cell_type": "code",
   "execution_count": 2045,
   "metadata": {
    "collapsed": false
   },
   "outputs": [
    {
     "data": {
      "text/html": [
       "<div>\n",
       "<table border=\"1\" class=\"dataframe\">\n",
       "  <thead>\n",
       "    <tr style=\"text-align: right;\">\n",
       "      <th></th>\n",
       "      <th>svm</th>\n",
       "    </tr>\n",
       "  </thead>\n",
       "  <tbody>\n",
       "    <tr>\n",
       "      <th>0</th>\n",
       "      <td>0.6</td>\n",
       "    </tr>\n",
       "    <tr>\n",
       "      <th>1</th>\n",
       "      <td>0.5</td>\n",
       "    </tr>\n",
       "    <tr>\n",
       "      <th>2</th>\n",
       "      <td>0.5</td>\n",
       "    </tr>\n",
       "    <tr>\n",
       "      <th>3</th>\n",
       "      <td>0.6</td>\n",
       "    </tr>\n",
       "    <tr>\n",
       "      <th>4</th>\n",
       "      <td>0.6</td>\n",
       "    </tr>\n",
       "    <tr>\n",
       "      <th>5</th>\n",
       "      <td>0.4</td>\n",
       "    </tr>\n",
       "    <tr>\n",
       "      <th>6</th>\n",
       "      <td>0.3</td>\n",
       "    </tr>\n",
       "    <tr>\n",
       "      <th>7</th>\n",
       "      <td>0.0</td>\n",
       "    </tr>\n",
       "    <tr>\n",
       "      <th>8</th>\n",
       "      <td>0.5</td>\n",
       "    </tr>\n",
       "    <tr>\n",
       "      <th>9</th>\n",
       "      <td>0.4</td>\n",
       "    </tr>\n",
       "    <tr>\n",
       "      <th>10</th>\n",
       "      <td>0.6</td>\n",
       "    </tr>\n",
       "    <tr>\n",
       "      <th>11</th>\n",
       "      <td>0.5</td>\n",
       "    </tr>\n",
       "    <tr>\n",
       "      <th>12</th>\n",
       "      <td>0.3</td>\n",
       "    </tr>\n",
       "    <tr>\n",
       "      <th>13</th>\n",
       "      <td>0.2</td>\n",
       "    </tr>\n",
       "    <tr>\n",
       "      <th>14</th>\n",
       "      <td>0.6</td>\n",
       "    </tr>\n",
       "    <tr>\n",
       "      <th>15</th>\n",
       "      <td>0.5</td>\n",
       "    </tr>\n",
       "    <tr>\n",
       "      <th>16</th>\n",
       "      <td>0.5</td>\n",
       "    </tr>\n",
       "    <tr>\n",
       "      <th>17</th>\n",
       "      <td>0.3</td>\n",
       "    </tr>\n",
       "    <tr>\n",
       "      <th>18</th>\n",
       "      <td>0.3</td>\n",
       "    </tr>\n",
       "    <tr>\n",
       "      <th>19</th>\n",
       "      <td>0.6</td>\n",
       "    </tr>\n",
       "    <tr>\n",
       "      <th>20</th>\n",
       "      <td>0.5</td>\n",
       "    </tr>\n",
       "    <tr>\n",
       "      <th>21</th>\n",
       "      <td>0.6</td>\n",
       "    </tr>\n",
       "    <tr>\n",
       "      <th>22</th>\n",
       "      <td>0.2</td>\n",
       "    </tr>\n",
       "    <tr>\n",
       "      <th>23</th>\n",
       "      <td>0.3</td>\n",
       "    </tr>\n",
       "    <tr>\n",
       "      <th>24</th>\n",
       "      <td>0.4</td>\n",
       "    </tr>\n",
       "    <tr>\n",
       "      <th>25</th>\n",
       "      <td>0.7</td>\n",
       "    </tr>\n",
       "    <tr>\n",
       "      <th>26</th>\n",
       "      <td>0.5</td>\n",
       "    </tr>\n",
       "    <tr>\n",
       "      <th>27</th>\n",
       "      <td>0.4</td>\n",
       "    </tr>\n",
       "    <tr>\n",
       "      <th>28</th>\n",
       "      <td>0.3</td>\n",
       "    </tr>\n",
       "    <tr>\n",
       "      <th>29</th>\n",
       "      <td>0.3</td>\n",
       "    </tr>\n",
       "  </tbody>\n",
       "</table>\n",
       "</div>"
      ],
      "text/plain": [
       "    svm\n",
       "0   0.6\n",
       "1   0.5\n",
       "2   0.5\n",
       "3   0.6\n",
       "4   0.6\n",
       "5   0.4\n",
       "6   0.3\n",
       "7   0.0\n",
       "8   0.5\n",
       "9   0.4\n",
       "10  0.6\n",
       "11  0.5\n",
       "12  0.3\n",
       "13  0.2\n",
       "14  0.6\n",
       "15  0.5\n",
       "16  0.5\n",
       "17  0.3\n",
       "18  0.3\n",
       "19  0.6\n",
       "20  0.5\n",
       "21  0.6\n",
       "22  0.2\n",
       "23  0.3\n",
       "24  0.4\n",
       "25  0.7\n",
       "26  0.5\n",
       "27  0.4\n",
       "28  0.3\n",
       "29  0.3"
      ]
     },
     "execution_count": 2045,
     "metadata": {},
     "output_type": "execute_result"
    }
   ],
   "source": [
    "a"
   ]
  },
  {
   "cell_type": "code",
   "execution_count": 2042,
   "metadata": {
    "collapsed": false
   },
   "outputs": [
    {
     "data": {
      "text/plain": [
       "svm    0.543333\n",
       "dtype: float64"
      ]
     },
     "execution_count": 2042,
     "metadata": {},
     "output_type": "execute_result"
    }
   ],
   "source": [
    "a.mean()"
   ]
  },
  {
   "cell_type": "code",
   "execution_count": 1974,
   "metadata": {
    "collapsed": false
   },
   "outputs": [],
   "source": [
    "b['accuracy']=(b['prediction']==b['real'])*1"
   ]
  },
  {
   "cell_type": "code",
   "execution_count": 1975,
   "metadata": {
    "collapsed": false
   },
   "outputs": [
    {
     "data": {
      "text/plain": [
       "0    163\n",
       "1    137\n",
       "Name: real, dtype: int64"
      ]
     },
     "execution_count": 1975,
     "metadata": {},
     "output_type": "execute_result"
    }
   ],
   "source": [
    "b['real'].value_counts()"
   ]
  },
  {
   "cell_type": "code",
   "execution_count": 1976,
   "metadata": {
    "collapsed": false
   },
   "outputs": [
    {
     "data": {
      "text/plain": [
       "1    163\n",
       "0    137\n",
       "Name: prediction, dtype: int64"
      ]
     },
     "execution_count": 1976,
     "metadata": {},
     "output_type": "execute_result"
    }
   ],
   "source": [
    "b['prediction'].value_counts()"
   ]
  },
  {
   "cell_type": "code",
   "execution_count": 1952,
   "metadata": {
    "collapsed": false
   },
   "outputs": [
    {
     "data": {
      "text/plain": [
       "0    163\n",
       "1    137\n",
       "Name: accuracy, dtype: int64"
      ]
     },
     "execution_count": 1952,
     "metadata": {},
     "output_type": "execute_result"
    }
   ],
   "source": [
    "b['accuracy'].value_counts()"
   ]
  },
  {
   "cell_type": "code",
   "execution_count": 1831,
   "metadata": {
    "collapsed": false
   },
   "outputs": [
    {
     "data": {
      "text/html": [
       "<div>\n",
       "<table border=\"1\" class=\"dataframe\">\n",
       "  <thead>\n",
       "    <tr style=\"text-align: right;\">\n",
       "      <th></th>\n",
       "      <th>season</th>\n",
       "      <th>Date</th>\n",
       "      <th>HomeTeam</th>\n",
       "      <th>AwayTeam</th>\n",
       "      <th>H_ROUND</th>\n",
       "      <th>prediction</th>\n",
       "      <th>real</th>\n",
       "      <th>accuracy</th>\n",
       "    </tr>\n",
       "  </thead>\n",
       "  <tbody>\n",
       "    <tr>\n",
       "      <th>2677</th>\n",
       "      <td>2015/2016</td>\n",
       "      <td>2015-09-22 00:00:00</td>\n",
       "      <td>Udinese</td>\n",
       "      <td>Milan</td>\n",
       "      <td>5.0</td>\n",
       "      <td>0</td>\n",
       "      <td>1</td>\n",
       "      <td>0</td>\n",
       "    </tr>\n",
       "    <tr>\n",
       "      <th>2678</th>\n",
       "      <td>2015/2016</td>\n",
       "      <td>2015-09-23 00:00:00</td>\n",
       "      <td>Sampdoria</td>\n",
       "      <td>Roma</td>\n",
       "      <td>5.0</td>\n",
       "      <td>0</td>\n",
       "      <td>1</td>\n",
       "      <td>0</td>\n",
       "    </tr>\n",
       "    <tr>\n",
       "      <th>2679</th>\n",
       "      <td>2015/2016</td>\n",
       "      <td>2015-09-23 00:00:00</td>\n",
       "      <td>Carpi</td>\n",
       "      <td>Napoli</td>\n",
       "      <td>5.0</td>\n",
       "      <td>0</td>\n",
       "      <td>0</td>\n",
       "      <td>1</td>\n",
       "    </tr>\n",
       "    <tr>\n",
       "      <th>2680</th>\n",
       "      <td>2015/2016</td>\n",
       "      <td>2015-09-23 00:00:00</td>\n",
       "      <td>Fiorentina</td>\n",
       "      <td>Bologna</td>\n",
       "      <td>5.0</td>\n",
       "      <td>0</td>\n",
       "      <td>0</td>\n",
       "      <td>1</td>\n",
       "    </tr>\n",
       "    <tr>\n",
       "      <th>2681</th>\n",
       "      <td>2015/2016</td>\n",
       "      <td>2015-09-23 00:00:00</td>\n",
       "      <td>Inter</td>\n",
       "      <td>Hellas Verona</td>\n",
       "      <td>5.0</td>\n",
       "      <td>0</td>\n",
       "      <td>0</td>\n",
       "      <td>1</td>\n",
       "    </tr>\n",
       "    <tr>\n",
       "      <th>2682</th>\n",
       "      <td>2015/2016</td>\n",
       "      <td>2015-09-23 00:00:00</td>\n",
       "      <td>Chievo Verona</td>\n",
       "      <td>Torino</td>\n",
       "      <td>5.0</td>\n",
       "      <td>0</td>\n",
       "      <td>0</td>\n",
       "      <td>1</td>\n",
       "    </tr>\n",
       "    <tr>\n",
       "      <th>2683</th>\n",
       "      <td>2015/2016</td>\n",
       "      <td>2015-09-23 00:00:00</td>\n",
       "      <td>Lazio</td>\n",
       "      <td>Genoa</td>\n",
       "      <td>5.0</td>\n",
       "      <td>0</td>\n",
       "      <td>0</td>\n",
       "      <td>1</td>\n",
       "    </tr>\n",
       "    <tr>\n",
       "      <th>2684</th>\n",
       "      <td>2015/2016</td>\n",
       "      <td>2015-09-23 00:00:00</td>\n",
       "      <td>Palermo</td>\n",
       "      <td>Sassuolo</td>\n",
       "      <td>5.0</td>\n",
       "      <td>0</td>\n",
       "      <td>0</td>\n",
       "      <td>1</td>\n",
       "    </tr>\n",
       "    <tr>\n",
       "      <th>2685</th>\n",
       "      <td>2015/2016</td>\n",
       "      <td>2015-09-23 00:00:00</td>\n",
       "      <td>Juventus</td>\n",
       "      <td>Frosinone</td>\n",
       "      <td>5.0</td>\n",
       "      <td>0</td>\n",
       "      <td>0</td>\n",
       "      <td>1</td>\n",
       "    </tr>\n",
       "    <tr>\n",
       "      <th>2686</th>\n",
       "      <td>2015/2016</td>\n",
       "      <td>2015-09-24 00:00:00</td>\n",
       "      <td>Empoli</td>\n",
       "      <td>Atalanta</td>\n",
       "      <td>5.0</td>\n",
       "      <td>0</td>\n",
       "      <td>0</td>\n",
       "      <td>1</td>\n",
       "    </tr>\n",
       "  </tbody>\n",
       "</table>\n",
       "</div>"
      ],
      "text/plain": [
       "         season                 Date       HomeTeam       AwayTeam  H_ROUND  \\\n",
       "2677  2015/2016  2015-09-22 00:00:00        Udinese          Milan      5.0   \n",
       "2678  2015/2016  2015-09-23 00:00:00      Sampdoria           Roma      5.0   \n",
       "2679  2015/2016  2015-09-23 00:00:00          Carpi         Napoli      5.0   \n",
       "2680  2015/2016  2015-09-23 00:00:00     Fiorentina        Bologna      5.0   \n",
       "2681  2015/2016  2015-09-23 00:00:00          Inter  Hellas Verona      5.0   \n",
       "2682  2015/2016  2015-09-23 00:00:00  Chievo Verona         Torino      5.0   \n",
       "2683  2015/2016  2015-09-23 00:00:00          Lazio          Genoa      5.0   \n",
       "2684  2015/2016  2015-09-23 00:00:00        Palermo       Sassuolo      5.0   \n",
       "2685  2015/2016  2015-09-23 00:00:00       Juventus      Frosinone      5.0   \n",
       "2686  2015/2016  2015-09-24 00:00:00         Empoli       Atalanta      5.0   \n",
       "\n",
       "      prediction  real  accuracy  \n",
       "2677           0     1         0  \n",
       "2678           0     1         0  \n",
       "2679           0     0         1  \n",
       "2680           0     0         1  \n",
       "2681           0     0         1  \n",
       "2682           0     0         1  \n",
       "2683           0     0         1  \n",
       "2684           0     0         1  \n",
       "2685           0     0         1  \n",
       "2686           0     0         1  "
      ]
     },
     "execution_count": 1831,
     "metadata": {},
     "output_type": "execute_result"
    }
   ],
   "source": [
    "b[b.H_ROUND==5]"
   ]
  },
  {
   "cell_type": "code",
   "execution_count": 1718,
   "metadata": {
    "collapsed": false
   },
   "outputs": [
    {
     "data": {
      "text/html": [
       "<div>\n",
       "<table border=\"1\" class=\"dataframe\">\n",
       "  <thead>\n",
       "    <tr style=\"text-align: right;\">\n",
       "      <th></th>\n",
       "      <th>season</th>\n",
       "      <th>Date</th>\n",
       "      <th>HomeTeam</th>\n",
       "      <th>AwayTeam</th>\n",
       "      <th>H_ROUND</th>\n",
       "      <th>prediction</th>\n",
       "      <th>real</th>\n",
       "      <th>accuracy</th>\n",
       "    </tr>\n",
       "  </thead>\n",
       "  <tbody>\n",
       "    <tr>\n",
       "      <th>1262</th>\n",
       "      <td>2015/2016</td>\n",
       "      <td>2015-08-12 00:00:00</td>\n",
       "      <td>BSC Young Boys</td>\n",
       "      <td>Lugano</td>\n",
       "      <td>5.0</td>\n",
       "      <td>1</td>\n",
       "      <td>0</td>\n",
       "      <td>0</td>\n",
       "    </tr>\n",
       "    <tr>\n",
       "      <th>1263</th>\n",
       "      <td>2015/2016</td>\n",
       "      <td>2015-08-12 00:00:00</td>\n",
       "      <td>FC Luzern</td>\n",
       "      <td>FC St. Gallen</td>\n",
       "      <td>5.0</td>\n",
       "      <td>1</td>\n",
       "      <td>0</td>\n",
       "      <td>0</td>\n",
       "    </tr>\n",
       "    <tr>\n",
       "      <th>1270</th>\n",
       "      <td>2015/2016</td>\n",
       "      <td>2015-08-23 00:00:00</td>\n",
       "      <td>FC St. Gallen</td>\n",
       "      <td>Grasshopper Club Zürich</td>\n",
       "      <td>6.0</td>\n",
       "      <td>1</td>\n",
       "      <td>0</td>\n",
       "      <td>0</td>\n",
       "    </tr>\n",
       "    <tr>\n",
       "      <th>1272</th>\n",
       "      <td>2015/2016</td>\n",
       "      <td>2015-08-29 00:00:00</td>\n",
       "      <td>Lugano</td>\n",
       "      <td>FC Luzern</td>\n",
       "      <td>7.0</td>\n",
       "      <td>1</td>\n",
       "      <td>0</td>\n",
       "      <td>0</td>\n",
       "    </tr>\n",
       "    <tr>\n",
       "      <th>1273</th>\n",
       "      <td>2015/2016</td>\n",
       "      <td>2015-08-29 00:00:00</td>\n",
       "      <td>FC Vaduz</td>\n",
       "      <td>FC St. Gallen</td>\n",
       "      <td>7.0</td>\n",
       "      <td>1</td>\n",
       "      <td>0</td>\n",
       "      <td>0</td>\n",
       "    </tr>\n",
       "    <tr>\n",
       "      <th>1276</th>\n",
       "      <td>2015/2016</td>\n",
       "      <td>2015-08-30 00:00:00</td>\n",
       "      <td>FC Thun</td>\n",
       "      <td>FC Sion</td>\n",
       "      <td>7.0</td>\n",
       "      <td>1</td>\n",
       "      <td>0</td>\n",
       "      <td>0</td>\n",
       "    </tr>\n",
       "    <tr>\n",
       "      <th>1277</th>\n",
       "      <td>2015/2016</td>\n",
       "      <td>2015-09-12 00:00:00</td>\n",
       "      <td>BSC Young Boys</td>\n",
       "      <td>FC Vaduz</td>\n",
       "      <td>8.0</td>\n",
       "      <td>1</td>\n",
       "      <td>0</td>\n",
       "      <td>0</td>\n",
       "    </tr>\n",
       "    <tr>\n",
       "      <th>1280</th>\n",
       "      <td>2015/2016</td>\n",
       "      <td>2015-09-13 00:00:00</td>\n",
       "      <td>FC Sion</td>\n",
       "      <td>Lugano</td>\n",
       "      <td>8.0</td>\n",
       "      <td>1</td>\n",
       "      <td>0</td>\n",
       "      <td>0</td>\n",
       "    </tr>\n",
       "    <tr>\n",
       "      <th>1284</th>\n",
       "      <td>2015/2016</td>\n",
       "      <td>2015-09-23 00:00:00</td>\n",
       "      <td>Grasshopper Club Zürich</td>\n",
       "      <td>FC Sion</td>\n",
       "      <td>9.0</td>\n",
       "      <td>1</td>\n",
       "      <td>0</td>\n",
       "      <td>0</td>\n",
       "    </tr>\n",
       "    <tr>\n",
       "      <th>1289</th>\n",
       "      <td>2015/2016</td>\n",
       "      <td>2015-09-27 00:00:00</td>\n",
       "      <td>FC Sion</td>\n",
       "      <td>FC Vaduz</td>\n",
       "      <td>10.0</td>\n",
       "      <td>1</td>\n",
       "      <td>0</td>\n",
       "      <td>0</td>\n",
       "    </tr>\n",
       "    <tr>\n",
       "      <th>1290</th>\n",
       "      <td>2015/2016</td>\n",
       "      <td>2015-09-27 00:00:00</td>\n",
       "      <td>FC Thun</td>\n",
       "      <td>BSC Young Boys</td>\n",
       "      <td>10.0</td>\n",
       "      <td>1</td>\n",
       "      <td>0</td>\n",
       "      <td>0</td>\n",
       "    </tr>\n",
       "    <tr>\n",
       "      <th>1291</th>\n",
       "      <td>2015/2016</td>\n",
       "      <td>2015-09-27 00:00:00</td>\n",
       "      <td>FC Luzern</td>\n",
       "      <td>FC Zürich</td>\n",
       "      <td>10.0</td>\n",
       "      <td>1</td>\n",
       "      <td>0</td>\n",
       "      <td>0</td>\n",
       "    </tr>\n",
       "    <tr>\n",
       "      <th>1298</th>\n",
       "      <td>2015/2016</td>\n",
       "      <td>2015-10-17 00:00:00</td>\n",
       "      <td>Grasshopper Club Zürich</td>\n",
       "      <td>FC Luzern</td>\n",
       "      <td>12.0</td>\n",
       "      <td>1</td>\n",
       "      <td>0</td>\n",
       "      <td>0</td>\n",
       "    </tr>\n",
       "    <tr>\n",
       "      <th>1300</th>\n",
       "      <td>2015/2016</td>\n",
       "      <td>2015-10-18 00:00:00</td>\n",
       "      <td>FC Sion</td>\n",
       "      <td>FC Basel</td>\n",
       "      <td>12.0</td>\n",
       "      <td>1</td>\n",
       "      <td>0</td>\n",
       "      <td>0</td>\n",
       "    </tr>\n",
       "    <tr>\n",
       "      <th>1304</th>\n",
       "      <td>2015/2016</td>\n",
       "      <td>2015-10-25 00:00:00</td>\n",
       "      <td>FC Basel</td>\n",
       "      <td>BSC Young Boys</td>\n",
       "      <td>13.0</td>\n",
       "      <td>1</td>\n",
       "      <td>0</td>\n",
       "      <td>0</td>\n",
       "    </tr>\n",
       "    <tr>\n",
       "      <th>1309</th>\n",
       "      <td>2015/2016</td>\n",
       "      <td>2015-11-01 00:00:00</td>\n",
       "      <td>Lugano</td>\n",
       "      <td>FC Sion</td>\n",
       "      <td>14.0</td>\n",
       "      <td>1</td>\n",
       "      <td>0</td>\n",
       "      <td>0</td>\n",
       "    </tr>\n",
       "    <tr>\n",
       "      <th>1310</th>\n",
       "      <td>2015/2016</td>\n",
       "      <td>2015-11-01 00:00:00</td>\n",
       "      <td>FC St. Gallen</td>\n",
       "      <td>FC Luzern</td>\n",
       "      <td>14.0</td>\n",
       "      <td>1</td>\n",
       "      <td>0</td>\n",
       "      <td>0</td>\n",
       "    </tr>\n",
       "    <tr>\n",
       "      <th>1314</th>\n",
       "      <td>2015/2016</td>\n",
       "      <td>2015-11-08 00:00:00</td>\n",
       "      <td>FC Sion</td>\n",
       "      <td>FC Luzern</td>\n",
       "      <td>15.0</td>\n",
       "      <td>1</td>\n",
       "      <td>0</td>\n",
       "      <td>0</td>\n",
       "    </tr>\n",
       "    <tr>\n",
       "      <th>1315</th>\n",
       "      <td>2015/2016</td>\n",
       "      <td>2015-11-08 00:00:00</td>\n",
       "      <td>FC Thun</td>\n",
       "      <td>FC St. Gallen</td>\n",
       "      <td>15.0</td>\n",
       "      <td>1</td>\n",
       "      <td>0</td>\n",
       "      <td>0</td>\n",
       "    </tr>\n",
       "    <tr>\n",
       "      <th>1317</th>\n",
       "      <td>2015/2016</td>\n",
       "      <td>2015-11-21 00:00:00</td>\n",
       "      <td>FC Luzern</td>\n",
       "      <td>FC Thun</td>\n",
       "      <td>16.0</td>\n",
       "      <td>1</td>\n",
       "      <td>0</td>\n",
       "      <td>0</td>\n",
       "    </tr>\n",
       "    <tr>\n",
       "      <th>1318</th>\n",
       "      <td>2015/2016</td>\n",
       "      <td>2015-11-21 00:00:00</td>\n",
       "      <td>Grasshopper Club Zürich</td>\n",
       "      <td>FC Vaduz</td>\n",
       "      <td>16.0</td>\n",
       "      <td>1</td>\n",
       "      <td>0</td>\n",
       "      <td>0</td>\n",
       "    </tr>\n",
       "    <tr>\n",
       "      <th>1324</th>\n",
       "      <td>2015/2016</td>\n",
       "      <td>2015-11-29 00:00:00</td>\n",
       "      <td>FC Basel</td>\n",
       "      <td>FC Luzern</td>\n",
       "      <td>17.0</td>\n",
       "      <td>1</td>\n",
       "      <td>0</td>\n",
       "      <td>0</td>\n",
       "    </tr>\n",
       "    <tr>\n",
       "      <th>1326</th>\n",
       "      <td>2015/2016</td>\n",
       "      <td>2015-11-29 00:00:00</td>\n",
       "      <td>Grasshopper Club Zürich</td>\n",
       "      <td>FC Zürich</td>\n",
       "      <td>17.0</td>\n",
       "      <td>1</td>\n",
       "      <td>0</td>\n",
       "      <td>0</td>\n",
       "    </tr>\n",
       "    <tr>\n",
       "      <th>1327</th>\n",
       "      <td>2015/2016</td>\n",
       "      <td>2015-12-05 00:00:00</td>\n",
       "      <td>FC Zürich</td>\n",
       "      <td>FC Sion</td>\n",
       "      <td>18.0</td>\n",
       "      <td>1</td>\n",
       "      <td>0</td>\n",
       "      <td>0</td>\n",
       "    </tr>\n",
       "    <tr>\n",
       "      <th>1329</th>\n",
       "      <td>2015/2016</td>\n",
       "      <td>2015-12-06 00:00:00</td>\n",
       "      <td>FC Thun</td>\n",
       "      <td>FC Basel</td>\n",
       "      <td>18.0</td>\n",
       "      <td>1</td>\n",
       "      <td>0</td>\n",
       "      <td>0</td>\n",
       "    </tr>\n",
       "    <tr>\n",
       "      <th>1335</th>\n",
       "      <td>2015/2016</td>\n",
       "      <td>2016-02-07 00:00:00</td>\n",
       "      <td>FC Zürich</td>\n",
       "      <td>FC Sion</td>\n",
       "      <td>19.0</td>\n",
       "      <td>1</td>\n",
       "      <td>0</td>\n",
       "      <td>0</td>\n",
       "    </tr>\n",
       "    <tr>\n",
       "      <th>1336</th>\n",
       "      <td>2015/2016</td>\n",
       "      <td>2016-02-07 00:00:00</td>\n",
       "      <td>FC Basel</td>\n",
       "      <td>FC Luzern</td>\n",
       "      <td>19.0</td>\n",
       "      <td>1</td>\n",
       "      <td>0</td>\n",
       "      <td>0</td>\n",
       "    </tr>\n",
       "    <tr>\n",
       "      <th>1340</th>\n",
       "      <td>2015/2016</td>\n",
       "      <td>2016-02-14 00:00:00</td>\n",
       "      <td>Grasshopper Club Zürich</td>\n",
       "      <td>FC Basel</td>\n",
       "      <td>20.0</td>\n",
       "      <td>1</td>\n",
       "      <td>0</td>\n",
       "      <td>0</td>\n",
       "    </tr>\n",
       "    <tr>\n",
       "      <th>1341</th>\n",
       "      <td>2015/2016</td>\n",
       "      <td>2016-02-20 00:00:00</td>\n",
       "      <td>Lugano</td>\n",
       "      <td>FC Zürich</td>\n",
       "      <td>21.0</td>\n",
       "      <td>1</td>\n",
       "      <td>0</td>\n",
       "      <td>0</td>\n",
       "    </tr>\n",
       "    <tr>\n",
       "      <th>1344</th>\n",
       "      <td>2015/2016</td>\n",
       "      <td>2016-02-21 00:00:00</td>\n",
       "      <td>Grasshopper Club Zürich</td>\n",
       "      <td>FC Sion</td>\n",
       "      <td>21.0</td>\n",
       "      <td>1</td>\n",
       "      <td>0</td>\n",
       "      <td>0</td>\n",
       "    </tr>\n",
       "    <tr>\n",
       "      <th>1345</th>\n",
       "      <td>2015/2016</td>\n",
       "      <td>2016-02-21 00:00:00</td>\n",
       "      <td>FC Luzern</td>\n",
       "      <td>FC St. Gallen</td>\n",
       "      <td>21.0</td>\n",
       "      <td>1</td>\n",
       "      <td>0</td>\n",
       "      <td>0</td>\n",
       "    </tr>\n",
       "    <tr>\n",
       "      <th>1348</th>\n",
       "      <td>2015/2016</td>\n",
       "      <td>2016-02-28 00:00:00</td>\n",
       "      <td>FC Thun</td>\n",
       "      <td>FC Basel</td>\n",
       "      <td>22.0</td>\n",
       "      <td>1</td>\n",
       "      <td>0</td>\n",
       "      <td>0</td>\n",
       "    </tr>\n",
       "    <tr>\n",
       "      <th>1351</th>\n",
       "      <td>2015/2016</td>\n",
       "      <td>2016-03-05 00:00:00</td>\n",
       "      <td>FC Zürich</td>\n",
       "      <td>FC Thun</td>\n",
       "      <td>23.0</td>\n",
       "      <td>1</td>\n",
       "      <td>0</td>\n",
       "      <td>0</td>\n",
       "    </tr>\n",
       "    <tr>\n",
       "      <th>1352</th>\n",
       "      <td>2015/2016</td>\n",
       "      <td>2016-03-06 00:00:00</td>\n",
       "      <td>BSC Young Boys</td>\n",
       "      <td>FC Luzern</td>\n",
       "      <td>23.0</td>\n",
       "      <td>1</td>\n",
       "      <td>0</td>\n",
       "      <td>0</td>\n",
       "    </tr>\n",
       "    <tr>\n",
       "      <th>1353</th>\n",
       "      <td>2015/2016</td>\n",
       "      <td>2016-03-06 00:00:00</td>\n",
       "      <td>FC Sion</td>\n",
       "      <td>FC Vaduz</td>\n",
       "      <td>22.0</td>\n",
       "      <td>1</td>\n",
       "      <td>0</td>\n",
       "      <td>0</td>\n",
       "    </tr>\n",
       "    <tr>\n",
       "      <th>1357</th>\n",
       "      <td>2015/2016</td>\n",
       "      <td>2016-03-13 00:00:00</td>\n",
       "      <td>BSC Young Boys</td>\n",
       "      <td>FC Sion</td>\n",
       "      <td>24.0</td>\n",
       "      <td>1</td>\n",
       "      <td>0</td>\n",
       "      <td>0</td>\n",
       "    </tr>\n",
       "    <tr>\n",
       "      <th>1362</th>\n",
       "      <td>2015/2016</td>\n",
       "      <td>2016-03-20 00:00:00</td>\n",
       "      <td>FC Sion</td>\n",
       "      <td>FC Basel</td>\n",
       "      <td>24.0</td>\n",
       "      <td>1</td>\n",
       "      <td>0</td>\n",
       "      <td>0</td>\n",
       "    </tr>\n",
       "    <tr>\n",
       "      <th>1363</th>\n",
       "      <td>2015/2016</td>\n",
       "      <td>2016-03-20 00:00:00</td>\n",
       "      <td>Grasshopper Club Zürich</td>\n",
       "      <td>Lugano</td>\n",
       "      <td>25.0</td>\n",
       "      <td>1</td>\n",
       "      <td>0</td>\n",
       "      <td>0</td>\n",
       "    </tr>\n",
       "    <tr>\n",
       "      <th>1364</th>\n",
       "      <td>2015/2016</td>\n",
       "      <td>2016-03-20 00:00:00</td>\n",
       "      <td>FC Vaduz</td>\n",
       "      <td>FC Zürich</td>\n",
       "      <td>25.0</td>\n",
       "      <td>1</td>\n",
       "      <td>0</td>\n",
       "      <td>0</td>\n",
       "    </tr>\n",
       "    <tr>\n",
       "      <th>1365</th>\n",
       "      <td>2015/2016</td>\n",
       "      <td>2016-04-02 00:00:00</td>\n",
       "      <td>FC Luzern</td>\n",
       "      <td>FC Vaduz</td>\n",
       "      <td>26.0</td>\n",
       "      <td>1</td>\n",
       "      <td>0</td>\n",
       "      <td>0</td>\n",
       "    </tr>\n",
       "    <tr>\n",
       "      <th>1366</th>\n",
       "      <td>2015/2016</td>\n",
       "      <td>2016-04-02 00:00:00</td>\n",
       "      <td>FC Zürich</td>\n",
       "      <td>FC St. Gallen</td>\n",
       "      <td>26.0</td>\n",
       "      <td>1</td>\n",
       "      <td>0</td>\n",
       "      <td>0</td>\n",
       "    </tr>\n",
       "    <tr>\n",
       "      <th>1368</th>\n",
       "      <td>2015/2016</td>\n",
       "      <td>2016-04-03 00:00:00</td>\n",
       "      <td>Lugano</td>\n",
       "      <td>FC Sion</td>\n",
       "      <td>25.0</td>\n",
       "      <td>1</td>\n",
       "      <td>0</td>\n",
       "      <td>0</td>\n",
       "    </tr>\n",
       "    <tr>\n",
       "      <th>1373</th>\n",
       "      <td>2015/2016</td>\n",
       "      <td>2016-04-10 00:00:00</td>\n",
       "      <td>FC Vaduz</td>\n",
       "      <td>FC St. Gallen</td>\n",
       "      <td>27.0</td>\n",
       "      <td>1</td>\n",
       "      <td>0</td>\n",
       "      <td>0</td>\n",
       "    </tr>\n",
       "    <tr>\n",
       "      <th>1374</th>\n",
       "      <td>2015/2016</td>\n",
       "      <td>2016-04-10 00:00:00</td>\n",
       "      <td>FC Basel</td>\n",
       "      <td>FC Zürich</td>\n",
       "      <td>26.0</td>\n",
       "      <td>1</td>\n",
       "      <td>0</td>\n",
       "      <td>0</td>\n",
       "    </tr>\n",
       "    <tr>\n",
       "      <th>1378</th>\n",
       "      <td>2015/2016</td>\n",
       "      <td>2016-04-16 00:00:00</td>\n",
       "      <td>FC Zürich</td>\n",
       "      <td>FC Luzern</td>\n",
       "      <td>28.0</td>\n",
       "      <td>1</td>\n",
       "      <td>0</td>\n",
       "      <td>0</td>\n",
       "    </tr>\n",
       "    <tr>\n",
       "      <th>1380</th>\n",
       "      <td>2015/2016</td>\n",
       "      <td>2016-04-17 00:00:00</td>\n",
       "      <td>FC St. Gallen</td>\n",
       "      <td>FC Basel</td>\n",
       "      <td>28.0</td>\n",
       "      <td>1</td>\n",
       "      <td>0</td>\n",
       "      <td>0</td>\n",
       "    </tr>\n",
       "    <tr>\n",
       "      <th>1383</th>\n",
       "      <td>2015/2016</td>\n",
       "      <td>2016-04-20 00:00:00</td>\n",
       "      <td>FC Basel</td>\n",
       "      <td>Lugano</td>\n",
       "      <td>29.0</td>\n",
       "      <td>1</td>\n",
       "      <td>0</td>\n",
       "      <td>0</td>\n",
       "    </tr>\n",
       "    <tr>\n",
       "      <th>1388</th>\n",
       "      <td>2015/2016</td>\n",
       "      <td>2016-04-23 00:00:00</td>\n",
       "      <td>Grasshopper Club Zürich</td>\n",
       "      <td>FC St. Gallen</td>\n",
       "      <td>30.0</td>\n",
       "      <td>1</td>\n",
       "      <td>0</td>\n",
       "      <td>0</td>\n",
       "    </tr>\n",
       "    <tr>\n",
       "      <th>1389</th>\n",
       "      <td>2015/2016</td>\n",
       "      <td>2016-04-24 00:00:00</td>\n",
       "      <td>FC Vaduz</td>\n",
       "      <td>FC Basel</td>\n",
       "      <td>30.0</td>\n",
       "      <td>1</td>\n",
       "      <td>0</td>\n",
       "      <td>0</td>\n",
       "    </tr>\n",
       "    <tr>\n",
       "      <th>1390</th>\n",
       "      <td>2015/2016</td>\n",
       "      <td>2016-04-24 00:00:00</td>\n",
       "      <td>BSC Young Boys</td>\n",
       "      <td>FC Zürich</td>\n",
       "      <td>30.0</td>\n",
       "      <td>1</td>\n",
       "      <td>0</td>\n",
       "      <td>0</td>\n",
       "    </tr>\n",
       "    <tr>\n",
       "      <th>1391</th>\n",
       "      <td>2015/2016</td>\n",
       "      <td>2016-04-24 00:00:00</td>\n",
       "      <td>FC Luzern</td>\n",
       "      <td>FC Thun</td>\n",
       "      <td>30.0</td>\n",
       "      <td>1</td>\n",
       "      <td>0</td>\n",
       "      <td>0</td>\n",
       "    </tr>\n",
       "    <tr>\n",
       "      <th>1396</th>\n",
       "      <td>2015/2016</td>\n",
       "      <td>2016-05-01 00:00:00</td>\n",
       "      <td>FC Thun</td>\n",
       "      <td>FC Zürich</td>\n",
       "      <td>31.0</td>\n",
       "      <td>1</td>\n",
       "      <td>0</td>\n",
       "      <td>0</td>\n",
       "    </tr>\n",
       "    <tr>\n",
       "      <th>1401</th>\n",
       "      <td>2015/2016</td>\n",
       "      <td>2016-05-08 00:00:00</td>\n",
       "      <td>Lugano</td>\n",
       "      <td>Grasshopper Club Zürich</td>\n",
       "      <td>32.0</td>\n",
       "      <td>1</td>\n",
       "      <td>0</td>\n",
       "      <td>0</td>\n",
       "    </tr>\n",
       "  </tbody>\n",
       "</table>\n",
       "</div>"
      ],
      "text/plain": [
       "         season                 Date                 HomeTeam  \\\n",
       "1262  2015/2016  2015-08-12 00:00:00           BSC Young Boys   \n",
       "1263  2015/2016  2015-08-12 00:00:00                FC Luzern   \n",
       "1270  2015/2016  2015-08-23 00:00:00            FC St. Gallen   \n",
       "1272  2015/2016  2015-08-29 00:00:00                   Lugano   \n",
       "1273  2015/2016  2015-08-29 00:00:00                 FC Vaduz   \n",
       "1276  2015/2016  2015-08-30 00:00:00                  FC Thun   \n",
       "1277  2015/2016  2015-09-12 00:00:00           BSC Young Boys   \n",
       "1280  2015/2016  2015-09-13 00:00:00                  FC Sion   \n",
       "1284  2015/2016  2015-09-23 00:00:00  Grasshopper Club Zürich   \n",
       "1289  2015/2016  2015-09-27 00:00:00                  FC Sion   \n",
       "1290  2015/2016  2015-09-27 00:00:00                  FC Thun   \n",
       "1291  2015/2016  2015-09-27 00:00:00                FC Luzern   \n",
       "1298  2015/2016  2015-10-17 00:00:00  Grasshopper Club Zürich   \n",
       "1300  2015/2016  2015-10-18 00:00:00                  FC Sion   \n",
       "1304  2015/2016  2015-10-25 00:00:00                 FC Basel   \n",
       "1309  2015/2016  2015-11-01 00:00:00                   Lugano   \n",
       "1310  2015/2016  2015-11-01 00:00:00            FC St. Gallen   \n",
       "1314  2015/2016  2015-11-08 00:00:00                  FC Sion   \n",
       "1315  2015/2016  2015-11-08 00:00:00                  FC Thun   \n",
       "1317  2015/2016  2015-11-21 00:00:00                FC Luzern   \n",
       "1318  2015/2016  2015-11-21 00:00:00  Grasshopper Club Zürich   \n",
       "1324  2015/2016  2015-11-29 00:00:00                 FC Basel   \n",
       "1326  2015/2016  2015-11-29 00:00:00  Grasshopper Club Zürich   \n",
       "1327  2015/2016  2015-12-05 00:00:00                FC Zürich   \n",
       "1329  2015/2016  2015-12-06 00:00:00                  FC Thun   \n",
       "1335  2015/2016  2016-02-07 00:00:00                FC Zürich   \n",
       "1336  2015/2016  2016-02-07 00:00:00                 FC Basel   \n",
       "1340  2015/2016  2016-02-14 00:00:00  Grasshopper Club Zürich   \n",
       "1341  2015/2016  2016-02-20 00:00:00                   Lugano   \n",
       "1344  2015/2016  2016-02-21 00:00:00  Grasshopper Club Zürich   \n",
       "1345  2015/2016  2016-02-21 00:00:00                FC Luzern   \n",
       "1348  2015/2016  2016-02-28 00:00:00                  FC Thun   \n",
       "1351  2015/2016  2016-03-05 00:00:00                FC Zürich   \n",
       "1352  2015/2016  2016-03-06 00:00:00           BSC Young Boys   \n",
       "1353  2015/2016  2016-03-06 00:00:00                  FC Sion   \n",
       "1357  2015/2016  2016-03-13 00:00:00           BSC Young Boys   \n",
       "1362  2015/2016  2016-03-20 00:00:00                  FC Sion   \n",
       "1363  2015/2016  2016-03-20 00:00:00  Grasshopper Club Zürich   \n",
       "1364  2015/2016  2016-03-20 00:00:00                 FC Vaduz   \n",
       "1365  2015/2016  2016-04-02 00:00:00                FC Luzern   \n",
       "1366  2015/2016  2016-04-02 00:00:00                FC Zürich   \n",
       "1368  2015/2016  2016-04-03 00:00:00                   Lugano   \n",
       "1373  2015/2016  2016-04-10 00:00:00                 FC Vaduz   \n",
       "1374  2015/2016  2016-04-10 00:00:00                 FC Basel   \n",
       "1378  2015/2016  2016-04-16 00:00:00                FC Zürich   \n",
       "1380  2015/2016  2016-04-17 00:00:00            FC St. Gallen   \n",
       "1383  2015/2016  2016-04-20 00:00:00                 FC Basel   \n",
       "1388  2015/2016  2016-04-23 00:00:00  Grasshopper Club Zürich   \n",
       "1389  2015/2016  2016-04-24 00:00:00                 FC Vaduz   \n",
       "1390  2015/2016  2016-04-24 00:00:00           BSC Young Boys   \n",
       "1391  2015/2016  2016-04-24 00:00:00                FC Luzern   \n",
       "1396  2015/2016  2016-05-01 00:00:00                  FC Thun   \n",
       "1401  2015/2016  2016-05-08 00:00:00                   Lugano   \n",
       "\n",
       "                     AwayTeam  H_ROUND  prediction  real  accuracy  \n",
       "1262                   Lugano      5.0           1     0         0  \n",
       "1263            FC St. Gallen      5.0           1     0         0  \n",
       "1270  Grasshopper Club Zürich      6.0           1     0         0  \n",
       "1272                FC Luzern      7.0           1     0         0  \n",
       "1273            FC St. Gallen      7.0           1     0         0  \n",
       "1276                  FC Sion      7.0           1     0         0  \n",
       "1277                 FC Vaduz      8.0           1     0         0  \n",
       "1280                   Lugano      8.0           1     0         0  \n",
       "1284                  FC Sion      9.0           1     0         0  \n",
       "1289                 FC Vaduz     10.0           1     0         0  \n",
       "1290           BSC Young Boys     10.0           1     0         0  \n",
       "1291                FC Zürich     10.0           1     0         0  \n",
       "1298                FC Luzern     12.0           1     0         0  \n",
       "1300                 FC Basel     12.0           1     0         0  \n",
       "1304           BSC Young Boys     13.0           1     0         0  \n",
       "1309                  FC Sion     14.0           1     0         0  \n",
       "1310                FC Luzern     14.0           1     0         0  \n",
       "1314                FC Luzern     15.0           1     0         0  \n",
       "1315            FC St. Gallen     15.0           1     0         0  \n",
       "1317                  FC Thun     16.0           1     0         0  \n",
       "1318                 FC Vaduz     16.0           1     0         0  \n",
       "1324                FC Luzern     17.0           1     0         0  \n",
       "1326                FC Zürich     17.0           1     0         0  \n",
       "1327                  FC Sion     18.0           1     0         0  \n",
       "1329                 FC Basel     18.0           1     0         0  \n",
       "1335                  FC Sion     19.0           1     0         0  \n",
       "1336                FC Luzern     19.0           1     0         0  \n",
       "1340                 FC Basel     20.0           1     0         0  \n",
       "1341                FC Zürich     21.0           1     0         0  \n",
       "1344                  FC Sion     21.0           1     0         0  \n",
       "1345            FC St. Gallen     21.0           1     0         0  \n",
       "1348                 FC Basel     22.0           1     0         0  \n",
       "1351                  FC Thun     23.0           1     0         0  \n",
       "1352                FC Luzern     23.0           1     0         0  \n",
       "1353                 FC Vaduz     22.0           1     0         0  \n",
       "1357                  FC Sion     24.0           1     0         0  \n",
       "1362                 FC Basel     24.0           1     0         0  \n",
       "1363                   Lugano     25.0           1     0         0  \n",
       "1364                FC Zürich     25.0           1     0         0  \n",
       "1365                 FC Vaduz     26.0           1     0         0  \n",
       "1366            FC St. Gallen     26.0           1     0         0  \n",
       "1368                  FC Sion     25.0           1     0         0  \n",
       "1373            FC St. Gallen     27.0           1     0         0  \n",
       "1374                FC Zürich     26.0           1     0         0  \n",
       "1378                FC Luzern     28.0           1     0         0  \n",
       "1380                 FC Basel     28.0           1     0         0  \n",
       "1383                   Lugano     29.0           1     0         0  \n",
       "1388            FC St. Gallen     30.0           1     0         0  \n",
       "1389                 FC Basel     30.0           1     0         0  \n",
       "1390                FC Zürich     30.0           1     0         0  \n",
       "1391                  FC Thun     30.0           1     0         0  \n",
       "1396                FC Zürich     31.0           1     0         0  \n",
       "1401  Grasshopper Club Zürich     32.0           1     0         0  "
      ]
     },
     "execution_count": 1718,
     "metadata": {},
     "output_type": "execute_result"
    }
   ],
   "source": [
    "b[b['accuracy']==0]"
   ]
  },
  {
   "cell_type": "code",
   "execution_count": 1698,
   "metadata": {
    "collapsed": false
   },
   "outputs": [],
   "source": [
    "def Predict_whole_season_with_one (BIG, predseason, col_train, col_pred,method, method_name):\n",
    "        \n",
    "    tmp=pd.DataFrame()    \n",
    "    \n",
    "    train_index, test_index = train_test_index(BIG,predseason)\n",
    "    lis=[]\n",
    "    lis_2=[]\n",
    "\n",
    "    \n",
    "    for i in BIG[BIG.season==predseason].H_ROUND.unique():\n",
    "       \n",
    "        X_train,Y_train,X_test,Y_test = split_train_test_data(BIG,train_index,test_index,col_train,col_pred,i) \n",
    "        method.fit(X_train,Y_train)\n",
    "        lis.append(float(method.score(X_test, Y_test)))\n",
    "        \n",
    "        train_index=list(train_index)+list(X_test.index)\n",
    "       \n",
    "    tmp[method_name]=lis     \n",
    "    return tmp\n",
    "    "
   ]
  },
  {
   "cell_type": "code",
   "execution_count": null,
   "metadata": {
    "collapsed": true
   },
   "outputs": [],
   "source": []
  },
  {
   "cell_type": "code",
   "execution_count": 1310,
   "metadata": {
    "collapsed": false
   },
   "outputs": [],
   "source": [
    "def Predict_season_with_current_season (df, predseason, col_train, col_pred,method, method_name):\n",
    "    \n",
    "    tmp=pd.DataFrame()\n",
    "    tmp_2=df[df['season']==predseason]\n",
    "    lis=[]\n",
    "    \n",
    "    second_round=tmp_2['H_ROUND'].unique()[1]\n",
    "    \n",
    "        \n",
    "    for i in range(int(df.H_ROUND.unique()[1]), int(df.H_ROUND.unique()[-1])):\n",
    "        \n",
    "        train_index, test_index = train_test_index_only_round(df,i)\n",
    "        \n",
    "        X_train=df.loc[train_index].iloc[:,col_train]\n",
    "        Y_train=df.loc[train_index][col_pred]\n",
    "\n",
    "        lis2.appen\n",
    "        \n",
    "        X_test=df.loc[test_index].iloc[:,col_train]\n",
    "        Y_test=df.loc[test_index][col_pred]\n",
    "        \n",
    "       \n",
    "        method.fit(X_train,Y_train)\n",
    "        \n",
    "        lis.append(float(method.score(X_test, Y_test)))\n",
    "        \n",
    "       \n",
    "    tmp[method_name]=lis     \n",
    "    \n",
    "    return tmp\n"
   ]
  },
  {
   "cell_type": "code",
   "execution_count": 1311,
   "metadata": {
    "collapsed": true
   },
   "outputs": [],
   "source": [
    "def find_best_model (X,col_pred,col_train,method):\n",
    "    n=100\n",
    "    from sklearn.cross_validation import train_test_split\n",
    "    tmp=0\n",
    "    for i in range(n):\n",
    "        X_train, X_test, y_train, y_test = train_test_split(X.iloc[:,column_to_use_as_prediction], X[col_pred], test_size=0.20)\n",
    "        method.fit(X_train,y_train)\n",
    "        if method.score(X_test,y_test)>tmp:\n",
    "            Best=method.fit(X_train,y_train)\n",
    "    return Best"
   ]
  },
  {
   "cell_type": "code",
   "execution_count": 2048,
   "metadata": {
    "collapsed": false
   },
   "outputs": [],
   "source": [
    "def pred_all_meth (df, season_to_be_predicted,column_to_predict,column_to_use_as_prediction):\n",
    "    \n",
    "    lis=[]\n",
    "    \n",
    "    \n",
    "    #column_to_use_as_prediction = [22,18,51,49,42,20]\n",
    "    #column_to_predict='Goal/No_Goal'\n",
    "    \n",
    "    svm_linear = svm.SVC(kernel='linear', class_weight={'H':66,'D':35,'A':39})\n",
    "    lis.append(MyDf(Predict_whole_season_by_one(df,season_to_be_predicted,column_to_use_as_prediction,column_to_predict, svm_linear,'svm_linear_1')))\n",
    "    lis.append(MyDf(Predict_whole_season_with_one(df,season_to_be_predicted,column_to_use_as_prediction,column_to_predict, svm_linear,'svm_linear_2')))\n",
    "    #lis.append(MyDf(Predict_season_with_current_season(df,season_to_be_predicted, column_to_use_as_prediction, column_to_predict,svm_linear,'svm_linear_3')))    \n",
    "    \n",
    "    #column_to_use_as_prediction = [22,18,51,49,42,20]\n",
    "    #column_to_predict='Goal/No_Goal'\n",
    "    \n",
    "    svm_rbf = svm.SVC(kernel='rbf', gamma = 100)\n",
    "    lis.append(MyDf(Predict_whole_season_by_one(df,season_to_be_predicted,column_to_use_as_prediction,column_to_predict,svm_rbf,'svm_rbf_1')))\n",
    "    lis.append(MyDf(Predict_whole_season_with_one(df,season_to_be_predicted,column_to_use_as_prediction,column_to_predict, svm_rbf,'svm_rbf_2')))\n",
    "    #lis.append(MyDf(Predict_season_with_current_season(df,season_to_be_predicted,column_to_use_as_prediction,column_to_predict,svm_rbf,'svm_rbf_3')))\n",
    "\n",
    "    \n",
    "    \n",
    "    #column_to_use_as_prediction = [22,18,51,49,42,20]\n",
    "    #column_to_predict = 'Goal/No_Goal'  \n",
    "               \n",
    "    #dtc = DecisionTreeClassifier()\n",
    "    #lis.append(MyDf(Predict_whole_season_by_one(df,season_to_be_predicted,column_to_use_as_prediction,column_to_predict, dtc,'dtc_1')))\n",
    "    #lis.append(MyDf(Predict_whole_season_with_one(df,season_to_be_predicted,column_to_use_as_prediction,column_to_predict, dtc,'dtc_2')))\n",
    "    #lis.append(MyDf(Predict_season_with_current_season(df,season_to_be_predicted,column_to_use_as_prediction,column_to_predict, dtc,'dtc_3')))\n",
    "\n",
    "    \n",
    "    \n",
    "    #column_to_use_as_prediction=[22,18,51,49,42,20]\n",
    "    #column_to_predict='Goal/No_Goal'  \n",
    "               \n",
    "    #bagb = AdaBoostClassifier(DecisionTreeClassifier(max_depth=10), n_estimators=20)\n",
    "    #lis.append(MyDf(Predict_whole_season_by_one(df,season_to_be_predicted,column_to_use_as_prediction,column_to_predict, bagb,'bagb_1')))\n",
    "    #lis.append(MyDf(Predict_whole_season_with_one(df,season_to_be_predicted,column_to_use_as_prediction,column_to_predict, bagb,'bagb_2')))\n",
    "    #lis.append(MyDf(Predict_season_with_current_season(df,season_to_be_predicted,column_to_use_as_prediction,column_to_predict, bagb,'bagb_3')))          \n",
    "               \n",
    "    \n",
    "    #column_to_use_as_prediction=[22,18,51,49,42,20]\n",
    "    #column_to_predict='Goal/No_Goal'           \n",
    "               \n",
    "    #gradb = GradientBoostingClassifier(max_depth=10, n_estimators=20)\n",
    "    #lis.append(MyDf(Predict_whole_season_by_one(df,season_to_be_predicted,column_to_use_as_prediction,column_to_predict, gradb,'gradb_1')))\n",
    "    #lis.append(MyDf(Predict_whole_season_with_one(df,season_to_be_predicted,column_to_use_as_prediction,column_to_predict, gradb,'gradb_2')))\n",
    "    #lis.append(MyDf(Predict_season_with_current_season(df,season_to_be_predicted,column_to_use_as_prediction,column_to_predict, gradb,'gradb_3')))         \n",
    "   \n",
    "                    \n",
    "    \n",
    "    #column_to_use_as_prediction=[22,18,51,49,42,20]\n",
    "    #column_to_predict='Goal/No_Goal'  \n",
    "                    \n",
    "    Ardf = AdaBoostClassifier(RandomForestClassifier(max_depth=10, n_estimators=20))\n",
    "    lis.append(MyDf(Predict_whole_season_by_one(df,season_to_be_predicted,column_to_use_as_prediction,column_to_predict, Ardf,'rdf_1')))\n",
    "    lis.append(MyDf(Predict_whole_season_with_one(df,season_to_be_predicted,column_to_use_as_prediction,column_to_predict, Ardf,'rdf_2')))\n",
    "    #lis.append(MyDf(Predict_season_with_current_season(df,season_to_be_predicted,column_to_use_as_prediction,column_to_predict, rdf,'rdf_3')))\n",
    "    \n",
    "    \n",
    "    \n",
    "    return lis"
   ]
  },
  {
   "cell_type": "code",
   "execution_count": 2049,
   "metadata": {
    "collapsed": true
   },
   "outputs": [],
   "source": [
    "def Put_Togheter (lis):\n",
    "    tmp=pd.DataFrame()\n",
    "    for i in range(len(lis)):\n",
    "        tmp=tmp.join(lis[i].df, how='outer')\n",
    "        \n",
    "    return tmp"
   ]
  },
  {
   "cell_type": "code",
   "execution_count": null,
   "metadata": {
    "collapsed": true
   },
   "outputs": [],
   "source": []
  },
  {
   "cell_type": "code",
   "execution_count": null,
   "metadata": {
    "collapsed": true
   },
   "outputs": [],
   "source": []
  },
  {
   "cell_type": "code",
   "execution_count": null,
   "metadata": {
    "collapsed": true
   },
   "outputs": [],
   "source": []
  },
  {
   "cell_type": "markdown",
   "metadata": {},
   "source": [
    "# Loading data"
   ]
  },
  {
   "cell_type": "code",
   "execution_count": 2050,
   "metadata": {
    "collapsed": true
   },
   "outputs": [],
   "source": [
    "final=pd.read_csv('../Data/from_sqlite_Data/realfinal.csv')\n",
    "final.drop('Unnamed: 0',axis=1,inplace=True)\n",
    "allchampionships=[]"
   ]
  },
  {
   "cell_type": "code",
   "execution_count": 2051,
   "metadata": {
    "collapsed": false
   },
   "outputs": [
    {
     "data": {
      "text/html": [
       "<div>\n",
       "<table border=\"1\" class=\"dataframe\">\n",
       "  <thead>\n",
       "    <tr style=\"text-align: right;\">\n",
       "      <th></th>\n",
       "      <th>Unnamed: 0</th>\n",
       "      <th>Switzerland Super League</th>\n",
       "      <th>Poland Ekstraklasa</th>\n",
       "      <th>Scotland Premier League</th>\n",
       "      <th>France Ligue 1</th>\n",
       "      <th>Germany 1. Bundesliga</th>\n",
       "      <th>England Premier League</th>\n",
       "      <th>Belgium Jupiler League</th>\n",
       "      <th>Portugal Liga ZON Sagres</th>\n",
       "      <th>Netherlands Eredivisie</th>\n",
       "      <th>Italy Serie A</th>\n",
       "      <th>Spain LIGA BBVA</th>\n",
       "    </tr>\n",
       "  </thead>\n",
       "  <tbody>\n",
       "    <tr>\n",
       "      <th>0</th>\n",
       "      <td>0</td>\n",
       "      <td>0.452830</td>\n",
       "      <td>0.454812</td>\n",
       "      <td>0.429167</td>\n",
       "      <td>0.444583</td>\n",
       "      <td>0.454885</td>\n",
       "      <td>0.460899</td>\n",
       "      <td>0.467764</td>\n",
       "      <td>0.442890</td>\n",
       "      <td>0.486371</td>\n",
       "      <td>0.466056</td>\n",
       "      <td>0.493539</td>\n",
       "    </tr>\n",
       "    <tr>\n",
       "      <th>1</th>\n",
       "      <td>1</td>\n",
       "      <td>0.243486</td>\n",
       "      <td>0.275235</td>\n",
       "      <td>0.240972</td>\n",
       "      <td>0.288333</td>\n",
       "      <td>0.243994</td>\n",
       "      <td>0.258735</td>\n",
       "      <td>0.239369</td>\n",
       "      <td>0.254662</td>\n",
       "      <td>0.230893</td>\n",
       "      <td>0.267805</td>\n",
       "      <td>0.227178</td>\n",
       "    </tr>\n",
       "    <tr>\n",
       "      <th>2</th>\n",
       "      <td>2</td>\n",
       "      <td>0.303684</td>\n",
       "      <td>0.269953</td>\n",
       "      <td>0.329861</td>\n",
       "      <td>0.267083</td>\n",
       "      <td>0.301121</td>\n",
       "      <td>0.280366</td>\n",
       "      <td>0.292867</td>\n",
       "      <td>0.302448</td>\n",
       "      <td>0.282737</td>\n",
       "      <td>0.266139</td>\n",
       "      <td>0.279283</td>\n",
       "    </tr>\n",
       "  </tbody>\n",
       "</table>\n",
       "</div>"
      ],
      "text/plain": [
       "   Unnamed: 0  Switzerland Super League  Poland Ekstraklasa  \\\n",
       "0           0                  0.452830            0.454812   \n",
       "1           1                  0.243486            0.275235   \n",
       "2           2                  0.303684            0.269953   \n",
       "\n",
       "   Scotland Premier League  France Ligue 1  Germany 1. Bundesliga  \\\n",
       "0                 0.429167        0.444583               0.454885   \n",
       "1                 0.240972        0.288333               0.243994   \n",
       "2                 0.329861        0.267083               0.301121   \n",
       "\n",
       "   England Premier League  Belgium Jupiler League  Portugal Liga ZON Sagres  \\\n",
       "0                0.460899                0.467764                  0.442890   \n",
       "1                0.258735                0.239369                  0.254662   \n",
       "2                0.280366                0.292867                  0.302448   \n",
       "\n",
       "   Netherlands Eredivisie  Italy Serie A  Spain LIGA BBVA  \n",
       "0                0.486371       0.466056         0.493539  \n",
       "1                0.230893       0.267805         0.227178  \n",
       "2                0.282737       0.266139         0.279283  "
      ]
     },
     "execution_count": 2051,
     "metadata": {},
     "output_type": "execute_result"
    }
   ],
   "source": [
    "percentages=pd.read_csv('../Data/1x2_all_leagues')\n",
    "percentages"
   ]
  },
  {
   "cell_type": "code",
   "execution_count": 2052,
   "metadata": {
    "collapsed": false
   },
   "outputs": [
    {
     "name": "stderr",
     "output_type": "stream",
     "text": [
      "/Users/nicolamacchitella/anaconda/lib/python2.7/site-packages/ipykernel/__main__.py:2: FutureWarning: sort(columns=....) is deprecated, use sort_values(by=.....)\n",
      "  from ipykernel import kernelapp as app\n"
     ]
    }
   ],
   "source": [
    "for i in range(len(final.country_id.unique())):\n",
    "    allchampionships.append(MyDf(final[final['country_id']==final.country_id.unique()[i]].sort(columns='Date')))\n",
    "    allchampionships[i].df.reset_index(inplace=True)\n",
    "    allchampionships[i].df.drop(['index'],axis=1,inplace=True)"
   ]
  },
  {
   "cell_type": "markdown",
   "metadata": {},
   "source": [
    "# Cut out first and last n,m matches"
   ]
  },
  {
   "cell_type": "code",
   "execution_count": 2053,
   "metadata": {
    "collapsed": true
   },
   "outputs": [],
   "source": [
    "n=4\n",
    "m=4"
   ]
  },
  {
   "cell_type": "code",
   "execution_count": 2054,
   "metadata": {
    "collapsed": true
   },
   "outputs": [],
   "source": [
    "for i in range(len(final.country_id.unique())):\n",
    "    allchampionships[i].df=cut_out_n_m_matches(allchampionships[i].df,n,m)\n",
    "    "
   ]
  },
  {
   "cell_type": "code",
   "execution_count": 2055,
   "metadata": {
    "collapsed": false
   },
   "outputs": [
    {
     "data": {
      "text/html": [
       "<div>\n",
       "<table border=\"1\" class=\"dataframe\">\n",
       "  <thead>\n",
       "    <tr style=\"text-align: right;\">\n",
       "      <th></th>\n",
       "      <th>0</th>\n",
       "    </tr>\n",
       "  </thead>\n",
       "  <tbody>\n",
       "    <tr>\n",
       "      <th>0</th>\n",
       "      <td>country_id</td>\n",
       "    </tr>\n",
       "    <tr>\n",
       "      <th>1</th>\n",
       "      <td>season</td>\n",
       "    </tr>\n",
       "    <tr>\n",
       "      <th>2</th>\n",
       "      <td>Date</td>\n",
       "    </tr>\n",
       "    <tr>\n",
       "      <th>3</th>\n",
       "      <td>HomeTeam</td>\n",
       "    </tr>\n",
       "    <tr>\n",
       "      <th>4</th>\n",
       "      <td>AwayTeam</td>\n",
       "    </tr>\n",
       "    <tr>\n",
       "      <th>5</th>\n",
       "      <td>FTHG</td>\n",
       "    </tr>\n",
       "    <tr>\n",
       "      <th>6</th>\n",
       "      <td>FTAG</td>\n",
       "    </tr>\n",
       "    <tr>\n",
       "      <th>7</th>\n",
       "      <td>FTR</td>\n",
       "    </tr>\n",
       "    <tr>\n",
       "      <th>8</th>\n",
       "      <td>H_ROUND</td>\n",
       "    </tr>\n",
       "    <tr>\n",
       "      <th>9</th>\n",
       "      <td>H_TP3</td>\n",
       "    </tr>\n",
       "    <tr>\n",
       "      <th>10</th>\n",
       "      <td>H_TP5</td>\n",
       "    </tr>\n",
       "    <tr>\n",
       "      <th>11</th>\n",
       "      <td>H_GS_H</td>\n",
       "    </tr>\n",
       "    <tr>\n",
       "      <th>12</th>\n",
       "      <td>H_GS_A</td>\n",
       "    </tr>\n",
       "    <tr>\n",
       "      <th>13</th>\n",
       "      <td>H_GR_H</td>\n",
       "    </tr>\n",
       "    <tr>\n",
       "      <th>14</th>\n",
       "      <td>H_GR_A</td>\n",
       "    </tr>\n",
       "    <tr>\n",
       "      <th>15</th>\n",
       "      <td>H_TGS</td>\n",
       "    </tr>\n",
       "    <tr>\n",
       "      <th>16</th>\n",
       "      <td>H_TGR</td>\n",
       "    </tr>\n",
       "    <tr>\n",
       "      <th>17</th>\n",
       "      <td>H_AvGS_H</td>\n",
       "    </tr>\n",
       "    <tr>\n",
       "      <th>18</th>\n",
       "      <td>H_AvGS_A</td>\n",
       "    </tr>\n",
       "    <tr>\n",
       "      <th>19</th>\n",
       "      <td>H_AvGR_H</td>\n",
       "    </tr>\n",
       "    <tr>\n",
       "      <th>20</th>\n",
       "      <td>H_AvGR_A</td>\n",
       "    </tr>\n",
       "    <tr>\n",
       "      <th>21</th>\n",
       "      <td>H_Av_TGS</td>\n",
       "    </tr>\n",
       "    <tr>\n",
       "      <th>22</th>\n",
       "      <td>H_Av_TGR</td>\n",
       "    </tr>\n",
       "    <tr>\n",
       "      <th>23</th>\n",
       "      <td>H_Pnt_H</td>\n",
       "    </tr>\n",
       "    <tr>\n",
       "      <th>24</th>\n",
       "      <td>H_Pnt_A</td>\n",
       "    </tr>\n",
       "    <tr>\n",
       "      <th>25</th>\n",
       "      <td>H_T_pnt</td>\n",
       "    </tr>\n",
       "    <tr>\n",
       "      <th>26</th>\n",
       "      <td>H_Av_Pnt_H</td>\n",
       "    </tr>\n",
       "    <tr>\n",
       "      <th>27</th>\n",
       "      <td>H_Av_pnt_A</td>\n",
       "    </tr>\n",
       "    <tr>\n",
       "      <th>28</th>\n",
       "      <td>H_Av_T_pnt</td>\n",
       "    </tr>\n",
       "    <tr>\n",
       "      <th>29</th>\n",
       "      <td>A_ROUND</td>\n",
       "    </tr>\n",
       "    <tr>\n",
       "      <th>30</th>\n",
       "      <td>A_TP3</td>\n",
       "    </tr>\n",
       "    <tr>\n",
       "      <th>31</th>\n",
       "      <td>A_TP5</td>\n",
       "    </tr>\n",
       "    <tr>\n",
       "      <th>32</th>\n",
       "      <td>Aw_GS_H</td>\n",
       "    </tr>\n",
       "    <tr>\n",
       "      <th>33</th>\n",
       "      <td>Aw_GS_A</td>\n",
       "    </tr>\n",
       "    <tr>\n",
       "      <th>34</th>\n",
       "      <td>Aw_GR_H</td>\n",
       "    </tr>\n",
       "    <tr>\n",
       "      <th>35</th>\n",
       "      <td>Aw_GR_A</td>\n",
       "    </tr>\n",
       "    <tr>\n",
       "      <th>36</th>\n",
       "      <td>Aw_TGS</td>\n",
       "    </tr>\n",
       "    <tr>\n",
       "      <th>37</th>\n",
       "      <td>Aw_TGR</td>\n",
       "    </tr>\n",
       "    <tr>\n",
       "      <th>38</th>\n",
       "      <td>Aw_AvGS_H</td>\n",
       "    </tr>\n",
       "    <tr>\n",
       "      <th>39</th>\n",
       "      <td>Aw_AvGS_A</td>\n",
       "    </tr>\n",
       "    <tr>\n",
       "      <th>40</th>\n",
       "      <td>Aw_AvGR_H</td>\n",
       "    </tr>\n",
       "    <tr>\n",
       "      <th>41</th>\n",
       "      <td>Aw_AvGR_A</td>\n",
       "    </tr>\n",
       "    <tr>\n",
       "      <th>42</th>\n",
       "      <td>Aw_Av_TGS</td>\n",
       "    </tr>\n",
       "    <tr>\n",
       "      <th>43</th>\n",
       "      <td>Aw_Av_TGR</td>\n",
       "    </tr>\n",
       "    <tr>\n",
       "      <th>44</th>\n",
       "      <td>Aw_Pnt_H</td>\n",
       "    </tr>\n",
       "    <tr>\n",
       "      <th>45</th>\n",
       "      <td>Aw_Pnt_A</td>\n",
       "    </tr>\n",
       "    <tr>\n",
       "      <th>46</th>\n",
       "      <td>Aw_T_pnt</td>\n",
       "    </tr>\n",
       "    <tr>\n",
       "      <th>47</th>\n",
       "      <td>Aw_Av_Pnt_H</td>\n",
       "    </tr>\n",
       "    <tr>\n",
       "      <th>48</th>\n",
       "      <td>Aw_Av_pnt_A</td>\n",
       "    </tr>\n",
       "    <tr>\n",
       "      <th>49</th>\n",
       "      <td>Aw_Av_T_pnt</td>\n",
       "    </tr>\n",
       "    <tr>\n",
       "      <th>50</th>\n",
       "      <td>DIFF_TP</td>\n",
       "    </tr>\n",
       "    <tr>\n",
       "      <th>51</th>\n",
       "      <td>DIFF_HP-AP</td>\n",
       "    </tr>\n",
       "    <tr>\n",
       "      <th>52</th>\n",
       "      <td>SUMM_HGSH+HGSH+AGRA</td>\n",
       "    </tr>\n",
       "    <tr>\n",
       "      <th>53</th>\n",
       "      <td>SUMM_HGRH+AGSA</td>\n",
       "    </tr>\n",
       "    <tr>\n",
       "      <th>54</th>\n",
       "      <td>SUMM_HTGS+ATGR</td>\n",
       "    </tr>\n",
       "    <tr>\n",
       "      <th>55</th>\n",
       "      <td>SUMM_HTGR+ATGS</td>\n",
       "    </tr>\n",
       "    <tr>\n",
       "      <th>56</th>\n",
       "      <td>DIFF_L3MP</td>\n",
       "    </tr>\n",
       "    <tr>\n",
       "      <th>57</th>\n",
       "      <td>DIFF_L5MP</td>\n",
       "    </tr>\n",
       "    <tr>\n",
       "      <th>58</th>\n",
       "      <td>DIFF_av_TP</td>\n",
       "    </tr>\n",
       "    <tr>\n",
       "      <th>59</th>\n",
       "      <td>DIFF_av_HP-AP</td>\n",
       "    </tr>\n",
       "    <tr>\n",
       "      <th>60</th>\n",
       "      <td>SUMM_av_HGSH+AGRA</td>\n",
       "    </tr>\n",
       "    <tr>\n",
       "      <th>61</th>\n",
       "      <td>SUMM_av_HGRH+AGSA</td>\n",
       "    </tr>\n",
       "    <tr>\n",
       "      <th>62</th>\n",
       "      <td>SUMM_av_HTGS+ATGR</td>\n",
       "    </tr>\n",
       "    <tr>\n",
       "      <th>63</th>\n",
       "      <td>SUMM_av_HTGR+ATGS</td>\n",
       "    </tr>\n",
       "    <tr>\n",
       "      <th>64</th>\n",
       "      <td>Goal/No_Goal</td>\n",
       "    </tr>\n",
       "    <tr>\n",
       "      <th>65</th>\n",
       "      <td>Over2.5/Under2.5</td>\n",
       "    </tr>\n",
       "    <tr>\n",
       "      <th>66</th>\n",
       "      <td>Over1.5/Under1.5</td>\n",
       "    </tr>\n",
       "  </tbody>\n",
       "</table>\n",
       "</div>"
      ],
      "text/plain": [
       "                      0\n",
       "0            country_id\n",
       "1                season\n",
       "2                  Date\n",
       "3              HomeTeam\n",
       "4              AwayTeam\n",
       "5                  FTHG\n",
       "6                  FTAG\n",
       "7                   FTR\n",
       "8               H_ROUND\n",
       "9                 H_TP3\n",
       "10                H_TP5\n",
       "11               H_GS_H\n",
       "12               H_GS_A\n",
       "13               H_GR_H\n",
       "14               H_GR_A\n",
       "15                H_TGS\n",
       "16                H_TGR\n",
       "17             H_AvGS_H\n",
       "18             H_AvGS_A\n",
       "19             H_AvGR_H\n",
       "20             H_AvGR_A\n",
       "21             H_Av_TGS\n",
       "22             H_Av_TGR\n",
       "23              H_Pnt_H\n",
       "24              H_Pnt_A\n",
       "25              H_T_pnt\n",
       "26           H_Av_Pnt_H\n",
       "27           H_Av_pnt_A\n",
       "28           H_Av_T_pnt\n",
       "29              A_ROUND\n",
       "30                A_TP3\n",
       "31                A_TP5\n",
       "32              Aw_GS_H\n",
       "33              Aw_GS_A\n",
       "34              Aw_GR_H\n",
       "35              Aw_GR_A\n",
       "36               Aw_TGS\n",
       "37               Aw_TGR\n",
       "38            Aw_AvGS_H\n",
       "39            Aw_AvGS_A\n",
       "40            Aw_AvGR_H\n",
       "41            Aw_AvGR_A\n",
       "42            Aw_Av_TGS\n",
       "43            Aw_Av_TGR\n",
       "44             Aw_Pnt_H\n",
       "45             Aw_Pnt_A\n",
       "46             Aw_T_pnt\n",
       "47          Aw_Av_Pnt_H\n",
       "48          Aw_Av_pnt_A\n",
       "49          Aw_Av_T_pnt\n",
       "50              DIFF_TP\n",
       "51           DIFF_HP-AP\n",
       "52  SUMM_HGSH+HGSH+AGRA\n",
       "53       SUMM_HGRH+AGSA\n",
       "54       SUMM_HTGS+ATGR\n",
       "55       SUMM_HTGR+ATGS\n",
       "56            DIFF_L3MP\n",
       "57            DIFF_L5MP\n",
       "58           DIFF_av_TP\n",
       "59        DIFF_av_HP-AP\n",
       "60    SUMM_av_HGSH+AGRA\n",
       "61    SUMM_av_HGRH+AGSA\n",
       "62    SUMM_av_HTGS+ATGR\n",
       "63    SUMM_av_HTGR+ATGS\n",
       "64         Goal/No_Goal\n",
       "65     Over2.5/Under2.5\n",
       "66     Over1.5/Under1.5"
      ]
     },
     "execution_count": 2055,
     "metadata": {},
     "output_type": "execute_result"
    }
   ],
   "source": [
    "pd.DataFrame(allchampionships[0].df.columns)"
   ]
  },
  {
   "cell_type": "markdown",
   "metadata": {},
   "source": [
    "# Parameter"
   ]
  },
  {
   "cell_type": "code",
   "execution_count": 2056,
   "metadata": {
    "collapsed": true
   },
   "outputs": [],
   "source": [
    "season_to_be_predicted='2015/2016'\n",
    "column_to_predict='Goal/No_Goal'\n",
    "column_to_use_as_prediction = [56,57]\n"
   ]
  },
  {
   "cell_type": "markdown",
   "metadata": {},
   "source": [
    "# RUN with all method only ONE LEAGUE"
   ]
  },
  {
   "cell_type": "code",
   "execution_count": 2047,
   "metadata": {
    "collapsed": false
   },
   "outputs": [],
   "source": [
    "a=pred_all_meth(allchampionships[1].df, season_to_be_predicted,column_to_predict,column_to_use_as_prediction)"
   ]
  },
  {
   "cell_type": "markdown",
   "metadata": {},
   "source": [
    "## Put together"
   ]
  },
  {
   "cell_type": "code",
   "execution_count": null,
   "metadata": {
    "collapsed": true
   },
   "outputs": [],
   "source": [
    "b=Put_Togheter(a)"
   ]
  },
  {
   "cell_type": "code",
   "execution_count": null,
   "metadata": {
    "collapsed": false
   },
   "outputs": [],
   "source": [
    "b"
   ]
  },
  {
   "cell_type": "code",
   "execution_count": null,
   "metadata": {
    "collapsed": false
   },
   "outputs": [],
   "source": [
    "b.mean()"
   ]
  },
  {
   "cell_type": "markdown",
   "metadata": {},
   "source": [
    "## Get Means and Best Methods"
   ]
  },
  {
   "cell_type": "code",
   "execution_count": 773,
   "metadata": {
    "collapsed": false
   },
   "outputs": [
    {
     "name": "stdout",
     "output_type": "stream",
     "text": [
      "('Best method are', 'svm_linear_1', 'with score', 0.37375073486184601)\n",
      "('Best method are', 'svm_linear_2', 'with score', 0.37375073486184601)\n",
      "('Best method are', 'svm_rbf_1', 'with score', 0.37375073486184601)\n",
      "('Best method are', 'svm_rbf_2', 'with score', 0.37375073486184601)\n"
     ]
    }
   ],
   "source": [
    "for i in range(len(b.mean()[b.mean()==max(b.mean())])):\n",
    "    print ('Best method are', b.mean()[b.mean()==max(b.mean())].index[i], 'with score', b.mean()[b.mean()==max(b.mean())][i])\n"
   ]
  },
  {
   "cell_type": "code",
   "execution_count": null,
   "metadata": {
    "collapsed": true
   },
   "outputs": [],
   "source": []
  },
  {
   "cell_type": "markdown",
   "metadata": {},
   "source": [
    "# Run all methods ALL LEAGUES "
   ]
  },
  {
   "cell_type": "code",
   "execution_count": 1284,
   "metadata": {
    "collapsed": true
   },
   "outputs": [],
   "source": [
    "def FINAL (df,season_to_be_predicted,column_to_predict,column_to_use_as_prediction):\n",
    "    lis=[]\n",
    "    tmp=pd.DataFrame(columns=[u'svm_linear_1', u'svm_linear_2', u'svm_linear_3', u'svm_rbf_1',\n",
    "       u'svm_rbf_2', u'svm_rbf_3', u'dtc_1', u'dtc_2', u'dtc_3', u'bagb_1',\n",
    "       u'bagb_2', u'bagb_3', u'gradb_1', u'gradb_2', u'gradb_3', u'rdf_1',\n",
    "       u'rdf_2', u'rdf_3'])\n",
    "    \n",
    "    for i in range(len(df)):\n",
    "        #print(i)\n",
    "        #print(allchampionships[i].df['country_id'].iloc[0])\n",
    "        \n",
    "        a=(pred_all_meth(df[i].df, season_to_be_predicted,column_to_predict,column_to_use_as_prediction))\n",
    "        b=Put_Togheter(a)\n",
    "        #print(b.mean())\n",
    "        tmp=tmp.append(b.mean(), ignore_index=True)\n",
    "        #print(tmp)\n",
    "    \n",
    "    '''tmp.index=['Switzerland Super League', 'Poland Ekstraklasa',\n",
    "       'Scotland Premier League', 'France Ligue 1',\n",
    "       'Germany 1. Bundesliga', 'England Premier League',\n",
    "       'Belgium Jupiler League', 'Portugal Liga ZON Sagres',\n",
    "       'Netherlands Eredivisie', 'Italy Serie A', 'Spain LIGA BBVA']\n",
    "    '''\n",
    "    return tmp\n",
    "        \n",
    "        \n",
    "    "
   ]
  },
  {
   "cell_type": "code",
   "execution_count": 1286,
   "metadata": {
    "collapsed": false
   },
   "outputs": [
    {
     "ename": "TypeError",
     "evalue": "%d format: a number is required, not str",
     "output_type": "error",
     "traceback": [
      "\u001b[0;31m---------------------------------------------------------------------------\u001b[0m",
      "\u001b[0;31mTypeError\u001b[0m                                 Traceback (most recent call last)",
      "\u001b[0;32m<ipython-input-1286-6179aa651b2e>\u001b[0m in \u001b[0;36m<module>\u001b[0;34m()\u001b[0m\n\u001b[0;32m----> 1\u001b[0;31m \u001b[0mG\u001b[0m\u001b[0;34m=\u001b[0m\u001b[0mFINAL\u001b[0m\u001b[0;34m(\u001b[0m\u001b[0mallchampionships\u001b[0m\u001b[0;34m,\u001b[0m\u001b[0mseason_to_be_predicted\u001b[0m\u001b[0;34m,\u001b[0m\u001b[0mcolumn_to_predict\u001b[0m\u001b[0;34m,\u001b[0m\u001b[0mcolumn_to_use_as_prediction\u001b[0m\u001b[0;34m)\u001b[0m\u001b[0;34m\u001b[0m\u001b[0m\n\u001b[0m",
      "\u001b[0;32m<ipython-input-1284-04391e65a392>\u001b[0m in \u001b[0;36mFINAL\u001b[0;34m(df, season_to_be_predicted, column_to_predict, column_to_use_as_prediction)\u001b[0m\n\u001b[1;32m     10\u001b[0m         \u001b[0;31m#print(allchampionships[i].df['country_id'].iloc[0])\u001b[0m\u001b[0;34m\u001b[0m\u001b[0;34m\u001b[0m\u001b[0m\n\u001b[1;32m     11\u001b[0m \u001b[0;34m\u001b[0m\u001b[0m\n\u001b[0;32m---> 12\u001b[0;31m         \u001b[0ma\u001b[0m\u001b[0;34m=\u001b[0m\u001b[0;34m(\u001b[0m\u001b[0mpred_all_meth\u001b[0m\u001b[0;34m(\u001b[0m\u001b[0mdf\u001b[0m\u001b[0;34m[\u001b[0m\u001b[0mi\u001b[0m\u001b[0;34m]\u001b[0m\u001b[0;34m.\u001b[0m\u001b[0mdf\u001b[0m\u001b[0;34m,\u001b[0m \u001b[0mseason_to_be_predicted\u001b[0m\u001b[0;34m,\u001b[0m\u001b[0mcolumn_to_predict\u001b[0m\u001b[0;34m,\u001b[0m\u001b[0mcolumn_to_use_as_prediction\u001b[0m\u001b[0;34m)\u001b[0m\u001b[0;34m)\u001b[0m\u001b[0;34m\u001b[0m\u001b[0m\n\u001b[0m\u001b[1;32m     13\u001b[0m         \u001b[0mb\u001b[0m\u001b[0;34m=\u001b[0m\u001b[0mPut_Togheter\u001b[0m\u001b[0;34m(\u001b[0m\u001b[0ma\u001b[0m\u001b[0;34m)\u001b[0m\u001b[0;34m\u001b[0m\u001b[0m\n\u001b[1;32m     14\u001b[0m         \u001b[0;31m#print(b.mean())\u001b[0m\u001b[0;34m\u001b[0m\u001b[0;34m\u001b[0m\u001b[0m\n",
      "\u001b[0;32m<ipython-input-988-6cd5c90f4a6e>\u001b[0m in \u001b[0;36mpred_all_meth\u001b[0;34m(df, season_to_be_predicted, column_to_predict, column_to_use_as_prediction)\u001b[0m\n\u001b[1;32m      8\u001b[0m \u001b[0;34m\u001b[0m\u001b[0m\n\u001b[1;32m      9\u001b[0m     \u001b[0msvm_linear\u001b[0m \u001b[0;34m=\u001b[0m \u001b[0msvm\u001b[0m\u001b[0;34m.\u001b[0m\u001b[0mSVC\u001b[0m\u001b[0;34m(\u001b[0m\u001b[0mkernel\u001b[0m\u001b[0;34m=\u001b[0m\u001b[0;34m'linear'\u001b[0m\u001b[0;34m,\u001b[0m \u001b[0mclass_weight\u001b[0m\u001b[0;34m=\u001b[0m\u001b[0;34m{\u001b[0m\u001b[0;34m'H'\u001b[0m\u001b[0;34m:\u001b[0m\u001b[0;36m66\u001b[0m\u001b[0;34m,\u001b[0m\u001b[0;34m'D'\u001b[0m\u001b[0;34m:\u001b[0m\u001b[0;36m35\u001b[0m\u001b[0;34m,\u001b[0m\u001b[0;34m'A'\u001b[0m\u001b[0;34m:\u001b[0m\u001b[0;36m39\u001b[0m\u001b[0;34m}\u001b[0m\u001b[0;34m)\u001b[0m\u001b[0;34m\u001b[0m\u001b[0m\n\u001b[0;32m---> 10\u001b[0;31m     \u001b[0mlis\u001b[0m\u001b[0;34m.\u001b[0m\u001b[0mappend\u001b[0m\u001b[0;34m(\u001b[0m\u001b[0mMyDf\u001b[0m\u001b[0;34m(\u001b[0m\u001b[0mPredict_whole_season_by_one\u001b[0m\u001b[0;34m(\u001b[0m\u001b[0mdf\u001b[0m\u001b[0;34m,\u001b[0m\u001b[0mseason_to_be_predicted\u001b[0m\u001b[0;34m,\u001b[0m\u001b[0mcolumn_to_use_as_prediction\u001b[0m\u001b[0;34m,\u001b[0m\u001b[0mcolumn_to_predict\u001b[0m\u001b[0;34m,\u001b[0m \u001b[0msvm_linear\u001b[0m\u001b[0;34m,\u001b[0m\u001b[0;34m'svm_linear_1'\u001b[0m\u001b[0;34m)\u001b[0m\u001b[0;34m)\u001b[0m\u001b[0;34m)\u001b[0m\u001b[0;34m\u001b[0m\u001b[0m\n\u001b[0m\u001b[1;32m     11\u001b[0m     \u001b[0mlis\u001b[0m\u001b[0;34m.\u001b[0m\u001b[0mappend\u001b[0m\u001b[0;34m(\u001b[0m\u001b[0mMyDf\u001b[0m\u001b[0;34m(\u001b[0m\u001b[0mPredict_whole_season_with_one\u001b[0m\u001b[0;34m(\u001b[0m\u001b[0mdf\u001b[0m\u001b[0;34m,\u001b[0m\u001b[0mseason_to_be_predicted\u001b[0m\u001b[0;34m,\u001b[0m\u001b[0mcolumn_to_use_as_prediction\u001b[0m\u001b[0;34m,\u001b[0m\u001b[0mcolumn_to_predict\u001b[0m\u001b[0;34m,\u001b[0m \u001b[0msvm_linear\u001b[0m\u001b[0;34m,\u001b[0m\u001b[0;34m'svm_linear_2'\u001b[0m\u001b[0;34m)\u001b[0m\u001b[0;34m)\u001b[0m\u001b[0;34m)\u001b[0m\u001b[0;34m\u001b[0m\u001b[0m\n\u001b[1;32m     12\u001b[0m     \u001b[0;31m#lis.append(MyDf(Predict_season_with_current_season(df,season_to_be_predicted, column_to_use_as_prediction, column_to_predict,svm_linear,'svm_linear_3')))\u001b[0m\u001b[0;34m\u001b[0m\u001b[0;34m\u001b[0m\u001b[0m\n",
      "\u001b[0;32m<ipython-input-1278-743d145f9c56>\u001b[0m in \u001b[0;36mPredict_whole_season_by_one\u001b[0;34m(BIG, predseason, col_train, col_pred, method, method_name)\u001b[0m\n\u001b[1;32m     11\u001b[0m \u001b[0;34m\u001b[0m\u001b[0m\n\u001b[1;32m     12\u001b[0m         \u001b[0mX_train\u001b[0m\u001b[0;34m,\u001b[0m\u001b[0mY_train\u001b[0m\u001b[0;34m,\u001b[0m\u001b[0mX_test\u001b[0m\u001b[0;34m,\u001b[0m\u001b[0mY_test\u001b[0m \u001b[0;34m=\u001b[0m \u001b[0msplit_train_test_data\u001b[0m\u001b[0;34m(\u001b[0m\u001b[0mBIG\u001b[0m\u001b[0;34m,\u001b[0m\u001b[0mtrain_index\u001b[0m\u001b[0;34m,\u001b[0m\u001b[0mtest_index\u001b[0m\u001b[0;34m,\u001b[0m\u001b[0mcol_train\u001b[0m\u001b[0;34m,\u001b[0m\u001b[0mcol_pred\u001b[0m\u001b[0;34m,\u001b[0m\u001b[0mi\u001b[0m\u001b[0;34m)\u001b[0m\u001b[0;34m\u001b[0m\u001b[0m\n\u001b[0;32m---> 13\u001b[0;31m         \u001b[0mmethod\u001b[0m\u001b[0;34m.\u001b[0m\u001b[0mfit\u001b[0m\u001b[0;34m(\u001b[0m\u001b[0mX_train\u001b[0m\u001b[0;34m,\u001b[0m\u001b[0mY_train\u001b[0m\u001b[0;34m)\u001b[0m\u001b[0;34m\u001b[0m\u001b[0m\n\u001b[0m\u001b[1;32m     14\u001b[0m         \u001b[0mlis_2\u001b[0m\u001b[0;34m=\u001b[0m\u001b[0mlis_2\u001b[0m\u001b[0;34m+\u001b[0m\u001b[0mlist\u001b[0m\u001b[0;34m(\u001b[0m\u001b[0mmethod\u001b[0m\u001b[0;34m.\u001b[0m\u001b[0mpredict\u001b[0m\u001b[0;34m(\u001b[0m\u001b[0mX_test\u001b[0m\u001b[0;34m)\u001b[0m\u001b[0;34m)\u001b[0m\u001b[0;34m\u001b[0m\u001b[0m\n\u001b[1;32m     15\u001b[0m         \u001b[0;31m#print(X_test)\u001b[0m\u001b[0;34m\u001b[0m\u001b[0;34m\u001b[0m\u001b[0m\n",
      "\u001b[0;32m/Users/nicolamacchitella/anaconda/lib/python2.7/site-packages/sklearn/svm/base.pyc\u001b[0m in \u001b[0;36mfit\u001b[0;34m(self, X, y, sample_weight)\u001b[0m\n\u001b[1;32m    150\u001b[0m \u001b[0;34m\u001b[0m\u001b[0m\n\u001b[1;32m    151\u001b[0m         \u001b[0mX\u001b[0m\u001b[0;34m,\u001b[0m \u001b[0my\u001b[0m \u001b[0;34m=\u001b[0m \u001b[0mcheck_X_y\u001b[0m\u001b[0;34m(\u001b[0m\u001b[0mX\u001b[0m\u001b[0;34m,\u001b[0m \u001b[0my\u001b[0m\u001b[0;34m,\u001b[0m \u001b[0mdtype\u001b[0m\u001b[0;34m=\u001b[0m\u001b[0mnp\u001b[0m\u001b[0;34m.\u001b[0m\u001b[0mfloat64\u001b[0m\u001b[0;34m,\u001b[0m \u001b[0morder\u001b[0m\u001b[0;34m=\u001b[0m\u001b[0;34m'C'\u001b[0m\u001b[0;34m,\u001b[0m \u001b[0maccept_sparse\u001b[0m\u001b[0;34m=\u001b[0m\u001b[0;34m'csr'\u001b[0m\u001b[0;34m)\u001b[0m\u001b[0;34m\u001b[0m\u001b[0m\n\u001b[0;32m--> 152\u001b[0;31m         \u001b[0my\u001b[0m \u001b[0;34m=\u001b[0m \u001b[0mself\u001b[0m\u001b[0;34m.\u001b[0m\u001b[0m_validate_targets\u001b[0m\u001b[0;34m(\u001b[0m\u001b[0my\u001b[0m\u001b[0;34m)\u001b[0m\u001b[0;34m\u001b[0m\u001b[0m\n\u001b[0m\u001b[1;32m    153\u001b[0m \u001b[0;34m\u001b[0m\u001b[0m\n\u001b[1;32m    154\u001b[0m         sample_weight = np.asarray([]\n",
      "\u001b[0;32m/Users/nicolamacchitella/anaconda/lib/python2.7/site-packages/sklearn/svm/base.pyc\u001b[0m in \u001b[0;36m_validate_targets\u001b[0;34m(self, y)\u001b[0m\n\u001b[1;32m    520\u001b[0m         \u001b[0mcheck_classification_targets\u001b[0m\u001b[0;34m(\u001b[0m\u001b[0my\u001b[0m\u001b[0;34m)\u001b[0m\u001b[0;34m\u001b[0m\u001b[0m\n\u001b[1;32m    521\u001b[0m         \u001b[0mcls\u001b[0m\u001b[0;34m,\u001b[0m \u001b[0my\u001b[0m \u001b[0;34m=\u001b[0m \u001b[0mnp\u001b[0m\u001b[0;34m.\u001b[0m\u001b[0munique\u001b[0m\u001b[0;34m(\u001b[0m\u001b[0my_\u001b[0m\u001b[0;34m,\u001b[0m \u001b[0mreturn_inverse\u001b[0m\u001b[0;34m=\u001b[0m\u001b[0mTrue\u001b[0m\u001b[0;34m)\u001b[0m\u001b[0;34m\u001b[0m\u001b[0m\n\u001b[0;32m--> 522\u001b[0;31m         \u001b[0mself\u001b[0m\u001b[0;34m.\u001b[0m\u001b[0mclass_weight_\u001b[0m \u001b[0;34m=\u001b[0m \u001b[0mcompute_class_weight\u001b[0m\u001b[0;34m(\u001b[0m\u001b[0mself\u001b[0m\u001b[0;34m.\u001b[0m\u001b[0mclass_weight\u001b[0m\u001b[0;34m,\u001b[0m \u001b[0mcls\u001b[0m\u001b[0;34m,\u001b[0m \u001b[0my_\u001b[0m\u001b[0;34m)\u001b[0m\u001b[0;34m\u001b[0m\u001b[0m\n\u001b[0m\u001b[1;32m    523\u001b[0m         \u001b[0;32mif\u001b[0m \u001b[0mlen\u001b[0m\u001b[0;34m(\u001b[0m\u001b[0mcls\u001b[0m\u001b[0;34m)\u001b[0m \u001b[0;34m<\u001b[0m \u001b[0;36m2\u001b[0m\u001b[0;34m:\u001b[0m\u001b[0;34m\u001b[0m\u001b[0m\n\u001b[1;32m    524\u001b[0m             raise ValueError(\n",
      "\u001b[0;32m/Users/nicolamacchitella/anaconda/lib/python2.7/site-packages/sklearn/utils/class_weight.pyc\u001b[0m in \u001b[0;36mcompute_class_weight\u001b[0;34m(class_weight, classes, y)\u001b[0m\n\u001b[1;32m     77\u001b[0m             \u001b[0mi\u001b[0m \u001b[0;34m=\u001b[0m \u001b[0mnp\u001b[0m\u001b[0;34m.\u001b[0m\u001b[0msearchsorted\u001b[0m\u001b[0;34m(\u001b[0m\u001b[0mclasses\u001b[0m\u001b[0;34m,\u001b[0m \u001b[0mc\u001b[0m\u001b[0;34m)\u001b[0m\u001b[0;34m\u001b[0m\u001b[0m\n\u001b[1;32m     78\u001b[0m             \u001b[0;32mif\u001b[0m \u001b[0mi\u001b[0m \u001b[0;34m>=\u001b[0m \u001b[0mlen\u001b[0m\u001b[0;34m(\u001b[0m\u001b[0mclasses\u001b[0m\u001b[0;34m)\u001b[0m \u001b[0;32mor\u001b[0m \u001b[0mclasses\u001b[0m\u001b[0;34m[\u001b[0m\u001b[0mi\u001b[0m\u001b[0;34m]\u001b[0m \u001b[0;34m!=\u001b[0m \u001b[0mc\u001b[0m\u001b[0;34m:\u001b[0m\u001b[0;34m\u001b[0m\u001b[0m\n\u001b[0;32m---> 79\u001b[0;31m                 \u001b[0;32mraise\u001b[0m \u001b[0mValueError\u001b[0m\u001b[0;34m(\u001b[0m\u001b[0;34m\"Class label %d not present.\"\u001b[0m \u001b[0;34m%\u001b[0m \u001b[0mc\u001b[0m\u001b[0;34m)\u001b[0m\u001b[0;34m\u001b[0m\u001b[0m\n\u001b[0m\u001b[1;32m     80\u001b[0m             \u001b[0;32melse\u001b[0m\u001b[0;34m:\u001b[0m\u001b[0;34m\u001b[0m\u001b[0m\n\u001b[1;32m     81\u001b[0m                 \u001b[0mweight\u001b[0m\u001b[0;34m[\u001b[0m\u001b[0mi\u001b[0m\u001b[0;34m]\u001b[0m \u001b[0;34m=\u001b[0m \u001b[0mclass_weight\u001b[0m\u001b[0;34m[\u001b[0m\u001b[0mc\u001b[0m\u001b[0;34m]\u001b[0m\u001b[0;34m\u001b[0m\u001b[0m\n",
      "\u001b[0;31mTypeError\u001b[0m: %d format: a number is required, not str"
     ]
    }
   ],
   "source": [
    "G=FINAL(allchampionships,season_to_be_predicted,column_to_predict,column_to_use_as_prediction)"
   ]
  },
  {
   "cell_type": "code",
   "execution_count": 2030,
   "metadata": {
    "collapsed": false
   },
   "outputs": [
    {
     "data": {
      "text/plain": [
       "svm_linear_1    0.515862\n",
       "svm_linear_2    0.514887\n",
       "svm_linear_3    0.520850\n",
       "svm_rbf_1       0.514341\n",
       "svm_rbf_2       0.510355\n",
       "svm_rbf_3       0.520230\n",
       "dtc_1           0.498377\n",
       "dtc_2           0.497134\n",
       "dtc_3           0.502849\n",
       "bagb_1          0.518391\n",
       "bagb_2          0.492440\n",
       "bagb_3          0.508048\n",
       "gradb_1         0.502022\n",
       "gradb_2         0.516965\n",
       "gradb_3         0.506086\n",
       "rdf_1           0.501985\n",
       "rdf_2           0.510169\n",
       "rdf_3           0.516365\n",
       "dtype: float64"
      ]
     },
     "execution_count": 2030,
     "metadata": {},
     "output_type": "execute_result"
    }
   ],
   "source": [
    "G.mean()"
   ]
  },
  {
   "cell_type": "markdown",
   "metadata": {},
   "source": [
    "## Get The best Methods and Scores for Each League"
   ]
  },
  {
   "cell_type": "code",
   "execution_count": null,
   "metadata": {
    "collapsed": true
   },
   "outputs": [],
   "source": [
    "for i in range(len(G)):\n",
    "    \n",
    "    for i in range(G.iloc[i])\n",
    "    print ('Best method are', b.mean()[b.mean()==max(b.mean())].index[i], 'with score', b.mean()[b.mean()==max(b.mean())][i])\n",
    "\n",
    "    print ('Best Methods for' )\n",
    "    "
   ]
  },
  {
   "cell_type": "code",
   "execution_count": null,
   "metadata": {
    "collapsed": true
   },
   "outputs": [],
   "source": []
  },
  {
   "cell_type": "markdown",
   "metadata": {},
   "source": [
    "## SVM_LINEAR"
   ]
  },
  {
   "cell_type": "code",
   "execution_count": 495,
   "metadata": {
    "collapsed": false
   },
   "outputs": [],
   "source": [
    "svm_linear = svm.SVC(kernel='linear')\n",
    "a=Predict_whole_season_by_one(allchampionships[0].df,season_to_be_predicted,column_to_use_as_prediction,column_to_predict, svm_linear,'svm_linear')"
   ]
  },
  {
   "cell_type": "code",
   "execution_count": 496,
   "metadata": {
    "collapsed": false
   },
   "outputs": [],
   "source": [
    "b=Predict_whole_season_with_one(allchampionships[0].df,season_to_be_predicted,column_to_use_as_prediction,column_to_predict, svm_linear,'svm_linear')"
   ]
  },
  {
   "cell_type": "code",
   "execution_count": 497,
   "metadata": {
    "collapsed": false
   },
   "outputs": [],
   "source": [
    "c=Predict_season_with_current_season(allchampionships[0].df,season_to_be_predicted, column_to_use_as_prediction, column_to_predict,svm_linear,'svm_linear')"
   ]
  },
  {
   "cell_type": "code",
   "execution_count": 498,
   "metadata": {
    "collapsed": false
   },
   "outputs": [
    {
     "data": {
      "text/plain": [
       "0.5162414965986394"
      ]
     },
     "execution_count": 498,
     "metadata": {},
     "output_type": "execute_result"
    }
   ],
   "source": [
    "a['svm_linear'].mean()"
   ]
  },
  {
   "cell_type": "code",
   "execution_count": 499,
   "metadata": {
    "collapsed": false
   },
   "outputs": [
    {
     "data": {
      "text/plain": [
       "0.5733843537414965"
      ]
     },
     "execution_count": 499,
     "metadata": {},
     "output_type": "execute_result"
    }
   ],
   "source": [
    "b['svm_linear'].mean()"
   ]
  },
  {
   "cell_type": "code",
   "execution_count": 500,
   "metadata": {
    "collapsed": false
   },
   "outputs": [
    {
     "data": {
      "text/plain": [
       "0.5402483852432872"
      ]
     },
     "execution_count": 500,
     "metadata": {},
     "output_type": "execute_result"
    }
   ],
   "source": [
    "c['svm_linear'].mean()"
   ]
  },
  {
   "cell_type": "markdown",
   "metadata": {},
   "source": [
    "## SVM_RBF\n"
   ]
  },
  {
   "cell_type": "code",
   "execution_count": 501,
   "metadata": {
    "collapsed": false
   },
   "outputs": [],
   "source": [
    "svm_rbf = svm.SVC(kernel='rbf', gamma = 100)\n",
    "a=Predict_whole_season_by_one(allchampionships[0].df,season_to_be_predicted,column_to_use_as_prediction,column_to_predict,svm_rbf,'svm_rbf')"
   ]
  },
  {
   "cell_type": "code",
   "execution_count": 502,
   "metadata": {
    "collapsed": true
   },
   "outputs": [],
   "source": [
    "b=Predict_whole_season_with_one(allchampionships[0].df,season_to_be_predicted,column_to_use_as_prediction,column_to_predict, svm_rbf,'svm_rbf')"
   ]
  },
  {
   "cell_type": "code",
   "execution_count": 503,
   "metadata": {
    "collapsed": false
   },
   "outputs": [
    {
     "data": {
      "text/plain": [
       "0.601955782312925"
      ]
     },
     "execution_count": 503,
     "metadata": {},
     "output_type": "execute_result"
    }
   ],
   "source": [
    "a['svm_rbf'].mean()"
   ]
  },
  {
   "cell_type": "code",
   "execution_count": 504,
   "metadata": {
    "collapsed": false
   },
   "outputs": [
    {
     "data": {
      "text/plain": [
       "0.601955782312925"
      ]
     },
     "execution_count": 504,
     "metadata": {},
     "output_type": "execute_result"
    }
   ],
   "source": [
    "b['svm_rbf'].mean()"
   ]
  },
  {
   "cell_type": "markdown",
   "metadata": {},
   "source": [
    "## CART"
   ]
  },
  {
   "cell_type": "code",
   "execution_count": 505,
   "metadata": {
    "collapsed": true
   },
   "outputs": [],
   "source": [
    "dtc = DecisionTreeClassifier()\n",
    "d=Predict_whole_season_by_one(allchampionships[0].df,season_to_be_predicted,column_to_use_as_prediction,column_to_predict, dtc,'dtc')\n",
    "\n",
    "e=Predict_whole_season_with_one(allchampionships[0].df,season_to_be_predicted,column_to_use_as_prediction,column_to_predict, dtc,'dtc')\n",
    "\n",
    "t=Predict_whole_season_with_one(allchampionships[0].df,season_to_be_predicted,column_to_use_as_prediction,column_to_predict, dtc,'dtc')\n"
   ]
  },
  {
   "cell_type": "code",
   "execution_count": 506,
   "metadata": {
    "collapsed": true
   },
   "outputs": [],
   "source": []
  },
  {
   "cell_type": "code",
   "execution_count": 507,
   "metadata": {
    "collapsed": false
   },
   "outputs": [
    {
     "data": {
      "text/plain": [
       "0.43792517006802717"
      ]
     },
     "execution_count": 507,
     "metadata": {},
     "output_type": "execute_result"
    }
   ],
   "source": [
    "d['dtc'].mean()"
   ]
  },
  {
   "cell_type": "code",
   "execution_count": 508,
   "metadata": {
    "collapsed": false
   },
   "outputs": [
    {
     "data": {
      "text/plain": [
       "0.5260204081632655"
      ]
     },
     "execution_count": 508,
     "metadata": {},
     "output_type": "execute_result"
    }
   ],
   "source": [
    "e['dtc'].mean()"
   ]
  },
  {
   "cell_type": "code",
   "execution_count": 509,
   "metadata": {
    "collapsed": false
   },
   "outputs": [],
   "source": [
    "#a.join(e, how='outer')"
   ]
  },
  {
   "cell_type": "markdown",
   "metadata": {},
   "source": [
    "# Adaboost Classifier "
   ]
  },
  {
   "cell_type": "code",
   "execution_count": 510,
   "metadata": {
    "collapsed": true
   },
   "outputs": [],
   "source": [
    "bagb = AdaBoostClassifier(DecisionTreeClassifier(max_depth=10), n_estimators=20)\n",
    "a=Predict_whole_season_by_one(allchampionships[0].df,season_to_be_predicted,column_to_use_as_prediction,column_to_predict, bagb,'bagb')\n",
    "b=Predict_whole_season_with_one(allchampionships[0].df,season_to_be_predicted,column_to_use_as_prediction,column_to_predict, bagb,'bagb')\n",
    "c=Predict_whole_season_with_one(allchampionships[0].df,season_to_be_predicted,column_to_use_as_prediction,column_to_predict, bagb,'bagb')"
   ]
  },
  {
   "cell_type": "code",
   "execution_count": 511,
   "metadata": {
    "collapsed": true
   },
   "outputs": [],
   "source": []
  },
  {
   "cell_type": "code",
   "execution_count": 512,
   "metadata": {
    "collapsed": false
   },
   "outputs": [
    {
     "data": {
      "text/plain": [
       "0.5034863945578232"
      ]
     },
     "execution_count": 512,
     "metadata": {},
     "output_type": "execute_result"
    }
   ],
   "source": [
    "a['bagb'].mean()"
   ]
  },
  {
   "cell_type": "code",
   "execution_count": 513,
   "metadata": {
    "collapsed": false
   },
   "outputs": [
    {
     "data": {
      "text/plain": [
       "0.5394557823129251"
      ]
     },
     "execution_count": 513,
     "metadata": {},
     "output_type": "execute_result"
    }
   ],
   "source": [
    "b['bagb'].mean()"
   ]
  },
  {
   "cell_type": "markdown",
   "metadata": {},
   "source": [
    "# Gradient Boosting Classifier\n"
   ]
  },
  {
   "cell_type": "code",
   "execution_count": 514,
   "metadata": {
    "collapsed": true
   },
   "outputs": [],
   "source": [
    "gradb = GradientBoostingClassifier(max_depth=10, n_estimators=20)\n",
    "a=Predict_whole_season_by_one(allchampionships[0].df,season_to_be_predicted,column_to_use_as_prediction,column_to_predict, gradb,'gradb')\n",
    "b=Predict_whole_season_with_one(allchampionships[0].df,season_to_be_predicted,column_to_use_as_prediction,column_to_predict, gradb,'gradb')\n",
    "c=Predict_whole_season_with_one(allchampionships[0].df,season_to_be_predicted,column_to_use_as_prediction,column_to_predict, gradb,'gradb')"
   ]
  },
  {
   "cell_type": "code",
   "execution_count": 515,
   "metadata": {
    "collapsed": true
   },
   "outputs": [],
   "source": []
  },
  {
   "cell_type": "code",
   "execution_count": 516,
   "metadata": {
    "collapsed": false
   },
   "outputs": [
    {
     "data": {
      "text/plain": [
       "0.4739795918367347"
      ]
     },
     "execution_count": 516,
     "metadata": {},
     "output_type": "execute_result"
    }
   ],
   "source": [
    "a['gradb'].mean()"
   ]
  },
  {
   "cell_type": "code",
   "execution_count": 517,
   "metadata": {
    "collapsed": false
   },
   "outputs": [
    {
     "data": {
      "text/plain": [
       "0.536734693877551"
      ]
     },
     "execution_count": 517,
     "metadata": {},
     "output_type": "execute_result"
    }
   ],
   "source": [
    "b['gradb'].mean()"
   ]
  },
  {
   "cell_type": "markdown",
   "metadata": {},
   "source": [
    "# Random Forest"
   ]
  },
  {
   "cell_type": "code",
   "execution_count": 518,
   "metadata": {
    "collapsed": true
   },
   "outputs": [],
   "source": [
    "rdf = RandomForestClassifier(max_depth=10, n_estimators=20)\n",
    "a=Predict_whole_season_by_one(allchampionships[0].df,season_to_be_predicted,column_to_use_as_prediction,column_to_predict, rdf,'rdf')"
   ]
  },
  {
   "cell_type": "code",
   "execution_count": 519,
   "metadata": {
    "collapsed": true
   },
   "outputs": [],
   "source": [
    "b=Predict_whole_season_with_one(allchampionships[0].df,season_to_be_predicted,column_to_use_as_prediction,column_to_predict, rdf,'rdf')"
   ]
  },
  {
   "cell_type": "code",
   "execution_count": 520,
   "metadata": {
    "collapsed": false
   },
   "outputs": [
    {
     "data": {
      "text/plain": [
       "0.5062925170068027"
      ]
     },
     "execution_count": 520,
     "metadata": {},
     "output_type": "execute_result"
    }
   ],
   "source": [
    "a['rdf'].mean()"
   ]
  },
  {
   "cell_type": "code",
   "execution_count": 521,
   "metadata": {
    "collapsed": false
   },
   "outputs": [
    {
     "data": {
      "text/plain": [
       "0.486139455782313"
      ]
     },
     "execution_count": 521,
     "metadata": {},
     "output_type": "execute_result"
    }
   ],
   "source": [
    "b['rdf'].mean()"
   ]
  },
  {
   "cell_type": "code",
   "execution_count": 533,
   "metadata": {
    "collapsed": false
   },
   "outputs": [],
   "source": []
  },
  {
   "cell_type": "code",
   "execution_count": 534,
   "metadata": {
    "collapsed": false
   },
   "outputs": [
    {
     "data": {
      "text/plain": [
       "[<__main__.MyDf instance at 0x10fdcbdd0>,\n",
       " <__main__.MyDf instance at 0x10fe925a8>,\n",
       " <__main__.MyDf instance at 0x10fea92d8>,\n",
       " <__main__.MyDf instance at 0x10d78a488>,\n",
       " <__main__.MyDf instance at 0x10df0fa28>,\n",
       " <__main__.MyDf instance at 0x10d6077e8>,\n",
       " <__main__.MyDf instance at 0x10eb7a368>,\n",
       " <__main__.MyDf instance at 0x10fe9ad88>,\n",
       " <__main__.MyDf instance at 0x10e284b90>,\n",
       " <__main__.MyDf instance at 0x10dd345a8>,\n",
       " <__main__.MyDf instance at 0x10fe9ab00>,\n",
       " <__main__.MyDf instance at 0x10dd34290>,\n",
       " <__main__.MyDf instance at 0x10feb6710>,\n",
       " <__main__.MyDf instance at 0x10d60c998>,\n",
       " <__main__.MyDf instance at 0x10d5f79e0>,\n",
       " <__main__.MyDf instance at 0x10e295fc8>,\n",
       " <__main__.MyDf instance at 0x102a135a8>,\n",
       " <__main__.MyDf instance at 0x10e345680>]"
      ]
     },
     "execution_count": 534,
     "metadata": {},
     "output_type": "execute_result"
    }
   ],
   "source": []
  },
  {
   "cell_type": "code",
   "execution_count": null,
   "metadata": {
    "collapsed": true
   },
   "outputs": [],
   "source": []
  },
  {
   "cell_type": "markdown",
   "metadata": {},
   "source": [
    "# Working on sureness"
   ]
  },
  {
   "cell_type": "code",
   "execution_count": 826,
   "metadata": {
    "collapsed": true
   },
   "outputs": [],
   "source": [
    "df=allchampionships[0].df\n",
    "df=df[df['season']==season_to_be_predicted]\n"
   ]
  },
  {
   "cell_type": "code",
   "execution_count": 827,
   "metadata": {
    "collapsed": false
   },
   "outputs": [
    {
     "name": "stderr",
     "output_type": "stream",
     "text": [
      "/Users/nicolamacchitella/anaconda/lib/python2.7/site-packages/sklearn/svm/base.py:552: ChangedBehaviorWarning: The decision_function_shape default value will change from 'ovo' to 'ovr' in 0.19. This will change the shape of the decision function returned by SVC.\n",
      "  \"SVC.\", ChangedBehaviorWarning)\n"
     ]
    },
    {
     "name": "stdout",
     "output_type": "stream",
     "text": [
      "[[  1.4         -0.47385034  -2.6       ]\n",
      " [  1.          -0.15799586  -1.8       ]\n",
      " [  4.2          0.78956758  -4.6       ]\n",
      " [ 13.4          3.94811239 -12.2       ]\n",
      " [  1.          -0.15799586  -1.8       ]]\n",
      "[[  3.4          1.0000357   -3.        ]\n",
      " [ 13.4         -0.99942882 -12.2       ]\n",
      " [  1.           1.57137247  -0.6       ]\n",
      " [  4.2         -0.14317333  -5.8       ]\n",
      " [ -1.4          0.99939312  -0.6       ]]\n",
      "[[-0.33309724  1.22253381  2.        ]\n",
      " [ 0.99988196  0.55547167 -1.        ]\n",
      " [ 3.22186809  0.11097929 -4.33333333]\n",
      " [-3.22210418  0.99964048  4.33333333]\n",
      " [-0.99976391  1.22242595  2.66666667]]\n",
      "[[ 7.4        -1.15875238 -0.9998161 ]\n",
      " [ 5.4        -1.31766032 -1.00001314]\n",
      " [ 5.2        -0.90487302 -0.99985551]\n",
      " [-2.4         0.4917746  -0.9997767 ]\n",
      " [ 7.4        -1.15875238 -0.9998161 ]]\n",
      "[[ 1.         -0.59100457 -1.        ]\n",
      " [ 1.         -0.95391731 -1.        ]\n",
      " [ 1.         -1.31882001 -1.        ]\n",
      " [ 1.          0.22654408 -1.        ]\n",
      " [ 1.         -0.63686615 -1.        ]]\n",
      "[[ 0.65        1.00021946 -0.99973782]\n",
      " [ 0.35        0.5455543  -0.99980455]\n",
      " [ 0.05        0.09088914 -0.99987129]\n",
      " [ 0.35        0.5455543  -0.99980455]\n",
      " [ 0.35        0.5455543  -0.99980455]]\n",
      "[[ 1.3120861   0.36495101 -1.        ]\n",
      " [ 0.0620861  -0.58728863 -1.        ]\n",
      " [-0.50066224 -1.19037374 -1.        ]\n",
      " [ 0.24933776 -0.61902996 -1.        ]\n",
      " [ 0.18758278 -0.14291013 -1.        ]]\n",
      "[[ 0.42883176 -0.71621622 -1.        ]\n",
      " [ 1.38153813 -0.42432432 -1.        ]\n",
      " [ 0.09538453 -0.9027027  -1.        ]\n",
      " [-0.61914524 -1.12162162 -1.        ]\n",
      " [ 0.76227899 -0.74054054 -1.        ]]\n",
      "[[-2.05792078 -3.08367472 -1.00053091]\n",
      " [-0.74327907 -1.67547293 -1.00017065]\n",
      " [-1.25764389 -2.12615642 -1.00026545]\n",
      " [-1.74327907 -2.29534682 -1.00023701]\n",
      " [-1.42863735 -1.50701892 -0.99994312]]\n",
      "[[-0.29532394 -0.2        -1.00011998]\n",
      " [ 0.43643859 -0.6        -0.9999703 ]\n",
      " [ 1.02858181  0.8        -0.99980994]\n",
      " [-0.4650204  -1.4        -1.00018412]\n",
      " [-0.40845492 -1.         -1.00016274]]\n",
      "[[-0.02497912 -0.50065083 -0.99999572]\n",
      " [ 0.25005847  0.31188171 -0.999987  ]\n",
      " [ 1.0999833   0.43772779 -0.99998649]\n",
      " [-0.52502923 -1.750781   -1.00000906]\n",
      " [ 0.47497077 -0.50013017 -0.99999624]]\n",
      "[[-0.12197087 -1.00005398 -1.        ]\n",
      " [ 0.07312315 -0.99992897 -1.        ]\n",
      " [ 0.12192846 -0.99998579 -1.        ]\n",
      " [ 0.9512371  -0.99989488 -1.        ]\n",
      " [ 0.68280787 -0.99958236 -1.        ]]\n",
      "[[ 0.51711825 -0.9999525  -1.        ]\n",
      " [-0.12646673 -0.9999525  -1.        ]\n",
      " [ 0.54010343 -0.99993739 -1.        ]\n",
      " [-0.28736298 -1.00005829 -1.        ]\n",
      " [ 0.5630886  -0.99992228 -1.        ]]\n",
      "[[ 0.19943086 -1.00009409 -1.00007271]\n",
      " [ 0.16623981 -1.00013483 -1.00006287]\n",
      " [ 0.13304876 -1.00017558 -1.00005303]\n",
      " [ 1.36709352 -0.99976137 -0.9995561 ]]\n",
      "[[-0.16658308 -0.99985938 -1.00009512]\n",
      " [ 0.40016717 -0.99953979 -0.99995244]\n",
      " [ 0.86616515 -1.00017897 -0.99990488]\n",
      " [ 0.66666667 -0.99964206 -0.99990488]\n",
      " [-0.20033435 -1.00038351 -1.00014268]\n",
      " [ 0.0329154  -1.00039629 -1.00009512]\n",
      " [ 0.2329154  -1.00031959 -1.00004756]]\n",
      "[[-0.16690906 -0.99994171 -0.99997477]\n",
      " [-1.22290901 -0.99991621 -0.99997244]\n",
      " [-0.33345453 -1.00001821 -1.00000514]\n",
      " [-0.72181823 -1.00029872 -1.00011493]\n",
      " [-0.05563635 -0.99999271 -0.99999346]]\n",
      "[[-0.05517623 -0.99991442 -0.99999731]\n",
      " [ 0.16583216 -1.00034684 -1.00001386]\n",
      " [ 1.33409197 -0.99977929 -0.99997043]]\n",
      "[[ -1.11098297e+00  -1.00016589e+00  -1.00007951e+00]\n",
      " [ -7.22158151e-01  -1.00010957e+00  -1.00005253e+00]\n",
      " [ -1.53770053e-04  -1.00008397e+00  -9.99979279e-01]\n",
      " [ -3.88978588e-01  -1.00014029e+00  -1.00000626e+00]\n",
      " [ -8.88632605e-01  -1.00000205e+00  -1.00010264e+00]\n",
      " [ -9.99923115e-01  -1.00017613e+00  -1.00006409e+00]]\n",
      "[[ 0.71421762 -1.         -0.99996013]\n",
      " [ 0.85687048 -1.         -0.99987875]\n",
      " [-0.71445595 -1.         -1.00011474]\n",
      " [-0.17843524 -1.         -1.00013915]\n",
      " [-0.46445595 -1.         -1.00008219]]\n",
      "[[ 0.36915646 -1.00001541 -1.        ]\n",
      " [-0.12216499 -1.00000578 -1.        ]\n",
      " [-0.19248051 -0.99996726 -1.        ]\n",
      " [ 0.89430494 -0.99965435 -1.        ]\n",
      " [ 1.07053731 -0.99988061 -1.        ]]\n",
      "[[ 0.247217   -1.         -0.99989672]\n",
      " [ 1.05937771 -1.         -1.00003162]\n",
      " [-0.26691452 -1.         -1.00005522]\n",
      " [ 0.4658858  -1.         -1.00014291]\n",
      " [-0.46531548 -1.         -0.99993719]]\n",
      "[[-0.67903041 -1.00023089 -0.99992759]\n",
      " [-0.40266671 -1.00010099 -1.00002819]\n",
      " [ 0.86165652 -0.99991614 -0.99983472]\n",
      " [-0.95345448 -1.00002106 -1.0003687 ]\n",
      " [ 0.28775762 -0.99986118 -1.00014427]]\n",
      "[[ 1.         -1.00026474 -0.99987492]\n",
      " [ 1.         -1.00040796 -0.99969059]\n",
      " [ 1.         -1.00007378 -1.00005925]\n",
      " [ 1.         -0.99954863 -1.00042791]\n",
      " [ 1.         -1.00007378 -0.99996708]]\n"
     ]
    }
   ],
   "source": [
    "for i in range(7,30):\n",
    "    X_train=df[df.H_ROUND<i].iloc[:,column_to_use_as_prediction]\n",
    "    Y_train=df[df.H_ROUND<i][column_to_predict]\n",
    "    X_test=df[df.H_ROUND==i].iloc[:,column_to_use_as_prediction]\n",
    "    Y_test=df[df.H_ROUND==i][column_to_predict]\n",
    "    svm_linear = svm.SVC(kernel='linear')\n",
    "    svm_linear.fit(X_train,Y_train)\n",
    "    print(svm_linear.decision_function(X_test))\n",
    "    #print(svm_linear.predict(X_test))\n",
    "    #print(svm_linear.score(X_test,Y_test))\n",
    "    #print(Y_test)\n",
    "    "
   ]
  },
  {
   "cell_type": "code",
   "execution_count": 828,
   "metadata": {
    "collapsed": true
   },
   "outputs": [],
   "source": [
    "column_to_predict='FTR'"
   ]
  },
  {
   "cell_type": "code",
   "execution_count": 829,
   "metadata": {
    "collapsed": false
   },
   "outputs": [
    {
     "name": "stdout",
     "output_type": "stream",
     "text": [
      "[[ 0.23479978  0.28554626  0.47965396]\n",
      " [ 0.30194745  0.24401359  0.45403897]\n",
      " [ 0.29036263  0.27196488  0.43767249]\n",
      " [ 0.33082434  0.24203908  0.42713659]\n",
      " [ 0.29960692  0.25093446  0.44945862]]\n",
      "['H' 'H' 'H' 'H' 'H']\n",
      "0.4\n",
      "1392    A\n",
      "1393    H\n",
      "1394    D\n",
      "1395    A\n",
      "1396    H\n",
      "Name: FTR, dtype: object\n"
     ]
    }
   ],
   "source": [
    "X_train=df[df.H_ROUND<30].iloc[:,column_to_use_as_prediction]\n",
    "Y_train=df[df.H_ROUND<30][column_to_predict]\n",
    "X_test=df[df.H_ROUND==31].iloc[:,column_to_use_as_prediction]\n",
    "Y_test=df[df.H_ROUND==31][column_to_predict]\n",
    "svm_linear = svm.SVC(kernel='linear', probability=True)\n",
    "svm_linear.fit(X_train,Y_train)\n",
    "print(svm_linear.predict_proba(X_test))\n",
    "print(svm_linear.predict(X_test))\n",
    "print(svm_linear.score(X_test,Y_test))\n",
    "print(Y_test)\n"
   ]
  },
  {
   "cell_type": "code",
   "execution_count": null,
   "metadata": {
    "collapsed": false
   },
   "outputs": [],
   "source": []
  },
  {
   "cell_type": "code",
   "execution_count": null,
   "metadata": {
    "collapsed": false
   },
   "outputs": [],
   "source": []
  },
  {
   "cell_type": "code",
   "execution_count": 825,
   "metadata": {
    "collapsed": false
   },
   "outputs": [
    {
     "ename": "NotFittedError",
     "evalue": "This AdaBoostClassifier instance is not fitted yet. Call 'fit' with appropriate arguments before using this method.",
     "output_type": "error",
     "traceback": [
      "\u001b[0;31m---------------------------------------------------------------------------\u001b[0m",
      "\u001b[0;31mNotFittedError\u001b[0m                            Traceback (most recent call last)",
      "\u001b[0;32m<ipython-input-825-eb3f4d297caa>\u001b[0m in \u001b[0;36m<module>\u001b[0;34m()\u001b[0m\n\u001b[0;32m----> 1\u001b[0;31m \u001b[0msvm_linear\u001b[0m\u001b[0;34m.\u001b[0m\u001b[0mdecision_function\u001b[0m\u001b[0;34m(\u001b[0m\u001b[0mX_test\u001b[0m\u001b[0;34m)\u001b[0m\u001b[0;34m\u001b[0m\u001b[0m\n\u001b[0m",
      "\u001b[0;32m/Users/nicolamacchitella/anaconda/lib/python2.7/site-packages/sklearn/ensemble/weight_boosting.pyc\u001b[0m in \u001b[0;36mdecision_function\u001b[0;34m(self, X)\u001b[0m\n\u001b[1;32m    656\u001b[0m             \u001b[0;32mclass\u001b[0m \u001b[0;32min\u001b[0m \u001b[0;34m`\u001b[0m\u001b[0;34m`\u001b[0m\u001b[0mclasses_\u001b[0m\u001b[0;34m`\u001b[0m\u001b[0;34m`\u001b[0m\u001b[0;34m,\u001b[0m \u001b[0mrespectively\u001b[0m\u001b[0;34m.\u001b[0m\u001b[0;34m\u001b[0m\u001b[0m\n\u001b[1;32m    657\u001b[0m         \"\"\"\n\u001b[0;32m--> 658\u001b[0;31m         \u001b[0mcheck_is_fitted\u001b[0m\u001b[0;34m(\u001b[0m\u001b[0mself\u001b[0m\u001b[0;34m,\u001b[0m \u001b[0;34m\"n_classes_\"\u001b[0m\u001b[0;34m)\u001b[0m\u001b[0;34m\u001b[0m\u001b[0m\n\u001b[0m\u001b[1;32m    659\u001b[0m         \u001b[0mX\u001b[0m \u001b[0;34m=\u001b[0m \u001b[0mself\u001b[0m\u001b[0;34m.\u001b[0m\u001b[0m_validate_X_predict\u001b[0m\u001b[0;34m(\u001b[0m\u001b[0mX\u001b[0m\u001b[0;34m)\u001b[0m\u001b[0;34m\u001b[0m\u001b[0m\n\u001b[1;32m    660\u001b[0m \u001b[0;34m\u001b[0m\u001b[0m\n",
      "\u001b[0;32m/Users/nicolamacchitella/anaconda/lib/python2.7/site-packages/sklearn/utils/validation.pyc\u001b[0m in \u001b[0;36mcheck_is_fitted\u001b[0;34m(estimator, attributes, msg, all_or_any)\u001b[0m\n\u001b[1;32m    688\u001b[0m     \u001b[0;32mif\u001b[0m \u001b[0;32mnot\u001b[0m \u001b[0mall_or_any\u001b[0m\u001b[0;34m(\u001b[0m\u001b[0;34m[\u001b[0m\u001b[0mhasattr\u001b[0m\u001b[0;34m(\u001b[0m\u001b[0mestimator\u001b[0m\u001b[0;34m,\u001b[0m \u001b[0mattr\u001b[0m\u001b[0;34m)\u001b[0m \u001b[0;32mfor\u001b[0m \u001b[0mattr\u001b[0m \u001b[0;32min\u001b[0m \u001b[0mattributes\u001b[0m\u001b[0;34m]\u001b[0m\u001b[0;34m)\u001b[0m\u001b[0;34m:\u001b[0m\u001b[0;34m\u001b[0m\u001b[0m\n\u001b[1;32m    689\u001b[0m         \u001b[0;31m# FIXME NotFittedError_ --> NotFittedError in 0.19\u001b[0m\u001b[0;34m\u001b[0m\u001b[0;34m\u001b[0m\u001b[0m\n\u001b[0;32m--> 690\u001b[0;31m         \u001b[0;32mraise\u001b[0m \u001b[0m_NotFittedError\u001b[0m\u001b[0;34m(\u001b[0m\u001b[0mmsg\u001b[0m \u001b[0;34m%\u001b[0m \u001b[0;34m{\u001b[0m\u001b[0;34m'name'\u001b[0m\u001b[0;34m:\u001b[0m \u001b[0mtype\u001b[0m\u001b[0;34m(\u001b[0m\u001b[0mestimator\u001b[0m\u001b[0;34m)\u001b[0m\u001b[0;34m.\u001b[0m\u001b[0m__name__\u001b[0m\u001b[0;34m}\u001b[0m\u001b[0;34m)\u001b[0m\u001b[0;34m\u001b[0m\u001b[0m\n\u001b[0m\u001b[1;32m    691\u001b[0m \u001b[0;34m\u001b[0m\u001b[0m\n\u001b[1;32m    692\u001b[0m \u001b[0;34m\u001b[0m\u001b[0m\n",
      "\u001b[0;31mNotFittedError\u001b[0m: This AdaBoostClassifier instance is not fitted yet. Call 'fit' with appropriate arguments before using this method."
     ]
    }
   ],
   "source": [
    "svm_linear.decision_function(X_test)"
   ]
  },
  {
   "cell_type": "code",
   "execution_count": 824,
   "metadata": {
    "collapsed": false
   },
   "outputs": [
    {
     "ename": "NotFittedError",
     "evalue": "This AdaBoostClassifier instance is not fitted yet. Call 'fit' with appropriate arguments before using this method.",
     "output_type": "error",
     "traceback": [
      "\u001b[0;31m---------------------------------------------------------------------------\u001b[0m",
      "\u001b[0;31mNotFittedError\u001b[0m                            Traceback (most recent call last)",
      "\u001b[0;32m<ipython-input-824-d33bc88d5205>\u001b[0m in \u001b[0;36m<module>\u001b[0;34m()\u001b[0m\n\u001b[0;32m----> 1\u001b[0;31m \u001b[0msvm_linear\u001b[0m\u001b[0;34m.\u001b[0m\u001b[0mpredict\u001b[0m\u001b[0;34m(\u001b[0m\u001b[0mX_test\u001b[0m\u001b[0;34m)\u001b[0m\u001b[0;34m\u001b[0m\u001b[0m\n\u001b[0m",
      "\u001b[0;32m/Users/nicolamacchitella/anaconda/lib/python2.7/site-packages/sklearn/ensemble/weight_boosting.pyc\u001b[0m in \u001b[0;36mpredict\u001b[0;34m(self, X)\u001b[0m\n\u001b[1;32m    598\u001b[0m             \u001b[0mThe\u001b[0m \u001b[0mpredicted\u001b[0m \u001b[0mclasses\u001b[0m\u001b[0;34m.\u001b[0m\u001b[0;34m\u001b[0m\u001b[0m\n\u001b[1;32m    599\u001b[0m         \"\"\"\n\u001b[0;32m--> 600\u001b[0;31m         \u001b[0mpred\u001b[0m \u001b[0;34m=\u001b[0m \u001b[0mself\u001b[0m\u001b[0;34m.\u001b[0m\u001b[0mdecision_function\u001b[0m\u001b[0;34m(\u001b[0m\u001b[0mX\u001b[0m\u001b[0;34m)\u001b[0m\u001b[0;34m\u001b[0m\u001b[0m\n\u001b[0m\u001b[1;32m    601\u001b[0m \u001b[0;34m\u001b[0m\u001b[0m\n\u001b[1;32m    602\u001b[0m         \u001b[0;32mif\u001b[0m \u001b[0mself\u001b[0m\u001b[0;34m.\u001b[0m\u001b[0mn_classes_\u001b[0m \u001b[0;34m==\u001b[0m \u001b[0;36m2\u001b[0m\u001b[0;34m:\u001b[0m\u001b[0;34m\u001b[0m\u001b[0m\n",
      "\u001b[0;32m/Users/nicolamacchitella/anaconda/lib/python2.7/site-packages/sklearn/ensemble/weight_boosting.pyc\u001b[0m in \u001b[0;36mdecision_function\u001b[0;34m(self, X)\u001b[0m\n\u001b[1;32m    656\u001b[0m             \u001b[0;32mclass\u001b[0m \u001b[0;32min\u001b[0m \u001b[0;34m`\u001b[0m\u001b[0;34m`\u001b[0m\u001b[0mclasses_\u001b[0m\u001b[0;34m`\u001b[0m\u001b[0;34m`\u001b[0m\u001b[0;34m,\u001b[0m \u001b[0mrespectively\u001b[0m\u001b[0;34m.\u001b[0m\u001b[0;34m\u001b[0m\u001b[0m\n\u001b[1;32m    657\u001b[0m         \"\"\"\n\u001b[0;32m--> 658\u001b[0;31m         \u001b[0mcheck_is_fitted\u001b[0m\u001b[0;34m(\u001b[0m\u001b[0mself\u001b[0m\u001b[0;34m,\u001b[0m \u001b[0;34m\"n_classes_\"\u001b[0m\u001b[0;34m)\u001b[0m\u001b[0;34m\u001b[0m\u001b[0m\n\u001b[0m\u001b[1;32m    659\u001b[0m         \u001b[0mX\u001b[0m \u001b[0;34m=\u001b[0m \u001b[0mself\u001b[0m\u001b[0;34m.\u001b[0m\u001b[0m_validate_X_predict\u001b[0m\u001b[0;34m(\u001b[0m\u001b[0mX\u001b[0m\u001b[0;34m)\u001b[0m\u001b[0;34m\u001b[0m\u001b[0m\n\u001b[1;32m    660\u001b[0m \u001b[0;34m\u001b[0m\u001b[0m\n",
      "\u001b[0;32m/Users/nicolamacchitella/anaconda/lib/python2.7/site-packages/sklearn/utils/validation.pyc\u001b[0m in \u001b[0;36mcheck_is_fitted\u001b[0;34m(estimator, attributes, msg, all_or_any)\u001b[0m\n\u001b[1;32m    688\u001b[0m     \u001b[0;32mif\u001b[0m \u001b[0;32mnot\u001b[0m \u001b[0mall_or_any\u001b[0m\u001b[0;34m(\u001b[0m\u001b[0;34m[\u001b[0m\u001b[0mhasattr\u001b[0m\u001b[0;34m(\u001b[0m\u001b[0mestimator\u001b[0m\u001b[0;34m,\u001b[0m \u001b[0mattr\u001b[0m\u001b[0;34m)\u001b[0m \u001b[0;32mfor\u001b[0m \u001b[0mattr\u001b[0m \u001b[0;32min\u001b[0m \u001b[0mattributes\u001b[0m\u001b[0;34m]\u001b[0m\u001b[0;34m)\u001b[0m\u001b[0;34m:\u001b[0m\u001b[0;34m\u001b[0m\u001b[0m\n\u001b[1;32m    689\u001b[0m         \u001b[0;31m# FIXME NotFittedError_ --> NotFittedError in 0.19\u001b[0m\u001b[0;34m\u001b[0m\u001b[0;34m\u001b[0m\u001b[0m\n\u001b[0;32m--> 690\u001b[0;31m         \u001b[0;32mraise\u001b[0m \u001b[0m_NotFittedError\u001b[0m\u001b[0;34m(\u001b[0m\u001b[0mmsg\u001b[0m \u001b[0;34m%\u001b[0m \u001b[0;34m{\u001b[0m\u001b[0;34m'name'\u001b[0m\u001b[0;34m:\u001b[0m \u001b[0mtype\u001b[0m\u001b[0;34m(\u001b[0m\u001b[0mestimator\u001b[0m\u001b[0;34m)\u001b[0m\u001b[0;34m.\u001b[0m\u001b[0m__name__\u001b[0m\u001b[0;34m}\u001b[0m\u001b[0;34m)\u001b[0m\u001b[0;34m\u001b[0m\u001b[0m\n\u001b[0m\u001b[1;32m    691\u001b[0m \u001b[0;34m\u001b[0m\u001b[0m\n\u001b[1;32m    692\u001b[0m \u001b[0;34m\u001b[0m\u001b[0m\n",
      "\u001b[0;31mNotFittedError\u001b[0m: This AdaBoostClassifier instance is not fitted yet. Call 'fit' with appropriate arguments before using this method."
     ]
    }
   ],
   "source": [
    "svm_linear.predict(X_test)"
   ]
  },
  {
   "cell_type": "code",
   "execution_count": 351,
   "metadata": {
    "collapsed": false
   },
   "outputs": [
    {
     "data": {
      "text/plain": [
       "0.80000000000000004"
      ]
     },
     "execution_count": 351,
     "metadata": {},
     "output_type": "execute_result"
    }
   ],
   "source": [
    "svm_linear.score(X_test,Y_test)"
   ]
  },
  {
   "cell_type": "code",
   "execution_count": 316,
   "metadata": {
    "collapsed": false
   },
   "outputs": [
    {
     "data": {
      "text/plain": [
       "1387    1\n",
       "1388    0\n",
       "1389    0\n",
       "1390    0\n",
       "1391    0\n",
       "Name: Goal/No_Goal, dtype: int64"
      ]
     },
     "execution_count": 316,
     "metadata": {},
     "output_type": "execute_result"
    }
   ],
   "source": [
    "Y_test"
   ]
  },
  {
   "cell_type": "code",
   "execution_count": 345,
   "metadata": {
    "collapsed": false
   },
   "outputs": [
    {
     "data": {
      "text/plain": [
       "RandomForestClassifier(bootstrap=True, class_weight=None, criterion='gini',\n",
       "            max_depth=10, max_features='auto', max_leaf_nodes=None,\n",
       "            min_impurity_split=1e-07, min_samples_leaf=1,\n",
       "            min_samples_split=2, min_weight_fraction_leaf=0.0,\n",
       "            n_estimators=50, n_jobs=1, oob_score=False, random_state=None,\n",
       "            verbose=0, warm_start=False)"
      ]
     },
     "execution_count": 345,
     "metadata": {},
     "output_type": "execute_result"
    }
   ],
   "source": [
    "rdf = RandomForestClassifier(max_depth=10, n_estimators=50)\n",
    "rdf.fit(X_train,Y_train)"
   ]
  },
  {
   "cell_type": "code",
   "execution_count": 346,
   "metadata": {
    "collapsed": false
   },
   "outputs": [
    {
     "data": {
      "text/plain": [
       "array([ 0.08142444,  0.09222371,  0.19321762,  0.17049799,  0.17541312,\n",
       "        0.14064783,  0.14657529])"
      ]
     },
     "execution_count": 346,
     "metadata": {},
     "output_type": "execute_result"
    }
   ],
   "source": [
    "rdf.feature_importances_"
   ]
  },
  {
   "cell_type": "code",
   "execution_count": 347,
   "metadata": {
    "collapsed": false
   },
   "outputs": [
    {
     "data": {
      "text/plain": [
       "array([0, 1, 0, 1, 1])"
      ]
     },
     "execution_count": 347,
     "metadata": {},
     "output_type": "execute_result"
    }
   ],
   "source": [
    "rdf.predict(X_test)"
   ]
  },
  {
   "cell_type": "code",
   "execution_count": null,
   "metadata": {
    "collapsed": true
   },
   "outputs": [],
   "source": []
  }
 ],
 "metadata": {
  "kernelspec": {
   "display_name": "Python 2",
   "language": "python",
   "name": "python2"
  },
  "language_info": {
   "codemirror_mode": {
    "name": "ipython",
    "version": 2
   },
   "file_extension": ".py",
   "mimetype": "text/x-python",
   "name": "python",
   "nbconvert_exporter": "python",
   "pygments_lexer": "ipython2",
   "version": "2.7.13"
  }
 },
 "nbformat": 4,
 "nbformat_minor": 2
}
