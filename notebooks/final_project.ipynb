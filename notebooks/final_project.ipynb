{
 "cells": [
  {
   "cell_type": "code",
   "execution_count": 1,
   "metadata": {
    "collapsed": false
   },
   "outputs": [
    {
     "name": "stderr",
     "output_type": "stream",
     "text": [
      "/Users/nicolamacchitella/anaconda/lib/python2.7/site-packages/sklearn/cross_validation.py:44: DeprecationWarning: This module was deprecated in version 0.18 in favor of the model_selection module into which all the refactored classes and functions are moved. Also note that the interface of the new CV iterators are different from that of this module. This module will be removed in 0.20.\n",
      "  \"This module will be removed in 0.20.\", DeprecationWarning)\n",
      "/Users/nicolamacchitella/anaconda/lib/python2.7/site-packages/sklearn/grid_search.py:43: DeprecationWarning: This module was deprecated in version 0.18 in favor of the model_selection module into which all the refactored classes and functions are moved. This module will be removed in 0.20.\n",
      "  DeprecationWarning)\n",
      "/Users/nicolamacchitella/anaconda/lib/python2.7/site-packages/sklearn/lda.py:6: DeprecationWarning: lda.LDA has been moved to discriminant_analysis.LinearDiscriminantAnalysis in 0.17 and will be removed in 0.19\n",
      "  \"in 0.17 and will be removed in 0.19\", DeprecationWarning)\n",
      "/Users/nicolamacchitella/anaconda/lib/python2.7/site-packages/sklearn/learning_curve.py:23: DeprecationWarning: This module was deprecated in version 0.18 in favor of the model_selection module into which all the functions are moved. This module will be removed in 0.20\n",
      "  DeprecationWarning)\n",
      "/Users/nicolamacchitella/anaconda/lib/python2.7/site-packages/sklearn/qda.py:6: DeprecationWarning: qda.QDA has been moved to discriminant_analysis.QuadraticDiscriminantAnalysis in 0.17 and will be removed in 0.19.\n",
      "  \"in 0.17 and will be removed in 0.19.\", DeprecationWarning)\n"
     ]
    }
   ],
   "source": [
    "import pandas as pd\n",
    "import matplotlib.pyplot as plt\n",
    "import numpy as np\n",
    "from sklearn.naive_bayes import GaussianNB\n",
    "from sklearn.svm import SVC\n",
    "from sklearn import *\n",
    "import numpy as np\n",
    "from sklearn.decomposition import *\n",
    "from sklearn.model_selection import train_test_split\n",
    "from sklearn.model_selection import cross_val_score\n",
    "\n",
    "from sklearn.model_selection import train_test_split\n",
    "from sklearn.tree import DecisionTreeClassifier\n",
    "from sklearn.ensemble import AdaBoostClassifier\n",
    "from sklearn.ensemble import GradientBoostingClassifier\n",
    "from sklearn.ensemble import RandomForestClassifier"
   ]
  },
  {
   "cell_type": "code",
   "execution_count": 2,
   "metadata": {
    "collapsed": true
   },
   "outputs": [],
   "source": [
    "pd.options.display.max_columns = 999\n",
    "pd.options.display.max_rows = 60"
   ]
  },
  {
   "cell_type": "code",
   "execution_count": 3,
   "metadata": {
    "collapsed": true
   },
   "outputs": [],
   "source": [
    "##Define the object for the season team\n",
    "class MyDf:\n",
    "    def __init__(self, mydf):\n",
    "        self.df = mydf "
   ]
  },
  {
   "cell_type": "code",
   "execution_count": 4,
   "metadata": {
    "collapsed": true
   },
   "outputs": [],
   "source": [
    "def select_season (df, season):\n",
    "    return df[df['season']==season]"
   ]
  },
  {
   "cell_type": "code",
   "execution_count": 5,
   "metadata": {
    "collapsed": true
   },
   "outputs": [],
   "source": [
    "def cut_out_n_m_matches(df,n,m):\n",
    "    a=df['H_ROUND'].unique()[n-1]\n",
    "    b=df['H_ROUND'].unique()[-m]\n",
    "    \n",
    "    return df[(df['H_ROUND']>a) & (df['H_ROUND']<b)]\n",
    "    "
   ]
  },
  {
   "cell_type": "code",
   "execution_count": 6,
   "metadata": {
    "collapsed": true
   },
   "outputs": [],
   "source": [
    "def train_test_index(df,predicted_season):\n",
    "    train_index=df[df.season!=predicted_season].index\n",
    "    test_index=df[df.season==predicted_season].index\n",
    "    return train_index, test_index"
   ]
  },
  {
   "cell_type": "code",
   "execution_count": 7,
   "metadata": {
    "collapsed": true
   },
   "outputs": [],
   "source": [
    "def train_test_index_only_round(df,predicted_round):\n",
    "    train_index=df[df['H_ROUND']<predicted_round].index\n",
    "    test_index=df[df['H_ROUND']==predicted_round].index\n",
    "    return train_index, test_index"
   ]
  },
  {
   "cell_type": "code",
   "execution_count": 8,
   "metadata": {
    "collapsed": true
   },
   "outputs": [],
   "source": [
    "def split_train_test_data(df,train_index,test_index,col_train,col_pred,i):\n",
    "    \n",
    "    \n",
    "    X_train=df.loc[train_index].iloc[:,col_train]\n",
    "    Y_train=df.loc[train_index][col_pred]\n",
    "\n",
    "    X_test=df.loc[test_index]\n",
    "    Y_test=df.loc[test_index]\n",
    "\n",
    "    X_test=X_test[X_test.H_ROUND==i].iloc[:,col_train]\n",
    "    Y_test=Y_test[Y_test.H_ROUND==i][col_pred]\n",
    "\n",
    "    return X_train, Y_train, X_test, Y_test"
   ]
  },
  {
   "cell_type": "code",
   "execution_count": 9,
   "metadata": {
    "collapsed": true
   },
   "outputs": [],
   "source": [
    "def Predict_whole_season_by_one (BIG, predseason, col_train, col_pred, method, method_name):\n",
    "        \n",
    "    tmp=pd.DataFrame()\n",
    "    \n",
    "    train_index, test_index = train_test_index(BIG,predseason)\n",
    "    lis=[]\n",
    "    \n",
    "    for i in BIG[BIG.season==predseason].H_ROUND.unique():\n",
    "       \n",
    "        X_train,Y_train,X_test,Y_test = split_train_test_data(BIG,train_index,test_index,col_train,col_pred,i) \n",
    "        method.fit(X_train,Y_train)\n",
    "        #print(method.score(X_test, Y_test))\n",
    "        #print('hi')\n",
    "        lis.append(float(method.score(X_test, Y_test)))\n",
    "\n",
    "    tmp[method_name]=lis \n",
    "    \n",
    "    return tmp"
   ]
  },
  {
   "cell_type": "code",
   "execution_count": 10,
   "metadata": {
    "collapsed": false
   },
   "outputs": [],
   "source": [
    "def Predict_whole_season_with_one (BIG, predseason, col_train, col_pred,method, method_name):\n",
    "        \n",
    "    tmp=pd.DataFrame()    \n",
    "    \n",
    "    train_index, test_index = train_test_index(BIG,predseason)\n",
    "    lis=[]\n",
    "\n",
    "    \n",
    "    for i in BIG[BIG.season==predseason].H_ROUND.unique():\n",
    "       \n",
    "        X_train,Y_train,X_test,Y_test = split_train_test_data(BIG,train_index,test_index,col_train,col_pred,i) \n",
    "        method.fit(X_train,Y_train)\n",
    "        lis.append(float(method.score(X_test, Y_test)))\n",
    "        \n",
    "        train_index=list(train_index)+list(X_test.index)\n",
    "       \n",
    "    tmp[method_name]=lis     \n",
    "    return tmp\n",
    "    "
   ]
  },
  {
   "cell_type": "code",
   "execution_count": 11,
   "metadata": {
    "collapsed": false
   },
   "outputs": [],
   "source": [
    "def Predict_season_with_current_season (df, predseason, col_train, col_pred,method, method_name):\n",
    "    \n",
    "    tmp=pd.DataFrame()\n",
    "    tmp_2=df[df['season']==predseason]\n",
    "    lis=[]\n",
    "    \n",
    "    second_round=tmp_2['H_ROUND'].unique()[1]\n",
    "    \n",
    "        \n",
    "    for i in range(int(df.H_ROUND.unique()[1]), int(df.H_ROUND.unique()[-1])):\n",
    "        \n",
    "        train_index, test_index = train_test_index_only_round(df,i)\n",
    "        \n",
    "        \n",
    "        \n",
    "        X_train=df.loc[train_index].iloc[:,col_train]\n",
    "        Y_train=df.loc[train_index][col_pred]\n",
    "\n",
    "        \n",
    "        X_test=df.loc[test_index].iloc[:,col_train]\n",
    "        Y_test=df.loc[test_index][col_pred]\n",
    "        \n",
    "       \n",
    "        method.fit(X_train,Y_train)\n",
    "        \n",
    "        lis.append(float(method.score(X_test, Y_test)))\n",
    "        \n",
    "       \n",
    "    tmp[method_name]=lis     \n",
    "    \n",
    "    return tmp\n"
   ]
  },
  {
   "cell_type": "code",
   "execution_count": 14,
   "metadata": {
    "collapsed": true
   },
   "outputs": [],
   "source": [
    "def find_best_model (X,col_pred,col_train,method):\n",
    "    n=1000\n",
    "    from sklearn.cross_validation import train_test_split\n",
    "    for i in range(n):\n",
    "        X_train, X_test, y_train, y_test = train_test_split(X['col_train'], X['col_pred'], test_size=0.33)\n",
    "        \n",
    "    return "
   ]
  },
  {
   "cell_type": "code",
   "execution_count": null,
   "metadata": {
    "collapsed": true
   },
   "outputs": [],
   "source": []
  },
  {
   "cell_type": "markdown",
   "metadata": {},
   "source": [
    "# Loading data"
   ]
  },
  {
   "cell_type": "code",
   "execution_count": 12,
   "metadata": {
    "collapsed": true
   },
   "outputs": [],
   "source": [
    "final=pd.read_csv('../Data/from_sqlite_Data/realfinal.csv')\n",
    "final.drop('Unnamed: 0',axis=1,inplace=True)\n",
    "allchampionships=[]"
   ]
  },
  {
   "cell_type": "code",
   "execution_count": 15,
   "metadata": {
    "collapsed": false
   },
   "outputs": [
    {
     "name": "stderr",
     "output_type": "stream",
     "text": [
      "/Users/nicolamacchitella/anaconda/lib/python2.7/site-packages/ipykernel/__main__.py:2: FutureWarning: sort(columns=....) is deprecated, use sort_values(by=.....)\n",
      "  from ipykernel import kernelapp as app\n"
     ]
    }
   ],
   "source": [
    "for i in range(len(final.country_id.unique())):\n",
    "    allchampionships.append(MyDf(final[final['country_id']==final.country_id.unique()[i]].sort(columns='Date')))\n",
    "    allchampionships[i].df.reset_index(inplace=True)\n",
    "    allchampionships[i].df.drop(['index'],axis=1,inplace=True)"
   ]
  },
  {
   "cell_type": "markdown",
   "metadata": {},
   "source": [
    "# Cut out first and last n,m matches"
   ]
  },
  {
   "cell_type": "code",
   "execution_count": 16,
   "metadata": {
    "collapsed": true
   },
   "outputs": [],
   "source": [
    "n=4\n",
    "m=4"
   ]
  },
  {
   "cell_type": "code",
   "execution_count": 17,
   "metadata": {
    "collapsed": true
   },
   "outputs": [],
   "source": [
    "for i in range(len(final.country_id.unique())):\n",
    "    allchampionships[i].df=cut_out_n_m_matches(allchampionships[i].df,n,m)\n",
    "    "
   ]
  },
  {
   "cell_type": "code",
   "execution_count": 18,
   "metadata": {
    "collapsed": false
   },
   "outputs": [
    {
     "data": {
      "text/plain": [
       "Index([u'country_id', u'season', u'Date', u'HomeTeam', u'AwayTeam', u'FTHG',\n",
       "       u'FTAG', u'FTR', u'H_ROUND', u'H_TP3', u'H_TP5', u'H_GS_H', u'H_GS_A',\n",
       "       u'H_GR_H', u'H_GR_A', u'H_TGS', u'H_TGR', u'H_AvGS_H', u'H_AvGS_A',\n",
       "       u'H_AvGR_H', u'H_AvGR_A', u'H_Av_TGS', u'H_Av_TGR', u'H_Pnt_H',\n",
       "       u'H_Pnt_A', u'H_T_pnt', u'H_Av_Pnt_H', u'H_Av_pnt_A', u'H_Av_T_pnt',\n",
       "       u'A_ROUND', u'A_TP3', u'A_TP5', u'Aw_GS_H', u'Aw_GS_A', u'Aw_GR_H',\n",
       "       u'Aw_GR_A', u'Aw_TGS', u'Aw_TGR', u'Aw_AvGS_H', u'Aw_AvGS_A',\n",
       "       u'Aw_AvGR_H', u'Aw_AvGR_A', u'Aw_Av_TGS', u'Aw_Av_TGR', u'Aw_Pnt_H',\n",
       "       u'Aw_Pnt_A', u'Aw_T_pnt', u'Aw_Av_Pnt_H', u'Aw_Av_pnt_A',\n",
       "       u'Aw_Av_T_pnt', u'DIFF_av_TP', u'DIFF_av_HP-AP', u'SUMM_av_HGSH+AGRA',\n",
       "       u'SUMM_av_HGRH+AGSA', u'SUMM_av_HTGS+ATGR', u'SUMM_av_HTGR+ATGS',\n",
       "       u'Goal/No_Goal', u'Over2.5/Under2.5'],\n",
       "      dtype='object')"
      ]
     },
     "execution_count": 18,
     "metadata": {},
     "output_type": "execute_result"
    }
   ],
   "source": [
    "allchampionships[0].df.columns"
   ]
  },
  {
   "cell_type": "markdown",
   "metadata": {},
   "source": [
    "## SVM_LINEAR"
   ]
  },
  {
   "cell_type": "code",
   "execution_count": 19,
   "metadata": {
    "collapsed": true
   },
   "outputs": [],
   "source": [
    "season_to_be_predicted='2015/2016'\n",
    "column_to_use_as_prediction=[46,47]\n",
    "column_to_predict='Goal/No_Goal'"
   ]
  },
  {
   "cell_type": "code",
   "execution_count": 22,
   "metadata": {
    "collapsed": false
   },
   "outputs": [
    {
     "ename": "ValueError",
     "evalue": "Location based indexing can only have [integer, integer slice (START point is INCLUDED, END point is EXCLUDED), listlike of integers, boolean array] types",
     "output_type": "error",
     "traceback": [
      "\u001b[0;31m---------------------------------------------------------------------------\u001b[0m",
      "\u001b[0;31mValueError\u001b[0m                                Traceback (most recent call last)",
      "\u001b[0;32m<ipython-input-22-73dad8ee3e81>\u001b[0m in \u001b[0;36m<module>\u001b[0;34m()\u001b[0m\n\u001b[1;32m      1\u001b[0m \u001b[0msvm_linear\u001b[0m \u001b[0;34m=\u001b[0m \u001b[0msvm\u001b[0m\u001b[0;34m.\u001b[0m\u001b[0mSVC\u001b[0m\u001b[0;34m(\u001b[0m\u001b[0mkernel\u001b[0m\u001b[0;34m=\u001b[0m\u001b[0;34m'linear'\u001b[0m\u001b[0;34m)\u001b[0m\u001b[0;34m\u001b[0m\u001b[0m\n\u001b[0;32m----> 2\u001b[0;31m \u001b[0ma\u001b[0m\u001b[0;34m=\u001b[0m\u001b[0mPredict_whole_season_by_one\u001b[0m\u001b[0;34m(\u001b[0m\u001b[0mallchampionships\u001b[0m\u001b[0;34m[\u001b[0m\u001b[0;36m0\u001b[0m\u001b[0;34m]\u001b[0m\u001b[0;34m.\u001b[0m\u001b[0mdf\u001b[0m\u001b[0;34m,\u001b[0m\u001b[0mseason_to_be_predicted\u001b[0m\u001b[0;34m,\u001b[0m\u001b[0mcolumn_to_predict\u001b[0m\u001b[0;34m,\u001b[0m \u001b[0mcolumn_to_use_as_prediction\u001b[0m\u001b[0;34m,\u001b[0m \u001b[0msvm_linear\u001b[0m\u001b[0;34m,\u001b[0m\u001b[0;34m'svm_linear'\u001b[0m\u001b[0;34m)\u001b[0m\u001b[0;34m\u001b[0m\u001b[0m\n\u001b[0m",
      "\u001b[0;32m<ipython-input-9-bca90441b6a7>\u001b[0m in \u001b[0;36mPredict_whole_season_by_one\u001b[0;34m(BIG, predseason, col_train, col_pred, method, method_name)\u001b[0m\n\u001b[1;32m      8\u001b[0m     \u001b[0;32mfor\u001b[0m \u001b[0mi\u001b[0m \u001b[0;32min\u001b[0m \u001b[0mBIG\u001b[0m\u001b[0;34m[\u001b[0m\u001b[0mBIG\u001b[0m\u001b[0;34m.\u001b[0m\u001b[0mseason\u001b[0m\u001b[0;34m==\u001b[0m\u001b[0mpredseason\u001b[0m\u001b[0;34m]\u001b[0m\u001b[0;34m.\u001b[0m\u001b[0mH_ROUND\u001b[0m\u001b[0;34m.\u001b[0m\u001b[0munique\u001b[0m\u001b[0;34m(\u001b[0m\u001b[0;34m)\u001b[0m\u001b[0;34m:\u001b[0m\u001b[0;34m\u001b[0m\u001b[0m\n\u001b[1;32m      9\u001b[0m \u001b[0;34m\u001b[0m\u001b[0m\n\u001b[0;32m---> 10\u001b[0;31m         \u001b[0mX_train\u001b[0m\u001b[0;34m,\u001b[0m\u001b[0mY_train\u001b[0m\u001b[0;34m,\u001b[0m\u001b[0mX_test\u001b[0m\u001b[0;34m,\u001b[0m\u001b[0mY_test\u001b[0m \u001b[0;34m=\u001b[0m \u001b[0msplit_train_test_data\u001b[0m\u001b[0;34m(\u001b[0m\u001b[0mBIG\u001b[0m\u001b[0;34m,\u001b[0m\u001b[0mtrain_index\u001b[0m\u001b[0;34m,\u001b[0m\u001b[0mtest_index\u001b[0m\u001b[0;34m,\u001b[0m\u001b[0mcol_train\u001b[0m\u001b[0;34m,\u001b[0m\u001b[0mcol_pred\u001b[0m\u001b[0;34m,\u001b[0m\u001b[0mi\u001b[0m\u001b[0;34m)\u001b[0m\u001b[0;34m\u001b[0m\u001b[0m\n\u001b[0m\u001b[1;32m     11\u001b[0m         \u001b[0mmethod\u001b[0m\u001b[0;34m.\u001b[0m\u001b[0mfit\u001b[0m\u001b[0;34m(\u001b[0m\u001b[0mX_train\u001b[0m\u001b[0;34m,\u001b[0m\u001b[0mY_train\u001b[0m\u001b[0;34m)\u001b[0m\u001b[0;34m\u001b[0m\u001b[0m\n\u001b[1;32m     12\u001b[0m         \u001b[0;31m#print(method.score(X_test, Y_test))\u001b[0m\u001b[0;34m\u001b[0m\u001b[0;34m\u001b[0m\u001b[0m\n",
      "\u001b[0;32m<ipython-input-8-478f8edfc8fa>\u001b[0m in \u001b[0;36msplit_train_test_data\u001b[0;34m(df, train_index, test_index, col_train, col_pred, i)\u001b[0m\n\u001b[1;32m      2\u001b[0m \u001b[0;34m\u001b[0m\u001b[0m\n\u001b[1;32m      3\u001b[0m \u001b[0;34m\u001b[0m\u001b[0m\n\u001b[0;32m----> 4\u001b[0;31m     \u001b[0mX_train\u001b[0m\u001b[0;34m=\u001b[0m\u001b[0mdf\u001b[0m\u001b[0;34m.\u001b[0m\u001b[0mloc\u001b[0m\u001b[0;34m[\u001b[0m\u001b[0mtrain_index\u001b[0m\u001b[0;34m]\u001b[0m\u001b[0;34m.\u001b[0m\u001b[0miloc\u001b[0m\u001b[0;34m[\u001b[0m\u001b[0;34m:\u001b[0m\u001b[0;34m,\u001b[0m\u001b[0mcol_train\u001b[0m\u001b[0;34m]\u001b[0m\u001b[0;34m\u001b[0m\u001b[0m\n\u001b[0m\u001b[1;32m      5\u001b[0m     \u001b[0mY_train\u001b[0m\u001b[0;34m=\u001b[0m\u001b[0mdf\u001b[0m\u001b[0;34m.\u001b[0m\u001b[0mloc\u001b[0m\u001b[0;34m[\u001b[0m\u001b[0mtrain_index\u001b[0m\u001b[0;34m]\u001b[0m\u001b[0;34m[\u001b[0m\u001b[0mcol_pred\u001b[0m\u001b[0;34m]\u001b[0m\u001b[0;34m\u001b[0m\u001b[0m\n\u001b[1;32m      6\u001b[0m \u001b[0;34m\u001b[0m\u001b[0m\n",
      "\u001b[0;32m/Users/nicolamacchitella/anaconda/lib/python2.7/site-packages/pandas/core/indexing.pyc\u001b[0m in \u001b[0;36m__getitem__\u001b[0;34m(self, key)\u001b[0m\n\u001b[1;32m   1308\u001b[0m \u001b[0;34m\u001b[0m\u001b[0m\n\u001b[1;32m   1309\u001b[0m         \u001b[0;32mif\u001b[0m \u001b[0mtype\u001b[0m\u001b[0;34m(\u001b[0m\u001b[0mkey\u001b[0m\u001b[0;34m)\u001b[0m \u001b[0;32mis\u001b[0m \u001b[0mtuple\u001b[0m\u001b[0;34m:\u001b[0m\u001b[0;34m\u001b[0m\u001b[0m\n\u001b[0;32m-> 1310\u001b[0;31m             \u001b[0;32mreturn\u001b[0m \u001b[0mself\u001b[0m\u001b[0;34m.\u001b[0m\u001b[0m_getitem_tuple\u001b[0m\u001b[0;34m(\u001b[0m\u001b[0mkey\u001b[0m\u001b[0;34m)\u001b[0m\u001b[0;34m\u001b[0m\u001b[0m\n\u001b[0m\u001b[1;32m   1311\u001b[0m         \u001b[0;32melse\u001b[0m\u001b[0;34m:\u001b[0m\u001b[0;34m\u001b[0m\u001b[0m\n\u001b[1;32m   1312\u001b[0m             \u001b[0;32mreturn\u001b[0m \u001b[0mself\u001b[0m\u001b[0;34m.\u001b[0m\u001b[0m_getitem_axis\u001b[0m\u001b[0;34m(\u001b[0m\u001b[0mkey\u001b[0m\u001b[0;34m,\u001b[0m \u001b[0maxis\u001b[0m\u001b[0;34m=\u001b[0m\u001b[0;36m0\u001b[0m\u001b[0;34m)\u001b[0m\u001b[0;34m\u001b[0m\u001b[0m\n",
      "\u001b[0;32m/Users/nicolamacchitella/anaconda/lib/python2.7/site-packages/pandas/core/indexing.pyc\u001b[0m in \u001b[0;36m_getitem_tuple\u001b[0;34m(self, tup)\u001b[0m\n\u001b[1;32m   1558\u001b[0m     \u001b[0;32mdef\u001b[0m \u001b[0m_getitem_tuple\u001b[0m\u001b[0;34m(\u001b[0m\u001b[0mself\u001b[0m\u001b[0;34m,\u001b[0m \u001b[0mtup\u001b[0m\u001b[0;34m)\u001b[0m\u001b[0;34m:\u001b[0m\u001b[0;34m\u001b[0m\u001b[0m\n\u001b[1;32m   1559\u001b[0m \u001b[0;34m\u001b[0m\u001b[0m\n\u001b[0;32m-> 1560\u001b[0;31m         \u001b[0mself\u001b[0m\u001b[0;34m.\u001b[0m\u001b[0m_has_valid_tuple\u001b[0m\u001b[0;34m(\u001b[0m\u001b[0mtup\u001b[0m\u001b[0;34m)\u001b[0m\u001b[0;34m\u001b[0m\u001b[0m\n\u001b[0m\u001b[1;32m   1561\u001b[0m         \u001b[0;32mtry\u001b[0m\u001b[0;34m:\u001b[0m\u001b[0;34m\u001b[0m\u001b[0m\n\u001b[1;32m   1562\u001b[0m             \u001b[0;32mreturn\u001b[0m \u001b[0mself\u001b[0m\u001b[0;34m.\u001b[0m\u001b[0m_getitem_lowerdim\u001b[0m\u001b[0;34m(\u001b[0m\u001b[0mtup\u001b[0m\u001b[0;34m)\u001b[0m\u001b[0;34m\u001b[0m\u001b[0m\n",
      "\u001b[0;32m/Users/nicolamacchitella/anaconda/lib/python2.7/site-packages/pandas/core/indexing.pyc\u001b[0m in \u001b[0;36m_has_valid_tuple\u001b[0;34m(self, key)\u001b[0m\n\u001b[1;32m    151\u001b[0m             \u001b[0;32mif\u001b[0m \u001b[0;32mnot\u001b[0m \u001b[0mself\u001b[0m\u001b[0;34m.\u001b[0m\u001b[0m_has_valid_type\u001b[0m\u001b[0;34m(\u001b[0m\u001b[0mk\u001b[0m\u001b[0;34m,\u001b[0m \u001b[0mi\u001b[0m\u001b[0;34m)\u001b[0m\u001b[0;34m:\u001b[0m\u001b[0;34m\u001b[0m\u001b[0m\n\u001b[1;32m    152\u001b[0m                 raise ValueError(\"Location based indexing can only have [%s] \"\n\u001b[0;32m--> 153\u001b[0;31m                                  \"types\" % self._valid_types)\n\u001b[0m\u001b[1;32m    154\u001b[0m \u001b[0;34m\u001b[0m\u001b[0m\n\u001b[1;32m    155\u001b[0m     \u001b[0;32mdef\u001b[0m \u001b[0m_should_validate_iterable\u001b[0m\u001b[0;34m(\u001b[0m\u001b[0mself\u001b[0m\u001b[0;34m,\u001b[0m \u001b[0maxis\u001b[0m\u001b[0;34m=\u001b[0m\u001b[0;36m0\u001b[0m\u001b[0;34m)\u001b[0m\u001b[0;34m:\u001b[0m\u001b[0;34m\u001b[0m\u001b[0m\n",
      "\u001b[0;31mValueError\u001b[0m: Location based indexing can only have [integer, integer slice (START point is INCLUDED, END point is EXCLUDED), listlike of integers, boolean array] types"
     ]
    }
   ],
   "source": [
    "svm_linear = svm.SVC(kernel='linear')\n",
    "a=Predict_whole_season_by_one(allchampionships[0].df,season_to_be_predicted,column_to_predict,column_to_use_as_prediction, svm_linear,'svm_linear')"
   ]
  },
  {
   "cell_type": "code",
   "execution_count": 204,
   "metadata": {
    "collapsed": false
   },
   "outputs": [],
   "source": [
    "b=Predict_whole_season_with_one(allchampionships[0].df,season_to_be_predicted,column_to_predict, column_to_use_as_prediction, svm_linear,'svm_linear')"
   ]
  },
  {
   "cell_type": "code",
   "execution_count": 291,
   "metadata": {
    "collapsed": false
   },
   "outputs": [
    {
     "name": "stdout",
     "output_type": "stream",
     "text": [
      "37\n",
      "41\n",
      "78\n",
      "39\n",
      "117\n",
      "42\n",
      "159\n",
      "39\n",
      "198\n",
      "40\n",
      "238\n",
      "40\n",
      "278\n",
      "40\n",
      "318\n",
      "40\n",
      "358\n",
      "41\n",
      "399\n",
      "38\n",
      "437\n",
      "40\n",
      "477\n",
      "41\n",
      "518\n",
      "40\n",
      "558\n",
      "39\n",
      "597\n",
      "38\n",
      "635\n",
      "43\n",
      "678\n",
      "40\n",
      "718\n",
      "38\n",
      "756\n",
      "39\n",
      "795\n",
      "39\n",
      "834\n",
      "40\n",
      "874\n",
      "39\n",
      "913\n",
      "39\n",
      "952\n",
      "41\n",
      "993\n",
      "40\n",
      "1033\n",
      "37\n"
     ]
    }
   ],
   "source": [
    "c=Predict_season_with_current_season(allchampionships[0].df,season_to_be_predicted, column_to_use_as_prediction, column_to_predict,svm_linear,'svm_linear')"
   ]
  },
  {
   "cell_type": "code",
   "execution_count": 162,
   "metadata": {
    "collapsed": false
   },
   "outputs": [
    {
     "data": {
      "text/plain": [
       "0.601955782312925"
      ]
     },
     "execution_count": 162,
     "metadata": {},
     "output_type": "execute_result"
    }
   ],
   "source": [
    "a['svm_linear'].mean()"
   ]
  },
  {
   "cell_type": "code",
   "execution_count": 163,
   "metadata": {
    "collapsed": false
   },
   "outputs": [
    {
     "data": {
      "text/plain": [
       "0.601955782312925"
      ]
     },
     "execution_count": 163,
     "metadata": {},
     "output_type": "execute_result"
    }
   ],
   "source": [
    "b['svm_linear'].mean()"
   ]
  },
  {
   "cell_type": "code",
   "execution_count": null,
   "metadata": {
    "collapsed": true
   },
   "outputs": [],
   "source": []
  },
  {
   "cell_type": "markdown",
   "metadata": {},
   "source": [
    "## SVM_RBF\n"
   ]
  },
  {
   "cell_type": "code",
   "execution_count": null,
   "metadata": {
    "collapsed": true
   },
   "outputs": [],
   "source": [
    "svm_rbf = svm.SVC(kernel='rbf', gamma = 100)\n",
    "Predict_whole_season_by_one(Italy,'2015/2016',[46,47], 'FTR', svm_rbf,'svm_rbf')"
   ]
  },
  {
   "cell_type": "code",
   "execution_count": null,
   "metadata": {
    "collapsed": true
   },
   "outputs": [],
   "source": [
    "Predict_whole_season_with_one(Italy,'2015/2016',[46,47], 'FTR', svm_rbf,'svm_rbf')"
   ]
  },
  {
   "cell_type": "markdown",
   "metadata": {},
   "source": [
    "## CART"
   ]
  },
  {
   "cell_type": "code",
   "execution_count": null,
   "metadata": {
    "collapsed": true
   },
   "outputs": [],
   "source": [
    "dtc = DecisionTreeClassifier()\n",
    "Predict_whole_season_by_one(Italy,'2015/2016',[46,47], 'FTR', dtc,'dtc')"
   ]
  },
  {
   "cell_type": "code",
   "execution_count": null,
   "metadata": {
    "collapsed": true
   },
   "outputs": [],
   "source": [
    "Predict_whole_season_with_one(Italy,'2015/2016',[46,47], 'FTR', dtc,'dtc')"
   ]
  },
  {
   "cell_type": "markdown",
   "metadata": {},
   "source": [
    "# Adaboost Classifier "
   ]
  },
  {
   "cell_type": "code",
   "execution_count": null,
   "metadata": {
    "collapsed": true
   },
   "outputs": [],
   "source": [
    "bagb = AdaBoostClassifier(DecisionTreeClassifier(max_depth=10), n_estimators=20)\n",
    "Predict_whole_season_by_one(Italy,'2015/2016',[46,47], 'FTR', bagb,'bagb')"
   ]
  },
  {
   "cell_type": "code",
   "execution_count": null,
   "metadata": {
    "collapsed": true
   },
   "outputs": [],
   "source": [
    "Predict_whole_season_with_one(Italy,'2015/2016',[46,47], 'FTR', bagb,'bagb')"
   ]
  },
  {
   "cell_type": "markdown",
   "metadata": {},
   "source": [
    "# Gradient Boosting Classifier\n"
   ]
  },
  {
   "cell_type": "code",
   "execution_count": null,
   "metadata": {
    "collapsed": true
   },
   "outputs": [],
   "source": [
    "gradb = GradientBoostingClassifier(max_depth=10, n_estimators=100)\n",
    "Predict_whole_season_by_one(Italy,'2015/2016',[46,47], 'FTR', gradb,'gradb')"
   ]
  },
  {
   "cell_type": "code",
   "execution_count": null,
   "metadata": {
    "collapsed": true
   },
   "outputs": [],
   "source": [
    "Predict_whole_season_with_one(Italy,'2015/2016',[46,47], 'FTR', gradb,'gradb')"
   ]
  },
  {
   "cell_type": "markdown",
   "metadata": {},
   "source": [
    "# Random Forest"
   ]
  },
  {
   "cell_type": "code",
   "execution_count": null,
   "metadata": {
    "collapsed": true
   },
   "outputs": [],
   "source": [
    "rdf = RandomForestClassifier(max_depth=10, n_estimators=50)\n",
    "Predict_whole_season_by_one(Italy,'2015/2016',[46,47], 'FTR', rdf,'rdf')"
   ]
  },
  {
   "cell_type": "code",
   "execution_count": null,
   "metadata": {
    "collapsed": true
   },
   "outputs": [],
   "source": [
    "Predict_whole_season_with_one(Italy,'2015/2016',[46,47], 'FTR', rdf,'rdf')"
   ]
  },
  {
   "cell_type": "code",
   "execution_count": null,
   "metadata": {
    "collapsed": true
   },
   "outputs": [],
   "source": []
  },
  {
   "cell_type": "code",
   "execution_count": null,
   "metadata": {
    "collapsed": true
   },
   "outputs": [],
   "source": []
  },
  {
   "cell_type": "code",
   "execution_count": null,
   "metadata": {
    "collapsed": true
   },
   "outputs": [],
   "source": []
  },
  {
   "cell_type": "code",
   "execution_count": null,
   "metadata": {
    "collapsed": true
   },
   "outputs": [],
   "source": []
  },
  {
   "cell_type": "code",
   "execution_count": null,
   "metadata": {
    "collapsed": true
   },
   "outputs": [],
   "source": []
  },
  {
   "cell_type": "code",
   "execution_count": null,
   "metadata": {
    "collapsed": true
   },
   "outputs": [],
   "source": []
  },
  {
   "cell_type": "code",
   "execution_count": 294,
   "metadata": {
    "collapsed": false
   },
   "outputs": [],
   "source": [
    "a=select_season(allchampionships[0].df, '2015/2016')"
   ]
  },
  {
   "cell_type": "code",
   "execution_count": 298,
   "metadata": {
    "collapsed": false
   },
   "outputs": [
    {
     "data": {
      "text/plain": [
       "array([  5.,   6.,   7.,   8.,   9.,  10.,  11.,  12.,  13.,  14.,  15.,\n",
       "        16.,  17.,  18.,  19.,  20.,  21.,  22.,  23.,  24.,  25.,  26.,\n",
       "        27.,  28.,  29.,  30.,  31.,  32.])"
      ]
     },
     "execution_count": 298,
     "metadata": {},
     "output_type": "execute_result"
    }
   ],
   "source": [
    "a.H_ROUND.unique()"
   ]
  },
  {
   "cell_type": "code",
   "execution_count": 356,
   "metadata": {
    "collapsed": true
   },
   "outputs": [],
   "source": [
    "g=30"
   ]
  },
  {
   "cell_type": "code",
   "execution_count": 357,
   "metadata": {
    "collapsed": false
   },
   "outputs": [],
   "source": [
    "Y_test=a[a.H_ROUND>g]['FTR']"
   ]
  },
  {
   "cell_type": "code",
   "execution_count": 358,
   "metadata": {
    "collapsed": false
   },
   "outputs": [],
   "source": [
    "X_test=a[a.H_ROUND>g].iloc[:,[50,51]]"
   ]
  },
  {
   "cell_type": "code",
   "execution_count": 359,
   "metadata": {
    "collapsed": true
   },
   "outputs": [],
   "source": [
    "Y_train=a[a.H_ROUND<=g]['FTR']\n",
    "X_train=a[a.H_ROUND<=g].iloc[:,[50,51]]"
   ]
  },
  {
   "cell_type": "code",
   "execution_count": null,
   "metadata": {
    "collapsed": true
   },
   "outputs": [],
   "source": []
  },
  {
   "cell_type": "code",
   "execution_count": 360,
   "metadata": {
    "collapsed": false
   },
   "outputs": [
    {
     "data": {
      "text/plain": [
       "SVC(C=1.0, cache_size=200, class_weight=None, coef0=0.0,\n",
       "  decision_function_shape=None, degree=3, gamma='auto', kernel='linear',\n",
       "  max_iter=-1, probability=True, random_state=None, shrinking=True,\n",
       "  tol=0.001, verbose=False)"
      ]
     },
     "execution_count": 360,
     "metadata": {},
     "output_type": "execute_result"
    }
   ],
   "source": [
    "svm_linear.fit(X_train,Y_train,)"
   ]
  },
  {
   "cell_type": "code",
   "execution_count": 366,
   "metadata": {
    "collapsed": false
   },
   "outputs": [
    {
     "data": {
      "text/plain": [
       "array([[ 0.69684217, -0.2480954 , -1.00002401],\n",
       "       [ 0.15444954, -1.41276864, -0.99991077],\n",
       "       [ 0.44449283, -0.33884951, -1.00003654],\n",
       "       [ 0.21196258, -0.92246081, -0.9999758 ],\n",
       "       [ 0.01261307, -0.94118426, -0.99999336],\n",
       "       [ 0.24756597, -0.79192232, -0.99999106],\n",
       "       [ 0.67845892,  0.4757038 , -1.00013051],\n",
       "       [ 0.23072064, -0.48317437, -1.0000374 ],\n",
       "       [ 0.78709045, -0.10184035, -1.00003598],\n",
       "       [ 0.64821307, -0.13351353, -1.00004551]])"
      ]
     },
     "execution_count": 366,
     "metadata": {},
     "output_type": "execute_result"
    }
   ],
   "source": [
    "svm_linear.decision_function(X_test)"
   ]
  },
  {
   "cell_type": "code",
   "execution_count": null,
   "metadata": {
    "collapsed": true
   },
   "outputs": [],
   "source": []
  }
 ],
 "metadata": {
  "kernelspec": {
   "display_name": "Python 2",
   "language": "python",
   "name": "python2"
  },
  "language_info": {
   "codemirror_mode": {
    "name": "ipython",
    "version": 2
   },
   "file_extension": ".py",
   "mimetype": "text/x-python",
   "name": "python",
   "nbconvert_exporter": "python",
   "pygments_lexer": "ipython2",
   "version": "2.7.13"
  }
 },
 "nbformat": 4,
 "nbformat_minor": 2
}
