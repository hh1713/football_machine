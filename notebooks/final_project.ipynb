{
 "cells": [
  {
   "cell_type": "code",
   "execution_count": 10,
   "metadata": {
    "collapsed": false
   },
   "outputs": [],
   "source": [
    "import pandas as pd\n",
    "import matplotlib.pyplot as plt\n",
    "import numpy as np\n",
    "from sklearn.naive_bayes import GaussianNB\n",
    "from sklearn.svm import SVC\n",
    "from sklearn import *\n",
    "import numpy as np\n",
    "from sklearn.decomposition import *\n",
    "from sklearn.model_selection import train_test_split\n",
    "from sklearn.model_selection import cross_val_score\n",
    "\n",
    "from sklearn.model_selection import train_test_split\n",
    "from sklearn.tree import DecisionTreeClassifier\n",
    "from sklearn.ensemble import AdaBoostClassifier\n",
    "from sklearn.ensemble import GradientBoostingClassifier\n",
    "from sklearn.ensemble import RandomForestClassifier"
   ]
  },
  {
   "cell_type": "code",
   "execution_count": 11,
   "metadata": {
    "collapsed": true
   },
   "outputs": [],
   "source": [
    "pd.options.display.max_columns = 999\n",
    "pd.options.display.max_rows = 60"
   ]
  },
  {
   "cell_type": "code",
   "execution_count": 12,
   "metadata": {
    "collapsed": true
   },
   "outputs": [],
   "source": [
    "def cut_out_n_m_matches(df,n,m):\n",
    "    return df[(df['H_ROUND']>n) & (df['H_ROUND']<m)]\n",
    "    "
   ]
  },
  {
   "cell_type": "code",
   "execution_count": 13,
   "metadata": {
    "collapsed": true
   },
   "outputs": [],
   "source": [
    "def train_test_index(df,predicted_season):\n",
    "    train_index=df[df.season!=predicted_season].index\n",
    "    test_index=df[df.season==predicted_season].index\n",
    "    return train_index, test_index"
   ]
  },
  {
   "cell_type": "code",
   "execution_count": 14,
   "metadata": {
    "collapsed": true
   },
   "outputs": [],
   "source": [
    "def split_train_test_data(df,train_index,test_index,col_train,col_pred,i):\n",
    "    \n",
    "    \n",
    "    X_train=df.loc[train_index].iloc[:,col_train]\n",
    "    Y_train=df.loc[train_index][col_pred]\n",
    "\n",
    "    X_test=df.loc[test_index]\n",
    "    Y_test=df.loc[test_index]\n",
    "\n",
    "    X_test=X_test[X_test.H_ROUND==i].iloc[:,col_train]\n",
    "    Y_test=Y_test[Y_test.H_ROUND==i][col_pred]\n",
    "\n",
    "    return X_train, Y_train, X_test, Y_test"
   ]
  },
  {
   "cell_type": "code",
   "execution_count": 15,
   "metadata": {
    "collapsed": true
   },
   "outputs": [],
   "source": [
    "def Predict_whole_season_by_one (BIG, predseason, col_train, col_pred,method, method_name):\n",
    "        \n",
    "    tmp=pd.DataFrame()\n",
    "    \n",
    "    train_index, test_index = train_test_index(BIG,predseason)\n",
    "    lis=[]\n",
    "    \n",
    "    for i in BIG[BIG.season==predseason].H_ROUND.unique():\n",
    "       \n",
    "        X_train,Y_train,X_test,Y_test = split_train_test_data(BIG,train_index,test_index,col_train,col_pred,i) \n",
    "        method.fit(X_train,Y_train)\n",
    "        lis.append(float(method.score(X_test, Y_test)))\n",
    "        \n",
    "    tmp[method_name]=lis \n",
    "    \n",
    "    return tmp"
   ]
  },
  {
   "cell_type": "code",
   "execution_count": 16,
   "metadata": {
    "collapsed": true
   },
   "outputs": [],
   "source": [
    "def Predict_whole_season_with_one (BIG, predseason, col_train, col_pred,method, method_name):\n",
    "        \n",
    "    tmp=pd.DataFrame()    \n",
    "    \n",
    "    train_index, test_index = train_test_index(BIG,predseason)\n",
    "    lis=[]\n",
    "\n",
    "    \n",
    "    for i in BIG[BIG.season==predseason].H_ROUND.unique():\n",
    "       \n",
    "        X_train,Y_train,X_test,Y_test = split_train_test_data(BIG,train_index,test_index,col_train,col_pred,i) \n",
    "        method.fit(X_train,Y_train)\n",
    "        lis.append(float(method.score(X_test, Y_test)))\n",
    "        \n",
    "        train_index=list(train_index)+list(X_test.index)\n",
    "       \n",
    "    tmp[method_name]=lis     \n",
    "    return tmp\n",
    "    "
   ]
  },
  {
   "cell_type": "markdown",
   "metadata": {},
   "source": [
    "# Loading data"
   ]
  },
  {
   "cell_type": "code",
   "execution_count": 17,
   "metadata": {
    "collapsed": true
   },
   "outputs": [],
   "source": [
    "final=pd.read_csv('../Data/from_sqlite_Data/realfinal.csv')\n",
    "final.drop('Unnamed: 0',axis=1,inplace=True)\n"
   ]
  },
  {
   "cell_type": "code",
   "execution_count": 22,
   "metadata": {
    "collapsed": false
   },
   "outputs": [
    {
     "name": "stderr",
     "output_type": "stream",
     "text": [
      "/Users/nicolamacchitella/anaconda/lib/python2.7/site-packages/ipykernel/__main__.py:1: FutureWarning: sort(columns=....) is deprecated, use sort_values(by=.....)\n",
      "  if __name__ == '__main__':\n",
      "/Users/nicolamacchitella/anaconda/lib/python2.7/site-packages/ipykernel/__main__.py:2: FutureWarning: sort(columns=....) is deprecated, use sort_values(by=.....)\n",
      "  from ipykernel import kernelapp as app\n",
      "/Users/nicolamacchitella/anaconda/lib/python2.7/site-packages/ipykernel/__main__.py:3: FutureWarning: sort(columns=....) is deprecated, use sort_values(by=.....)\n",
      "  app.launch_new_instance()\n",
      "/Users/nicolamacchitella/anaconda/lib/python2.7/site-packages/ipykernel/__main__.py:4: FutureWarning: sort(columns=....) is deprecated, use sort_values(by=.....)\n",
      "/Users/nicolamacchitella/anaconda/lib/python2.7/site-packages/ipykernel/__main__.py:5: FutureWarning: sort(columns=....) is deprecated, use sort_values(by=.....)\n",
      "/Users/nicolamacchitella/anaconda/lib/python2.7/site-packages/ipykernel/__main__.py:6: FutureWarning: sort(columns=....) is deprecated, use sort_values(by=.....)\n",
      "/Users/nicolamacchitella/anaconda/lib/python2.7/site-packages/ipykernel/__main__.py:7: FutureWarning: sort(columns=....) is deprecated, use sort_values(by=.....)\n",
      "/Users/nicolamacchitella/anaconda/lib/python2.7/site-packages/ipykernel/__main__.py:8: FutureWarning: sort(columns=....) is deprecated, use sort_values(by=.....)\n",
      "/Users/nicolamacchitella/anaconda/lib/python2.7/site-packages/ipykernel/__main__.py:9: FutureWarning: sort(columns=....) is deprecated, use sort_values(by=.....)\n",
      "/Users/nicolamacchitella/anaconda/lib/python2.7/site-packages/ipykernel/__main__.py:10: FutureWarning: sort(columns=....) is deprecated, use sort_values(by=.....)\n",
      "/Users/nicolamacchitella/anaconda/lib/python2.7/site-packages/ipykernel/__main__.py:11: FutureWarning: sort(columns=....) is deprecated, use sort_values(by=.....)\n"
     ]
    }
   ],
   "source": [
    "England=final[final['country_id']=='England Premier League'].sort(columns='Date')\n",
    "Belgium=final[final['country_id']=='Belgium Jupiler League'].sort(columns='Date')\n",
    "France=final[final['country_id']=='France Ligue 1'].sort(columns='Date')\n",
    "Germany=final[final['country_id']=='Germany 1. Bundesliga'].sort(columns='Date')\n",
    "Italy=final[final['country_id']=='Italy Serie A'].sort(columns='Date')\n",
    "Netherlands=final[final['country_id']=='Netherlands Eredivisie'].sort(columns='Date')\n",
    "Poland=final[final['country_id']=='Poland Ekstraklasa'].sort(columns='Date')\n",
    "Portugal=final[final['country_id']=='Portugal Liga ZON Sagres'].sort(columns='Date')\n",
    "Scotland=final[final['country_id']=='Scotland Premier League'].sort(columns='Date')\n",
    "Spain=final[final['country_id']=='Spain LIGA BBVA'].sort(columns='Date')\n",
    "Swiss=final[final['country_id']=='Switzerland Super League'].sort(columns='Date')\n",
    "\n"
   ]
  },
  {
   "cell_type": "code",
   "execution_count": 23,
   "metadata": {
    "collapsed": true
   },
   "outputs": [],
   "source": [
    "England.reset_index(inplace=True)\n",
    "Belgium.reset_index(inplace=True)\n",
    "France.reset_index(inplace=True)\n",
    "Germany.reset_index(inplace=True)\n",
    "Italy.reset_index(inplace=True)\n",
    "Netherlands.reset_index(inplace=True)\n",
    "Poland.reset_index(inplace=True)\n",
    "Portugal.reset_index(inplace=True)\n",
    "Scotland.reset_index(inplace=True)\n",
    "Spain.reset_index(inplace=True)\n",
    "Swiss.reset_index(inplace=True)"
   ]
  },
  {
   "cell_type": "code",
   "execution_count": 24,
   "metadata": {
    "collapsed": true
   },
   "outputs": [],
   "source": [
    "England.drop(['index'],axis=1,inplace=True)\n",
    "Belgium.drop(['index'],axis=1,inplace=True)\n",
    "France.drop(['index'],axis=1,inplace=True)\n",
    "Germany.drop(['index'],axis=1,inplace=True)\n",
    "Italy.drop(['index'],axis=1,inplace=True)\n",
    "Netherlands.drop(['index'],axis=1,inplace=True)\n",
    "Poland.drop(['index'],axis=1,inplace=True)\n",
    "Portugal.drop(['index'],axis=1,inplace=True)\n",
    "Scotland.drop(['index'],axis=1,inplace=True)\n",
    "Spain.drop(['index'],axis=1,inplace=True)\n",
    "Swiss.drop(['index'],axis=1,inplace=True)"
   ]
  },
  {
   "cell_type": "markdown",
   "metadata": {},
   "source": [
    "# Cut out first and last n,m matches"
   ]
  },
  {
   "cell_type": "code",
   "execution_count": 28,
   "metadata": {
    "collapsed": true
   },
   "outputs": [],
   "source": [
    "Italy=cut_out_n_m_matches(Italy,4,35)"
   ]
  },
  {
   "cell_type": "markdown",
   "metadata": {},
   "source": [
    "## SVM_LINEAR"
   ]
  },
  {
   "cell_type": "code",
   "execution_count": 29,
   "metadata": {
    "collapsed": false
   },
   "outputs": [
    {
     "data": {
      "text/html": [
       "<div>\n",
       "<table border=\"1\" class=\"dataframe\">\n",
       "  <thead>\n",
       "    <tr style=\"text-align: right;\">\n",
       "      <th></th>\n",
       "      <th>svm_linear</th>\n",
       "    </tr>\n",
       "  </thead>\n",
       "  <tbody>\n",
       "    <tr>\n",
       "      <th>0</th>\n",
       "      <td>0.5</td>\n",
       "    </tr>\n",
       "    <tr>\n",
       "      <th>1</th>\n",
       "      <td>0.6</td>\n",
       "    </tr>\n",
       "    <tr>\n",
       "      <th>2</th>\n",
       "      <td>0.3</td>\n",
       "    </tr>\n",
       "    <tr>\n",
       "      <th>3</th>\n",
       "      <td>0.4</td>\n",
       "    </tr>\n",
       "    <tr>\n",
       "      <th>4</th>\n",
       "      <td>0.6</td>\n",
       "    </tr>\n",
       "    <tr>\n",
       "      <th>5</th>\n",
       "      <td>0.8</td>\n",
       "    </tr>\n",
       "    <tr>\n",
       "      <th>6</th>\n",
       "      <td>0.3</td>\n",
       "    </tr>\n",
       "    <tr>\n",
       "      <th>7</th>\n",
       "      <td>0.4</td>\n",
       "    </tr>\n",
       "    <tr>\n",
       "      <th>8</th>\n",
       "      <td>0.5</td>\n",
       "    </tr>\n",
       "    <tr>\n",
       "      <th>9</th>\n",
       "      <td>0.5</td>\n",
       "    </tr>\n",
       "    <tr>\n",
       "      <th>10</th>\n",
       "      <td>0.4</td>\n",
       "    </tr>\n",
       "    <tr>\n",
       "      <th>11</th>\n",
       "      <td>0.5</td>\n",
       "    </tr>\n",
       "    <tr>\n",
       "      <th>12</th>\n",
       "      <td>0.4</td>\n",
       "    </tr>\n",
       "    <tr>\n",
       "      <th>13</th>\n",
       "      <td>0.4</td>\n",
       "    </tr>\n",
       "    <tr>\n",
       "      <th>14</th>\n",
       "      <td>0.3</td>\n",
       "    </tr>\n",
       "    <tr>\n",
       "      <th>15</th>\n",
       "      <td>0.4</td>\n",
       "    </tr>\n",
       "    <tr>\n",
       "      <th>16</th>\n",
       "      <td>0.5</td>\n",
       "    </tr>\n",
       "    <tr>\n",
       "      <th>17</th>\n",
       "      <td>0.5</td>\n",
       "    </tr>\n",
       "    <tr>\n",
       "      <th>18</th>\n",
       "      <td>0.5</td>\n",
       "    </tr>\n",
       "    <tr>\n",
       "      <th>19</th>\n",
       "      <td>0.3</td>\n",
       "    </tr>\n",
       "    <tr>\n",
       "      <th>20</th>\n",
       "      <td>0.5</td>\n",
       "    </tr>\n",
       "    <tr>\n",
       "      <th>21</th>\n",
       "      <td>0.5</td>\n",
       "    </tr>\n",
       "    <tr>\n",
       "      <th>22</th>\n",
       "      <td>0.5</td>\n",
       "    </tr>\n",
       "    <tr>\n",
       "      <th>23</th>\n",
       "      <td>0.7</td>\n",
       "    </tr>\n",
       "    <tr>\n",
       "      <th>24</th>\n",
       "      <td>0.7</td>\n",
       "    </tr>\n",
       "    <tr>\n",
       "      <th>25</th>\n",
       "      <td>0.3</td>\n",
       "    </tr>\n",
       "    <tr>\n",
       "      <th>26</th>\n",
       "      <td>0.4</td>\n",
       "    </tr>\n",
       "    <tr>\n",
       "      <th>27</th>\n",
       "      <td>0.6</td>\n",
       "    </tr>\n",
       "    <tr>\n",
       "      <th>28</th>\n",
       "      <td>0.5</td>\n",
       "    </tr>\n",
       "    <tr>\n",
       "      <th>29</th>\n",
       "      <td>0.7</td>\n",
       "    </tr>\n",
       "  </tbody>\n",
       "</table>\n",
       "</div>"
      ],
      "text/plain": [
       "    svm_linear\n",
       "0          0.5\n",
       "1          0.6\n",
       "2          0.3\n",
       "3          0.4\n",
       "4          0.6\n",
       "5          0.8\n",
       "6          0.3\n",
       "7          0.4\n",
       "8          0.5\n",
       "9          0.5\n",
       "10         0.4\n",
       "11         0.5\n",
       "12         0.4\n",
       "13         0.4\n",
       "14         0.3\n",
       "15         0.4\n",
       "16         0.5\n",
       "17         0.5\n",
       "18         0.5\n",
       "19         0.3\n",
       "20         0.5\n",
       "21         0.5\n",
       "22         0.5\n",
       "23         0.7\n",
       "24         0.7\n",
       "25         0.3\n",
       "26         0.4\n",
       "27         0.6\n",
       "28         0.5\n",
       "29         0.7"
      ]
     },
     "execution_count": 29,
     "metadata": {},
     "output_type": "execute_result"
    }
   ],
   "source": [
    "svm_linear = svm.SVC(kernel='linear')\n",
    "Predict_whole_season_by_one(Italy,'2015/2016',[46,47], 'FTR', svm_linear,'svm_linear')"
   ]
  },
  {
   "cell_type": "code",
   "execution_count": 26,
   "metadata": {
    "collapsed": false
   },
   "outputs": [
    {
     "data": {
      "text/html": [
       "<div>\n",
       "<table border=\"1\" class=\"dataframe\">\n",
       "  <thead>\n",
       "    <tr style=\"text-align: right;\">\n",
       "      <th></th>\n",
       "      <th>svm_linear</th>\n",
       "    </tr>\n",
       "  </thead>\n",
       "  <tbody>\n",
       "    <tr>\n",
       "      <th>0</th>\n",
       "      <td>0.6</td>\n",
       "    </tr>\n",
       "    <tr>\n",
       "      <th>1</th>\n",
       "      <td>0.8</td>\n",
       "    </tr>\n",
       "    <tr>\n",
       "      <th>2</th>\n",
       "      <td>0.5</td>\n",
       "    </tr>\n",
       "    <tr>\n",
       "      <th>3</th>\n",
       "      <td>0.5</td>\n",
       "    </tr>\n",
       "    <tr>\n",
       "      <th>4</th>\n",
       "      <td>0.5</td>\n",
       "    </tr>\n",
       "    <tr>\n",
       "      <th>5</th>\n",
       "      <td>0.6</td>\n",
       "    </tr>\n",
       "    <tr>\n",
       "      <th>6</th>\n",
       "      <td>0.3</td>\n",
       "    </tr>\n",
       "    <tr>\n",
       "      <th>7</th>\n",
       "      <td>0.6</td>\n",
       "    </tr>\n",
       "    <tr>\n",
       "      <th>8</th>\n",
       "      <td>0.6</td>\n",
       "    </tr>\n",
       "    <tr>\n",
       "      <th>9</th>\n",
       "      <td>0.6</td>\n",
       "    </tr>\n",
       "    <tr>\n",
       "      <th>10</th>\n",
       "      <td>0.4</td>\n",
       "    </tr>\n",
       "    <tr>\n",
       "      <th>11</th>\n",
       "      <td>0.4</td>\n",
       "    </tr>\n",
       "    <tr>\n",
       "      <th>12</th>\n",
       "      <td>0.4</td>\n",
       "    </tr>\n",
       "    <tr>\n",
       "      <th>13</th>\n",
       "      <td>0.5</td>\n",
       "    </tr>\n",
       "    <tr>\n",
       "      <th>14</th>\n",
       "      <td>0.4</td>\n",
       "    </tr>\n",
       "    <tr>\n",
       "      <th>15</th>\n",
       "      <td>0.4</td>\n",
       "    </tr>\n",
       "    <tr>\n",
       "      <th>16</th>\n",
       "      <td>0.3</td>\n",
       "    </tr>\n",
       "    <tr>\n",
       "      <th>17</th>\n",
       "      <td>0.3</td>\n",
       "    </tr>\n",
       "    <tr>\n",
       "      <th>18</th>\n",
       "      <td>0.2</td>\n",
       "    </tr>\n",
       "    <tr>\n",
       "      <th>19</th>\n",
       "      <td>0.4</td>\n",
       "    </tr>\n",
       "    <tr>\n",
       "      <th>20</th>\n",
       "      <td>0.4</td>\n",
       "    </tr>\n",
       "    <tr>\n",
       "      <th>21</th>\n",
       "      <td>0.4</td>\n",
       "    </tr>\n",
       "    <tr>\n",
       "      <th>22</th>\n",
       "      <td>0.5</td>\n",
       "    </tr>\n",
       "    <tr>\n",
       "      <th>23</th>\n",
       "      <td>0.2</td>\n",
       "    </tr>\n",
       "    <tr>\n",
       "      <th>24</th>\n",
       "      <td>0.4</td>\n",
       "    </tr>\n",
       "    <tr>\n",
       "      <th>25</th>\n",
       "      <td>0.5</td>\n",
       "    </tr>\n",
       "    <tr>\n",
       "      <th>26</th>\n",
       "      <td>0.5</td>\n",
       "    </tr>\n",
       "    <tr>\n",
       "      <th>27</th>\n",
       "      <td>0.6</td>\n",
       "    </tr>\n",
       "    <tr>\n",
       "      <th>28</th>\n",
       "      <td>0.5</td>\n",
       "    </tr>\n",
       "    <tr>\n",
       "      <th>29</th>\n",
       "      <td>0.2</td>\n",
       "    </tr>\n",
       "    <tr>\n",
       "      <th>30</th>\n",
       "      <td>0.5</td>\n",
       "    </tr>\n",
       "    <tr>\n",
       "      <th>31</th>\n",
       "      <td>0.5</td>\n",
       "    </tr>\n",
       "    <tr>\n",
       "      <th>32</th>\n",
       "      <td>0.5</td>\n",
       "    </tr>\n",
       "    <tr>\n",
       "      <th>33</th>\n",
       "      <td>0.7</td>\n",
       "    </tr>\n",
       "    <tr>\n",
       "      <th>34</th>\n",
       "      <td>0.7</td>\n",
       "    </tr>\n",
       "    <tr>\n",
       "      <th>35</th>\n",
       "      <td>0.5</td>\n",
       "    </tr>\n",
       "    <tr>\n",
       "      <th>36</th>\n",
       "      <td>0.2</td>\n",
       "    </tr>\n",
       "    <tr>\n",
       "      <th>37</th>\n",
       "      <td>0.5</td>\n",
       "    </tr>\n",
       "  </tbody>\n",
       "</table>\n",
       "</div>"
      ],
      "text/plain": [
       "    svm_linear\n",
       "0          0.6\n",
       "1          0.8\n",
       "2          0.5\n",
       "3          0.5\n",
       "4          0.5\n",
       "5          0.6\n",
       "6          0.3\n",
       "7          0.6\n",
       "8          0.6\n",
       "9          0.6\n",
       "10         0.4\n",
       "11         0.4\n",
       "12         0.4\n",
       "13         0.5\n",
       "14         0.4\n",
       "15         0.4\n",
       "16         0.3\n",
       "17         0.3\n",
       "18         0.2\n",
       "19         0.4\n",
       "20         0.4\n",
       "21         0.4\n",
       "22         0.5\n",
       "23         0.2\n",
       "24         0.4\n",
       "25         0.5\n",
       "26         0.5\n",
       "27         0.6\n",
       "28         0.5\n",
       "29         0.2\n",
       "30         0.5\n",
       "31         0.5\n",
       "32         0.5\n",
       "33         0.7\n",
       "34         0.7\n",
       "35         0.5\n",
       "36         0.2\n",
       "37         0.5"
      ]
     },
     "execution_count": 26,
     "metadata": {},
     "output_type": "execute_result"
    }
   ],
   "source": [
    "Predict_whole_season_with_one(Italy,'2015/2016',[46,47], 'FTR', svm_linear,'svm_linear')"
   ]
  },
  {
   "cell_type": "markdown",
   "metadata": {},
   "source": [
    "## SVM_RBF\n"
   ]
  },
  {
   "cell_type": "code",
   "execution_count": null,
   "metadata": {
    "collapsed": true
   },
   "outputs": [],
   "source": [
    "svm_rbf = svm.SVC(kernel='rbf', gamma = 100)\n",
    "Predict_whole_season_by_one(Italy,'2015/2016',[46,47], 'FTR', svm_rbf,'svm_rbf')"
   ]
  },
  {
   "cell_type": "code",
   "execution_count": null,
   "metadata": {
    "collapsed": true
   },
   "outputs": [],
   "source": [
    "Predict_whole_season_with_one(Italy,'2015/2016',[46,47], 'FTR', svm_rbf,'svm_rbf')"
   ]
  },
  {
   "cell_type": "markdown",
   "metadata": {},
   "source": [
    "## CART"
   ]
  },
  {
   "cell_type": "code",
   "execution_count": null,
   "metadata": {
    "collapsed": true
   },
   "outputs": [],
   "source": [
    "dtc = DecisionTreeClassifier()\n",
    "Predict_whole_season_by_one(Italy,'2015/2016',[46,47], 'FTR', dtc,'dtc')"
   ]
  },
  {
   "cell_type": "code",
   "execution_count": null,
   "metadata": {
    "collapsed": true
   },
   "outputs": [],
   "source": [
    "Predict_whole_season_with_one(Italy,'2015/2016',[46,47], 'FTR', dtc,'dtc')"
   ]
  },
  {
   "cell_type": "markdown",
   "metadata": {},
   "source": [
    "# Adaboost Classifier "
   ]
  },
  {
   "cell_type": "code",
   "execution_count": null,
   "metadata": {
    "collapsed": true
   },
   "outputs": [],
   "source": [
    "bagb = AdaBoostClassifier(DecisionTreeClassifier(max_depth=10), n_estimators=20)\n",
    "Predict_whole_season_by_one(Italy,'2015/2016',[46,47], 'FTR', bagb,'bagb')"
   ]
  },
  {
   "cell_type": "code",
   "execution_count": null,
   "metadata": {
    "collapsed": true
   },
   "outputs": [],
   "source": [
    "Predict_whole_season_with_one(Italy,'2015/2016',[46,47], 'FTR', bagb,'bagb')"
   ]
  },
  {
   "cell_type": "markdown",
   "metadata": {},
   "source": [
    "# Gradient Boosting Classifier\n"
   ]
  },
  {
   "cell_type": "code",
   "execution_count": null,
   "metadata": {
    "collapsed": true
   },
   "outputs": [],
   "source": [
    "gradb = GradientBoostingClassifier(max_depth=10, n_estimators=100)\n",
    "Predict_whole_season_by_one(Italy,'2015/2016',[46,47], 'FTR', gradb,'gradb')"
   ]
  },
  {
   "cell_type": "code",
   "execution_count": null,
   "metadata": {
    "collapsed": true
   },
   "outputs": [],
   "source": [
    "Predict_whole_season_with_one(Italy,'2015/2016',[46,47], 'FTR', gradb,'gradb')"
   ]
  },
  {
   "cell_type": "markdown",
   "metadata": {},
   "source": [
    "# Random Forest"
   ]
  },
  {
   "cell_type": "code",
   "execution_count": null,
   "metadata": {
    "collapsed": true
   },
   "outputs": [],
   "source": [
    "rdf = RandomForestClassifier(max_depth=10, n_estimators=50)\n",
    "Predict_whole_season_by_one(Italy,'2015/2016',[46,47], 'FTR', rdf,'rdf')"
   ]
  },
  {
   "cell_type": "code",
   "execution_count": null,
   "metadata": {
    "collapsed": true
   },
   "outputs": [],
   "source": [
    "Predict_whole_season_with_one(Italy,'2015/2016',[46,47], 'FTR', rdf,'rdf')"
   ]
  },
  {
   "cell_type": "code",
   "execution_count": null,
   "metadata": {
    "collapsed": true
   },
   "outputs": [],
   "source": []
  }
 ],
 "metadata": {
  "kernelspec": {
   "display_name": "Python 2",
   "language": "python",
   "name": "python2"
  },
  "language_info": {
   "codemirror_mode": {
    "name": "ipython",
    "version": 2
   },
   "file_extension": ".py",
   "mimetype": "text/x-python",
   "name": "python",
   "nbconvert_exporter": "python",
   "pygments_lexer": "ipython2",
   "version": "2.7.13"
  }
 },
 "nbformat": 4,
 "nbformat_minor": 2
}
