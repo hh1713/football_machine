{
 "cells": [
  {
   "cell_type": "code",
   "execution_count": 32,
   "metadata": {
    "collapsed": false
   },
   "outputs": [],
   "source": [
    "import pandas as pd\n",
    "import matplotlib.pyplot as plt\n",
    "import numpy as np\n",
    "from sklearn.naive_bayes import GaussianNB\n",
    "from sklearn.svm import SVC\n",
    "from sklearn import *\n",
    "import numpy as np\n",
    "from sklearn.decomposition import *\n",
    "from sklearn.model_selection import train_test_split\n",
    "from sklearn.model_selection import cross_val_score\n",
    "\n",
    "from sklearn.model_selection import train_test_split\n",
    "from sklearn.tree import DecisionTreeClassifier\n",
    "from sklearn.ensemble import AdaBoostClassifier\n",
    "from sklearn.ensemble import GradientBoostingClassifier\n",
    "from sklearn.ensemble import RandomForestClassifier"
   ]
  },
  {
   "cell_type": "code",
   "execution_count": 2,
   "metadata": {
    "collapsed": true
   },
   "outputs": [],
   "source": [
    "pd.options.display.max_columns = 999\n",
    "pd.options.display.max_rows = 60"
   ]
  },
  {
   "cell_type": "markdown",
   "metadata": {},
   "source": [
    "## Inspecting and cleaning data"
   ]
  },
  {
   "cell_type": "code",
   "execution_count": 3,
   "metadata": {
    "collapsed": true
   },
   "outputs": [],
   "source": [
    "final=pd.read_csv('../Data/from_sqlite_Data/realfinal.csv')\n",
    "final.drop('Unnamed: 0',axis=1,inplace=True)\n",
    "England=final[final['country_id']=='England Premier League'].sort(columns='Date')\n",
    "Belgium=final[final['country_id']=='Belgium Jupiler League'].sort(columns='Date')\n",
    "France=final[final['country_id']=='France Ligue 1'].sort(columns='Date')\n",
    "Germany=final[final['country_id']=='Germany 1. Bundesliga'].sort(columns='Date')\n",
    "Italy=final[final['country_id']=='Italy Serie A'].sort(columns='Date')\n",
    "Netherlands=final[final['country_id']=='Netherlands Eredivisie'].sort(columns='Date')\n",
    "Poland=final[final['country_id']=='Poland Ekstraklasa'].sort(columns='Date')\n",
    "Portugal=final[final['country_id']=='Portugal Liga ZON Sagres'].sort(columns='Date')\n",
    "Scotland=final[final['country_id']=='Scotland Premier League'].sort(columns='Date')\n",
    "Spain=final[final['country_id']=='Spain LIGA BBVA'].sort(columns='Date')\n",
    "Swiss=final[final['country_id']=='Switzerland Super League'].sort(columns='Date')\n",
    "England.reset_index(inplace=True)\n",
    "Belgium.reset_index(inplace=True)\n",
    "France.reset_index(inplace=True)\n",
    "Germany.reset_index(inplace=True)\n",
    "Italy.reset_index(inplace=True)\n",
    "Netherlands.reset_index(inplace=True)\n",
    "Poland.reset_index(inplace=True)\n",
    "Portugal.reset_index(inplace=True)\n",
    "Scotland.reset_index(inplace=True)\n",
    "Spain.reset_index(inplace=True)\n",
    "Swiss.reset_index(inplace=True)\n",
    "England.drop(['index'],axis=1,inplace=True)\n",
    "Belgium.drop(['index'],axis=1,inplace=True)\n",
    "France.drop(['index'],axis=1,inplace=True)\n",
    "Germany.drop(['index'],axis=1,inplace=True)\n",
    "Italy.drop(['index'],axis=1,inplace=True)\n",
    "Netherlands.drop(['index'],axis=1,inplace=True)\n",
    "Poland.drop(['index'],axis=1,inplace=True)\n",
    "Portugal.drop(['index'],axis=1,inplace=True)\n",
    "Scotland.drop(['index'],axis=1,inplace=True)\n",
    "Spain.drop(['index'],axis=1,inplace=True)\n",
    "Swiss.drop(['index'],axis=1,inplace=True)"
   ]
  },
  {
   "cell_type": "markdown",
   "metadata": {},
   "source": [
    "## Working with Italy"
   ]
  },
  {
   "cell_type": "code",
   "execution_count": 9,
   "metadata": {
    "collapsed": true
   },
   "outputs": [],
   "source": [
    "def cut_out_n_m_matches(df,n,m):\n",
    "    return df[(df['H_ROUND']>n) & (df['H_ROUND']<m)]\n",
    "    "
   ]
  },
  {
   "cell_type": "code",
   "execution_count": 10,
   "metadata": {
    "collapsed": false
   },
   "outputs": [],
   "source": [
    "Italy=cut_out_n_m_matches(Italy,4,35)"
   ]
  },
  {
   "cell_type": "markdown",
   "metadata": {},
   "source": [
    "## Splitting Data "
   ]
  },
  {
   "cell_type": "code",
   "execution_count": 11,
   "metadata": {
    "collapsed": true
   },
   "outputs": [],
   "source": [
    "col=[46,47]\n",
    "pred='FTR'"
   ]
  },
  {
   "cell_type": "code",
   "execution_count": 19,
   "metadata": {
    "collapsed": true
   },
   "outputs": [],
   "source": [
    "def train_test_index(df,predicted_season):\n",
    "    train_index=df[df.season!=predicted_season].index\n",
    "    test_index=df[df.season==predicted_season].index\n",
    "    return train_index, test_index"
   ]
  },
  {
   "cell_type": "code",
   "execution_count": 20,
   "metadata": {
    "collapsed": true
   },
   "outputs": [],
   "source": [
    "def split_train_test_data(df,train_index,test_index,col_train,col_pred,i):\n",
    "    \n",
    "    \n",
    "    X_train=df.loc[train_index].iloc[:,col_train]\n",
    "    Y_train=df.loc[train_index][col_pred]\n",
    "\n",
    "    X_test=df.loc[test_index]\n",
    "    Y_test=df.loc[test_index]\n",
    "\n",
    "    X_test=X_test[X_test.H_ROUND==i].iloc[:,col_train]\n",
    "    Y_test=Y_test[Y_test.H_ROUND==i][col_pred]\n",
    "\n",
    "    return X_train, Y_train, X_test, Y_test\n",
    "    "
   ]
  },
  {
   "cell_type": "code",
   "execution_count": null,
   "metadata": {
    "collapsed": true
   },
   "outputs": [],
   "source": [
    "def Predict_whole_season_by_one (BIG, predseason, col_train, col_pred,method, method_name):\n",
    "        \n",
    "    tmp=pd.DataFrame()\n",
    "    \n",
    "    train_index, test_index = train_test_index(BIG,predseason)\n",
    "    lis=[]\n",
    "    \n",
    "    for i in BIG[BIG.season==predseason].H_ROUND.unique():\n",
    "       \n",
    "        X_train,Y_train,X_test,Y_test = split_train_test_data(BIG,train_index,test_index,col_train,col_pred,i) \n",
    "        method.fit(X_train,Y_train)\n",
    "        lis.append(float(method.score(X_test, Y_test)))\n",
    "        \n",
    "    tmp[method_name]=lis \n",
    "    \n",
    "    return tmp"
   ]
  },
  {
   "cell_type": "markdown",
   "metadata": {},
   "source": [
    "## SVM_LINEAR"
   ]
  },
  {
   "cell_type": "code",
   "execution_count": 30,
   "metadata": {
    "collapsed": false
   },
   "outputs": [],
   "source": [
    "\n",
    "    "
   ]
  },
  {
   "cell_type": "code",
   "execution_count": 23,
   "metadata": {
    "collapsed": false
   },
   "outputs": [],
   "source": [
    "#SVM_LINEAR_whole_season_by_one(Italy,'2015/2016',[46,47], 'FTR', 'svm_linear')"
   ]
  },
  {
   "cell_type": "markdown",
   "metadata": {},
   "source": [
    "## SVM_RBF"
   ]
  },
  {
   "cell_type": "code",
   "execution_count": null,
   "metadata": {
    "collapsed": true
   },
   "outputs": [],
   "source": [
    "def SVM_RBF_whole_season_by_one (BIG, predseason, col_train, col_pred, method):\n",
    "        \n",
    "    tmp=pd.DataFrame()\n",
    "    \n",
    "    train_index, test_index = train_test_index(BIG,predseason)\n",
    "    lis=[]\n",
    "    \n",
    "    for i in BIG[BIG.season==predseason].H_ROUND.unique():\n",
    "       \n",
    "        X_train,Y_train,X_test,Y_test = split_train_test_data(BIG,train_index,test_index,col_train,col_pred,i) \n",
    "        \n",
    "        svm_linear = svm.SVC(kernel='linear')\n",
    "        svm_linear.fit(X_train,Y_train)\n",
    "        lis.append(float(svm_linear.score(X_test, Y_test)))\n",
    "        \n",
    "    tmp[method]=lis \n",
    "    \n",
    "    return tmp\n",
    "    "
   ]
  },
  {
   "cell_type": "code",
   "execution_count": null,
   "metadata": {
    "collapsed": true
   },
   "outputs": [],
   "source": []
  },
  {
   "cell_type": "code",
   "execution_count": 26,
   "metadata": {
    "collapsed": true
   },
   "outputs": [],
   "source": [
    "def predict_whole_season_with_one (BIG, predseason, col_train, col_pred):\n",
    "        \n",
    "    tmp=pd.DataFrame(columns=['svm_linear','svm_rbf', 'cart','begging', 'adaBoo','gradient',' randomF'])\n",
    "    k=0\n",
    "    \n",
    "    train_index=BIG[BIG.season!=predseason].index\n",
    "    test_index=BIG[BIG.season==predseason].index\n",
    "    \n",
    "    for i in range(5,9):\n",
    "        print(i)\n",
    "    #BIG[BIG.season==predseason].H_ROUND.unique():\n",
    "    \n",
    "        lis=[]\n",
    "            \n",
    "        X_train=BIG.loc[train_index].iloc[:,col_train]\n",
    "        Y_train=BIG.loc[train_index][col_pred]\n",
    "    \n",
    "        X_test=BIG.loc[test_index]\n",
    "        Y_test=BIG.loc[test_index]\n",
    "        \n",
    "        X_test=X_test[X_test.H_ROUND==i].iloc[:,col_train]\n",
    "        Y_test=Y_test[Y_test.H_ROUND==i][col_pred]\n",
    "        \n",
    "        \n",
    "        svm_linear = svm.SVC(kernel='linear')\n",
    "        svm_linear.fit(X_train,Y_train)\n",
    "        lis.append(float(svm_linear.score(X_test, Y_test)))\n",
    "        \n",
    "        svm_rbf = svm.SVC(kernel='rbf', gamma = 100)\n",
    "        svm_rbf.fit(X_train,Y_train)\n",
    "        lis.append(float(svm_rbf.score(X_test, Y_test)))\n",
    "        \n",
    "        dtc = DecisionTreeClassifier()\n",
    "        dtc.fit(X_train, Y_train)\n",
    "        lis.append(float(dtc.score(X_test,Y_test)))\n",
    "        \n",
    "        bagb = AdaBoostClassifier(DecisionTreeClassifier(max_depth=10), n_estimators=20)\n",
    "        bagb.fit(X_train,Y_train)\n",
    "        lis.append(float(bagb.score(X_test,Y_test)))\n",
    "        \n",
    "        adab = AdaBoostClassifier(DecisionTreeClassifier(max_depth=10), n_estimators=20)\n",
    "        adab.fit(X_train,Y_train)\n",
    "        lis.append(float(adab.score(X_test,Y_test)))\n",
    "        \n",
    "        \n",
    "        gradb = GradientBoostingClassifier(max_depth=10, n_estimators=100)\n",
    "        gradb.fit(X_train,Y_train)\n",
    "        lis.append(float(gradb.score(X_test,Y_test)))\n",
    "        \n",
    "        rdf = RandomForestClassifier(max_depth=10, n_estimators=50)\n",
    "        rdf.fit(X_train,Y_train)\n",
    "        lis.append(float(rdf.score(X_test,Y_test)))\n",
    "    \n",
    "        tmp.loc[k]=lis\n",
    "        k=k+1\n",
    "        \n",
    "        \n",
    "\n",
    "        train_index=list(train_index)+list(X_test.index)\n",
    "        \n",
    "        \n",
    "        \n",
    "        \n",
    "        \n",
    "    return tmp\n",
    "    "
   ]
  },
  {
   "cell_type": "code",
   "execution_count": 425,
   "metadata": {
    "collapsed": false
   },
   "outputs": [],
   "source": [
    "tmp1=predict_whole_season_by_one(Italy,'2015/2016',[46,47], 'FTR')"
   ]
  },
  {
   "cell_type": "code",
   "execution_count": null,
   "metadata": {
    "collapsed": false
   },
   "outputs": [],
   "source": [
    "tmp1.mean()"
   ]
  },
  {
   "cell_type": "code",
   "execution_count": 421,
   "metadata": {
    "collapsed": false
   },
   "outputs": [
    {
     "name": "stdout",
     "output_type": "stream",
     "text": [
      "5\n",
      "2101\n",
      "10\n",
      "6\n",
      "2111\n",
      "10\n",
      "7\n",
      "2121\n",
      "10\n",
      "8\n",
      "2131\n",
      "10\n"
     ]
    }
   ],
   "source": [
    "tmp2=predict_whole_season_with_one(Italy,'2015/2016',[46,47], 'FTR')"
   ]
  },
  {
   "cell_type": "code",
   "execution_count": 413,
   "metadata": {
    "collapsed": false
   },
   "outputs": [
    {
     "data": {
      "text/html": [
       "<div>\n",
       "<table border=\"1\" class=\"dataframe\">\n",
       "  <thead>\n",
       "    <tr style=\"text-align: right;\">\n",
       "      <th></th>\n",
       "      <th>svm_linear</th>\n",
       "      <th>svm_rbf</th>\n",
       "      <th>cart</th>\n",
       "      <th>begging</th>\n",
       "      <th>adaBoo</th>\n",
       "      <th>gradient</th>\n",
       "      <th>randomF</th>\n",
       "    </tr>\n",
       "  </thead>\n",
       "  <tbody>\n",
       "    <tr>\n",
       "      <th>0</th>\n",
       "      <td>0.5</td>\n",
       "      <td>0.5</td>\n",
       "      <td>0.4</td>\n",
       "      <td>0.4</td>\n",
       "      <td>0.3</td>\n",
       "      <td>0.4</td>\n",
       "      <td>0.4</td>\n",
       "    </tr>\n",
       "    <tr>\n",
       "      <th>1</th>\n",
       "      <td>0.6</td>\n",
       "      <td>0.5</td>\n",
       "      <td>0.3</td>\n",
       "      <td>0.3</td>\n",
       "      <td>0.3</td>\n",
       "      <td>0.2</td>\n",
       "      <td>0.4</td>\n",
       "    </tr>\n",
       "    <tr>\n",
       "      <th>2</th>\n",
       "      <td>0.3</td>\n",
       "      <td>0.5</td>\n",
       "      <td>0.3</td>\n",
       "      <td>0.5</td>\n",
       "      <td>0.5</td>\n",
       "      <td>0.4</td>\n",
       "      <td>0.5</td>\n",
       "    </tr>\n",
       "    <tr>\n",
       "      <th>3</th>\n",
       "      <td>0.5</td>\n",
       "      <td>0.4</td>\n",
       "      <td>0.6</td>\n",
       "      <td>0.5</td>\n",
       "      <td>0.6</td>\n",
       "      <td>0.4</td>\n",
       "      <td>0.6</td>\n",
       "    </tr>\n",
       "    <tr>\n",
       "      <th>4</th>\n",
       "      <td>0.6</td>\n",
       "      <td>0.3</td>\n",
       "      <td>0.3</td>\n",
       "      <td>0.3</td>\n",
       "      <td>0.6</td>\n",
       "      <td>0.3</td>\n",
       "      <td>0.6</td>\n",
       "    </tr>\n",
       "    <tr>\n",
       "      <th>5</th>\n",
       "      <td>0.8</td>\n",
       "      <td>0.7</td>\n",
       "      <td>0.6</td>\n",
       "      <td>0.8</td>\n",
       "      <td>0.8</td>\n",
       "      <td>0.6</td>\n",
       "      <td>0.6</td>\n",
       "    </tr>\n",
       "    <tr>\n",
       "      <th>6</th>\n",
       "      <td>0.3</td>\n",
       "      <td>0.1</td>\n",
       "      <td>0.3</td>\n",
       "      <td>0.2</td>\n",
       "      <td>0.4</td>\n",
       "      <td>0.2</td>\n",
       "      <td>0.1</td>\n",
       "    </tr>\n",
       "    <tr>\n",
       "      <th>7</th>\n",
       "      <td>0.4</td>\n",
       "      <td>0.5</td>\n",
       "      <td>0.5</td>\n",
       "      <td>0.4</td>\n",
       "      <td>0.6</td>\n",
       "      <td>0.6</td>\n",
       "      <td>0.7</td>\n",
       "    </tr>\n",
       "    <tr>\n",
       "      <th>8</th>\n",
       "      <td>0.5</td>\n",
       "      <td>0.6</td>\n",
       "      <td>0.6</td>\n",
       "      <td>0.6</td>\n",
       "      <td>0.7</td>\n",
       "      <td>0.6</td>\n",
       "      <td>0.6</td>\n",
       "    </tr>\n",
       "    <tr>\n",
       "      <th>9</th>\n",
       "      <td>0.5</td>\n",
       "      <td>0.6</td>\n",
       "      <td>0.3</td>\n",
       "      <td>0.6</td>\n",
       "      <td>0.5</td>\n",
       "      <td>0.5</td>\n",
       "      <td>0.6</td>\n",
       "    </tr>\n",
       "    <tr>\n",
       "      <th>10</th>\n",
       "      <td>0.3</td>\n",
       "      <td>0.3</td>\n",
       "      <td>0.4</td>\n",
       "      <td>0.4</td>\n",
       "      <td>0.4</td>\n",
       "      <td>0.4</td>\n",
       "      <td>0.5</td>\n",
       "    </tr>\n",
       "    <tr>\n",
       "      <th>11</th>\n",
       "      <td>0.5</td>\n",
       "      <td>0.4</td>\n",
       "      <td>0.5</td>\n",
       "      <td>0.3</td>\n",
       "      <td>0.1</td>\n",
       "      <td>0.2</td>\n",
       "      <td>0.2</td>\n",
       "    </tr>\n",
       "    <tr>\n",
       "      <th>12</th>\n",
       "      <td>0.4</td>\n",
       "      <td>0.8</td>\n",
       "      <td>0.3</td>\n",
       "      <td>0.4</td>\n",
       "      <td>0.5</td>\n",
       "      <td>0.4</td>\n",
       "      <td>0.6</td>\n",
       "    </tr>\n",
       "    <tr>\n",
       "      <th>13</th>\n",
       "      <td>0.4</td>\n",
       "      <td>0.5</td>\n",
       "      <td>0.4</td>\n",
       "      <td>0.4</td>\n",
       "      <td>0.2</td>\n",
       "      <td>0.6</td>\n",
       "      <td>0.4</td>\n",
       "    </tr>\n",
       "    <tr>\n",
       "      <th>14</th>\n",
       "      <td>0.3</td>\n",
       "      <td>0.3</td>\n",
       "      <td>0.4</td>\n",
       "      <td>0.2</td>\n",
       "      <td>0.3</td>\n",
       "      <td>0.2</td>\n",
       "      <td>0.4</td>\n",
       "    </tr>\n",
       "    <tr>\n",
       "      <th>15</th>\n",
       "      <td>0.5</td>\n",
       "      <td>0.3</td>\n",
       "      <td>0.4</td>\n",
       "      <td>0.3</td>\n",
       "      <td>0.2</td>\n",
       "      <td>0.3</td>\n",
       "      <td>0.3</td>\n",
       "    </tr>\n",
       "    <tr>\n",
       "      <th>16</th>\n",
       "      <td>0.5</td>\n",
       "      <td>0.4</td>\n",
       "      <td>0.3</td>\n",
       "      <td>0.3</td>\n",
       "      <td>0.4</td>\n",
       "      <td>0.4</td>\n",
       "      <td>0.4</td>\n",
       "    </tr>\n",
       "    <tr>\n",
       "      <th>17</th>\n",
       "      <td>0.5</td>\n",
       "      <td>0.3</td>\n",
       "      <td>0.4</td>\n",
       "      <td>0.5</td>\n",
       "      <td>0.4</td>\n",
       "      <td>0.2</td>\n",
       "      <td>0.4</td>\n",
       "    </tr>\n",
       "    <tr>\n",
       "      <th>18</th>\n",
       "      <td>0.6</td>\n",
       "      <td>0.5</td>\n",
       "      <td>0.4</td>\n",
       "      <td>0.7</td>\n",
       "      <td>0.5</td>\n",
       "      <td>0.5</td>\n",
       "      <td>0.5</td>\n",
       "    </tr>\n",
       "    <tr>\n",
       "      <th>19</th>\n",
       "      <td>0.3</td>\n",
       "      <td>0.3</td>\n",
       "      <td>0.7</td>\n",
       "      <td>0.7</td>\n",
       "      <td>0.7</td>\n",
       "      <td>0.6</td>\n",
       "      <td>0.4</td>\n",
       "    </tr>\n",
       "    <tr>\n",
       "      <th>20</th>\n",
       "      <td>0.5</td>\n",
       "      <td>0.4</td>\n",
       "      <td>0.5</td>\n",
       "      <td>0.2</td>\n",
       "      <td>0.3</td>\n",
       "      <td>0.3</td>\n",
       "      <td>0.6</td>\n",
       "    </tr>\n",
       "    <tr>\n",
       "      <th>21</th>\n",
       "      <td>0.6</td>\n",
       "      <td>0.7</td>\n",
       "      <td>0.2</td>\n",
       "      <td>0.4</td>\n",
       "      <td>0.3</td>\n",
       "      <td>0.3</td>\n",
       "      <td>0.7</td>\n",
       "    </tr>\n",
       "    <tr>\n",
       "      <th>22</th>\n",
       "      <td>0.5</td>\n",
       "      <td>0.6</td>\n",
       "      <td>0.3</td>\n",
       "      <td>0.6</td>\n",
       "      <td>0.2</td>\n",
       "      <td>0.3</td>\n",
       "      <td>0.6</td>\n",
       "    </tr>\n",
       "    <tr>\n",
       "      <th>23</th>\n",
       "      <td>0.7</td>\n",
       "      <td>0.6</td>\n",
       "      <td>0.6</td>\n",
       "      <td>0.5</td>\n",
       "      <td>0.6</td>\n",
       "      <td>0.6</td>\n",
       "      <td>0.7</td>\n",
       "    </tr>\n",
       "    <tr>\n",
       "      <th>24</th>\n",
       "      <td>0.7</td>\n",
       "      <td>0.7</td>\n",
       "      <td>0.3</td>\n",
       "      <td>0.4</td>\n",
       "      <td>0.5</td>\n",
       "      <td>0.3</td>\n",
       "      <td>0.7</td>\n",
       "    </tr>\n",
       "    <tr>\n",
       "      <th>25</th>\n",
       "      <td>0.3</td>\n",
       "      <td>0.2</td>\n",
       "      <td>0.4</td>\n",
       "      <td>0.6</td>\n",
       "      <td>0.4</td>\n",
       "      <td>0.4</td>\n",
       "      <td>0.3</td>\n",
       "    </tr>\n",
       "    <tr>\n",
       "      <th>26</th>\n",
       "      <td>0.4</td>\n",
       "      <td>0.5</td>\n",
       "      <td>0.4</td>\n",
       "      <td>0.4</td>\n",
       "      <td>0.3</td>\n",
       "      <td>0.5</td>\n",
       "      <td>0.5</td>\n",
       "    </tr>\n",
       "    <tr>\n",
       "      <th>27</th>\n",
       "      <td>0.7</td>\n",
       "      <td>0.7</td>\n",
       "      <td>0.5</td>\n",
       "      <td>0.4</td>\n",
       "      <td>0.5</td>\n",
       "      <td>0.6</td>\n",
       "      <td>0.7</td>\n",
       "    </tr>\n",
       "    <tr>\n",
       "      <th>28</th>\n",
       "      <td>0.5</td>\n",
       "      <td>0.4</td>\n",
       "      <td>0.5</td>\n",
       "      <td>0.4</td>\n",
       "      <td>0.6</td>\n",
       "      <td>0.6</td>\n",
       "      <td>0.5</td>\n",
       "    </tr>\n",
       "    <tr>\n",
       "      <th>29</th>\n",
       "      <td>0.6</td>\n",
       "      <td>0.6</td>\n",
       "      <td>0.5</td>\n",
       "      <td>0.5</td>\n",
       "      <td>0.5</td>\n",
       "      <td>0.5</td>\n",
       "      <td>0.7</td>\n",
       "    </tr>\n",
       "  </tbody>\n",
       "</table>\n",
       "</div>"
      ],
      "text/plain": [
       "    svm_linear  svm_rbf  cart  begging  adaBoo  gradient   randomF\n",
       "0          0.5      0.5   0.4      0.4     0.3       0.4       0.4\n",
       "1          0.6      0.5   0.3      0.3     0.3       0.2       0.4\n",
       "2          0.3      0.5   0.3      0.5     0.5       0.4       0.5\n",
       "3          0.5      0.4   0.6      0.5     0.6       0.4       0.6\n",
       "4          0.6      0.3   0.3      0.3     0.6       0.3       0.6\n",
       "5          0.8      0.7   0.6      0.8     0.8       0.6       0.6\n",
       "6          0.3      0.1   0.3      0.2     0.4       0.2       0.1\n",
       "7          0.4      0.5   0.5      0.4     0.6       0.6       0.7\n",
       "8          0.5      0.6   0.6      0.6     0.7       0.6       0.6\n",
       "9          0.5      0.6   0.3      0.6     0.5       0.5       0.6\n",
       "10         0.3      0.3   0.4      0.4     0.4       0.4       0.5\n",
       "11         0.5      0.4   0.5      0.3     0.1       0.2       0.2\n",
       "12         0.4      0.8   0.3      0.4     0.5       0.4       0.6\n",
       "13         0.4      0.5   0.4      0.4     0.2       0.6       0.4\n",
       "14         0.3      0.3   0.4      0.2     0.3       0.2       0.4\n",
       "15         0.5      0.3   0.4      0.3     0.2       0.3       0.3\n",
       "16         0.5      0.4   0.3      0.3     0.4       0.4       0.4\n",
       "17         0.5      0.3   0.4      0.5     0.4       0.2       0.4\n",
       "18         0.6      0.5   0.4      0.7     0.5       0.5       0.5\n",
       "19         0.3      0.3   0.7      0.7     0.7       0.6       0.4\n",
       "20         0.5      0.4   0.5      0.2     0.3       0.3       0.6\n",
       "21         0.6      0.7   0.2      0.4     0.3       0.3       0.7\n",
       "22         0.5      0.6   0.3      0.6     0.2       0.3       0.6\n",
       "23         0.7      0.6   0.6      0.5     0.6       0.6       0.7\n",
       "24         0.7      0.7   0.3      0.4     0.5       0.3       0.7\n",
       "25         0.3      0.2   0.4      0.6     0.4       0.4       0.3\n",
       "26         0.4      0.5   0.4      0.4     0.3       0.5       0.5\n",
       "27         0.7      0.7   0.5      0.4     0.5       0.6       0.7\n",
       "28         0.5      0.4   0.5      0.4     0.6       0.6       0.5\n",
       "29         0.6      0.6   0.5      0.5     0.5       0.5       0.7"
      ]
     },
     "execution_count": 413,
     "metadata": {},
     "output_type": "execute_result"
    }
   ],
   "source": [
    "tmp2"
   ]
  },
  {
   "cell_type": "markdown",
   "metadata": {},
   "source": [
    "# SVM"
   ]
  },
  {
   "cell_type": "code",
   "execution_count": 27,
   "metadata": {
    "collapsed": true
   },
   "outputs": [],
   "source": [
    "scoreslinear=[]\n",
    "scoresrbf=[]\n",
    "\n",
    "X=Italy.iloc[:,[46,47]]\n",
    "Y=Italy['FTR']\n",
    "\n",
    "\n",
    "for i in range (0,1):\n",
    "    \n",
    "    X_train, X_test, Y_train, Y_test = train_test_split(X,Y,test_size=0.20)\n",
    "    \n",
    "    svm_linear = svm.SVC(kernel='linear')\n",
    "    svm_linear.fit(X_train,Y_train)\n",
    "    scoreslinear.append(svm_linear.score(X_test, Y_test))\n",
    "    \n",
    "    svm_rbf = svm.SVC(kernel='rbf')\n",
    "    svm_rbf.fit(X_train,Y_train)\n",
    "    scoresrbf.append(svm_rbf.score(X_test, Y_test))"
   ]
  },
  {
   "cell_type": "code",
   "execution_count": 28,
   "metadata": {
    "collapsed": false
   },
   "outputs": [
    {
     "data": {
      "text/plain": [
       "0.48856548856548859"
      ]
     },
     "execution_count": 28,
     "metadata": {},
     "output_type": "execute_result"
    }
   ],
   "source": [
    "svm_linear = svm.SVC(kernel='linear')\n",
    "a=svm_linear.fit(X_train,Y_train)\n",
    "svm_linear.score(X_test, Y_test)"
   ]
  },
  {
   "cell_type": "code",
   "execution_count": 32,
   "metadata": {
    "collapsed": false
   },
   "outputs": [],
   "source": [
    "a=svm_linear.decision_function(X_train)"
   ]
  },
  {
   "cell_type": "code",
   "execution_count": 44,
   "metadata": {
    "collapsed": false
   },
   "outputs": [
    {
     "data": {
      "text/plain": [
       "array([ 0.85030201,  0.32892017, -1.00002676])"
      ]
     },
     "execution_count": 44,
     "metadata": {},
     "output_type": "execute_result"
    }
   ],
   "source": [
    "a[-1]"
   ]
  },
  {
   "cell_type": "code",
   "execution_count": 50,
   "metadata": {
    "collapsed": false
   },
   "outputs": [
    {
     "data": {
      "text/plain": [
       "array([ True,  True,  True, ...,  True, False, False], dtype=bool)"
      ]
     },
     "execution_count": 50,
     "metadata": {},
     "output_type": "execute_result"
    }
   ],
   "source": [
    "svm_linear.predict(X_train)=='H'"
   ]
  },
  {
   "cell_type": "code",
   "execution_count": null,
   "metadata": {
    "collapsed": true
   },
   "outputs": [],
   "source": []
  },
  {
   "cell_type": "code",
   "execution_count": 383,
   "metadata": {
    "collapsed": false
   },
   "outputs": [
    {
     "data": {
      "text/plain": [
       "0.49322245322245317"
      ]
     },
     "execution_count": 383,
     "metadata": {},
     "output_type": "execute_result"
    }
   ],
   "source": [
    "sum(scoresrbf)/len(scoresrbf)\n"
   ]
  },
  {
   "cell_type": "code",
   "execution_count": 384,
   "metadata": {
    "collapsed": false
   },
   "outputs": [
    {
     "data": {
      "text/plain": [
       "0.48700623700623724"
      ]
     },
     "execution_count": 384,
     "metadata": {},
     "output_type": "execute_result"
    }
   ],
   "source": [
    "sum(scoreslinear)/len(scoreslinear)"
   ]
  },
  {
   "cell_type": "markdown",
   "metadata": {},
   "source": [
    "## CART"
   ]
  },
  {
   "cell_type": "code",
   "execution_count": 385,
   "metadata": {
    "collapsed": true
   },
   "outputs": [],
   "source": [
    "X_train, X_test, Y_train, Y_test = train_test_split(X, Y, train_size=0.7, random_state=4)\n",
    "ts = Y_test.shape[0]"
   ]
  },
  {
   "cell_type": "code",
   "execution_count": 289,
   "metadata": {
    "collapsed": true
   },
   "outputs": [],
   "source": [
    "X_train=Italy.loc[:2946,:].iloc[:,[46,47]]\n",
    "Y_train=Italy.loc[:2946,:]['FTR']\n",
    "\n",
    "a=Italy[Italy.season=='2015/2016'].H_ROUND==32\n",
    "X_test=Italy[Italy.season=='2015/2016'][a].iloc[:,[46,47]]\n",
    "Y_test=Italy[Italy.season=='2015/2016'][a]['FTR']"
   ]
  },
  {
   "cell_type": "code",
   "execution_count": 386,
   "metadata": {
    "collapsed": false
   },
   "outputs": [
    {
     "data": {
      "text/plain": [
       "0.38141470180305131"
      ]
     },
     "execution_count": 386,
     "metadata": {},
     "output_type": "execute_result"
    }
   ],
   "source": [
    "dtc = DecisionTreeClassifier()\n",
    "dtc.fit(X_train, Y_train)\n",
    "dtc.score(X_test,Y_test)\n",
    "\n"
   ]
  },
  {
   "cell_type": "code",
   "execution_count": 291,
   "metadata": {
    "collapsed": false
   },
   "outputs": [],
   "source": [
    "#Y_test[dtc_verror.astype(bool)]"
   ]
  },
  {
   "cell_type": "markdown",
   "metadata": {},
   "source": [
    "# Bagging Classifier "
   ]
  },
  {
   "cell_type": "code",
   "execution_count": 387,
   "metadata": {
    "collapsed": false
   },
   "outputs": [
    {
     "data": {
      "text/plain": [
       "0.41192787794729541"
      ]
     },
     "execution_count": 387,
     "metadata": {},
     "output_type": "execute_result"
    }
   ],
   "source": [
    "bagb = AdaBoostClassifier(DecisionTreeClassifier(max_depth=10), n_estimators=20)\n",
    "#adab = AdaBoostClassifier(DecisionTreeClassifier(max_depth=2), n_estimators=20,learning_rate=1.5,algorithm=\"SAMME\")\n",
    "bagb.fit(X_train,Y_train)\n",
    "bagb.score(X_test,Y_test)"
   ]
  },
  {
   "cell_type": "markdown",
   "metadata": {},
   "source": [
    "# AdaBoost Classifier"
   ]
  },
  {
   "cell_type": "code",
   "execution_count": 388,
   "metadata": {
    "collapsed": false
   },
   "outputs": [
    {
     "data": {
      "text/plain": [
       "0.39667128987517336"
      ]
     },
     "execution_count": 388,
     "metadata": {},
     "output_type": "execute_result"
    }
   ],
   "source": [
    "adab = AdaBoostClassifier(DecisionTreeClassifier(max_depth=10), n_estimators=20)\n",
    "#adab = AdaBoostClassifier(DecisionTreeClassifier(max_depth=2), n_estimators=20,learning_rate=1.5,algorithm=\"SAMME\")\n",
    "adab.fit(X_train,Y_train)\n",
    "adab.score(X_test,Y_test)"
   ]
  },
  {
   "cell_type": "markdown",
   "metadata": {},
   "source": [
    "# Gradient Boosting Classifier\n"
   ]
  },
  {
   "cell_type": "code",
   "execution_count": 390,
   "metadata": {
    "collapsed": false
   },
   "outputs": [
    {
     "data": {
      "text/plain": [
       "0.42441054091539526"
      ]
     },
     "execution_count": 390,
     "metadata": {},
     "output_type": "execute_result"
    }
   ],
   "source": [
    "gradb = GradientBoostingClassifier(max_depth=10, n_estimators=200)\n",
    "gradb.fit(X_train,Y_train)\n",
    "gradb.score(X_test,Y_test)"
   ]
  },
  {
   "cell_type": "markdown",
   "metadata": {},
   "source": [
    "# Random Forest"
   ]
  },
  {
   "cell_type": "code",
   "execution_count": 391,
   "metadata": {
    "collapsed": false
   },
   "outputs": [
    {
     "data": {
      "text/plain": [
       "0.44798890429958393"
      ]
     },
     "execution_count": 391,
     "metadata": {},
     "output_type": "execute_result"
    }
   ],
   "source": [
    "rdf = RandomForestClassifier(max_depth=10, n_estimators=20)\n",
    "\n",
    "rdf.fit(X_train,Y_train)\n",
    "rdf.score(X_test,Y_test)\n"
   ]
  },
  {
   "cell_type": "code",
   "execution_count": null,
   "metadata": {
    "collapsed": true
   },
   "outputs": [],
   "source": [
    "gradb.fit(X_train,Y_train)\n",
    "gradb.score(X_test,Y_test)\n",
    "rdf.fit(X_train,Y_train)\n",
    "rdf.score(X_test,Y_test)"
   ]
  },
  {
   "cell_type": "code",
   "execution_count": null,
   "metadata": {
    "collapsed": true
   },
   "outputs": [],
   "source": []
  },
  {
   "cell_type": "code",
   "execution_count": null,
   "metadata": {
    "collapsed": true
   },
   "outputs": [],
   "source": [
    "X_train=Italy.loc[:2946,:].iloc[:,[46,47]]\n",
    "Y_train=Italy.loc[:2946,:]['FTR']\n",
    "\n",
    "a=Italy[Italy.season=='2015/2016'].H_ROUND==33\n",
    "X_test=Italy[Italy.season=='2015/2016'][a].iloc[:,[46,47]]\n",
    "Y_test=Italy[Italy.season=='2015/2016'][a]['FTR']"
   ]
  }
 ],
 "metadata": {
  "kernelspec": {
   "display_name": "Python 2",
   "language": "python",
   "name": "python2"
  },
  "language_info": {
   "codemirror_mode": {
    "name": "ipython",
    "version": 2
   },
   "file_extension": ".py",
   "mimetype": "text/x-python",
   "name": "python",
   "nbconvert_exporter": "python",
   "pygments_lexer": "ipython2",
   "version": "2.7.13"
  }
 },
 "nbformat": 4,
 "nbformat_minor": 0
}
